{
 "cells": [
  {
   "cell_type": "markdown",
   "metadata": {},
   "source": [
    "<h3>Problem 1</h3>"
   ]
  },
  {
   "cell_type": "code",
   "execution_count": null,
   "metadata": {},
   "outputs": [],
   "source": [
    "a = [1,2,3,4,5]\n",
    "d = 2\n",
    "while d > 0:\n",
    "    x = a.pop(0)\n",
    "    a.insert(len(a), x)\n",
    "    d -= 1\n",
    "\n",
    "print(f\"Final list: {a}\")\n",
    "\n",
    "#EXPECTED: \n",
    "# string = [1,2,3,4,5] => string =  [3,4,5,1,2] with 2 rotations (d = 2)\n",
    "# [1,2,3,4,5] => [2,3,4,5,1] => [3,4,5,1,2]"
   ]
  },
  {
   "cell_type": "code",
   "execution_count": null,
   "metadata": {},
   "outputs": [],
   "source": [
    "string = [1,2,3,4,5, 6, 6, 8]\n",
    "i = 0\n",
    "j = len(string)\n",
    "d = 2\n",
    "\n",
    "while d > 0:\n",
    "    temp = string[i]\n",
    "    string[i] = string[j - 1]\n",
    "    string[j - 1] = temp\n",
    "\n",
    "    i += 1\n",
    "    j -= 1\n",
    "    d -= 1\n",
    "\n",
    "print(string)\n",
    "#EXPECTED: \n",
    "# string = [1,2,3,4,5, 6, 6, 8] => string =  [8, 6, 3, 4, 5, 6, 2, 1] with 2 swaps\n",
    "# between the first and the last element (d = 2)\n"
   ]
  },
  {
   "cell_type": "markdown",
   "metadata": {},
   "source": [
    "<h3>Problem 2</h3>"
   ]
  },
  {
   "cell_type": "code",
   "execution_count": null,
   "metadata": {},
   "outputs": [],
   "source": [
    "''' \n",
    "It is New Year's Day and people are in line for the Wonderland rollercoaster ride. Each person wears a sticker indicating their initial position in the queue from  to . Any person can bribe the person directly in front of them to swap positions, but they still wear their original sticker. One person can bribe at most two others.\n",
    "\n",
    "Determine the minimum number of bribes that took place to get to a given queue order. Print the number of bribes, or, if anyone has bribed more than two people, print Too chaotic.\n",
    "\n",
    "Example:\n",
    "q = [1,2,3,5,4,6,7,8]\n",
    "\n",
    "\n",
    "If person  bribes person , the queue will look like this: . Only  bribe is required. Print 1.\n",
    "\n",
    "\n",
    "Person  had to bribe  people to get to the current position. Print Too chaotic.\n",
    "\n",
    "'''\n"
   ]
  },
  {
   "cell_type": "code",
   "execution_count": 10,
   "metadata": {},
   "outputs": [
    {
     "name": "stdout",
     "output_type": "stream",
     "text": [
      "7\n"
     ]
    }
   ],
   "source": [
    "#q = [2, 1, 5, 3, 4]\n",
    "\n",
    "#q = [1,2,3,5,4,6,7,8]\n",
    "#q = [5, 1, 2, 3, 7, 8, 6, 4]\n",
    "\n",
    "#   [1, 2, 3, 4, 5, 6, 7, 8]\n",
    "#q = [2, 5, 1, 3, 4]\n",
    "#q = [1, 2, 5, 3, 4, 7, 8, 6]\n",
    "################################################\n",
    "#q = [5, 1, 2, 3, 7, 8, 6, 4]\n",
    "\n",
    "#ind = [1, 2, 3, 4, 5, 6, 7, 8]\n",
    "q    = [1, 2, 5, 3, 7, 8, 6, 4] #1 + 2 + 2 + 2\n",
    "\n",
    "def minimumBribes(q):\n",
    "    bribes = 0\n",
    "    for i in range(len(q)):\n",
    "        if ((q[i] - (i + 1)) > 2):\n",
    "            print(\"Too chaotic\")\n",
    "            return\n",
    "\n",
    "        for j in range(max(0, q[i] - 2), i):\n",
    "            if q[j] > q[i]:\n",
    "                bribes += 1\n",
    "    print(bribes)\n",
    "\n",
    "minimumBribes(q)"
   ]
  },
  {
   "cell_type": "markdown",
   "metadata": {},
   "source": [
    "<h3>27. Remove Element</h3>"
   ]
  },
  {
   "cell_type": "code",
   "execution_count": null,
   "metadata": {},
   "outputs": [],
   "source": [
    "''' \n",
    "Given an integer array nums and an integer val, remove all occurrences of val in nums in-place. The order of the elements may be changed. Then return the number of elements in nums which are not equal to val.\n",
    "\n",
    "Consider the number of elements in nums which are not equal to val be k, to get accepted, you need to do the following things:\n",
    "\n",
    "Change the array nums such that the first k elements of nums contain the elements which are not equal to val. The remaining elements of nums are not important as well as the size of nums.\n",
    "Return k.\n",
    "'''"
   ]
  },
  {
   "cell_type": "code",
   "execution_count": null,
   "metadata": {},
   "outputs": [],
   "source": [
    "def removeElement(nums, val):\n",
    "        while val in nums:\n",
    "            nums.remove(val)\n",
    "\n",
    "nums = [3,2,2,3]\n",
    "val = 3\n",
    "removeElement(nums, val)\n",
    "\n",
    "print(nums)"
   ]
  },
  {
   "cell_type": "markdown",
   "metadata": {},
   "source": [
    "<h3>88. Merge Sorted Array</h3>"
   ]
  },
  {
   "cell_type": "code",
   "execution_count": null,
   "metadata": {},
   "outputs": [],
   "source": [
    "'''\n",
    "You are given two integer arrays nums1 and nums2, sorted in non-decreasing order, and two integers m and n, representing the number of elements in nums1 and nums2 respectively.\n",
    "\n",
    "Merge nums1 and nums2 into a single array sorted in non-decreasing order.\n",
    "\n",
    "The final sorted array should not be returned by the function, but instead be stored inside the array nums1. To accommodate this, nums1 has a length of m + n, where the first m elements denote the elements that should be merged, and the last n elements are set to 0 and should be ignored. nums2 has a length of n.\n",
    "\n",
    " \n",
    "\n",
    "Example 1:\n",
    "\n",
    "Input: nums1 = [1,2,3,0,0,0], m = 3, nums2 = [2,5,6], n = 3\n",
    "Output: [1,2,2,3,5,6]\n",
    "Explanation: The arrays we are merging are [1,2,3] and [2,5,6].\n",
    "The result of the merge is [1,2,2,3,5,6] with the underlined elements coming from nums1.\n",
    "Example 2:\n",
    "\n",
    "Input: nums1 = [1], m = 1, nums2 = [], n = 0\n",
    "Output: [1]\n",
    "Explanation: The arrays we are merging are [1] and [].\n",
    "The result of the merge is [1].\n",
    "Example 3:\n",
    "\n",
    "Input: nums1 = [0], m = 0, nums2 = [1], n = 1\n",
    "Output: [1]\n",
    "Explanation: The arrays we are merging are [] and [1].\n",
    "The result of the merge is [1].\n",
    "Note that because m = 0, there are no elements in nums1. The 0 is only there to ensure the merge result can fit in nums1.\n",
    "'''\n",
    "\n",
    "def merge(nums1, m, nums2, n):\n",
    "        \"\"\"\n",
    "        Do not return anything, modify nums1 in-place instead.\n",
    "        \"\"\"\n",
    "        nums1[m:] = nums2\n",
    "        nums1.sort()\n",
    "\n",
    "nums1 = [1,2,3,0,0,0]\n",
    "m = 3\n",
    "nums2 = [2,5,6]\n",
    "n = 3\n",
    "\n",
    "merge(nums1, m, nums2, n)\n",
    "print(nums1)"
   ]
  },
  {
   "cell_type": "markdown",
   "metadata": {},
   "source": [
    "<h3>26. Remove Duplicates from Sorted Array</h3>"
   ]
  },
  {
   "cell_type": "code",
   "execution_count": null,
   "metadata": {},
   "outputs": [],
   "source": [
    "''' \n",
    "Given an integer array nums sorted in non-decreasing order, remove the duplicates in-place such that each unique element appears only once. The relative order of the elements should be kept the same. Then return the number of unique elements in nums.\n",
    "\n",
    "Consider the number of unique elements of nums to be k, to get accepted, you need to do the following things:\n",
    "\n",
    "Change the array nums such that the first k elements of nums contain the unique elements in the order they were present in nums initially. The remaining elements of nums are not important as well as the size of nums.\n",
    "Return k.\n",
    "Custom Judge:\n",
    "\n",
    "The judge will test your solution with the following code:\n",
    "\n",
    "int[] nums = [...]; // Input array\n",
    "int[] expectedNums = [...]; // The expected answer with correct length\n",
    "\n",
    "int k = removeDuplicates(nums); // Calls your implementation\n",
    "\n",
    "assert k == expectedNums.length;\n",
    "for (int i = 0; i < k; i++) {\n",
    "    assert nums[i] == expectedNums[i];\n",
    "}\n",
    "If all assertions pass, then your solution will be accepted.\n",
    "\n",
    " \n",
    "\n",
    "Example 1:\n",
    "\n",
    "Input: nums = [1,1,2]\n",
    "Output: 2, nums = [1,2,_]\n",
    "Explanation: Your function should return k = 2, with the first two elements of nums being 1 and 2 respectively.\n",
    "It does not matter what you leave beyond the returned k (hence they are underscores).\n",
    "Example 2:\n",
    "\n",
    "Input: nums = [0,0,1,1,1,2,2,3,3,4]\n",
    "Output: 5, nums = [0,1,2,3,4,_,_,_,_,_]\n",
    "Explanation: Your function should return k = 5, with the first five elements of nums being 0, 1, 2, 3, and 4 respectively.\n",
    "It does not matter what you leave beyond the returned k (hence they are underscores).\n",
    "'''\n",
    "\n",
    "def removeDuplicates(nums):\n",
    "        i = 0\n",
    "        j = 1\n",
    "        if len(nums) == 1:\n",
    "            return len(nums)\n",
    "        elif len(nums) == 2:\n",
    "            if nums[0] == nums[1]:\n",
    "                nums.remove(nums[1])\n",
    "                return 1\n",
    "            else:\n",
    "                return len(nums)\n",
    "        else:\n",
    "            while i < len(nums) and j < len(nums):\n",
    "                if nums[i] == nums[j]:\n",
    "                    nums.remove(nums[j])\n",
    "                    j = i + 1\n",
    "                else:\n",
    "                    i += 1\n",
    "                    j += 1\n",
    "            return (len(nums))\n",
    "\n",
    "\n",
    "nums = [0,0,1,1,1,2,2,3,3,4]\n",
    "removeDuplicates(nums)"
   ]
  },
  {
   "cell_type": "markdown",
   "metadata": {},
   "source": [
    "<h3>80. Remove Duplicates from Sorted Array II</h3>"
   ]
  },
  {
   "cell_type": "code",
   "execution_count": null,
   "metadata": {},
   "outputs": [],
   "source": [
    "''' \n",
    "Given an integer array nums sorted in non-decreasing order, remove some duplicates in-place such that each unique element appears at most twice. The relative order of the elements should be kept the same.\n",
    "\n",
    "Since it is impossible to change the length of the array in some languages, you must instead have the result be placed in the first part of the array nums. More formally, if there are k elements after removing the duplicates, then the first k elements of nums should hold the final result. It does not matter what you leave beyond the first k elements.\n",
    "\n",
    "Return k after placing the final result in the first k slots of nums.\n",
    "\n",
    "Do not allocate extra space for another array. You must do this by modifying the input array in-place with O(1) extra memory.\n",
    "\n",
    "Custom Judge:\n",
    "\n",
    "The judge will test your solution with the following code:\n",
    "\n",
    "int[] nums = [...]; // Input array\n",
    "int[] expectedNums = [...]; // The expected answer with correct length\n",
    "\n",
    "int k = removeDuplicates(nums); // Calls your implementation\n",
    "\n",
    "assert k == expectedNums.length;\n",
    "for (int i = 0; i < k; i++) {\n",
    "    assert nums[i] == expectedNums[i];\n",
    "}\n",
    "If all assertions pass, then your solution will be accepted.\n",
    "\n",
    " \n",
    "\n",
    "Example 1:\n",
    "\n",
    "Input: nums = [1,1,1,2,2,3]\n",
    "Output: 5, nums = [1,1,2,2,3,_]\n",
    "Explanation: Your function should return k = 5, with the first five elements of nums being 1, 1, 2, 2 and 3 respectively.\n",
    "It does not matter what you leave beyond the returned k (hence they are underscores).\n",
    "Example 2:\n",
    "\n",
    "Input: nums = [0,0,1,1,1,1,2,3,3]\n",
    "Output: 7, nums = [0,0,1,1,2,3,3,_,_]\n",
    "Explanation: Your function should return k = 7, with the first seven elements of nums being 0, 0, 1, 1, 2, 3 and 3 respectively.\n",
    "It does not matter what you leave beyond the returned k (hence they are underscores).\n",
    "'''\n",
    "\n",
    "def removeDuplicates(nums):\n",
    "        i = 0\n",
    "        j = 1\n",
    "        k = 2\n",
    "\n",
    "        if len(nums) == 1:\n",
    "            return 1\n",
    "        elif len(nums) == 2:\n",
    "            return 2\n",
    "        elif len(nums) == 3:\n",
    "            if nums[0] == nums[1] == nums[2]:\n",
    "                nums.remove(nums[2])\n",
    "                return 2\n",
    "            else:\n",
    "                return len(nums)\n",
    "        else:\n",
    "            while i < len(nums) and j < len(nums) and k < len(nums):\n",
    "                if nums[i] == nums[j] == nums[k]:\n",
    "                    nums.remove(nums[k])\n",
    "                    #k += 1\n",
    "                else:\n",
    "                    i += 1\n",
    "                    j += 1\n",
    "                    k += 1\n",
    "            return nums #(len(nums))\n",
    "        \n",
    "nums = [0,0,1,1,1,1,2,3,3]\n",
    "removeDuplicates(nums)"
   ]
  },
  {
   "cell_type": "markdown",
   "metadata": {},
   "source": [
    "<h3>169. Majority Element</h3>"
   ]
  },
  {
   "cell_type": "code",
   "execution_count": null,
   "metadata": {},
   "outputs": [],
   "source": [
    "''' \n",
    "Given an array nums of size n, return the majority element.\n",
    "\n",
    "The majority element is the element that appears more than ⌊n / 2⌋ times. You may assume that the majority element always exists in the array.\n",
    "\n",
    " \n",
    "\n",
    "Example 1:\n",
    "\n",
    "Input: nums = [3,2,3]\n",
    "Output: 3\n",
    "Example 2:\n",
    "\n",
    "Input: nums = [2,2,1,1,1,2,2]\n",
    "Output: 2\n",
    "'''\n",
    "from collections import Counter\n",
    "\n",
    "def majorityElement(nums):\n",
    "    x = Counter(nums)\n",
    "    maximo = max(x.values())\n",
    "    for num, count in x.items():\n",
    "        if count == maximo:\n",
    "            return num\n",
    "\n",
    "nums = [2,2,1,1,1,2,2]\n",
    "majorityElement(nums)"
   ]
  },
  {
   "cell_type": "markdown",
   "metadata": {},
   "source": [
    "<h3>121. Best Time to Buy and Sell Stock</h3>"
   ]
  },
  {
   "cell_type": "code",
   "execution_count": null,
   "metadata": {},
   "outputs": [],
   "source": [
    "''' \n",
    "You are given an array prices where prices[i] is the price of a given stock on the ith day.\n",
    "\n",
    "You want to maximize your profit by choosing a single day to buy one stock and choosing a different day in the future to sell that stock.\n",
    "\n",
    "Return the maximum profit you can achieve from this transaction. If you cannot achieve any profit, return 0.\n",
    "\n",
    " \n",
    "\n",
    "Example 1:\n",
    "\n",
    "Input: prices = [7,1,5,3,6,4]\n",
    "Output: 5\n",
    "Explanation: Buy on day 2 (price = 1) and sell on day 5 (price = 6), profit = 6-1 = 5.\n",
    "Note that buying on day 2 and selling on day 1 is not allowed because you must buy before you sell.\n",
    "Example 2:\n",
    "\n",
    "Input: prices = [7,6,4,3,1]\n",
    "Output: 0\n",
    "Explanation: In this case, no transactions are done and the max profit = 0.\n",
    "'''"
   ]
  },
  {
   "cell_type": "code",
   "execution_count": null,
   "metadata": {},
   "outputs": [],
   "source": [
    "#REVER\n",
    "def maxProfit(prices):\n",
    "    no_profit = 0\n",
    "    max_profit = 0\n",
    "    i = 0\n",
    "    j = 1\n",
    "\n",
    "    if len(prices) == 1:\n",
    "        return 0\n",
    "    if len(prices) == 2:\n",
    "        if prices[0] > prices[1]:\n",
    "            return 0\n",
    "        else:\n",
    "            return prices[1] - prices[0]\n",
    "    for i in range(len(prices) - 1):\n",
    "        if (prices[i] - prices[i + 1]) > 0:\n",
    "            no_profit += 1\n",
    "    if no_profit == (len(prices) - 1):\n",
    "        return 0\n",
    "\n",
    "    for j in range(len(prices) - 1):\n",
    "        if prices[j] > prices[i]:\n",
    "            profit = prices[j] - prices[i]\n",
    "            max_profit = max(profit, max_profit)\n",
    "        else:\n",
    "            i = j\n",
    "        j += 1\n",
    "\n",
    "    return max_profit\n",
    "        \n",
    "\n",
    "#prices = [7,6,4,3,1]\n",
    "#prices = [7,1,5,3,6,4]\n",
    "#prices = [1,2]\n",
    "#prices = [1,4,2]\n",
    "prices = [2,4,1]\n",
    "maxProfit(prices)"
   ]
  },
  {
   "cell_type": "markdown",
   "metadata": {},
   "source": [
    "<h3>.125 Valid Palindrome</h3>"
   ]
  },
  {
   "cell_type": "code",
   "execution_count": null,
   "metadata": {},
   "outputs": [],
   "source": [
    "''' \n",
    "A phrase is a palindrome if, after converting all uppercase letters into lowercase letters and removing all non-alphanumeric characters, it reads the same forward and backward. Alphanumeric characters include letters and numbers.\n",
    "\n",
    "Given a string s, return true if it is a palindrome, or false otherwise.\n",
    "\n",
    " \n",
    "\n",
    "Example 1:\n",
    "\n",
    "Input: s = \"A man, a plan, a canal: Panama\"\n",
    "Output: true\n",
    "Explanation: \"amanaplanacanalpanama\" is a palindrome.\n",
    "Example 2:\n",
    "\n",
    "Input: s = \"race a car\"\n",
    "Output: false\n",
    "Explanation: \"raceacar\" is not a palindrome.\n",
    "Example 3:\n",
    "\n",
    "Input: s = \" \"\n",
    "Output: true\n",
    "Explanation: s is an empty string \"\" after removing non-alphanumeric characters.\n",
    "Since an empty string reads the same forward and backward, it is a palindrome.\n",
    "'''\n",
    "\n",
    "def isPalindrome(s):\n",
    "    cleaned_string = ''.join(char.lower() for char in s if char.isalnum())\n",
    "    if len(cleaned_string) < 2:\n",
    "        return True\n",
    "    \n",
    "    i = 0\n",
    "    j = len(cleaned_string) - 1\n",
    "    palind = False\n",
    "    while i <= len(cleaned_string)//2 and j >= len(cleaned_string)//2:\n",
    "        if cleaned_string[i] != cleaned_string[j]:\n",
    "            return False\n",
    "        else:\n",
    "            palind = True\n",
    "            i += 1\n",
    "            j -= 1\n",
    "        \n",
    "    return palind\n",
    "\n",
    "s = \"race a car\"\n",
    "#raceacar\n",
    "isPalindrome(s)"
   ]
  },
  {
   "cell_type": "markdown",
   "metadata": {},
   "source": [
    "<h3>.150 Ransom Note</h3>"
   ]
  },
  {
   "cell_type": "code",
   "execution_count": null,
   "metadata": {},
   "outputs": [],
   "source": [
    "''' \n",
    "Given two strings ransomNote and magazine, return true if ransomNote can be constructed by using the letters from magazine and false otherwise.\n",
    "\n",
    "Each letter in magazine can only be used once in ransomNote.\n",
    "\n",
    " \n",
    "\n",
    "Example 1:\n",
    "\n",
    "Input: ransomNote = \"a\", magazine = \"b\"\n",
    "Output: false\n",
    "Example 2:\n",
    "\n",
    "Input: ransomNote = \"aa\", magazine = \"ab\"\n",
    "Output: false\n",
    "Example 3:\n",
    "\n",
    "Input: ransomNote = \"aa\", magazine = \"aab\"\n",
    "Output: true\n",
    "'''"
   ]
  },
  {
   "cell_type": "code",
   "execution_count": null,
   "metadata": {},
   "outputs": [],
   "source": [
    "from collections import Counter\n",
    "\n",
    "def canConstruct(ransomNote, magazine):\n",
    "    if len(ransomNote) == 0:\n",
    "        return True\n",
    "    elif len(ransomNote) != 0 and len(magazine) == 0:\n",
    "        return False\n",
    "    \n",
    "    h_ransom_note = Counter(ransomNote)\n",
    "    h_magazine = Counter(magazine)\n",
    "\n",
    "    return h_ransom_note <= h_magazine\n",
    "        \n",
    "     \n",
    "\n",
    "\n",
    "ransomNote = \"aa\"\n",
    "magazine = \"aab\"\n",
    "canConstruct(ransomNote, magazine)  "
   ]
  },
  {
   "cell_type": "markdown",
   "metadata": {},
   "source": [
    "<h3>.205 Isomorphic Strings</h3>"
   ]
  },
  {
   "cell_type": "code",
   "execution_count": null,
   "metadata": {},
   "outputs": [],
   "source": [
    "''' \n",
    "Given two strings s and t, determine if they are isomorphic.\n",
    "\n",
    "Two strings s and t are isomorphic if the characters in s can be replaced to get t.\n",
    "\n",
    "All occurrences of a character must be replaced with another character while preserving the order of characters. No two characters may map to the same character, but a character may map to itself.\n",
    "\n",
    " \n",
    "\n",
    "Example 1:\n",
    "\n",
    "Input: s = \"egg\", t = \"add\"\n",
    "Output: true\n",
    "Example 2:\n",
    "\n",
    "Input: s = \"foo\", t = \"bar\"\n",
    "Output: false\n",
    "Example 3:\n",
    "\n",
    "Input: s = \"paper\", t = \"title\"\n",
    "Output: true\n",
    "'''"
   ]
  },
  {
   "cell_type": "code",
   "execution_count": null,
   "metadata": {},
   "outputs": [],
   "source": [
    "from collections import Counter\n",
    "\n",
    "def isIsomorphic(s, t):\n",
    "    if len(s) != len(t):\n",
    "        return False\n",
    "    \n",
    "    hs = Counter(s)\n",
    "    ht = Counter(t)\n",
    "\n",
    "    lista_s = list(hs.values())\n",
    "    lista_t = list(ht.values())\n",
    "\n",
    "    print(hs)\n",
    "    print(len(lista_s))\n",
    "    print(len(set(lista_s)))\n",
    "    print(\"\")\n",
    "    print(ht)\n",
    "    print(len(lista_t))\n",
    "    print(len(set(lista_t)))\n",
    "\n",
    "    if (hs.values() == ht.values()) and (len(lista_s) == len(set(lista_s)) or len(lista_t) == len(set(lista_t))):\n",
    "        return True\n",
    "    else:\n",
    "        return False\n",
    "\n",
    "    #if hs.values() == ht.values():\n",
    "    #    return True\n",
    "    #else:\n",
    "    #    return False\n",
    "    #print(list(hs.values()))\n",
    "    #print(ht)\n",
    "    \n",
    "s = \"egg\"\n",
    "t = \"add\"\n",
    "\n",
    "#s = \"foo\"\n",
    "#t = \"bar\"\n",
    "\n",
    "#s = \"abca\"\n",
    "#t = \"zxyz\"\n",
    "isIsomorphic(s, t)"
   ]
  },
  {
   "cell_type": "code",
   "execution_count": null,
   "metadata": {},
   "outputs": [],
   "source": [
    "from collections import Counter\n",
    "\n",
    "def isIsomorphic(s, t):\n",
    "    if len(s) != len(t):\n",
    "        return False\n",
    "    \n",
    "    hs = Counter(s)\n",
    "    ht = Counter(t)\n",
    "\n",
    "    lista_s = list(hs.values())\n",
    "    lista_t = list(ht.values())\n",
    "\n",
    "    if (hs.values() == ht.values()) and (len(lista_s) == len(set(lista_s)) or len(lista_t) == len(set(lista_t))):\n",
    "        return True\n",
    "    else:\n",
    "        return False\n",
    "\n",
    "    \n",
    "s = \"egg\"\n",
    "t = \"add\"\n",
    "\n",
    "#s = \"foo\"\n",
    "#t = \"bar\"\n",
    "\n",
    "#s = \"abca\"\n",
    "#t = \"zxyz\"\n",
    "isIsomorphic(s, t)"
   ]
  },
  {
   "cell_type": "markdown",
   "metadata": {},
   "source": [
    "<h3>290. Word Pattern</h3>"
   ]
  },
  {
   "cell_type": "code",
   "execution_count": null,
   "metadata": {},
   "outputs": [],
   "source": [
    "''' \n",
    "Given a pattern and a string s, find if s follows the same pattern.\n",
    "\n",
    "Here follow means a full match, such that there is a bijection between a letter in pattern and a non-empty word in s.\n",
    "\n",
    " \n",
    "\n",
    "Example 1:\n",
    "\n",
    "Input: pattern = \"abba\", s = \"dog cat cat dog\"\n",
    "Output: true\n",
    "Example 2:\n",
    "\n",
    "Input: pattern = \"abba\", s = \"dog cat cat fish\"\n",
    "Output: false\n",
    "Example 3:\n",
    "\n",
    "Input: pattern = \"aaaa\", s = \"dog cat cat dog\"\n",
    "Output: false\n",
    "'''"
   ]
  },
  {
   "cell_type": "markdown",
   "metadata": {},
   "source": [
    "<h3>Repeated Strings</h3>"
   ]
  },
  {
   "cell_type": "code",
   "execution_count": null,
   "metadata": {},
   "outputs": [],
   "source": [
    "s = [\"carro\"]\n",
    "i = 0\n",
    "while len(s) < 12:\n",
    "    s.append(s[i])\n",
    "    i += 1\n",
    "\n",
    "print(s)"
   ]
  },
  {
   "cell_type": "code",
   "execution_count": null,
   "metadata": {},
   "outputs": [],
   "source": [
    "''' \n",
    "Find all the letters 'a' in s of size n. If length of s is lower than n, just increase the \n",
    "characters in s until we have n characters.\n",
    "'''\n",
    "\n",
    "def repeatedStrings(s, n):\n",
    "    count_a_in_s = s.count('a')\n",
    "    full_repeats = n // len(s)\n",
    "    remainder = n % len(s)\n",
    "    \n",
    "    total_a = count_a_in_s * full_repeats + s[:remainder].count('a')\n",
    "    return total_a\n",
    "\n",
    "s = \"abcac\"\n",
    "n = 10     \n",
    "\n",
    "repeatedStrings(s, n)"
   ]
  },
  {
   "cell_type": "markdown",
   "metadata": {},
   "source": [
    "<h3>Left Rotation</h3>"
   ]
  },
  {
   "cell_type": "code",
   "execution_count": 11,
   "metadata": {},
   "outputs": [
    {
     "name": "stdout",
     "output_type": "stream",
     "text": [
      "Final list: [3, 4, 5, 1, 2]\n"
     ]
    }
   ],
   "source": [
    "''' \n",
    "Given an array of n integers and a number d, perform d left rotations at the array\n",
    "'''\n",
    "\n",
    "a = [1,2,3,4,5]\n",
    "d = 2\n",
    "while d > 0:\n",
    "    x = a.pop(0)\n",
    "    a.insert(len(a), x)\n",
    "    d -= 1\n",
    "\n",
    "print(f\"Final list: {a}\")\n",
    "\n",
    "#EXPECTED: \n",
    "# string = [1,2,3,4,5] => string =  [3,4,5,1,2] with 2 rotations (d = 2)\n",
    "# [1,2,3,4,5] => [2,3,4,5,1] => [3,4,5,1,2]"
   ]
  },
  {
   "cell_type": "markdown",
   "metadata": {},
   "source": [
    "<h3>Minimum Swaps</h3>"
   ]
  },
  {
   "cell_type": "code",
   "execution_count": 29,
   "metadata": {},
   "outputs": [
    {
     "data": {
      "text/plain": [
       "3"
      ]
     },
     "execution_count": 29,
     "metadata": {},
     "output_type": "execute_result"
    }
   ],
   "source": [
    "def minimumSwaps(arr):\n",
    "    swaps = 0\n",
    "    i = 0\n",
    "\n",
    "    while i < len(arr):\n",
    "        if arr[i] != (i + 1):\n",
    "            swap_idx = arr[i] - 1\n",
    "            arr[i], arr[swap_idx] = arr[swap_idx], arr[i]\n",
    "            swaps += 1\n",
    "        else:\n",
    "            i += 1\n",
    "    return swaps\n",
    "\n",
    "\n",
    "\n",
    "#arr = [7, 1, 3, 2, 4, 5, 6] #6 + 1 + 0 + 2+ 1+ 1+ 1\n",
    "#     [1, 2, 3, 4, 5, 6, 7] \n",
    "#     [0, 1, 2, 3, 4, 5, 6]\n",
    "\n",
    "arr = [2, 3, 1, 5, 4, 6] #2 + 1\n",
    "#      [1, 2, 3, 4, 5, 6]\n",
    "#      [0, 1, 2, 3, 4, 5]\n",
    "\n",
    "minimumSwaps(arr)"
   ]
  },
  {
   "cell_type": "markdown",
   "metadata": {},
   "source": [
    "<h3>Two Strings</h3>"
   ]
  },
  {
   "cell_type": "code",
   "execution_count": null,
   "metadata": {},
   "outputs": [],
   "source": [
    "''' \n",
    "Given two strings, determine if they share a common substring. A substring may be as small as one character.\n",
    "\n",
    "Example\n",
    "\n",
    "\n",
    "These share the common substring .\n",
    "\n",
    "\n",
    "\n",
    "These do not share a substring.\n",
    "\n",
    "Function Description\n",
    "\n",
    "Complete the function twoStrings in the editor below.\n",
    "\n",
    "twoStrings has the following parameter(s):\n",
    "\n",
    "string s1: a string\n",
    "string s2: another string\n",
    "Returns\n",
    "\n",
    "string: either YES or NO\n",
    "Input Format\n",
    "'''"
   ]
  },
  {
   "cell_type": "code",
   "execution_count": 34,
   "metadata": {},
   "outputs": [
    {
     "name": "stdout",
     "output_type": "stream",
     "text": [
      "NO\n"
     ]
    }
   ],
   "source": [
    "def twoStrings(s1, s2):\n",
    "    set1 = set(s1)\n",
    "    set2 = set(s2)\n",
    "    \n",
    "    # Check if there's any intersection (common character)\n",
    "    if set1 & set2:\n",
    "        return \"YES\"\n",
    "    else:\n",
    "        return \"NO\"\n",
    "\n",
    "#s1 = \"hello\"\n",
    "#s2 = \"world\"\n",
    "\n",
    "s1 = \"hi\"\n",
    "s2 = \"world\"\n",
    "\n",
    "twoStrings(s1, s2)"
   ]
  },
  {
   "cell_type": "markdown",
   "metadata": {},
   "source": [
    "<h3>290. Word Pattern</h3>"
   ]
  },
  {
   "cell_type": "code",
   "execution_count": null,
   "metadata": {},
   "outputs": [],
   "source": [
    "''' \n",
    "Given a pattern and a string s, find if s follows the same pattern.\n",
    "\n",
    "Here follow means a full match, such that there is a bijection between a letter in pattern and a non-empty word in s.\n",
    "\n",
    " \n",
    "\n",
    "Example 1:\n",
    "\n",
    "Input: pattern = \"abba\", s = \"dog cat cat dog\"\n",
    "Output: true\n",
    "Example 2:\n",
    "\n",
    "Input: pattern = \"abba\", s = \"dog cat cat fish\"\n",
    "Output: false\n",
    "Example 3:\n",
    "\n",
    "Input: pattern = \"aaaa\", s = \"dog cat cat dog\"\n",
    "Output: false\n",
    "'''"
   ]
  },
  {
   "cell_type": "code",
   "execution_count": 49,
   "metadata": {},
   "outputs": [
    {
     "name": "stdout",
     "output_type": "stream",
     "text": [
      "['dog', 'cat', 'cat', 'dog']\n",
      "['a', 'b', 'a', 'b']\n"
     ]
    },
    {
     "data": {
      "text/plain": [
       "True"
      ]
     },
     "execution_count": 49,
     "metadata": {},
     "output_type": "execute_result"
    }
   ],
   "source": [
    "from collections import Counter\n",
    "\n",
    "def wordPattern(pattern, s):\n",
    "    ts = s.split()\n",
    "    spattern = list(pattern)\n",
    "    \n",
    "    cs = Counter(ts)\n",
    "    cpattern = Counter(spattern)\n",
    "\n",
    "    print(ts)\n",
    "    print(spattern)\n",
    "    if list(cs.values()) == list(cpattern.values()):\n",
    "        return True\n",
    "    else:\n",
    "        return False\n",
    "\n",
    "#pattern = \"abba\"\n",
    "#s = \"dog cat cat dog\"\n",
    "#s = \"dog cat cat fish\"\n",
    "\n",
    "pattern = \"abab\"\n",
    "s = \"dog cat cat dog\"\n",
    "\n",
    "wordPattern(pattern, s)"
   ]
  },
  {
   "cell_type": "markdown",
   "metadata": {},
   "source": [
    "<h3>1. Two Sum</h3>"
   ]
  },
  {
   "cell_type": "code",
   "execution_count": null,
   "metadata": {},
   "outputs": [],
   "source": [
    "''' \n",
    "Given an array of integers nums and an integer target, return indices of the two numbers such that they add up to target.\n",
    "\n",
    "You may assume that each input would have exactly one solution, and you may not use the same element twice.\n",
    "\n",
    "You can return the answer in any order.\n",
    "\n",
    " \n",
    "\n",
    "Example 1:\n",
    "\n",
    "Input: nums = [2,7,11,15], target = 9\n",
    "Output: [0,1]\n",
    "Explanation: Because nums[0] + nums[1] == 9, we return [0, 1].\n",
    "Example 2:\n",
    "\n",
    "Input: nums = [3,2,4], target = 6\n",
    "Output: [1,2]\n",
    "Example 3:\n",
    "\n",
    "Input: nums = [3,3], target = 6\n",
    "Output: [0,1]\n",
    "'''"
   ]
  },
  {
   "cell_type": "code",
   "execution_count": 113,
   "metadata": {},
   "outputs": [
    {
     "name": "stdout",
     "output_type": "stream",
     "text": [
      "diff-7\n",
      "i = valIndex: 0\n",
      "diff-6\n",
      "i = valIndex: 1\n",
      "diff-5\n",
      "i = valIndex: 2\n",
      "diff-4\n",
      "i = valIndex: 3\n",
      "diff-3\n",
      "diff, valIndex[diff], i: (-3, 2, 4)\n"
     ]
    },
    {
     "data": {
      "text/plain": [
       "[2, 4]"
      ]
     },
     "execution_count": 113,
     "metadata": {},
     "output_type": "execute_result"
    }
   ],
   "source": [
    "from collections import Counter\n",
    "\n",
    "def twoSum(nums, target):\n",
    "    valIndex = {} # Value: Index\n",
    "        \n",
    "    #For each index i and a number n:\n",
    "    for i, n in enumerate(nums):\n",
    "        diff = target - n\n",
    "        print(f\"diff{diff}\")\n",
    "        if diff in valIndex:\n",
    "            print(f\"diff, valIndex[diff], i: {diff, valIndex[diff], i}\")\n",
    "            return [valIndex[diff], i]\n",
    "        #If we don't find the solution above, update the dictionary\n",
    "        valIndex[n] = i\n",
    "        print(f\"i = valIndex: {valIndex[n]}\")\n",
    "    return\n",
    "\n",
    "\n",
    "    \n",
    "nums = [-1,-2,-3,-4,-5, -4]\n",
    "target = -8\n",
    "#EXPECTED = [2,4]\n",
    "\n",
    "twoSum(nums, target)"
   ]
  },
  {
   "cell_type": "code",
   "execution_count": null,
   "metadata": {},
   "outputs": [],
   "source": []
  },
  {
   "cell_type": "code",
   "execution_count": 115,
   "metadata": {},
   "outputs": [
    {
     "name": "stdout",
     "output_type": "stream",
     "text": [
      "{'book': 30, 'toothbrush': 40}\n",
      "70\n"
     ]
    }
   ],
   "source": [
    "def total_items_price_in_cart(products):\n",
    "    items_prices = {k: v['price'] * v['quantity'] for (k, v) in products.items()}\n",
    "    print(items_prices)\n",
    "    # items_prices == {'book': 30, 'toothbrush': 40}\n",
    "    return sum(items_prices.values())\n",
    "\n",
    "products = {\n",
    "    'book': {'price': 10, 'quantity': 3},\n",
    "    'toothbrush': {'price': 5, 'quantity': 8},\n",
    "}\n",
    "\n",
    "total_price = total_items_price_in_cart(products)\n",
    "print(total_price) "
   ]
  },
  {
   "cell_type": "code",
   "execution_count": 116,
   "metadata": {},
   "outputs": [
    {
     "name": "stdout",
     "output_type": "stream",
     "text": [
      "True\n"
     ]
    }
   ],
   "source": [
    "''' \n",
    "To determine whether you end up at the root after a series of movements, you can track your position starting from the origin (root). Assuming movements are on a 2D plane with the following possible movements:\n",
    "\n",
    "\"U\" for up (increases the y-coordinate)\n",
    "\"D\" for down (decreases the y-coordinate)\n",
    "\"L\" for left (decreases the x-coordinate)\n",
    "\"R\" for right (increases the x-coordinate)\n",
    "If after all movements, your position is still at the origin (0, 0), you have ended up at the root.\n",
    "'''\n",
    "\n",
    "def is_back_to_root(movements):\n",
    "    # Start at the origin\n",
    "    x, y = 0, 0\n",
    "    \n",
    "    # Process each movement\n",
    "    for move in movements:\n",
    "        if move == \"U\":\n",
    "            y += 1\n",
    "        elif move == \"D\":\n",
    "            y -= 1\n",
    "        elif move == \"L\":\n",
    "            x -= 1\n",
    "        elif move == \"R\":\n",
    "            x += 1\n",
    "    \n",
    "    # Check if we are back at the origin\n",
    "    return x == 0 and y == 0\n",
    "\n",
    "# Example usage\n",
    "movements = \"UDLR\"  # Up, Down, Left, Right\n",
    "result = is_back_to_root(movements)\n",
    "print(result)  # Output: True, because it returns to the origin"
   ]
  },
  {
   "cell_type": "code",
   "execution_count": 117,
   "metadata": {},
   "outputs": [
    {
     "name": "stdout",
     "output_type": "stream",
     "text": [
      "True\n"
     ]
    }
   ],
   "source": [
    "movements = \"UUDDLLRR\"\n",
    "result = is_back_to_root(movements)\n",
    "print(result)  # Output: True, because it returns to the origin"
   ]
  },
  {
   "cell_type": "code",
   "execution_count": 118,
   "metadata": {},
   "outputs": [
    {
     "name": "stdout",
     "output_type": "stream",
     "text": [
      "False\n"
     ]
    }
   ],
   "source": [
    "movements = \"UUDLR\"\n",
    "result = is_back_to_root(movements)\n",
    "print(result)  # Output: False, because it doesn't return to the origin"
   ]
  },
  {
   "cell_type": "markdown",
   "metadata": {},
   "source": [
    "<h3>Sliding Windows</h3>"
   ]
  },
  {
   "cell_type": "code",
   "execution_count": 3,
   "metadata": {},
   "outputs": [
    {
     "name": "stdout",
     "output_type": "stream",
     "text": [
      "Window 1: [2, 3, 4, 2, 3] | Média: [2.8]\n",
      "Window 2: [3, 4, 2, 3, 6] | Média: [2.8, 3.6]\n",
      "Window 3: [4, 2, 3, 6, 8] | Média: [2.8, 3.6, 4.6]\n",
      "Window 4: [2, 3, 6, 8, 4] | Média: [2.8, 3.6, 4.6, 4.6]\n",
      "Window 5: [3, 6, 8, 4, 5] | Média: [2.8, 3.6, 4.6, 4.6, 5.2]\n"
     ]
    }
   ],
   "source": [
    "''' \n",
    "To perform an operation on sliding windows of d elements from a list, where you take the first d elements, then the next d elements by shifting one position to the right each time, you can use a simple loop in Python.\n",
    "'''\n",
    "import numpy as np\n",
    "\n",
    "media = []\n",
    "def sliding_windows_by_one(lista, small_list):\n",
    "    for i in range(len(lista) - small_list + 1):\n",
    "        window = lista[i: i + small_list]\n",
    "        #Here i perform any operation i want.\n",
    "        mean_value = np.mean(window)\n",
    "        media.append(mean_value)\n",
    "        print(f\"Window {i + 1}: {window} | Média: {media}\")\n",
    "\n",
    "# Example usage\n",
    "lista = [2, 3, 4, 2, 3, 6, 8, 4, 5]\n",
    "small_list = 5\n",
    "sliding_windows_by_one(lista, small_list)"
   ]
  },
  {
   "cell_type": "code",
   "execution_count": 8,
   "metadata": {},
   "outputs": [
    {
     "name": "stdout",
     "output_type": "stream",
     "text": [
      "Window 1: [2, 3, 4, 2, 3] | Média: [2.8]\n",
      "Window 2: [3, 4, 2, 3, 6] | Média: [2.8, 3.6]\n",
      "Window 3: [4, 2, 3, 6, 8] | Média: [2.8, 3.6, 4.6]\n",
      "Window 4: [2, 3, 6, 8, 4] | Média: [2.8, 3.6, 4.6, 4.6]\n",
      "Window 5: [3, 6, 8, 4, 5] | Média: [2.8, 3.6, 4.6, 4.6, 5.2]\n"
     ]
    }
   ],
   "source": [
    "''' \n",
    "If the shift amount to the right is defined by the function, you can modify the loop to use that shift value to control how much the sliding window moves to the right on each iteration.\n",
    "'''\n",
    "\n",
    "import numpy as np\n",
    "\n",
    "media = []\n",
    "def sliding_windows_by_a_shift(lista, small_list, shift):\n",
    "    for i in range(0, len(lista) - small_list + 1, shift):\n",
    "        window = lista[i: i + small_list]\n",
    "        #Here i perform any operation i want.\n",
    "        mean_value = np.mean(window)\n",
    "        media.append(mean_value)\n",
    "        print(f\"Window {i + 1}: {window} | Média: {media}\")\n",
    "\n",
    "# Example usage\n",
    "lista = [2, 3, 4, 2, 3, 6, 8, 4, 5]\n",
    "small_list = 5\n",
    "shift = 1\n",
    "sliding_windows_by_a_shift(lista, small_list, shift)"
   ]
  },
  {
   "cell_type": "markdown",
   "metadata": {},
   "source": [
    "<h3>Fraudulent Activity Notifications</h3>"
   ]
  },
  {
   "cell_type": "code",
   "execution_count": null,
   "metadata": {},
   "outputs": [],
   "source": [
    "''' \n",
    "HackerLand National Bank has a simple policy for warning clients about possible fraudulent account activity. If the amount spent by a client on a particular day is greater than or equal to 2x the client's median spending for a trailing number of days, they send the client a notification about potential fraud. The bank doesn't send the client any notifications until they have at least that trailing number of prior days' transaction data.\n",
    "\n",
    "Given the number of trailing days d and a client's total daily expenditures for a period of n days, determine the number of times the client will receive a notification over all  days.\n",
    "\n",
    "Example\n",
    "expenditure = [10,20,30,40,50]\n",
    "d = 3\n",
    "\n",
    "On the first three days, they just collect spending data. At day 4 , trailing expenditures are [10,20,30]. The median is 20 and the day's expenditure is 40. Because 40 > (2*20), there will be a notice. The next day, trailing expenditures are [20,30,40] and the expenditures are 50. This is less than 2*30 so no notice will be sent. Over the period, there was one notice sent.\n",
    "\n",
    "Note: The median of a list of numbers can be found by first sorting the numbers ascending. If there is an odd number of values, the middle one is picked. If there is an even number of values, the median is then defined to be the average of the two middle values. (Wikipedia)\n",
    "'''"
   ]
  },
  {
   "cell_type": "code",
   "execution_count": 26,
   "metadata": {},
   "outputs": [
    {
     "data": {
      "text/plain": [
       "2"
      ]
     },
     "execution_count": 26,
     "metadata": {},
     "output_type": "execute_result"
    }
   ],
   "source": [
    "import statistics\n",
    "\n",
    "def activityNotifications(expenditure, d):\n",
    "    notice = 0\n",
    "\n",
    "    for i in range(0, len(expenditure) - d, 1):\n",
    "        window = expenditure[i: i + d]\n",
    "        mediana = statistics.median(window)\n",
    "        #day = i + d\n",
    "        if (2*mediana ) <= expenditure[d]:\n",
    "            notice += 1\n",
    "            expenditure.pop(0)\n",
    "    return notice\n",
    "\n",
    "expenditure = [2, 3, 4, 2, 3, 6, 8, 4, 5]\n",
    "d = 5\n",
    "\n",
    "#expenditure = [10,20,30,40,50]\n",
    "#d = 3\n",
    "activityNotifications(expenditure, d)"
   ]
  },
  {
   "cell_type": "code",
   "execution_count": 35,
   "metadata": {},
   "outputs": [
    {
     "name": "stdout",
     "output_type": "stream",
     "text": [
      "[1, 2, 3, 4, 5]\n",
      "True\n"
     ]
    }
   ],
   "source": [
    "from collections import deque\n",
    "\n",
    "a = [1,2,3,4,5]\n",
    "q = [5,4,3,2,1]\n",
    "\n",
    "deque_q = deque(q)\n",
    "deque_q.reverse()\n",
    "#deque_q = q[::-1] #That works too to reverse the list\n",
    "\n",
    "b = list(deque_q)\n",
    "\n",
    "print(b)\n",
    "print(a == b)"
   ]
  },
  {
   "cell_type": "code",
   "execution_count": null,
   "metadata": {},
   "outputs": [],
   "source": []
  }
 ],
 "metadata": {
  "kernelspec": {
   "display_name": "allgpu_env",
   "language": "python",
   "name": "python3"
  },
  "language_info": {
   "codemirror_mode": {
    "name": "ipython",
    "version": 3
   },
   "file_extension": ".py",
   "mimetype": "text/x-python",
   "name": "python",
   "nbconvert_exporter": "python",
   "pygments_lexer": "ipython3",
   "version": "3.12.2"
  }
 },
 "nbformat": 4,
 "nbformat_minor": 2
}
