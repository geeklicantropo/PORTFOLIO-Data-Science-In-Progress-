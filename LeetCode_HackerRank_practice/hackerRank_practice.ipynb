{
 "cells": [
  {
   "cell_type": "markdown",
   "metadata": {},
   "source": [
    "<h3>Problem 1</h3>"
   ]
  },
  {
   "cell_type": "code",
   "execution_count": null,
   "metadata": {},
   "outputs": [],
   "source": [
    "a = [1,2,3,4,5]\n",
    "d = 2\n",
    "while d > 0:\n",
    "    x = a.pop(0)\n",
    "    a.insert(len(a), x)\n",
    "    d -= 1\n",
    "\n",
    "print(f\"Final list: {a}\")\n",
    "\n",
    "#EXPECTED: \n",
    "# string = [1,2,3,4,5] => string =  [3,4,5,1,2] with 2 rotations (d = 2)\n",
    "# [1,2,3,4,5] => [2,3,4,5,1] => [3,4,5,1,2]"
   ]
  },
  {
   "cell_type": "code",
   "execution_count": null,
   "metadata": {},
   "outputs": [],
   "source": [
    "string = [1,2,3,4,5, 6, 6, 8]\n",
    "i = 0\n",
    "j = len(string)\n",
    "d = 2\n",
    "\n",
    "while d > 0:\n",
    "    temp = string[i]\n",
    "    string[i] = string[j - 1]\n",
    "    string[j - 1] = temp\n",
    "\n",
    "    i += 1\n",
    "    j -= 1\n",
    "    d -= 1\n",
    "\n",
    "print(string)\n",
    "#EXPECTED: \n",
    "# string = [1,2,3,4,5, 6, 6, 8] => string =  [8, 6, 3, 4, 5, 6, 2, 1] with 2 swaps\n",
    "# between the first and the last element (d = 2)\n"
   ]
  },
  {
   "cell_type": "markdown",
   "metadata": {},
   "source": [
    "<h3>Problem 2</h3>"
   ]
  },
  {
   "cell_type": "code",
   "execution_count": null,
   "metadata": {},
   "outputs": [],
   "source": [
    "''' \n",
    "It is New Year's Day and people are in line for the Wonderland rollercoaster ride. Each person wears a sticker indicating their initial position in the queue from  to . Any person can bribe the person directly in front of them to swap positions, but they still wear their original sticker. One person can bribe at most two others.\n",
    "\n",
    "Determine the minimum number of bribes that took place to get to a given queue order. Print the number of bribes, or, if anyone has bribed more than two people, print Too chaotic.\n",
    "\n",
    "Example:\n",
    "q = [1,2,3,5,4,6,7,8]\n",
    "\n",
    "\n",
    "If person  bribes person , the queue will look like this: . Only  bribe is required. Print 1.\n",
    "\n",
    "\n",
    "Person  had to bribe  people to get to the current position. Print Too chaotic.\n",
    "\n",
    "'''\n"
   ]
  },
  {
   "cell_type": "code",
   "execution_count": 95,
   "metadata": {},
   "outputs": [
    {
     "name": "stdout",
     "output_type": "stream",
     "text": [
      "[1, 2, 5, 3, 7, 8, 6, 4]\n",
      "Range: (0: 1)\n",
      "1 > 2?\n",
      "Range: (1: 3)\n",
      "2 > 3?\n",
      "Range: (1: 3)\n",
      "5 > 3?\n",
      "Range: (4: 6)\n",
      "7 > 6?\n",
      "Range: (4: 6)\n",
      "8 > 6?\n",
      "Range: (2: 7)\n",
      "5 > 4?\n",
      "Range: (2: 7)\n",
      "3 > 4?\n",
      "Range: (2: 7)\n",
      "7 > 4?\n",
      "Range: (2: 7)\n",
      "8 > 4?\n",
      "Range: (2: 7)\n",
      "6 > 4?\n",
      "7\n"
     ]
    }
   ],
   "source": [
    "#q = [2, 1, 5, 3, 4]\n",
    "\n",
    "#q = [1,2,3,5,4,6,7,8]\n",
    "#q = [5, 1, 2, 3, 7, 8, 6, 4]\n",
    "\n",
    "#   [1, 2, 3, 4, 5, 6, 7, 8]\n",
    "#q = [2, 5, 1, 3, 4]\n",
    "#q = [1, 2, 5, 3, 4, 7, 8, 6]\n",
    "################################################\n",
    "#q = [5, 1, 2, 3, 7, 8, 6, 4]\n",
    "\n",
    "#ind = [1, 2, 3, 4, 5, 6, 7, 8]\n",
    "q    = [1, 2, 5, 3, 7, 8, 6, 4] #1 + 2 + 2 + 2\n",
    "\n",
    "def minimumBribes(q):\n",
    "    bribes = 0\n",
    "    print(\"[1, 2, 5, 3, 7, 8, 6, 4]\")\n",
    "    for i in range(len(q)):\n",
    "        if ((q[i] - (i + 1)) > 2):\n",
    "            print(\"Too chaotic\")\n",
    "            return\n",
    "\n",
    "        for j in range(max(0, q[i] - 2), i):\n",
    "            #print(\"CHECKING\")\n",
    "            print(f\"Range: ({max(0, q[i] - 2)}: {i})\")\n",
    "            print(f\"{q[j]} > {q[i]}?\")\n",
    "            if q[j] > q[i]:\n",
    "                bribes += 1\n",
    "    print(bribes)\n",
    "\n",
    "minimumBribes(q)"
   ]
  },
  {
   "cell_type": "markdown",
   "metadata": {},
   "source": [
    "<h3>27. Remove Element</h3>"
   ]
  },
  {
   "cell_type": "code",
   "execution_count": null,
   "metadata": {},
   "outputs": [],
   "source": [
    "''' \n",
    "Given an integer array nums and an integer val, remove all occurrences of val in nums in-place. The order of the elements may be changed. Then return the number of elements in nums which are not equal to val.\n",
    "\n",
    "Consider the number of elements in nums which are not equal to val be k, to get accepted, you need to do the following things:\n",
    "\n",
    "Change the array nums such that the first k elements of nums contain the elements which are not equal to val. The remaining elements of nums are not important as well as the size of nums.\n",
    "Return k.\n",
    "'''"
   ]
  },
  {
   "cell_type": "code",
   "execution_count": 2,
   "metadata": {},
   "outputs": [
    {
     "name": "stdout",
     "output_type": "stream",
     "text": [
      "[2, 2]\n"
     ]
    }
   ],
   "source": [
    "def removeElement(nums, val):\n",
    "        while val in nums:\n",
    "            nums.remove(val)\n",
    "\n",
    "nums = [3,2,2,3]\n",
    "val = 3\n",
    "removeElement(nums, val)\n",
    "\n",
    "print(nums)"
   ]
  },
  {
   "cell_type": "markdown",
   "metadata": {},
   "source": [
    "<h3>88. Merge Sorted Array</h3>"
   ]
  },
  {
   "cell_type": "code",
   "execution_count": 3,
   "metadata": {},
   "outputs": [
    {
     "name": "stdout",
     "output_type": "stream",
     "text": [
      "[1, 2, 2, 3, 5, 6]\n"
     ]
    }
   ],
   "source": [
    "'''\n",
    "You are given two integer arrays nums1 and nums2, sorted in non-decreasing order, and two integers m and n, representing the number of elements in nums1 and nums2 respectively.\n",
    "\n",
    "Merge nums1 and nums2 into a single array sorted in non-decreasing order.\n",
    "\n",
    "The final sorted array should not be returned by the function, but instead be stored inside the array nums1. To accommodate this, nums1 has a length of m + n, where the first m elements denote the elements that should be merged, and the last n elements are set to 0 and should be ignored. nums2 has a length of n.\n",
    "\n",
    " \n",
    "\n",
    "Example 1:\n",
    "\n",
    "Input: nums1 = [1,2,3,0,0,0], m = 3, nums2 = [2,5,6], n = 3\n",
    "Output: [1,2,2,3,5,6]\n",
    "Explanation: The arrays we are merging are [1,2,3] and [2,5,6].\n",
    "The result of the merge is [1,2,2,3,5,6] with the underlined elements coming from nums1.\n",
    "Example 2:\n",
    "\n",
    "Input: nums1 = [1], m = 1, nums2 = [], n = 0\n",
    "Output: [1]\n",
    "Explanation: The arrays we are merging are [1] and [].\n",
    "The result of the merge is [1].\n",
    "Example 3:\n",
    "\n",
    "Input: nums1 = [0], m = 0, nums2 = [1], n = 1\n",
    "Output: [1]\n",
    "Explanation: The arrays we are merging are [] and [1].\n",
    "The result of the merge is [1].\n",
    "Note that because m = 0, there are no elements in nums1. The 0 is only there to ensure the merge result can fit in nums1.\n",
    "'''\n",
    "\n",
    "def merge(nums1, m, nums2, n):\n",
    "        \"\"\"\n",
    "        Do not return anything, modify nums1 in-place instead.\n",
    "        \"\"\"\n",
    "        nums1[m:] = nums2\n",
    "        nums1.sort()\n",
    "\n",
    "nums1 = [1,2,3,0,0,0]\n",
    "m = 3\n",
    "nums2 = [2,5,6]\n",
    "n = 3\n",
    "\n",
    "merge(nums1, m, nums2, n)\n",
    "print(nums1)"
   ]
  },
  {
   "cell_type": "markdown",
   "metadata": {},
   "source": [
    "<h3>26. Remove Duplicates from Sorted Array</h3>"
   ]
  },
  {
   "cell_type": "code",
   "execution_count": 8,
   "metadata": {},
   "outputs": [
    {
     "data": {
      "text/plain": [
       "5"
      ]
     },
     "execution_count": 8,
     "metadata": {},
     "output_type": "execute_result"
    }
   ],
   "source": [
    "''' \n",
    "Given an integer array nums sorted in non-decreasing order, remove the duplicates in-place such that each unique element appears only once. The relative order of the elements should be kept the same. Then return the number of unique elements in nums.\n",
    "\n",
    "Consider the number of unique elements of nums to be k, to get accepted, you need to do the following things:\n",
    "\n",
    "Change the array nums such that the first k elements of nums contain the unique elements in the order they were present in nums initially. The remaining elements of nums are not important as well as the size of nums.\n",
    "Return k.\n",
    "Custom Judge:\n",
    "\n",
    "The judge will test your solution with the following code:\n",
    "\n",
    "int[] nums = [...]; // Input array\n",
    "int[] expectedNums = [...]; // The expected answer with correct length\n",
    "\n",
    "int k = removeDuplicates(nums); // Calls your implementation\n",
    "\n",
    "assert k == expectedNums.length;\n",
    "for (int i = 0; i < k; i++) {\n",
    "    assert nums[i] == expectedNums[i];\n",
    "}\n",
    "If all assertions pass, then your solution will be accepted.\n",
    "\n",
    " \n",
    "\n",
    "Example 1:\n",
    "\n",
    "Input: nums = [1,1,2]\n",
    "Output: 2, nums = [1,2,_]\n",
    "Explanation: Your function should return k = 2, with the first two elements of nums being 1 and 2 respectively.\n",
    "It does not matter what you leave beyond the returned k (hence they are underscores).\n",
    "Example 2:\n",
    "\n",
    "Input: nums = [0,0,1,1,1,2,2,3,3,4]\n",
    "Output: 5, nums = [0,1,2,3,4,_,_,_,_,_]\n",
    "Explanation: Your function should return k = 5, with the first five elements of nums being 0, 1, 2, 3, and 4 respectively.\n",
    "It does not matter what you leave beyond the returned k (hence they are underscores).\n",
    "'''\n",
    "\n",
    "def removeDuplicates(nums):\n",
    "        i = 0\n",
    "        j = 1\n",
    "        if len(nums) == 1:\n",
    "            return len(nums)\n",
    "        elif len(nums) == 2:\n",
    "            if nums[0] == nums[1]:\n",
    "                nums.remove(nums[1])\n",
    "                return 1\n",
    "            else:\n",
    "                return len(nums)\n",
    "        else:\n",
    "            while i < len(nums) and j < len(nums):\n",
    "                if nums[i] == nums[j]:\n",
    "                    nums.remove(nums[j])\n",
    "                    j = i + 1\n",
    "                else:\n",
    "                    i += 1\n",
    "                    j += 1\n",
    "            return (len(nums))\n",
    "\n",
    "\n",
    "nums = [0,0,1,1,1,2,2,3,3,4]\n",
    "removeDuplicates(nums)"
   ]
  },
  {
   "cell_type": "markdown",
   "metadata": {},
   "source": [
    "<h3>80. Remove Duplicates from Sorted Array II</h3>"
   ]
  },
  {
   "cell_type": "code",
   "execution_count": 11,
   "metadata": {},
   "outputs": [
    {
     "data": {
      "text/plain": [
       "[0, 0, 1, 1, 2, 3, 3]"
      ]
     },
     "execution_count": 11,
     "metadata": {},
     "output_type": "execute_result"
    }
   ],
   "source": [
    "''' \n",
    "Given an integer array nums sorted in non-decreasing order, remove some duplicates in-place such that each unique element appears at most twice. The relative order of the elements should be kept the same.\n",
    "\n",
    "Since it is impossible to change the length of the array in some languages, you must instead have the result be placed in the first part of the array nums. More formally, if there are k elements after removing the duplicates, then the first k elements of nums should hold the final result. It does not matter what you leave beyond the first k elements.\n",
    "\n",
    "Return k after placing the final result in the first k slots of nums.\n",
    "\n",
    "Do not allocate extra space for another array. You must do this by modifying the input array in-place with O(1) extra memory.\n",
    "\n",
    "Custom Judge:\n",
    "\n",
    "The judge will test your solution with the following code:\n",
    "\n",
    "int[] nums = [...]; // Input array\n",
    "int[] expectedNums = [...]; // The expected answer with correct length\n",
    "\n",
    "int k = removeDuplicates(nums); // Calls your implementation\n",
    "\n",
    "assert k == expectedNums.length;\n",
    "for (int i = 0; i < k; i++) {\n",
    "    assert nums[i] == expectedNums[i];\n",
    "}\n",
    "If all assertions pass, then your solution will be accepted.\n",
    "\n",
    " \n",
    "\n",
    "Example 1:\n",
    "\n",
    "Input: nums = [1,1,1,2,2,3]\n",
    "Output: 5, nums = [1,1,2,2,3,_]\n",
    "Explanation: Your function should return k = 5, with the first five elements of nums being 1, 1, 2, 2 and 3 respectively.\n",
    "It does not matter what you leave beyond the returned k (hence they are underscores).\n",
    "Example 2:\n",
    "\n",
    "Input: nums = [0,0,1,1,1,1,2,3,3]\n",
    "Output: 7, nums = [0,0,1,1,2,3,3,_,_]\n",
    "Explanation: Your function should return k = 7, with the first seven elements of nums being 0, 0, 1, 1, 2, 3 and 3 respectively.\n",
    "It does not matter what you leave beyond the returned k (hence they are underscores).\n",
    "'''\n",
    "\n",
    "def removeDuplicates(nums):\n",
    "        i = 0\n",
    "        j = 1\n",
    "        k = 2\n",
    "\n",
    "        if len(nums) == 1:\n",
    "            return 1\n",
    "        elif len(nums) == 2:\n",
    "            return 2\n",
    "        elif len(nums) == 3:\n",
    "            if nums[0] == nums[1] == nums[2]:\n",
    "                nums.remove(nums[2])\n",
    "                return 2\n",
    "            else:\n",
    "                return len(nums)\n",
    "        else:\n",
    "            while i < len(nums) and j < len(nums) and k < len(nums):\n",
    "                if nums[i] == nums[j] == nums[k]:\n",
    "                    nums.remove(nums[k])\n",
    "                    #k += 1\n",
    "                else:\n",
    "                    i += 1\n",
    "                    j += 1\n",
    "                    k += 1\n",
    "            return nums #(len(nums))\n",
    "        \n",
    "nums = [0,0,1,1,1,1,2,3,3]\n",
    "removeDuplicates(nums)"
   ]
  },
  {
   "cell_type": "markdown",
   "metadata": {},
   "source": [
    "<h3>169. Majority Element</h3>"
   ]
  },
  {
   "cell_type": "code",
   "execution_count": 26,
   "metadata": {},
   "outputs": [
    {
     "data": {
      "text/plain": [
       "2"
      ]
     },
     "execution_count": 26,
     "metadata": {},
     "output_type": "execute_result"
    }
   ],
   "source": [
    "''' \n",
    "Given an array nums of size n, return the majority element.\n",
    "\n",
    "The majority element is the element that appears more than ⌊n / 2⌋ times. You may assume that the majority element always exists in the array.\n",
    "\n",
    " \n",
    "\n",
    "Example 1:\n",
    "\n",
    "Input: nums = [3,2,3]\n",
    "Output: 3\n",
    "Example 2:\n",
    "\n",
    "Input: nums = [2,2,1,1,1,2,2]\n",
    "Output: 2\n",
    "'''\n",
    "from collections import Counter\n",
    "\n",
    "def majorityElement(nums):\n",
    "    x = Counter(nums)\n",
    "    maximo = max(x.values())\n",
    "    for num, count in x.items():\n",
    "        if count == maximo:\n",
    "            return num\n",
    "\n",
    "nums = [2,2,1,1,1,2,2]\n",
    "majorityElement(nums)"
   ]
  },
  {
   "cell_type": "markdown",
   "metadata": {},
   "source": [
    "<h3>121. Best Time to Buy and Sell Stock</h3>"
   ]
  },
  {
   "cell_type": "code",
   "execution_count": 30,
   "metadata": {},
   "outputs": [
    {
     "data": {
      "text/plain": [
       "0"
      ]
     },
     "execution_count": 30,
     "metadata": {},
     "output_type": "execute_result"
    }
   ],
   "source": [
    "''' \n",
    "You are given an array prices where prices[i] is the price of a given stock on the ith day.\n",
    "\n",
    "You want to maximize your profit by choosing a single day to buy one stock and choosing a different day in the future to sell that stock.\n",
    "\n",
    "Return the maximum profit you can achieve from this transaction. If you cannot achieve any profit, return 0.\n",
    "\n",
    " \n",
    "\n",
    "Example 1:\n",
    "\n",
    "Input: prices = [7,1,5,3,6,4]\n",
    "Output: 5\n",
    "Explanation: Buy on day 2 (price = 1) and sell on day 5 (price = 6), profit = 6-1 = 5.\n",
    "Note that buying on day 2 and selling on day 1 is not allowed because you must buy before you sell.\n",
    "Example 2:\n",
    "\n",
    "Input: prices = [7,6,4,3,1]\n",
    "Output: 0\n",
    "Explanation: In this case, no transactions are done and the max profit = 0.\n",
    "'''"
   ]
  },
  {
   "cell_type": "code",
   "execution_count": 77,
   "metadata": {},
   "outputs": [
    {
     "data": {
      "text/plain": [
       "2"
      ]
     },
     "execution_count": 77,
     "metadata": {},
     "output_type": "execute_result"
    }
   ],
   "source": [
    "#REVER\n",
    "def maxProfit(prices):\n",
    "    no_profit = 0\n",
    "    max_profit = 0\n",
    "    i = 0\n",
    "    j = 1\n",
    "\n",
    "    if len(prices) == 1:\n",
    "        return 0\n",
    "    if len(prices) == 2:\n",
    "        if prices[0] > prices[1]:\n",
    "            return 0\n",
    "        else:\n",
    "            return prices[1] - prices[0]\n",
    "    for i in range(len(prices) - 1):\n",
    "        if (prices[i] - prices[i + 1]) > 0:\n",
    "            no_profit += 1\n",
    "    if no_profit == (len(prices) - 1):\n",
    "        return 0\n",
    "\n",
    "    for j in range(len(prices) - 1):\n",
    "        if prices[j] > prices[i]:\n",
    "            profit = prices[j] - prices[i]\n",
    "            max_profit = max(profit, max_profit)\n",
    "        else:\n",
    "            i = j\n",
    "        j += 1\n",
    "\n",
    "    return max_profit\n",
    "        \n",
    "\n",
    "#prices = [7,6,4,3,1]\n",
    "#prices = [7,1,5,3,6,4]\n",
    "#prices = [1,2]\n",
    "#prices = [1,4,2]\n",
    "prices = [2,4,1]\n",
    "maxProfit(prices)"
   ]
  },
  {
   "cell_type": "markdown",
   "metadata": {},
   "source": [
    "<h3>.125 Valid Palindrome</h3>"
   ]
  },
  {
   "cell_type": "code",
   "execution_count": 92,
   "metadata": {},
   "outputs": [
    {
     "data": {
      "text/plain": [
       "False"
      ]
     },
     "execution_count": 92,
     "metadata": {},
     "output_type": "execute_result"
    }
   ],
   "source": [
    "''' \n",
    "A phrase is a palindrome if, after converting all uppercase letters into lowercase letters and removing all non-alphanumeric characters, it reads the same forward and backward. Alphanumeric characters include letters and numbers.\n",
    "\n",
    "Given a string s, return true if it is a palindrome, or false otherwise.\n",
    "\n",
    " \n",
    "\n",
    "Example 1:\n",
    "\n",
    "Input: s = \"A man, a plan, a canal: Panama\"\n",
    "Output: true\n",
    "Explanation: \"amanaplanacanalpanama\" is a palindrome.\n",
    "Example 2:\n",
    "\n",
    "Input: s = \"race a car\"\n",
    "Output: false\n",
    "Explanation: \"raceacar\" is not a palindrome.\n",
    "Example 3:\n",
    "\n",
    "Input: s = \" \"\n",
    "Output: true\n",
    "Explanation: s is an empty string \"\" after removing non-alphanumeric characters.\n",
    "Since an empty string reads the same forward and backward, it is a palindrome.\n",
    "'''\n",
    "\n",
    "def isPalindrome(s):\n",
    "    cleaned_string = ''.join(char.lower() for char in s if char.isalnum())\n",
    "    if len(cleaned_string) < 2:\n",
    "        return True\n",
    "    \n",
    "    i = 0\n",
    "    j = len(cleaned_string) - 1\n",
    "    palind = False\n",
    "    while i <= len(cleaned_string)//2 and j >= len(cleaned_string)//2:\n",
    "        if cleaned_string[i] != cleaned_string[j]:\n",
    "            return False\n",
    "        else:\n",
    "            palind = True\n",
    "            i += 1\n",
    "            j -= 1\n",
    "        \n",
    "    return palind\n",
    "\n",
    "s = \"race a car\"\n",
    "#raceacar\n",
    "isPalindrome(s)"
   ]
  },
  {
   "cell_type": "code",
   "execution_count": null,
   "metadata": {},
   "outputs": [],
   "source": []
  },
  {
   "cell_type": "code",
   "execution_count": null,
   "metadata": {},
   "outputs": [],
   "source": []
  },
  {
   "cell_type": "code",
   "execution_count": null,
   "metadata": {},
   "outputs": [],
   "source": []
  }
 ],
 "metadata": {
  "kernelspec": {
   "display_name": "allgpu_env",
   "language": "python",
   "name": "python3"
  },
  "language_info": {
   "codemirror_mode": {
    "name": "ipython",
    "version": 3
   },
   "file_extension": ".py",
   "mimetype": "text/x-python",
   "name": "python",
   "nbconvert_exporter": "python",
   "pygments_lexer": "ipython3",
   "version": "3.12.2"
  }
 },
 "nbformat": 4,
 "nbformat_minor": 2
}
