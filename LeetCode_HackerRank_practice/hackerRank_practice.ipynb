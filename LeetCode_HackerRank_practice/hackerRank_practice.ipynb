{
 "cells": [
  {
   "cell_type": "markdown",
   "metadata": {},
   "source": [
    "<h3>Problem 1</h3>"
   ]
  },
  {
   "cell_type": "code",
   "execution_count": null,
   "metadata": {},
   "outputs": [],
   "source": [
    "a = [1,2,3,4,5]\n",
    "d = 2\n",
    "while d > 0:\n",
    "    x = a.pop(0)\n",
    "    a.insert(len(a), x)\n",
    "    d -= 1\n",
    "\n",
    "print(f\"Final list: {a}\")\n",
    "\n",
    "#EXPECTED: \n",
    "# string = [1,2,3,4,5] => string =  [3,4,5,1,2] with 2 rotations (d = 2)\n",
    "# [1,2,3,4,5] => [2,3,4,5,1] => [3,4,5,1,2]"
   ]
  },
  {
   "cell_type": "code",
   "execution_count": null,
   "metadata": {},
   "outputs": [],
   "source": [
    "string = [1,2,3,4,5, 6, 6, 8]\n",
    "i = 0\n",
    "j = len(string)\n",
    "d = 2\n",
    "\n",
    "while d > 0:\n",
    "    temp = string[i]\n",
    "    string[i] = string[j - 1]\n",
    "    string[j - 1] = temp\n",
    "\n",
    "    i += 1\n",
    "    j -= 1\n",
    "    d -= 1\n",
    "\n",
    "print(string)\n",
    "#EXPECTED: \n",
    "# string = [1,2,3,4,5, 6, 6, 8] => string =  [8, 6, 3, 4, 5, 6, 2, 1] with 2 swaps\n",
    "# between the first and the last element (d = 2)\n"
   ]
  },
  {
   "cell_type": "markdown",
   "metadata": {},
   "source": [
    "<h3>Problem 2</h3>"
   ]
  },
  {
   "cell_type": "code",
   "execution_count": null,
   "metadata": {},
   "outputs": [],
   "source": [
    "''' \n",
    "It is New Year's Day and people are in line for the Wonderland rollercoaster ride. Each person wears a sticker indicating their initial position in the queue from  to . Any person can bribe the person directly in front of them to swap positions, but they still wear their original sticker. One person can bribe at most two others.\n",
    "\n",
    "Determine the minimum number of bribes that took place to get to a given queue order. Print the number of bribes, or, if anyone has bribed more than two people, print Too chaotic.\n",
    "\n",
    "Example:\n",
    "q = [1,2,3,5,4,6,7,8]\n",
    "\n",
    "\n",
    "If person  bribes person , the queue will look like this: . Only  bribe is required. Print 1.\n",
    "\n",
    "\n",
    "Person  had to bribe  people to get to the current position. Print Too chaotic.\n",
    "\n",
    "'''\n"
   ]
  },
  {
   "cell_type": "code",
   "execution_count": 86,
   "metadata": {},
   "outputs": [
    {
     "name": "stdout",
     "output_type": "stream",
     "text": [
      "7\n"
     ]
    }
   ],
   "source": [
    "#q = [2, 1, 5, 3, 4]\n",
    "\n",
    "#q = [1,2,3,5,4,6,7,8]\n",
    "#q = [5, 1, 2, 3, 7, 8, 6, 4]\n",
    "\n",
    "#   [1, 2, 3, 4, 5, 6, 7, 8]\n",
    "#q = [2, 5, 1, 3, 4]\n",
    "#q = [1, 2, 5, 3, 4, 7, 8, 6]\n",
    "################################################\n",
    "#q = [5, 1, 2, 3, 7, 8, 6, 4]\n",
    "\n",
    "#ind = [1, 2, 3, 4, 5, 6, 7, 8]\n",
    "q    = [1, 2, 5, 3, 7, 8, 6, 4] #1 + 2 + 2 + 2\n",
    "\n",
    "def minimumBribes(q):\n",
    "    bribes = 0\n",
    "\n",
    "    for i in range(len(q)):\n",
    "        if ((q[i] - (i + 1)) > 2):\n",
    "            print(\"Too chaotic\")\n",
    "            return\n",
    "\n",
    "        for j in range(max(0, q[i] - 2), i):\n",
    "            if q[j] > q[i]:\n",
    "                bribes += 1\n",
    "    print(bribes)\n",
    "\n",
    "minimumBribes(q)"
   ]
  },
  {
   "cell_type": "markdown",
   "metadata": {},
   "source": [
    "<h3>Problem 3</h3>"
   ]
  },
  {
   "cell_type": "code",
   "execution_count": null,
   "metadata": {},
   "outputs": [],
   "source": []
  },
  {
   "cell_type": "code",
   "execution_count": null,
   "metadata": {},
   "outputs": [],
   "source": []
  },
  {
   "cell_type": "code",
   "execution_count": null,
   "metadata": {},
   "outputs": [],
   "source": []
  },
  {
   "cell_type": "code",
   "execution_count": null,
   "metadata": {},
   "outputs": [],
   "source": []
  }
 ],
 "metadata": {
  "kernelspec": {
   "display_name": "allgpu_env",
   "language": "python",
   "name": "python3"
  },
  "language_info": {
   "codemirror_mode": {
    "name": "ipython",
    "version": 3
   },
   "file_extension": ".py",
   "mimetype": "text/x-python",
   "name": "python",
   "nbconvert_exporter": "python",
   "pygments_lexer": "ipython3",
   "version": "3.12.2"
  }
 },
 "nbformat": 4,
 "nbformat_minor": 2
}
