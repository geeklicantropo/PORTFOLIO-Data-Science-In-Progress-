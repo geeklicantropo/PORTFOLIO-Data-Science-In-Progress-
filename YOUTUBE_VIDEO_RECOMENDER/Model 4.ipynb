{
 "cells": [
  {
   "cell_type": "markdown",
   "id": "01a8353c",
   "metadata": {},
   "source": [
    "<h1>Creating a new model</h1>\n",
    "<p>In order to improve even more our baseline, we will create another model and try new things. This process doesn't change much from other models. And if we hit a step wich is different than before, i will just say it. Other than that, i will just follow along.</p>"
   ]
  },
  {
   "cell_type": "code",
   "execution_count": 1,
   "id": "2229e546",
   "metadata": {},
   "outputs": [
    {
     "name": "stdout",
     "output_type": "stream",
     "text": [
      "Populating the interactive namespace from numpy and matplotlib\n"
     ]
    }
   ],
   "source": [
    "import pandas as pd\n",
    "import numpy as np\n",
    "import re\n",
    "import time\n",
    "\n",
    "import bs4 as bs4\n",
    "import json\n",
    "\n",
    "import glob\n",
    "import tqdm\n",
    "\n",
    "pd.set_option(\"max.columns\", 131)\n",
    "\n",
    "#https://strftime.org/\n",
    "%matplotlib inline\n",
    "%pylab inline"
   ]
  },
  {
   "cell_type": "code",
   "execution_count": 2,
   "id": "e72a4769",
   "metadata": {},
   "outputs": [],
   "source": [
    "df = pd.read_csv(\"labels_curso - to_label_2.csv\", index_col=0).dropna(subset=[\"y\"])"
   ]
  },
  {
   "cell_type": "code",
   "execution_count": 5,
   "id": "971c1a14",
   "metadata": {},
   "outputs": [
    {
     "data": {
      "text/plain": [
       "(1164, 16)"
      ]
     },
     "execution_count": 5,
     "metadata": {},
     "output_type": "execute_result"
    }
   ],
   "source": [
    "df.shape"
   ]
  },
  {
   "cell_type": "code",
   "execution_count": 6,
   "id": "601f98d3",
   "metadata": {},
   "outputs": [],
   "source": [
    "df_limpo = pd.DataFrame(index=df.index)\n",
    "df_limpo['title'] = df['watch-title']"
   ]
  },
  {
   "cell_type": "markdown",
   "id": "4aec9b35",
   "metadata": {},
   "source": [
    "<h1>Data Cleaning</h1>"
   ]
  },
  {
   "cell_type": "code",
   "execution_count": 7,
   "id": "9555ad5a",
   "metadata": {},
   "outputs": [],
   "source": [
    "clean_date = df['watch-time-text'].str.extract(r\"(\\d+) de ([a-z]+)\\. de (\\d+)\")\n",
    "clean_date[0] = clean_date[0].map(lambda x: \"0\"+x[0] if len(x) == 1 else x)\n",
    "#clean_date[1] = clean_date[1].map(lambda x: x[0].upper()+x[1:])\n",
    "\n",
    "mapa_meses = {\"jan\": \"Jan\",\n",
    "              \"fev\": \"Feb\",\n",
    "              \"mar\": \"Mar\", \n",
    "              \"abr\": \"Apr\", \n",
    "              \"mai\": \"May\", \n",
    "              \"jun\": \"Jun\",\n",
    "              \"jul\": \"Jul\",\n",
    "              \"ago\": \"Aug\", \n",
    "              \"set\": \"Sep\", \n",
    "              \"out\": \"Oct\", \n",
    "              \"nov\": \"Nov\",\n",
    "              \"dez\": \"Dec\"}\n",
    "\n",
    "clean_date[1] = clean_date[1].map(mapa_meses)\n",
    "\n",
    "clean_date = clean_date.apply(lambda x: \" \".join(x), axis=1)\n",
    "clean_date.head()\n",
    "df_limpo['date'] = pd.to_datetime(clean_date, format=\"%d %b %Y\")"
   ]
  },
  {
   "cell_type": "markdown",
   "id": "53cfc5f2",
   "metadata": {},
   "source": [
    "<h1>Cleaning the views</h1>"
   ]
  },
  {
   "cell_type": "code",
   "execution_count": 8,
   "id": "dc0fa484",
   "metadata": {},
   "outputs": [
    {
     "name": "stderr",
     "output_type": "stream",
     "text": [
      "C:\\Users\\Public\\Documents\\Wondershare\\CreatorTemp/ipykernel_20156/2939520255.py:1: FutureWarning: The default value of regex will change from True to False in a future version. In addition, single character regular expressions will *not* be treated as literal strings when regex=True.\n",
      "  views = df['watch-view-count'].str.extract(r\"(\\d+\\.?\\d*)\", expand=False).str.replace(\".\", \"\").fillna(0).astype(int)\n"
     ]
    }
   ],
   "source": [
    "views = df['watch-view-count'].str.extract(r\"(\\d+\\.?\\d*)\", expand=False).str.replace(\".\", \"\").fillna(0).astype(int)\n",
    "df_limpo['views'] = views"
   ]
  },
  {
   "cell_type": "markdown",
   "id": "af05eeaf",
   "metadata": {},
   "source": [
    "<h1>Creating new features</h1>"
   ]
  },
  {
   "cell_type": "code",
   "execution_count": 9,
   "id": "1437989a",
   "metadata": {},
   "outputs": [],
   "source": [
    "features = pd.DataFrame(index=df_limpo.index)\n",
    "y = df['y'].copy()"
   ]
  },
  {
   "cell_type": "code",
   "execution_count": 10,
   "id": "acab58ac",
   "metadata": {},
   "outputs": [],
   "source": [
    "features['time_since_pub'] = (pd.to_datetime(\"2019-12-03\") - df_limpo['date']) / np.timedelta64(1, 'D')\n",
    "features['views'] = df_limpo['views']\n",
    "features['views_per_day'] = features['views'] / features['time_since_pub']\n",
    "features = features.drop(['time_since_pub'], axis=1)"
   ]
  },
  {
   "cell_type": "code",
   "execution_count": 11,
   "id": "5ca7335f",
   "metadata": {},
   "outputs": [
    {
     "data": {
      "text/html": [
       "<div>\n",
       "<style scoped>\n",
       "    .dataframe tbody tr th:only-of-type {\n",
       "        vertical-align: middle;\n",
       "    }\n",
       "\n",
       "    .dataframe tbody tr th {\n",
       "        vertical-align: top;\n",
       "    }\n",
       "\n",
       "    .dataframe thead th {\n",
       "        text-align: right;\n",
       "    }\n",
       "</style>\n",
       "<table border=\"1\" class=\"dataframe\">\n",
       "  <thead>\n",
       "    <tr style=\"text-align: right;\">\n",
       "      <th></th>\n",
       "      <th>views</th>\n",
       "      <th>views_per_day</th>\n",
       "    </tr>\n",
       "  </thead>\n",
       "  <tbody>\n",
       "    <tr>\n",
       "      <th>0</th>\n",
       "      <td>28028</td>\n",
       "      <td>61.464912</td>\n",
       "    </tr>\n",
       "    <tr>\n",
       "      <th>394</th>\n",
       "      <td>1161</td>\n",
       "      <td>21.109091</td>\n",
       "    </tr>\n",
       "    <tr>\n",
       "      <th>393</th>\n",
       "      <td>141646</td>\n",
       "      <td>809.405714</td>\n",
       "    </tr>\n",
       "    <tr>\n",
       "      <th>392</th>\n",
       "      <td>325</td>\n",
       "      <td>21.666667</td>\n",
       "    </tr>\n",
       "    <tr>\n",
       "      <th>391</th>\n",
       "      <td>61</td>\n",
       "      <td>7.625000</td>\n",
       "    </tr>\n",
       "  </tbody>\n",
       "</table>\n",
       "</div>"
      ],
      "text/plain": [
       "      views  views_per_day\n",
       "0     28028      61.464912\n",
       "394    1161      21.109091\n",
       "393  141646     809.405714\n",
       "392     325      21.666667\n",
       "391      61       7.625000"
      ]
     },
     "execution_count": 11,
     "metadata": {},
     "output_type": "execute_result"
    }
   ],
   "source": [
    "features.head()"
   ]
  },
  {
   "cell_type": "code",
   "execution_count": 13,
   "id": "ebd74c65",
   "metadata": {},
   "outputs": [
    {
     "data": {
      "text/plain": [
       "((555, 2), (609, 2), (555,), (609,))"
      ]
     },
     "execution_count": 13,
     "metadata": {},
     "output_type": "execute_result"
    }
   ],
   "source": [
    "mask_train = df_limpo['date'] < \"2019-04-01\"\n",
    "mask_val = (df_limpo['date'] >= \"2019-04-01\")\n",
    "\n",
    "Xtrain, Xval = features[mask_train], features[mask_val]\n",
    "ytrain, yval = y[mask_train], y[mask_val]\n",
    "Xtrain.shape, Xval.shape, ytrain.shape, yval.shape"
   ]
  },
  {
   "cell_type": "markdown",
   "id": "950391b5",
   "metadata": {},
   "source": [
    "<h5>Trying a new parameter for our vetorizer</h5>\n",
    "<p>Now we are trying a new parameter for the vectorizer. The \"ngram_range\". This receives 2 values: the min and maximum words that are gonna be considered as different sets (titles in this case). Meaning that if we have something like ngram_range(1,2), then we will consider every separated word as 1 title and every 2 words together as 1 title. If we use ngram_range(2,2), that means we are only considering use a pair of words as our title.</p> \n",
    "    \n",
    "<p>Some examples can be seen right down below.</p>"
   ]
  },
  {
   "cell_type": "code",
   "execution_count": null,
   "id": "7c7b82fe",
   "metadata": {},
   "outputs": [],
   "source": [
    "'''\n",
    "intro to machine learning -> intro, to, machine, learning  -> ngram_range=(1,1)  \n",
    "intro to machine learning -> intro, to, machine, learning, intro to, to machine, machine learning -> ngram_range=(1,2)  \n",
    "intro to machine learning -> intro to, to machine, machine learning -> ngram_range=(2,2)  \n",
    "\n",
    "'''"
   ]
  },
  {
   "cell_type": "code",
   "execution_count": 14,
   "id": "9e5d473e",
   "metadata": {},
   "outputs": [],
   "source": [
    "from sklearn.feature_extraction.text import TfidfVectorizer\n",
    "\n",
    "title_train = df_limpo[mask_train]['title']\n",
    "title_val = df_limpo[mask_val]['title']\n",
    "\n",
    "title_vec = TfidfVectorizer(min_df=2, ngram_range=(1,4))\n",
    "title_bow_train = title_vec.fit_transform(title_train)\n",
    "title_bow_val = title_vec.transform(title_val)"
   ]
  },
  {
   "cell_type": "code",
   "execution_count": 15,
   "id": "a6b9b4b8",
   "metadata": {},
   "outputs": [
    {
     "data": {
      "text/plain": [
       "(555, 1333)"
      ]
     },
     "execution_count": 15,
     "metadata": {},
     "output_type": "execute_result"
    }
   ],
   "source": [
    "title_bow_train.shape"
   ]
  },
  {
   "cell_type": "markdown",
   "id": "416e4563",
   "metadata": {},
   "source": [
    "<h1>Mounting the dataframes together</h1>"
   ]
  },
  {
   "cell_type": "code",
   "execution_count": 16,
   "id": "c0556b64",
   "metadata": {},
   "outputs": [],
   "source": [
    "from scipy.sparse import hstack, vstack\n",
    "\n",
    "Xtrain_wtitle = hstack([Xtrain, title_bow_train])\n",
    "Xval_wtitle = hstack([Xval, title_bow_val])"
   ]
  },
  {
   "cell_type": "code",
   "execution_count": 17,
   "id": "c80dc6dc",
   "metadata": {},
   "outputs": [
    {
     "data": {
      "text/plain": [
       "((555, 1335), (609, 1335))"
      ]
     },
     "execution_count": 17,
     "metadata": {},
     "output_type": "execute_result"
    }
   ],
   "source": [
    "Xtrain_wtitle.shape, Xval_wtitle.shape"
   ]
  },
  {
   "cell_type": "markdown",
   "id": "bc53c9a9",
   "metadata": {},
   "source": [
    "<h1>Random Forest</h1>"
   ]
  },
  {
   "cell_type": "code",
   "execution_count": 18,
   "id": "2583ac5d",
   "metadata": {},
   "outputs": [],
   "source": [
    "from sklearn.linear_model import LogisticRegression\n",
    "from sklearn.ensemble import RandomForestClassifier"
   ]
  },
  {
   "cell_type": "code",
   "execution_count": 19,
   "id": "31f775f1",
   "metadata": {},
   "outputs": [
    {
     "data": {
      "text/plain": [
       "RandomForestClassifier(class_weight='balanced', n_estimators=1000, n_jobs=6,\n",
       "                       random_state=0)"
      ]
     },
     "execution_count": 19,
     "metadata": {},
     "output_type": "execute_result"
    }
   ],
   "source": [
    "mdl = RandomForestClassifier(n_estimators=1000, random_state=0, min_samples_leaf=1, class_weight=\"balanced\", n_jobs=6)\n",
    "mdl.fit(Xtrain_wtitle, ytrain)"
   ]
  },
  {
   "cell_type": "markdown",
   "id": "f21f199f",
   "metadata": {},
   "source": [
    "<h5>Showing some results</h5>"
   ]
  },
  {
   "cell_type": "code",
   "execution_count": 20,
   "id": "e944293a",
   "metadata": {},
   "outputs": [],
   "source": [
    "p = mdl.predict_proba(Xval_wtitle)[:, 1]"
   ]
  },
  {
   "cell_type": "code",
   "execution_count": 21,
   "id": "9c7cfd8d",
   "metadata": {},
   "outputs": [],
   "source": [
    "from sklearn.metrics import roc_auc_score, average_precision_score"
   ]
  },
  {
   "cell_type": "code",
   "execution_count": 22,
   "id": "f491cf7c",
   "metadata": {},
   "outputs": [
    {
     "data": {
      "text/plain": [
       "0.21042440914051194"
      ]
     },
     "execution_count": 22,
     "metadata": {},
     "output_type": "execute_result"
    }
   ],
   "source": [
    "average_precision_score(yval, p)"
   ]
  },
  {
   "cell_type": "code",
   "execution_count": 23,
   "id": "5b2e5427",
   "metadata": {},
   "outputs": [
    {
     "data": {
      "text/plain": [
       "0.6897446482278705"
      ]
     },
     "execution_count": 23,
     "metadata": {},
     "output_type": "execute_result"
    }
   ],
   "source": [
    "roc_auc_score(yval, p)"
   ]
  },
  {
   "cell_type": "markdown",
   "id": "a702f78c",
   "metadata": {},
   "source": [
    "<h5>Tunning some parameters</h5>\n",
    "<p>Some tunning was made, manually. Those can be seen down below. \n",
    "    But there are way better ways to do that.</p>"
   ]
  },
  {
   "cell_type": "code",
   "execution_count": null,
   "id": "a90f642a",
   "metadata": {},
   "outputs": [],
   "source": [
    "'''\n",
    "ap 0.1887361518270232, auc 0.6766232234475438\n",
    "ap 0.1773056089416357, auc 0.66359025771068 - min_samples_leaf=2\n",
    "\n",
    "ap 0.17595568029276232, auc 0.6454708969747007 - min_df=1  \n",
    "ap 0.17508239417116303, auc 0.650247685321696 - min_df=3  \n",
    "ap 0.21140611241061869, auc 0.6785398360559061 - min_df=2, ngram_range=(1,2)  \n",
    "ap 0.22228951304206077, auc 0.6914990859232175 - min_df=2, ngram_range=(1,3)  \n",
    "ap 0.20564709615419985, auc 0.6848794008374124 - min_df=2, ngram_range=(1,4)  \n",
    "\n",
    "\n",
    "ap 0.1834073532858915, auc 0.6716990033614437 - n_estimators=100\n",
    "ap 0.1762251704396226, auc 0.6700772542312909 - n_estimators=100, min_samples_leaf=2  \n",
    "\n",
    "\n",
    "RF ap 0.22228951304206077, auc 0.6914990859232175 - min_df=2, ngram_range=(1,3)  \n",
    "'''"
   ]
  },
  {
   "cell_type": "markdown",
   "id": "be125f9e",
   "metadata": {},
   "source": [
    "<h1>LightGBM</h1>\n",
    "<p>A new algorithm will be tested. The LightGBM is used to have a good performance overall. Let's check that up.</p>"
   ]
  },
  {
   "cell_type": "code",
   "execution_count": null,
   "id": "1ad96cd5",
   "metadata": {},
   "outputs": [],
   "source": []
  },
  {
   "cell_type": "code",
   "execution_count": null,
   "id": "b810a67e",
   "metadata": {},
   "outputs": [],
   "source": []
  }
 ],
 "metadata": {
  "kernelspec": {
   "display_name": "Python 3 (ipykernel)",
   "language": "python",
   "name": "python3"
  },
  "language_info": {
   "codemirror_mode": {
    "name": "ipython",
    "version": 3
   },
   "file_extension": ".py",
   "mimetype": "text/x-python",
   "name": "python",
   "nbconvert_exporter": "python",
   "pygments_lexer": "ipython3",
   "version": "3.9.6"
  }
 },
 "nbformat": 4,
 "nbformat_minor": 5
}
