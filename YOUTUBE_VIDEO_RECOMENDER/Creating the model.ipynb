{
 "cells": [
  {
   "cell_type": "code",
   "execution_count": null,
   "id": "e60ab1bd",
   "metadata": {},
   "outputs": [],
   "source": []
  },
  {
   "cell_type": "code",
   "execution_count": 1,
   "id": "d830cbe2",
   "metadata": {},
   "outputs": [
    {
     "name": "stdout",
     "output_type": "stream",
     "text": [
      "Populating the interactive namespace from numpy and matplotlib\n"
     ]
    }
   ],
   "source": [
    "import pandas as pd\n",
    "import numpy as np\n",
    "import re\n",
    "import time\n",
    "\n",
    "import bs4 as bs4\n",
    "import json\n",
    "\n",
    "import glob\n",
    "import tqdm\n",
    "\n",
    "pd.set_option(\"max.columns\", 131)\n",
    "\n",
    "#https://strftime.org/\n",
    "%matplotlib inline\n",
    "%pylab inline"
   ]
  },
  {
   "cell_type": "markdown",
   "id": "1757e8c2",
   "metadata": {},
   "source": [
    "<h5>The new \"y\" column created is our target variable. y = 1 means i enjoyed the video and y = 0 is the exact opposite.</h5>\n",
    "<p>How did we create the \"y\" variable, you might ask. I just choose the videos i would enjoy manually and i marked the options accordingly.</p>\n",
    "<p>Again, this database was not collected by my crawling code. That's because i need to improve my crawling methods after Youtube broke my previous code, again. So i will just stick with the database provided by the course i'm studying.</p>"
   ]
  },
  {
   "cell_type": "code",
   "execution_count": 2,
   "id": "92709bc2",
   "metadata": {},
   "outputs": [
    {
     "data": {
      "text/plain": [
       "(498, 16)"
      ]
     },
     "execution_count": 2,
     "metadata": {},
     "output_type": "execute_result"
    }
   ],
   "source": [
    "df = pd.read_csv(\"raw_data_with_labels.csv\", index_col=0)\n",
    "df = df[df['y'].notnull()]\n",
    "df.shape"
   ]
  },
  {
   "cell_type": "code",
   "execution_count": 3,
   "id": "f49174ee",
   "metadata": {},
   "outputs": [
    {
     "data": {
      "text/html": [
       "<div>\n",
       "<style scoped>\n",
       "    .dataframe tbody tr th:only-of-type {\n",
       "        vertical-align: middle;\n",
       "    }\n",
       "\n",
       "    .dataframe tbody tr th {\n",
       "        vertical-align: top;\n",
       "    }\n",
       "\n",
       "    .dataframe thead th {\n",
       "        text-align: right;\n",
       "    }\n",
       "</style>\n",
       "<table border=\"1\" class=\"dataframe\">\n",
       "  <thead>\n",
       "    <tr style=\"text-align: right;\">\n",
       "      <th></th>\n",
       "      <th>watch-title</th>\n",
       "      <th>y</th>\n",
       "      <th>watch-view-count</th>\n",
       "      <th>watch-time-text</th>\n",
       "      <th>content_watch-info-tag-list</th>\n",
       "      <th>watch7-headline</th>\n",
       "      <th>watch7-user-header</th>\n",
       "      <th>watch8-sentiment-actions</th>\n",
       "      <th>og:image</th>\n",
       "      <th>og:image:width</th>\n",
       "      <th>og:image:height</th>\n",
       "      <th>og:description</th>\n",
       "      <th>og:video:width</th>\n",
       "      <th>og:video:height</th>\n",
       "      <th>og:video:tag</th>\n",
       "      <th>channel_link_0</th>\n",
       "    </tr>\n",
       "  </thead>\n",
       "  <tbody>\n",
       "    <tr>\n",
       "      <th>0</th>\n",
       "      <td>How to Become A Machine Learning Engineer | Ho...</td>\n",
       "      <td>0.0</td>\n",
       "      <td>28.028 visualizações</td>\n",
       "      <td>Publicado em 3 de set. de 2018</td>\n",
       "      <td>Educação</td>\n",
       "      <td>#MachineLearningAlgorithms #Datasciencecourse ...</td>\n",
       "      <td>Simplilearn\\n\\n\\n\\n\\n\\n\\n\\n\\n\\n\\n\\n\\n\\n\\nCarre...</td>\n",
       "      <td>28.028 visualizações\\n\\n\\n\\n\\n\\n\\n\\n601\\n\\nGos...</td>\n",
       "      <td>https://i.ytimg.com/vi/-5hEYRt8JE0/maxresdefau...</td>\n",
       "      <td>1280.0</td>\n",
       "      <td>720.0</td>\n",
       "      <td>This video on \"How to become a Machine Learnin...</td>\n",
       "      <td>1280.0</td>\n",
       "      <td>720.0</td>\n",
       "      <td>simplilearn</td>\n",
       "      <td>/channel/UCsvqVGtbbyHaMoevxPAq9Fg</td>\n",
       "    </tr>\n",
       "    <tr>\n",
       "      <th>1</th>\n",
       "      <td>BLOOPERS - Behind The Scenes. | DATA SCIENCE x...</td>\n",
       "      <td>0.0</td>\n",
       "      <td>1.131 visualizações</td>\n",
       "      <td>Publicado em 16 de nov. de 2018</td>\n",
       "      <td>Pessoas e blogs</td>\n",
       "      <td>#FAIL #insidezalando\\n\\n\\n\\n    BLOOPERS - Beh...</td>\n",
       "      <td>Inside Zalando\\n\\n\\n\\n\\n\\n\\n\\n\\n\\n\\n\\n\\n\\nCarr...</td>\n",
       "      <td>1.131 visualizações\\n\\n\\n\\n\\n\\n\\n\\n20\\n\\nGosto...</td>\n",
       "      <td>https://i.ytimg.com/vi/-7GiiT0yEyk/maxresdefau...</td>\n",
       "      <td>1280.0</td>\n",
       "      <td>720.0</td>\n",
       "      <td>#FAIL :) Have fun - and join our teams: https:...</td>\n",
       "      <td>1280.0</td>\n",
       "      <td>720.0</td>\n",
       "      <td>employer branding</td>\n",
       "      <td>/channel/UCTPin8TK-KRSI9zo9FoxG0g</td>\n",
       "    </tr>\n",
       "    <tr>\n",
       "      <th>2</th>\n",
       "      <td>Michael I. Jordan: Machine Learning: Dynamical...</td>\n",
       "      <td>1.0</td>\n",
       "      <td>1.816 visualizações</td>\n",
       "      <td>Publicado em 2 de mai. de 2019</td>\n",
       "      <td>Licença de atribuição Creative Commons (reutil...</td>\n",
       "      <td>#purdue #michaelijordan #engineering\\n\\n\\n\\n  ...</td>\n",
       "      <td>Purdue Engineering\\n\\n\\n\\n\\n\\n\\n\\n\\n\\n\\n\\n\\n\\n...</td>\n",
       "      <td>1.816 visualizações\\n\\n\\n\\n\\n\\n\\n\\n42\\n\\nGosto...</td>\n",
       "      <td>https://i.ytimg.com/vi/-8yYFdV5SOc/maxresdefau...</td>\n",
       "      <td>1280.0</td>\n",
       "      <td>720.0</td>\n",
       "      <td>2019 Purdue Engineering Distinguished Lecture ...</td>\n",
       "      <td>1280.0</td>\n",
       "      <td>720.0</td>\n",
       "      <td>electrical engineer</td>\n",
       "      <td>/channel/UC8FZ6dzFVkCACLH9YoMNFog</td>\n",
       "    </tr>\n",
       "    <tr>\n",
       "      <th>3</th>\n",
       "      <td>Best Deep Learning Tools - Welcome.AI</td>\n",
       "      <td>0.0</td>\n",
       "      <td>1.171 visualizações</td>\n",
       "      <td>Publicado em 13 de ago. de 2019</td>\n",
       "      <td>Ciência e tecnologia</td>\n",
       "      <td>Best Deep Learning Tools - Welcome.AI</td>\n",
       "      <td>Welcome.AI\\n\\n\\n\\n\\n\\n\\n\\n\\n\\n\\n\\n\\n\\nCarregan...</td>\n",
       "      <td>1.171 visualizações\\n\\n\\n\\n\\n\\n\\n\\n14\\n\\nGosto...</td>\n",
       "      <td>https://i.ytimg.com/vi/-9LLrwW1Vdo/maxresdefau...</td>\n",
       "      <td>1280.0</td>\n",
       "      <td>720.0</td>\n",
       "      <td>A collection of the 5 best deep learning tools...</td>\n",
       "      <td>1280.0</td>\n",
       "      <td>720.0</td>\n",
       "      <td>Watson</td>\n",
       "      <td>/channel/UC_215Y7rOAsqnFkO_hnpdIg</td>\n",
       "    </tr>\n",
       "    <tr>\n",
       "      <th>4</th>\n",
       "      <td>Kaggle Live-Coding: RNNs for Sarcasm Detection...</td>\n",
       "      <td>1.0</td>\n",
       "      <td>1.228 visualizações</td>\n",
       "      <td>Transmitido ao vivo em 30 de nov. de 2018</td>\n",
       "      <td>Ciência e tecnologia</td>\n",
       "      <td>Kaggle Live-Coding: RNNs for Sarcasm Detection...</td>\n",
       "      <td>Kaggle\\n\\n\\n\\n\\n\\n\\n\\n\\n\\n\\n\\n\\n\\nCarregando.....</td>\n",
       "      <td>1.228 visualizações\\n\\n\\n\\n\\n\\n\\n\\n28\\n\\nGosto...</td>\n",
       "      <td>https://i.ytimg.com/vi/-9U84J178OQ/maxresdefau...</td>\n",
       "      <td>1280.0</td>\n",
       "      <td>720.0</td>\n",
       "      <td>Join Kaggle data scientist Rachael live as she...</td>\n",
       "      <td>1280.0</td>\n",
       "      <td>720.0</td>\n",
       "      <td>CS</td>\n",
       "      <td>/channel/UCSNeZleDn9c74yQc-EKnVTA</td>\n",
       "    </tr>\n",
       "  </tbody>\n",
       "</table>\n",
       "</div>"
      ],
      "text/plain": [
       "                                         watch-title    y  \\\n",
       "0  How to Become A Machine Learning Engineer | Ho...  0.0   \n",
       "1  BLOOPERS - Behind The Scenes. | DATA SCIENCE x...  0.0   \n",
       "2  Michael I. Jordan: Machine Learning: Dynamical...  1.0   \n",
       "3              Best Deep Learning Tools - Welcome.AI  0.0   \n",
       "4  Kaggle Live-Coding: RNNs for Sarcasm Detection...  1.0   \n",
       "\n",
       "       watch-view-count                            watch-time-text  \\\n",
       "0  28.028 visualizações             Publicado em 3 de set. de 2018   \n",
       "1   1.131 visualizações            Publicado em 16 de nov. de 2018   \n",
       "2   1.816 visualizações             Publicado em 2 de mai. de 2019   \n",
       "3   1.171 visualizações            Publicado em 13 de ago. de 2019   \n",
       "4   1.228 visualizações  Transmitido ao vivo em 30 de nov. de 2018   \n",
       "\n",
       "                         content_watch-info-tag-list  \\\n",
       "0                                           Educação   \n",
       "1                                    Pessoas e blogs   \n",
       "2  Licença de atribuição Creative Commons (reutil...   \n",
       "3                               Ciência e tecnologia   \n",
       "4                               Ciência e tecnologia   \n",
       "\n",
       "                                     watch7-headline  \\\n",
       "0  #MachineLearningAlgorithms #Datasciencecourse ...   \n",
       "1  #FAIL #insidezalando\\n\\n\\n\\n    BLOOPERS - Beh...   \n",
       "2  #purdue #michaelijordan #engineering\\n\\n\\n\\n  ...   \n",
       "3              Best Deep Learning Tools - Welcome.AI   \n",
       "4  Kaggle Live-Coding: RNNs for Sarcasm Detection...   \n",
       "\n",
       "                                  watch7-user-header  \\\n",
       "0  Simplilearn\\n\\n\\n\\n\\n\\n\\n\\n\\n\\n\\n\\n\\n\\n\\nCarre...   \n",
       "1  Inside Zalando\\n\\n\\n\\n\\n\\n\\n\\n\\n\\n\\n\\n\\n\\nCarr...   \n",
       "2  Purdue Engineering\\n\\n\\n\\n\\n\\n\\n\\n\\n\\n\\n\\n\\n\\n...   \n",
       "3  Welcome.AI\\n\\n\\n\\n\\n\\n\\n\\n\\n\\n\\n\\n\\n\\nCarregan...   \n",
       "4  Kaggle\\n\\n\\n\\n\\n\\n\\n\\n\\n\\n\\n\\n\\n\\nCarregando.....   \n",
       "\n",
       "                            watch8-sentiment-actions  \\\n",
       "0  28.028 visualizações\\n\\n\\n\\n\\n\\n\\n\\n601\\n\\nGos...   \n",
       "1  1.131 visualizações\\n\\n\\n\\n\\n\\n\\n\\n20\\n\\nGosto...   \n",
       "2  1.816 visualizações\\n\\n\\n\\n\\n\\n\\n\\n42\\n\\nGosto...   \n",
       "3  1.171 visualizações\\n\\n\\n\\n\\n\\n\\n\\n14\\n\\nGosto...   \n",
       "4  1.228 visualizações\\n\\n\\n\\n\\n\\n\\n\\n28\\n\\nGosto...   \n",
       "\n",
       "                                            og:image  og:image:width  \\\n",
       "0  https://i.ytimg.com/vi/-5hEYRt8JE0/maxresdefau...          1280.0   \n",
       "1  https://i.ytimg.com/vi/-7GiiT0yEyk/maxresdefau...          1280.0   \n",
       "2  https://i.ytimg.com/vi/-8yYFdV5SOc/maxresdefau...          1280.0   \n",
       "3  https://i.ytimg.com/vi/-9LLrwW1Vdo/maxresdefau...          1280.0   \n",
       "4  https://i.ytimg.com/vi/-9U84J178OQ/maxresdefau...          1280.0   \n",
       "\n",
       "   og:image:height                                     og:description  \\\n",
       "0            720.0  This video on \"How to become a Machine Learnin...   \n",
       "1            720.0  #FAIL :) Have fun - and join our teams: https:...   \n",
       "2            720.0  2019 Purdue Engineering Distinguished Lecture ...   \n",
       "3            720.0  A collection of the 5 best deep learning tools...   \n",
       "4            720.0  Join Kaggle data scientist Rachael live as she...   \n",
       "\n",
       "   og:video:width  og:video:height         og:video:tag  \\\n",
       "0          1280.0            720.0          simplilearn   \n",
       "1          1280.0            720.0    employer branding   \n",
       "2          1280.0            720.0  electrical engineer   \n",
       "3          1280.0            720.0               Watson   \n",
       "4          1280.0            720.0                   CS   \n",
       "\n",
       "                      channel_link_0  \n",
       "0  /channel/UCsvqVGtbbyHaMoevxPAq9Fg  \n",
       "1  /channel/UCTPin8TK-KRSI9zo9FoxG0g  \n",
       "2  /channel/UC8FZ6dzFVkCACLH9YoMNFog  \n",
       "3  /channel/UC_215Y7rOAsqnFkO_hnpdIg  \n",
       "4  /channel/UCSNeZleDn9c74yQc-EKnVTA  "
      ]
     },
     "execution_count": 3,
     "metadata": {},
     "output_type": "execute_result"
    }
   ],
   "source": [
    "df.head()"
   ]
  },
  {
   "cell_type": "code",
   "execution_count": 4,
   "id": "18947ab3",
   "metadata": {},
   "outputs": [
    {
     "data": {
      "text/html": [
       "<div>\n",
       "<style scoped>\n",
       "    .dataframe tbody tr th:only-of-type {\n",
       "        vertical-align: middle;\n",
       "    }\n",
       "\n",
       "    .dataframe tbody tr th {\n",
       "        vertical-align: top;\n",
       "    }\n",
       "\n",
       "    .dataframe thead th {\n",
       "        text-align: right;\n",
       "    }\n",
       "</style>\n",
       "<table border=\"1\" class=\"dataframe\">\n",
       "  <thead>\n",
       "    <tr style=\"text-align: right;\">\n",
       "      <th></th>\n",
       "      <th>watch-title</th>\n",
       "      <th>y</th>\n",
       "      <th>watch-view-count</th>\n",
       "      <th>watch-time-text</th>\n",
       "      <th>content_watch-info-tag-list</th>\n",
       "      <th>watch7-headline</th>\n",
       "      <th>watch7-user-header</th>\n",
       "      <th>watch8-sentiment-actions</th>\n",
       "      <th>og:image</th>\n",
       "      <th>og:image:width</th>\n",
       "      <th>og:image:height</th>\n",
       "      <th>og:description</th>\n",
       "      <th>og:video:width</th>\n",
       "      <th>og:video:height</th>\n",
       "      <th>og:video:tag</th>\n",
       "      <th>channel_link_0</th>\n",
       "    </tr>\n",
       "  </thead>\n",
       "  <tbody>\n",
       "    <tr>\n",
       "      <th>496</th>\n",
       "      <td>Machine Learning With Python | Machine Learnin...</td>\n",
       "      <td>0.0</td>\n",
       "      <td>170.932 visualizações</td>\n",
       "      <td>Publicado em 1 de mar. de 2018</td>\n",
       "      <td>Educação</td>\n",
       "      <td>Machine Learning With Python | Machine Learnin...</td>\n",
       "      <td>Simplilearn\\n\\n\\n\\n\\n\\n\\n\\n\\n\\n\\n\\n\\n\\n\\nCarre...</td>\n",
       "      <td>170.932 visualizações\\n\\n\\n\\n\\n\\n\\n\\n2.393\\n\\n...</td>\n",
       "      <td>https://i.ytimg.com/vi/Q59X518JZHE/maxresdefau...</td>\n",
       "      <td>1280.0</td>\n",
       "      <td>720.0</td>\n",
       "      <td>This Machine Learning with Python tutorial giv...</td>\n",
       "      <td>1280.0</td>\n",
       "      <td>720.0</td>\n",
       "      <td>simplilearn machine learning</td>\n",
       "      <td>/channel/UCsvqVGtbbyHaMoevxPAq9Fg</td>\n",
       "    </tr>\n",
       "    <tr>\n",
       "      <th>497</th>\n",
       "      <td>MACHINE LEARNING and AUGMENTED REALITY</td>\n",
       "      <td>0.0</td>\n",
       "      <td>69.644 visualizações</td>\n",
       "      <td>Publicado em 31 de mai. de 2018</td>\n",
       "      <td>Ciência e tecnologia</td>\n",
       "      <td>MACHINE LEARNING and AUGMENTED REALITY</td>\n",
       "      <td>MatthewHallberg\\n\\n\\n\\n\\n\\n\\n\\n\\n\\n\\n\\n\\n\\nCar...</td>\n",
       "      <td>69.644 visualizações\\n\\n\\n\\n\\n\\n\\n\\n1.569\\n\\nG...</td>\n",
       "      <td>https://i.ytimg.com/vi/Q6ERFwQNkzo/maxresdefau...</td>\n",
       "      <td>1280.0</td>\n",
       "      <td>720.0</td>\n",
       "      <td>This tutorial is going to go through getting T...</td>\n",
       "      <td>1280.0</td>\n",
       "      <td>720.0</td>\n",
       "      <td>image classification tensorflow tutorial</td>\n",
       "      <td>/channel/UClm2DY6pj3ygKoKhEVr7KFw</td>\n",
       "    </tr>\n",
       "    <tr>\n",
       "      <th>498</th>\n",
       "      <td>Kaggle 대회 시작하기 #1</td>\n",
       "      <td>0.0</td>\n",
       "      <td>470 visualizações</td>\n",
       "      <td>Publicado em 10 de nov. de 2019</td>\n",
       "      <td>Pessoas e blogs</td>\n",
       "      <td>Palos Verdes\\n\\n\\n\\n    Kaggle 대회 시작하기 #1</td>\n",
       "      <td>LA오빠\\n\\n\\n\\n\\n\\n\\n\\n\\n\\n\\n\\n\\n\\nCarregando...\\...</td>\n",
       "      <td>470 visualizações\\n\\n\\n\\n\\n\\n\\n\\n39\\n\\nGostou ...</td>\n",
       "      <td>https://i.ytimg.com/vi/Q71MI-MkGhg/maxresdefau...</td>\n",
       "      <td>1280.0</td>\n",
       "      <td>720.0</td>\n",
       "      <td>LA오남매아빠 #LA오빠 - #즐거운DataScience 오늘은 현재 진행 중인 A...</td>\n",
       "      <td>1280.0</td>\n",
       "      <td>720.0</td>\n",
       "      <td>Ashrae Energy Prediction</td>\n",
       "      <td>/channel/UCjhlZKSIRVvQxlUprmv0bdg</td>\n",
       "    </tr>\n",
       "    <tr>\n",
       "      <th>499</th>\n",
       "      <td>The Netacea Approach | Smarter Bot Management ...</td>\n",
       "      <td>1.0</td>\n",
       "      <td>99.855 visualizações</td>\n",
       "      <td>Publicado em 25 de abr. de 2019</td>\n",
       "      <td>Ciência e tecnologia</td>\n",
       "      <td>The Netacea Approach | Smarter Bot Management ...</td>\n",
       "      <td>Netacea\\n\\n\\n\\n\\n\\n\\n\\n\\n\\n\\n\\n\\n\\nCarregando....</td>\n",
       "      <td>99.855 visualizações\\n\\n\\n\\n\\n\\n\\n\\n14\\n\\nGost...</td>\n",
       "      <td>https://i.ytimg.com/vi/QDh1vq9tVsY/hqdefault.jpg</td>\n",
       "      <td>480.0</td>\n",
       "      <td>360.0</td>\n",
       "      <td>The majority of internet traffic is now made u...</td>\n",
       "      <td>1280.0</td>\n",
       "      <td>720.0</td>\n",
       "      <td>Cyber threats</td>\n",
       "      <td>/channel/UCMLXUedkowSUnn5rSXKUzCQ</td>\n",
       "    </tr>\n",
       "    <tr>\n",
       "      <th>500</th>\n",
       "      <td>Stanford CS224N: NLP with Deep Learning | Wint...</td>\n",
       "      <td>0.0</td>\n",
       "      <td>17.363 visualizações</td>\n",
       "      <td>Publicado em 21 de mar. de 2019</td>\n",
       "      <td>Educação</td>\n",
       "      <td>Stanford CS224N: NLP with Deep Learning | Wint...</td>\n",
       "      <td>stanfordonline\\n\\n\\n\\n\\n\\n\\n\\n\\n\\n\\n\\n\\n\\nCarr...</td>\n",
       "      <td>17.363 visualizações\\n\\n\\n\\n\\n\\n\\n\\n191\\n\\nGos...</td>\n",
       "      <td>https://i.ytimg.com/vi/QEw0qEa0E50/maxresdefau...</td>\n",
       "      <td>1280.0</td>\n",
       "      <td>720.0</td>\n",
       "      <td>Professor Christopher Manning &amp; PhD Candidate ...</td>\n",
       "      <td>1280.0</td>\n",
       "      <td>720.0</td>\n",
       "      <td>NaN</td>\n",
       "      <td>/channel/UCBa5G_ESCn8Yd4vw5U-gIcg</td>\n",
       "    </tr>\n",
       "  </tbody>\n",
       "</table>\n",
       "</div>"
      ],
      "text/plain": [
       "                                           watch-title    y  \\\n",
       "496  Machine Learning With Python | Machine Learnin...  0.0   \n",
       "497             MACHINE LEARNING and AUGMENTED REALITY  0.0   \n",
       "498                                  Kaggle 대회 시작하기 #1  0.0   \n",
       "499  The Netacea Approach | Smarter Bot Management ...  1.0   \n",
       "500  Stanford CS224N: NLP with Deep Learning | Wint...  0.0   \n",
       "\n",
       "          watch-view-count                  watch-time-text  \\\n",
       "496  170.932 visualizações   Publicado em 1 de mar. de 2018   \n",
       "497   69.644 visualizações  Publicado em 31 de mai. de 2018   \n",
       "498      470 visualizações  Publicado em 10 de nov. de 2019   \n",
       "499   99.855 visualizações  Publicado em 25 de abr. de 2019   \n",
       "500   17.363 visualizações  Publicado em 21 de mar. de 2019   \n",
       "\n",
       "    content_watch-info-tag-list  \\\n",
       "496                    Educação   \n",
       "497        Ciência e tecnologia   \n",
       "498             Pessoas e blogs   \n",
       "499        Ciência e tecnologia   \n",
       "500                    Educação   \n",
       "\n",
       "                                       watch7-headline  \\\n",
       "496  Machine Learning With Python | Machine Learnin...   \n",
       "497             MACHINE LEARNING and AUGMENTED REALITY   \n",
       "498          Palos Verdes\\n\\n\\n\\n    Kaggle 대회 시작하기 #1   \n",
       "499  The Netacea Approach | Smarter Bot Management ...   \n",
       "500  Stanford CS224N: NLP with Deep Learning | Wint...   \n",
       "\n",
       "                                    watch7-user-header  \\\n",
       "496  Simplilearn\\n\\n\\n\\n\\n\\n\\n\\n\\n\\n\\n\\n\\n\\n\\nCarre...   \n",
       "497  MatthewHallberg\\n\\n\\n\\n\\n\\n\\n\\n\\n\\n\\n\\n\\n\\nCar...   \n",
       "498  LA오빠\\n\\n\\n\\n\\n\\n\\n\\n\\n\\n\\n\\n\\n\\nCarregando...\\...   \n",
       "499  Netacea\\n\\n\\n\\n\\n\\n\\n\\n\\n\\n\\n\\n\\n\\nCarregando....   \n",
       "500  stanfordonline\\n\\n\\n\\n\\n\\n\\n\\n\\n\\n\\n\\n\\n\\nCarr...   \n",
       "\n",
       "                              watch8-sentiment-actions  \\\n",
       "496  170.932 visualizações\\n\\n\\n\\n\\n\\n\\n\\n2.393\\n\\n...   \n",
       "497  69.644 visualizações\\n\\n\\n\\n\\n\\n\\n\\n1.569\\n\\nG...   \n",
       "498  470 visualizações\\n\\n\\n\\n\\n\\n\\n\\n39\\n\\nGostou ...   \n",
       "499  99.855 visualizações\\n\\n\\n\\n\\n\\n\\n\\n14\\n\\nGost...   \n",
       "500  17.363 visualizações\\n\\n\\n\\n\\n\\n\\n\\n191\\n\\nGos...   \n",
       "\n",
       "                                              og:image  og:image:width  \\\n",
       "496  https://i.ytimg.com/vi/Q59X518JZHE/maxresdefau...          1280.0   \n",
       "497  https://i.ytimg.com/vi/Q6ERFwQNkzo/maxresdefau...          1280.0   \n",
       "498  https://i.ytimg.com/vi/Q71MI-MkGhg/maxresdefau...          1280.0   \n",
       "499   https://i.ytimg.com/vi/QDh1vq9tVsY/hqdefault.jpg           480.0   \n",
       "500  https://i.ytimg.com/vi/QEw0qEa0E50/maxresdefau...          1280.0   \n",
       "\n",
       "     og:image:height                                     og:description  \\\n",
       "496            720.0  This Machine Learning with Python tutorial giv...   \n",
       "497            720.0  This tutorial is going to go through getting T...   \n",
       "498            720.0  LA오남매아빠 #LA오빠 - #즐거운DataScience 오늘은 현재 진행 중인 A...   \n",
       "499            360.0  The majority of internet traffic is now made u...   \n",
       "500            720.0  Professor Christopher Manning & PhD Candidate ...   \n",
       "\n",
       "     og:video:width  og:video:height  \\\n",
       "496          1280.0            720.0   \n",
       "497          1280.0            720.0   \n",
       "498          1280.0            720.0   \n",
       "499          1280.0            720.0   \n",
       "500          1280.0            720.0   \n",
       "\n",
       "                                 og:video:tag  \\\n",
       "496              simplilearn machine learning   \n",
       "497  image classification tensorflow tutorial   \n",
       "498                  Ashrae Energy Prediction   \n",
       "499                             Cyber threats   \n",
       "500                                       NaN   \n",
       "\n",
       "                        channel_link_0  \n",
       "496  /channel/UCsvqVGtbbyHaMoevxPAq9Fg  \n",
       "497  /channel/UClm2DY6pj3ygKoKhEVr7KFw  \n",
       "498  /channel/UCjhlZKSIRVvQxlUprmv0bdg  \n",
       "499  /channel/UCMLXUedkowSUnn5rSXKUzCQ  \n",
       "500  /channel/UCBa5G_ESCn8Yd4vw5U-gIcg  "
      ]
     },
     "execution_count": 4,
     "metadata": {},
     "output_type": "execute_result"
    }
   ],
   "source": [
    "df.tail()"
   ]
  },
  {
   "cell_type": "markdown",
   "id": "d5ca0b7e",
   "metadata": {},
   "source": [
    "<h1>Data Cleaning</h1>\n",
    "<p>Our database collected is usually dirty. Many null fields, wrong datatypes and so on. We need to fix it with some techniques.</p>\n",
    "<p>After the cleaning, we will put the changes into a new dataframe called <b>\"df_limpo\"</b>.</p>"
   ]
  },
  {
   "cell_type": "code",
   "execution_count": 5,
   "id": "bba583d4",
   "metadata": {},
   "outputs": [],
   "source": [
    "df_limpo = pd.DataFrame(index=df.index)"
   ]
  },
  {
   "cell_type": "markdown",
   "id": "cd39bc76",
   "metadata": {},
   "source": [
    "<h5>Converting the column 'watch-time-text' to Datetype</h5>\n",
    "<p>First of all, the field 'watch-time-text' is a string in portuguese. We want just the date with type datetime.\n",
    "In order to do that, we extracted the data out of the text with a regular expression and turn it into 3 columns:\n",
    "day, month, year. As seen down below.</p>"
   ]
  },
  {
   "cell_type": "code",
   "execution_count": 6,
   "id": "ad9f8ef6",
   "metadata": {},
   "outputs": [],
   "source": [
    "clean_date = df['watch-time-text'].str.extract(r\"(\\d+) de ([a-z]+)\\. de (\\d+)\")\n"
   ]
  },
  {
   "cell_type": "code",
   "execution_count": 7,
   "id": "90576edf",
   "metadata": {},
   "outputs": [
    {
     "data": {
      "text/html": [
       "<div>\n",
       "<style scoped>\n",
       "    .dataframe tbody tr th:only-of-type {\n",
       "        vertical-align: middle;\n",
       "    }\n",
       "\n",
       "    .dataframe tbody tr th {\n",
       "        vertical-align: top;\n",
       "    }\n",
       "\n",
       "    .dataframe thead th {\n",
       "        text-align: right;\n",
       "    }\n",
       "</style>\n",
       "<table border=\"1\" class=\"dataframe\">\n",
       "  <thead>\n",
       "    <tr style=\"text-align: right;\">\n",
       "      <th></th>\n",
       "      <th>0</th>\n",
       "      <th>1</th>\n",
       "      <th>2</th>\n",
       "    </tr>\n",
       "  </thead>\n",
       "  <tbody>\n",
       "    <tr>\n",
       "      <th>0</th>\n",
       "      <td>3</td>\n",
       "      <td>set</td>\n",
       "      <td>2018</td>\n",
       "    </tr>\n",
       "    <tr>\n",
       "      <th>1</th>\n",
       "      <td>16</td>\n",
       "      <td>nov</td>\n",
       "      <td>2018</td>\n",
       "    </tr>\n",
       "    <tr>\n",
       "      <th>2</th>\n",
       "      <td>2</td>\n",
       "      <td>mai</td>\n",
       "      <td>2019</td>\n",
       "    </tr>\n",
       "    <tr>\n",
       "      <th>3</th>\n",
       "      <td>13</td>\n",
       "      <td>ago</td>\n",
       "      <td>2019</td>\n",
       "    </tr>\n",
       "    <tr>\n",
       "      <th>4</th>\n",
       "      <td>30</td>\n",
       "      <td>nov</td>\n",
       "      <td>2018</td>\n",
       "    </tr>\n",
       "    <tr>\n",
       "      <th>...</th>\n",
       "      <td>...</td>\n",
       "      <td>...</td>\n",
       "      <td>...</td>\n",
       "    </tr>\n",
       "    <tr>\n",
       "      <th>496</th>\n",
       "      <td>1</td>\n",
       "      <td>mar</td>\n",
       "      <td>2018</td>\n",
       "    </tr>\n",
       "    <tr>\n",
       "      <th>497</th>\n",
       "      <td>31</td>\n",
       "      <td>mai</td>\n",
       "      <td>2018</td>\n",
       "    </tr>\n",
       "    <tr>\n",
       "      <th>498</th>\n",
       "      <td>10</td>\n",
       "      <td>nov</td>\n",
       "      <td>2019</td>\n",
       "    </tr>\n",
       "    <tr>\n",
       "      <th>499</th>\n",
       "      <td>25</td>\n",
       "      <td>abr</td>\n",
       "      <td>2019</td>\n",
       "    </tr>\n",
       "    <tr>\n",
       "      <th>500</th>\n",
       "      <td>21</td>\n",
       "      <td>mar</td>\n",
       "      <td>2019</td>\n",
       "    </tr>\n",
       "  </tbody>\n",
       "</table>\n",
       "<p>498 rows × 3 columns</p>\n",
       "</div>"
      ],
      "text/plain": [
       "      0    1     2\n",
       "0     3  set  2018\n",
       "1    16  nov  2018\n",
       "2     2  mai  2019\n",
       "3    13  ago  2019\n",
       "4    30  nov  2018\n",
       "..   ..  ...   ...\n",
       "496   1  mar  2018\n",
       "497  31  mai  2018\n",
       "498  10  nov  2019\n",
       "499  25  abr  2019\n",
       "500  21  mar  2019\n",
       "\n",
       "[498 rows x 3 columns]"
      ]
     },
     "execution_count": 7,
     "metadata": {},
     "output_type": "execute_result"
    }
   ],
   "source": [
    "clean_date"
   ]
  },
  {
   "cell_type": "markdown",
   "id": "87463281",
   "metadata": {},
   "source": [
    "<h5>Cleaning the column of months</h5>\n",
    "<p>The days before the tenth day of the month are built with only 1 character. In order to format the data into a more \n",
    "friendlly usage, we need to add the '0' character in front of those days. Meaning that the day 1, 2, 3 until 9 will\n",
    "turn into day 01, 02, 03 until 09. I am doing this in this cell.</p>\n",
    "<p>\n",
    "We take every first column (clean_date[0]), whose quantity  of characters ( lenght ) of the value is equals to 1 \n",
    "and turn it into a value with lenght equals to 2 characters, adding the number zero before each number below 10.</p>"
   ]
  },
  {
   "cell_type": "code",
   "execution_count": 8,
   "id": "7061fac8",
   "metadata": {},
   "outputs": [],
   "source": [
    "clean_date[0] = clean_date[0].map(lambda x: \"0\"+x[0] if len(x) == 1 else x)\n"
   ]
  },
  {
   "cell_type": "code",
   "execution_count": 9,
   "id": "80b906d8",
   "metadata": {},
   "outputs": [
    {
     "data": {
      "text/plain": [
       "0      03\n",
       "1      16\n",
       "2      02\n",
       "3      13\n",
       "4      30\n",
       "       ..\n",
       "496    01\n",
       "497    31\n",
       "498    10\n",
       "499    25\n",
       "500    21\n",
       "Name: 0, Length: 498, dtype: object"
      ]
     },
     "execution_count": 9,
     "metadata": {},
     "output_type": "execute_result"
    }
   ],
   "source": [
    "'''\n",
    "It worked.\n",
    "'''\n",
    "clean_date[0]"
   ]
  },
  {
   "cell_type": "markdown",
   "id": "0a2ded1e",
   "metadata": {},
   "source": [
    "<h5>Cleaning the column of months</h5>\n",
    "<p>Now we need the month columns writen in English. Right now, it is writen in Portuguese. To do that, we just creating a dictionary replacing the value in Portuguese by the value in English. Then we apply those replacements to all the values in the  column, using the map function</p>"
   ]
  },
  {
   "cell_type": "code",
   "execution_count": 10,
   "id": "59cbd5fc",
   "metadata": {},
   "outputs": [],
   "source": [
    "mapa_meses = {\"jan\": \"Jan\",\n",
    "              \"fev\": \"Feb\",\n",
    "              \"mar\": \"Mar\", \n",
    "              \"abr\": \"Apr\", \n",
    "              \"mai\": \"May\", \n",
    "              \"jun\": \"Jun\",\n",
    "              \"jul\": \"Jul\",\n",
    "              \"ago\": \"Aug\", \n",
    "              \"set\": \"Sep\", \n",
    "              \"out\": \"Oct\", \n",
    "              \"nov\": \"Nov\",\n",
    "              \"dez\": \"Dec\"}\n",
    "\n",
    "clean_date[1] = clean_date[1].map(mapa_meses)"
   ]
  },
  {
   "cell_type": "code",
   "execution_count": 11,
   "id": "466409d8",
   "metadata": {},
   "outputs": [
    {
     "data": {
      "text/plain": [
       "0      Sep\n",
       "1      Nov\n",
       "2      May\n",
       "3      Aug\n",
       "4      Nov\n",
       "      ... \n",
       "496    Mar\n",
       "497    May\n",
       "498    Nov\n",
       "499    Apr\n",
       "500    Mar\n",
       "Name: 1, Length: 498, dtype: object"
      ]
     },
     "execution_count": 11,
     "metadata": {},
     "output_type": "execute_result"
    }
   ],
   "source": [
    "clean_date[1]"
   ]
  },
  {
   "cell_type": "code",
   "execution_count": 12,
   "id": "7c1411b1",
   "metadata": {},
   "outputs": [
    {
     "data": {
      "text/html": [
       "<div>\n",
       "<style scoped>\n",
       "    .dataframe tbody tr th:only-of-type {\n",
       "        vertical-align: middle;\n",
       "    }\n",
       "\n",
       "    .dataframe tbody tr th {\n",
       "        vertical-align: top;\n",
       "    }\n",
       "\n",
       "    .dataframe thead th {\n",
       "        text-align: right;\n",
       "    }\n",
       "</style>\n",
       "<table border=\"1\" class=\"dataframe\">\n",
       "  <thead>\n",
       "    <tr style=\"text-align: right;\">\n",
       "      <th></th>\n",
       "      <th>0</th>\n",
       "      <th>1</th>\n",
       "      <th>2</th>\n",
       "    </tr>\n",
       "  </thead>\n",
       "  <tbody>\n",
       "    <tr>\n",
       "      <th>0</th>\n",
       "      <td>03</td>\n",
       "      <td>Sep</td>\n",
       "      <td>2018</td>\n",
       "    </tr>\n",
       "    <tr>\n",
       "      <th>1</th>\n",
       "      <td>16</td>\n",
       "      <td>Nov</td>\n",
       "      <td>2018</td>\n",
       "    </tr>\n",
       "    <tr>\n",
       "      <th>2</th>\n",
       "      <td>02</td>\n",
       "      <td>May</td>\n",
       "      <td>2019</td>\n",
       "    </tr>\n",
       "    <tr>\n",
       "      <th>3</th>\n",
       "      <td>13</td>\n",
       "      <td>Aug</td>\n",
       "      <td>2019</td>\n",
       "    </tr>\n",
       "    <tr>\n",
       "      <th>4</th>\n",
       "      <td>30</td>\n",
       "      <td>Nov</td>\n",
       "      <td>2018</td>\n",
       "    </tr>\n",
       "    <tr>\n",
       "      <th>...</th>\n",
       "      <td>...</td>\n",
       "      <td>...</td>\n",
       "      <td>...</td>\n",
       "    </tr>\n",
       "    <tr>\n",
       "      <th>496</th>\n",
       "      <td>01</td>\n",
       "      <td>Mar</td>\n",
       "      <td>2018</td>\n",
       "    </tr>\n",
       "    <tr>\n",
       "      <th>497</th>\n",
       "      <td>31</td>\n",
       "      <td>May</td>\n",
       "      <td>2018</td>\n",
       "    </tr>\n",
       "    <tr>\n",
       "      <th>498</th>\n",
       "      <td>10</td>\n",
       "      <td>Nov</td>\n",
       "      <td>2019</td>\n",
       "    </tr>\n",
       "    <tr>\n",
       "      <th>499</th>\n",
       "      <td>25</td>\n",
       "      <td>Apr</td>\n",
       "      <td>2019</td>\n",
       "    </tr>\n",
       "    <tr>\n",
       "      <th>500</th>\n",
       "      <td>21</td>\n",
       "      <td>Mar</td>\n",
       "      <td>2019</td>\n",
       "    </tr>\n",
       "  </tbody>\n",
       "</table>\n",
       "<p>498 rows × 3 columns</p>\n",
       "</div>"
      ],
      "text/plain": [
       "      0    1     2\n",
       "0    03  Sep  2018\n",
       "1    16  Nov  2018\n",
       "2    02  May  2019\n",
       "3    13  Aug  2019\n",
       "4    30  Nov  2018\n",
       "..   ..  ...   ...\n",
       "496  01  Mar  2018\n",
       "497  31  May  2018\n",
       "498  10  Nov  2019\n",
       "499  25  Apr  2019\n",
       "500  21  Mar  2019\n",
       "\n",
       "[498 rows x 3 columns]"
      ]
     },
     "execution_count": 12,
     "metadata": {},
     "output_type": "execute_result"
    }
   ],
   "source": [
    "clean_date"
   ]
  },
  {
   "cell_type": "markdown",
   "id": "2cbbe917",
   "metadata": {},
   "source": [
    "<h5>Now we need a datetype</h5>\n",
    "<p>We have the cleaned data into 3 columns. But we want just a single datetype column. To do that, we are going to join all the columns into just one single column separated by space. Then we are going to create a column called \"date\" and turn this string into a datetime type, passing the format we want as a parameter. </p>"
   ]
  },
  {
   "cell_type": "code",
   "execution_count": 13,
   "id": "3e809cf1",
   "metadata": {},
   "outputs": [],
   "source": [
    "clean_date = clean_date.apply(lambda x: \" \".join(x), axis=1)\n",
    "\n",
    "df_limpo['date'] = pd.to_datetime(clean_date, format=\"%d %b %Y\")"
   ]
  },
  {
   "cell_type": "markdown",
   "id": "abcf3d80",
   "metadata": {},
   "source": [
    "<h5>Cleaning the counting of views</h5>\n",
    "<p>We will get only the number through the power of regular expression. Then we want to replace the dots between the numbers by an empty value. That's because we use the numbers this way in English. The fillna function exists because some viewcount has no number writen. Only a message (string). This means that when we find those undesirable strings (we want only integer numbers here), we will have the output \"nan\". So, we are just gonna fill those nan values with the number zero. Finally, we turn the result into a integer as desired.  </p>"
   ]
  },
  {
   "cell_type": "code",
   "execution_count": 14,
   "id": "b86e48b8",
   "metadata": {},
   "outputs": [
    {
     "name": "stderr",
     "output_type": "stream",
     "text": [
      "C:\\Users\\Public\\Documents\\Wondershare\\CreatorTemp/ipykernel_6732/2268995852.py:1: FutureWarning: The default value of regex will change from True to False in a future version. In addition, single character regular expressions will *not* be treated as literal strings when regex=True.\n",
      "  views = df['watch-view-count'].str.extract(r\"(\\d+\\.?\\d*)\", expand=False).str.replace(\".\", \"\").fillna(0).astype(int)\n"
     ]
    }
   ],
   "source": [
    "views = df['watch-view-count'].str.extract(r\"(\\d+\\.?\\d*)\", expand=False).str.replace(\".\", \"\").fillna(0).astype(int)\n"
   ]
  },
  {
   "cell_type": "markdown",
   "id": "356c2464",
   "metadata": {},
   "source": [
    "<p>Now we just need to create a column called \"views\" where we pass the number os views.</p>"
   ]
  },
  {
   "cell_type": "code",
   "execution_count": 15,
   "id": "45b52e69",
   "metadata": {},
   "outputs": [],
   "source": [
    "df_limpo['views'] = views"
   ]
  },
  {
   "cell_type": "markdown",
   "id": "9886839e",
   "metadata": {},
   "source": [
    "<h1>Creating Features</h1>\n",
    "<p>Now we are gonna create and tweak with some necessary features. And then, we are going to run tome tests.</p>\n",
    "<p>All those changes will be attributed to a new dataframe value called \"features\"</p>"
   ]
  },
  {
   "cell_type": "code",
   "execution_count": 16,
   "id": "6c4f32b7",
   "metadata": {},
   "outputs": [],
   "source": [
    "features = pd.DataFrame(index=df_limpo.index)\n",
    "y = df['y'].copy()"
   ]
  },
  {
   "cell_type": "markdown",
   "id": "86995f45",
   "metadata": {},
   "source": [
    "<h5>Number of days since the publication of the video</h5>\n",
    "<p>Here we want to get the number of days since the video publication. We select some date as a parameter (a day after the video publication) and we count the number of days from there. Down below, we are using the beggining of this year (2021) as a parameter. <p/>"
   ]
  },
  {
   "cell_type": "code",
   "execution_count": 17,
   "id": "ad8d6d81",
   "metadata": {},
   "outputs": [
    {
     "data": {
      "text/plain": [
       "0      851 days\n",
       "1      777 days\n",
       "2      610 days\n",
       "3      507 days\n",
       "4      763 days\n",
       "         ...   \n",
       "496   1037 days\n",
       "497    946 days\n",
       "498    418 days\n",
       "499    617 days\n",
       "500    652 days\n",
       "Name: date, Length: 498, dtype: timedelta64[ns]"
      ]
     },
     "execution_count": 17,
     "metadata": {},
     "output_type": "execute_result"
    }
   ],
   "source": [
    "pd.to_datetime(\"2021-01-01\") - df_limpo[\"date\"]"
   ]
  },
  {
   "cell_type": "code",
   "execution_count": null,
   "id": "524722c2",
   "metadata": {},
   "outputs": [],
   "source": []
  },
  {
   "cell_type": "markdown",
   "id": "96feda88",
   "metadata": {},
   "source": [
    "\n",
    "<p>We only want the <b>number</b> of days as a float value. Without the string \"days\". So we divide this subtraction of days by a deltatime of value 1 where the parameter \"D\" means the days unit. Then we apply this operation to a new column called \"time_since_pub\"</p>"
   ]
  },
  {
   "cell_type": "code",
   "execution_count": 18,
   "id": "19e3dd69",
   "metadata": {},
   "outputs": [],
   "source": [
    "features['time_since_pub'] = (pd.to_datetime(\"2021-01-01\") - df_limpo['date']) / np.timedelta64(1, 'D')\n",
    "\n",
    "\n"
   ]
  },
  {
   "cell_type": "code",
   "execution_count": 19,
   "id": "0334ab4f",
   "metadata": {},
   "outputs": [
    {
     "data": {
      "text/plain": [
       "0    851.0\n",
       "1    777.0\n",
       "2    610.0\n",
       "3    507.0\n",
       "4    763.0\n",
       "Name: time_since_pub, dtype: float64"
      ]
     },
     "execution_count": 19,
     "metadata": {},
     "output_type": "execute_result"
    }
   ],
   "source": [
    "features['time_since_pub'].head()"
   ]
  },
  {
   "cell_type": "markdown",
   "id": "cef8fd37",
   "metadata": {},
   "source": [
    "<p>Here there are no changes in the columns views. So we are just gonna attribut the column \"view\" from the dataframe \"df_limpo\" to another column \"view\" in the new dataframe called \"features\".</p>"
   ]
  },
  {
   "cell_type": "code",
   "execution_count": 20,
   "id": "376f4cdb",
   "metadata": {},
   "outputs": [],
   "source": [
    "features['views'] = df_limpo['views']"
   ]
  },
  {
   "cell_type": "markdown",
   "id": "ad0595d9",
   "metadata": {},
   "source": [
    "<h5>Number of views per day</h5>\n",
    "<p>Now we want the number of views per day in each video, since the video publication. To do that we only need to execute a simple division: the number of views divided by the number of days since the video publication. Later we are gonna put the result of this operation in a new column called \"views_per_day\". </p>"
   ]
  },
  {
   "cell_type": "code",
   "execution_count": 21,
   "id": "34920f57",
   "metadata": {},
   "outputs": [],
   "source": [
    "features['views_per_day'] = features['views'] / features['time_since_pub']"
   ]
  },
  {
   "cell_type": "code",
   "execution_count": 22,
   "id": "de84da90",
   "metadata": {},
   "outputs": [],
   "source": [
    "features = features.drop(['time_since_pub'], axis=1)"
   ]
  },
  {
   "cell_type": "markdown",
   "id": "6c6953f6",
   "metadata": {},
   "source": [
    "<h1>Testing a few columns</h1>\n",
    "<p>We are gonna try to create a model with only 2 columns. We wanna see how this will work out.</p>"
   ]
  },
  {
   "cell_type": "code",
   "execution_count": 23,
   "id": "24a439f9",
   "metadata": {},
   "outputs": [
    {
     "data": {
      "text/html": [
       "<div>\n",
       "<style scoped>\n",
       "    .dataframe tbody tr th:only-of-type {\n",
       "        vertical-align: middle;\n",
       "    }\n",
       "\n",
       "    .dataframe tbody tr th {\n",
       "        vertical-align: top;\n",
       "    }\n",
       "\n",
       "    .dataframe thead th {\n",
       "        text-align: right;\n",
       "    }\n",
       "</style>\n",
       "<table border=\"1\" class=\"dataframe\">\n",
       "  <thead>\n",
       "    <tr style=\"text-align: right;\">\n",
       "      <th></th>\n",
       "      <th>views</th>\n",
       "      <th>views_per_day</th>\n",
       "    </tr>\n",
       "  </thead>\n",
       "  <tbody>\n",
       "    <tr>\n",
       "      <th>0</th>\n",
       "      <td>28028</td>\n",
       "      <td>32.935370</td>\n",
       "    </tr>\n",
       "    <tr>\n",
       "      <th>1</th>\n",
       "      <td>1131</td>\n",
       "      <td>1.455598</td>\n",
       "    </tr>\n",
       "    <tr>\n",
       "      <th>2</th>\n",
       "      <td>1816</td>\n",
       "      <td>2.977049</td>\n",
       "    </tr>\n",
       "    <tr>\n",
       "      <th>3</th>\n",
       "      <td>1171</td>\n",
       "      <td>2.309665</td>\n",
       "    </tr>\n",
       "    <tr>\n",
       "      <th>4</th>\n",
       "      <td>1228</td>\n",
       "      <td>1.609436</td>\n",
       "    </tr>\n",
       "  </tbody>\n",
       "</table>\n",
       "</div>"
      ],
      "text/plain": [
       "   views  views_per_day\n",
       "0  28028      32.935370\n",
       "1   1131       1.455598\n",
       "2   1816       2.977049\n",
       "3   1171       2.309665\n",
       "4   1228       1.609436"
      ]
     },
     "execution_count": 23,
     "metadata": {},
     "output_type": "execute_result"
    }
   ],
   "source": [
    "features.head()"
   ]
  },
  {
   "cell_type": "markdown",
   "id": "bede8a49",
   "metadata": {},
   "source": [
    "<h5>Splitting and validating data</h5>\n",
    "<p>Now it's time to split the data between train and test and make some validations. In order to do that, we are going to import some required libraries.</p>"
   ]
  },
  {
   "cell_type": "code",
   "execution_count": 26,
   "id": "7877ecd8",
   "metadata": {},
   "outputs": [],
   "source": [
    "from sklearn.linear_model import LogisticRegression\n",
    "from sklearn.tree import DecisionTreeClassifier\n",
    "from sklearn.model_selection import train_test_split"
   ]
  },
  {
   "cell_type": "markdown",
   "id": "d1aea403",
   "metadata": {},
   "source": [
    "<h5>Train and test split</h5>\n",
    "<p>We need to split the data first. We are gonna make the split by the variable \"date\". Every data before the date \"2019-04-01\" is for training and everythin above or equal \"2019-04-01\" is for validation.</p>"
   ]
  },
  {
   "cell_type": "code",
   "execution_count": 27,
   "id": "4703f6e2",
   "metadata": {},
   "outputs": [
    {
     "data": {
      "text/plain": [
       "((228, 2), (270, 2), (228,), (270,))"
      ]
     },
     "execution_count": 27,
     "metadata": {},
     "output_type": "execute_result"
    }
   ],
   "source": [
    "#The features\n",
    "Xtrain, Xval = features[df_limpo['date'] < \"2019-04-01\"], features[df_limpo['date'] >= \"2019-04-01\"]\n",
    "\n",
    "#The target\n",
    "ytrain, yval = y[df_limpo['date'] < \"2019-04-01\"], y[df_limpo['date'] >= \"2019-04-01\"]\n",
    "\n"
   ]
  },
  {
   "cell_type": "code",
   "execution_count": 28,
   "id": "304fb81a",
   "metadata": {},
   "outputs": [
    {
     "data": {
      "text/plain": [
       "((228, 2), (270, 2), (228,), (270,))"
      ]
     },
     "execution_count": 28,
     "metadata": {},
     "output_type": "execute_result"
    }
   ],
   "source": [
    "\n",
    "Xtrain.shape, Xval.shape, ytrain.shape, yval.shape"
   ]
  },
  {
   "cell_type": "markdown",
   "id": "3a7585a6",
   "metadata": {},
   "source": [
    "<h5>Testing a decision tree model</h5>\n",
    "<p>When we need/want to try too few features and the best way to test that is with a decision tree model. That's is what we are gonna do down below.</p>\n",
    "<p>We are using a decision tree model with a max depth of 2 and a class_weight = balanced. That's because,  as seen below, we have a very unbalanced data</p>"
   ]
  },
  {
   "cell_type": "code",
   "execution_count": 29,
   "id": "537c56cf",
   "metadata": {},
   "outputs": [
    {
     "data": {
      "text/plain": [
       "0.14035087719298245"
      ]
     },
     "execution_count": 29,
     "metadata": {},
     "output_type": "execute_result"
    }
   ],
   "source": [
    "#We have only 14% of positive examples, making this database a very unbalanced one. We can change that in the decision tree \n",
    "#parameter called \"class_weight\"\n",
    "ytrain.mean()"
   ]
  },
  {
   "cell_type": "markdown",
   "id": "63f7f970",
   "metadata": {},
   "source": [
    "<p>We have only 14% of positive examples, making this database a very unbalanced one. We can change that in the decision tree \n",
    "parameter called \"class_weight\". This way, we will have different weight for different values to compensate this lack of balance.</p>"
   ]
  },
  {
   "cell_type": "code",
   "execution_count": 30,
   "id": "5f0d2a3f",
   "metadata": {},
   "outputs": [
    {
     "data": {
      "text/plain": [
       "DecisionTreeClassifier(class_weight='balanced', max_depth=2, random_state=0)"
      ]
     },
     "execution_count": 30,
     "metadata": {},
     "output_type": "execute_result"
    }
   ],
   "source": [
    "mdl = DecisionTreeClassifier(random_state=0, max_depth=2, class_weight=\"balanced\")\n",
    "mdl.fit(Xtrain, ytrain)"
   ]
  },
  {
   "cell_type": "markdown",
   "id": "63d17ae3",
   "metadata": {},
   "source": [
    "<h1>Validating with metrics</h1>\n",
    "<p>The function called \"predict_proba\" gives a numpy array with 2 columns: 1 columns tell us the probability of 0 and another column tell us the probability of 1 as values, for each line from the database.</p>"
   ]
  },
  {
   "cell_type": "code",
   "execution_count": 31,
   "id": "464e4f76",
   "metadata": {},
   "outputs": [],
   "source": [
    "p = mdl.predict_proba(Xval)[:, 1]"
   ]
  },
  {
   "cell_type": "code",
   "execution_count": 32,
   "id": "f6874454",
   "metadata": {},
   "outputs": [
    {
     "data": {
      "text/plain": [
       "array([0.64304462, 0.64304462, 0.25388601, 0.34751773, 0.64304462,\n",
       "       0.64304462, 0.25388601, 0.        , 0.34751773, 0.64304462,\n",
       "       0.64304462, 0.64304462, 0.25388601, 0.25388601, 0.25388601,\n",
       "       0.64304462, 0.25388601, 0.64304462, 0.25388601, 0.64304462,\n",
       "       0.        , 0.64304462, 0.64304462, 0.25388601, 0.34751773,\n",
       "       0.25388601, 0.25388601, 0.64304462, 0.        , 0.64304462,\n",
       "       0.64304462, 0.64304462, 0.64304462, 0.64304462, 0.64304462,\n",
       "       0.64304462, 0.25388601, 0.25388601, 0.64304462, 0.        ,\n",
       "       0.64304462, 0.64304462, 0.64304462, 0.64304462, 0.25388601,\n",
       "       0.64304462, 0.25388601, 0.34751773, 0.64304462, 0.25388601,\n",
       "       0.25388601, 0.34751773, 0.34751773, 0.64304462, 0.64304462,\n",
       "       0.64304462, 0.34751773, 0.64304462, 0.64304462, 0.25388601,\n",
       "       0.25388601, 0.25388601, 0.25388601, 0.25388601, 0.25388601,\n",
       "       0.64304462, 0.34751773, 0.25388601, 0.25388601, 0.25388601,\n",
       "       0.25388601, 0.64304462, 0.25388601, 0.25388601, 0.64304462,\n",
       "       0.25388601, 0.25388601, 0.64304462, 0.25388601, 0.25388601,\n",
       "       0.25388601, 0.25388601, 0.25388601, 0.25388601, 0.34751773,\n",
       "       0.25388601, 0.64304462, 0.        , 0.64304462, 0.25388601,\n",
       "       0.        , 0.64304462, 0.25388601, 0.64304462, 0.25388601,\n",
       "       0.64304462, 0.34751773, 0.25388601, 0.64304462, 0.        ,\n",
       "       0.25388601, 0.25388601, 0.25388601, 0.25388601, 0.64304462,\n",
       "       0.34751773, 0.25388601, 0.34751773, 0.64304462, 0.25388601,\n",
       "       0.34751773, 0.64304462, 0.        , 0.        , 0.25388601,\n",
       "       0.64304462, 0.34751773, 0.        , 0.34751773, 0.25388601,\n",
       "       0.25388601, 0.25388601, 0.25388601, 0.64304462, 0.64304462,\n",
       "       0.64304462, 0.64304462, 0.64304462, 0.25388601, 0.25388601,\n",
       "       0.25388601, 0.64304462, 0.64304462, 0.25388601, 0.25388601,\n",
       "       0.        , 0.25388601, 0.34751773, 0.25388601, 0.64304462,\n",
       "       0.25388601, 0.25388601, 0.64304462, 0.25388601, 0.25388601,\n",
       "       0.64304462, 0.25388601, 0.34751773, 0.64304462, 0.64304462,\n",
       "       0.34751773, 0.25388601, 0.64304462, 0.34751773, 0.25388601,\n",
       "       0.34751773, 0.34751773, 0.25388601, 0.        , 0.64304462,\n",
       "       0.34751773, 0.34751773, 0.64304462, 0.64304462, 0.25388601,\n",
       "       0.64304462, 0.25388601, 0.25388601, 0.64304462, 0.34751773,\n",
       "       0.64304462, 0.25388601, 0.34751773, 0.        , 0.        ,\n",
       "       0.64304462, 0.25388601, 0.34751773, 0.25388601, 0.25388601,\n",
       "       0.25388601, 0.64304462, 0.64304462, 0.64304462, 0.64304462,\n",
       "       0.64304462, 0.25388601, 0.25388601, 0.64304462, 0.25388601,\n",
       "       0.25388601, 0.64304462, 0.64304462, 0.64304462, 0.64304462,\n",
       "       0.25388601, 0.64304462, 0.25388601, 0.64304462, 0.34751773,\n",
       "       0.34751773, 0.64304462, 0.25388601, 0.25388601, 0.64304462,\n",
       "       0.        , 0.64304462, 0.25388601, 0.64304462, 0.64304462,\n",
       "       0.25388601, 0.        , 0.64304462, 0.34751773, 0.25388601,\n",
       "       0.25388601, 0.34751773, 0.64304462, 0.25388601, 0.25388601,\n",
       "       0.25388601, 0.25388601, 0.64304462, 0.64304462, 0.25388601,\n",
       "       0.64304462, 0.64304462, 0.64304462, 0.64304462, 0.25388601,\n",
       "       0.25388601, 0.25388601, 0.25388601, 0.34751773, 0.34751773,\n",
       "       0.25388601, 0.34751773, 0.64304462, 0.25388601, 0.64304462,\n",
       "       0.64304462, 0.25388601, 0.25388601, 0.34751773, 0.25388601,\n",
       "       0.25388601, 0.        , 0.25388601, 0.64304462, 0.64304462,\n",
       "       0.64304462, 0.64304462, 0.25388601, 0.64304462, 0.64304462,\n",
       "       0.64304462, 0.25388601, 0.25388601, 0.25388601, 0.64304462,\n",
       "       0.25388601, 0.64304462, 0.64304462, 0.64304462, 0.25388601,\n",
       "       0.25388601, 0.64304462, 0.25388601, 0.64304462, 0.34751773])"
      ]
     },
     "execution_count": 32,
     "metadata": {},
     "output_type": "execute_result"
    }
   ],
   "source": [
    "p"
   ]
  },
  {
   "cell_type": "markdown",
   "id": "e1028633",
   "metadata": {},
   "source": [
    "<h5>Machine Learning metrics</h5>\n",
    "<p>The objective of this task is to rank the better videos. The ones i might wanna see. To do that, we will use some Machine Learning metrics to validate the answers (positive or negative) our model gave us.</p> \n"
   ]
  },
  {
   "cell_type": "code",
   "execution_count": 33,
   "id": "94549afb",
   "metadata": {},
   "outputs": [],
   "source": [
    "from sklearn.metrics import roc_auc_score, average_precision_score"
   ]
  },
  {
   "cell_type": "markdown",
   "id": "928a48a8",
   "metadata": {},
   "source": [
    "    \n",
    "<p>First, the \"average_precision_score\" function will help me to answer: from all positive answers that my model gave to us, what's the average of correct answers.</p>\n",
    "<p>Right down below, of all answers that my model answered as positive, only 17% was really positive. That's our baseline. We want precisions higher than that in the next models.</p>"
   ]
  },
  {
   "cell_type": "code",
   "execution_count": 34,
   "id": "efefbef6",
   "metadata": {},
   "outputs": [
    {
     "data": {
      "text/plain": [
       "0.17022043550822075"
      ]
     },
     "execution_count": 34,
     "metadata": {},
     "output_type": "execute_result"
    }
   ],
   "source": [
    "average_precision_score(yval, p)"
   ]
  },
  {
   "cell_type": "markdown",
   "id": "7af82634",
   "metadata": {},
   "source": [
    "<p>The \"roc_auc_score\" function tells how much the model is capable of distinguishing between classes. In our case, 0 or 1. So the higher this number, the better. An AUC = 0,5 means that our model can not distinguish between positive classes and negative classes.</p>\n",
    "<p>The result down below means that our model has a capacity of 62% of distinguish between 0 and 1. This can get better.</p>"
   ]
  },
  {
   "cell_type": "code",
   "execution_count": 35,
   "id": "6dbd798f",
   "metadata": {},
   "outputs": [
    {
     "data": {
      "text/plain": [
       "0.620790273556231"
      ]
     },
     "execution_count": 35,
     "metadata": {},
     "output_type": "execute_result"
    }
   ],
   "source": [
    "roc_auc_score(yval, p)"
   ]
  },
  {
   "cell_type": "code",
   "execution_count": null,
   "id": "0ab59483",
   "metadata": {},
   "outputs": [],
   "source": []
  },
  {
   "cell_type": "code",
   "execution_count": null,
   "id": "35b68bc9",
   "metadata": {},
   "outputs": [],
   "source": []
  }
 ],
 "metadata": {
  "kernelspec": {
   "display_name": "Python 3 (ipykernel)",
   "language": "python",
   "name": "python3"
  },
  "language_info": {
   "codemirror_mode": {
    "name": "ipython",
    "version": 3
   },
   "file_extension": ".py",
   "mimetype": "text/x-python",
   "name": "python",
   "nbconvert_exporter": "python",
   "pygments_lexer": "ipython3",
   "version": "3.9.6"
  }
 },
 "nbformat": 4,
 "nbformat_minor": 5
}
