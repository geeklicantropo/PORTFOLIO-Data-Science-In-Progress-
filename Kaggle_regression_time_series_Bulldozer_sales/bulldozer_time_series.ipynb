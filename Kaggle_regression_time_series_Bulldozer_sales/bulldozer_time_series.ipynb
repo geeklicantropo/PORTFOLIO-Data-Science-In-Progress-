{
 "cells": [
  {
   "cell_type": "markdown",
   "metadata": {},
   "source": [
    "<h3>Goal: Predict the sales prices of Bulldozers using Machine Learnin</h3>\n",
    "<p>This is a part of a Kaggle competition where the goal is to create a Machine Learning model to predict the sales prices of Bulldozers sold in auctions.</p>\n",
    "<p>The goal of the contest is to predict the sale price of a particular piece of heavy equiment at auction based on it's usage, equipment type, and configuaration.  The data is sourced from auction result postings and includes information on usage and equipment configurations.\n",
    "\n",
    "Fast Iron is creating a \"blue book for bull dozers,\" for customers to value what their heavy equipment fleet is worth at auction.</p>\n",
    "\n",
    "<h3>Evaluation</h3>\n",
    "<p>The evaluation metric for this competition is the RMSLE (root mean squared log error) between the actual and predicted auction prices.</p>\n",
    "\n",
    "<h3>Submission</h3>\n",
    "<p>Have a header: \"SalesID,SalePrice\"\n",
    "Contain two columns\n",
    "SalesID: SalesID for the validation set in sorted order\n",
    "SalePrice: Your predicted price of the sale\n",
    "<li>Example lines of the submission format:</li>\n",
    "<ul>SalesID,SalePrice</ul>\n",
    "<ul>1222837,36205</ul>\n",
    "<ul>3044012,74570</ul>\n",
    "<ul>1222841,31910.50</ul>\n",
    "<ul>...</ul> </p>"
   ]
  },
  {
   "cell_type": "code",
   "execution_count": 2,
   "metadata": {},
   "outputs": [],
   "source": [
    "import pandas as pd\n",
    "import numpy as np\n",
    "import matplotlib.pyplot as plt\n",
    "\n",
    "import sklearn"
   ]
  },
  {
   "cell_type": "code",
   "execution_count": null,
   "metadata": {},
   "outputs": [],
   "source": []
  }
 ],
 "metadata": {
  "kernelspec": {
   "display_name": "allgpu_env",
   "language": "python",
   "name": "python3"
  },
  "language_info": {
   "codemirror_mode": {
    "name": "ipython",
    "version": 3
   },
   "file_extension": ".py",
   "mimetype": "text/x-python",
   "name": "python",
   "nbconvert_exporter": "python",
   "pygments_lexer": "ipython3",
   "version": "3.12.2"
  }
 },
 "nbformat": 4,
 "nbformat_minor": 2
}
