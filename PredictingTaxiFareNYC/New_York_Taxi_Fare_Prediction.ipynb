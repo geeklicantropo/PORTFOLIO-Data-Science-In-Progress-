{
  "nbformat": 4,
  "nbformat_minor": 0,
  "metadata": {
    "colab": {
      "name": "New York Taxi Fare Prediction.ipynb",
      "provenance": [],
      "collapsed_sections": [],
      "toc_visible": true
    },
    "kernelspec": {
      "name": "python3",
      "display_name": "Python 3"
    }
  },
  "cells": [
    {
      "cell_type": "markdown",
      "metadata": {
        "id": "e6YiUzSW3jmH",
        "colab_type": "text"
      },
      "source": [
        "## **Predict New York taxi fare:**\n",
        "In this playground competition, hosted in partnership with Google Cloud and Coursera, you are tasked with predicting the fare amount (inclusive of tolls) for a taxi ride in New York City given the pickup and dropoff locations. While you can get a basic estimate based on just the distance between the two points, this will result in an RMSE of $5-$8, depending on the model used (see the starter code for an example of this approach in Kernels). Your challenge is to do better than this using Machine Learning techniques!"
      ]
    },
    {
      "cell_type": "code",
      "metadata": {
        "id": "0_s__opr322h",
        "colab_type": "code",
        "colab": {
          "base_uri": "https://localhost:8080/",
          "height": 1000
        },
        "outputId": "7852ac65-0a86-4624-a123-5308c33f070f"
      },
      "source": [
        "'''\n",
        "Here we are installing some required libraries for this task\n",
        "'''\n",
        "!apt-get install libgeos-3.5.0\n",
        "!apt-get install libgeos-dev\n",
        "!pip install https://github.com/matplotlib/basemap/archive/master.zip"
      ],
      "execution_count": 2,
      "outputs": [
        {
          "output_type": "stream",
          "text": [
            "Reading package lists... Done\n",
            "Building dependency tree       \n",
            "Reading state information... Done\n",
            "E: Unable to locate package libgeos-3.5.0\n",
            "E: Couldn't find any package by glob 'libgeos-3.5.0'\n",
            "E: Couldn't find any package by regex 'libgeos-3.5.0'\n",
            "Reading package lists... Done\n",
            "Building dependency tree       \n",
            "Reading state information... Done\n",
            "The following package was automatically installed and is no longer required:\n",
            "  libnvidia-common-440\n",
            "Use 'apt autoremove' to remove it.\n",
            "Suggested packages:\n",
            "  libgdal-doc\n",
            "The following NEW packages will be installed:\n",
            "  libgeos-dev\n",
            "0 upgraded, 1 newly installed, 0 to remove and 35 not upgraded.\n",
            "Need to get 73.1 kB of archives.\n",
            "After this operation, 486 kB of additional disk space will be used.\n",
            "Get:1 http://archive.ubuntu.com/ubuntu bionic/universe amd64 libgeos-dev amd64 3.6.2-1build2 [73.1 kB]\n",
            "Fetched 73.1 kB in 0s (176 kB/s)\n",
            "Selecting previously unselected package libgeos-dev.\n",
            "(Reading database ... 144487 files and directories currently installed.)\n",
            "Preparing to unpack .../libgeos-dev_3.6.2-1build2_amd64.deb ...\n",
            "Unpacking libgeos-dev (3.6.2-1build2) ...\n",
            "Setting up libgeos-dev (3.6.2-1build2) ...\n",
            "Processing triggers for man-db (2.8.3-2ubuntu0.1) ...\n",
            "Collecting https://github.com/matplotlib/basemap/archive/master.zip\n",
            "\u001b[?25l  Downloading https://github.com/matplotlib/basemap/archive/master.zip (133.1MB)\n",
            "\u001b[K     |████████████████████████████████| 133.1MB 71kB/s \n",
            "\u001b[?25hRequirement already satisfied: matplotlib!=3.0.1,>=1.0.0 in /usr/local/lib/python3.6/dist-packages (from basemap==1.2.1) (3.2.2)\n",
            "Requirement already satisfied: numpy>=1.2.1 in /usr/local/lib/python3.6/dist-packages (from basemap==1.2.1) (1.18.5)\n",
            "Collecting pyproj>=1.9.3\n",
            "\u001b[?25l  Downloading https://files.pythonhosted.org/packages/e5/c3/071e080230ac4b6c64f1a2e2f9161c9737a2bc7b683d2c90b024825000c0/pyproj-2.6.1.post1-cp36-cp36m-manylinux2010_x86_64.whl (10.9MB)\n",
            "\u001b[K     |████████████████████████████████| 10.9MB 2.7MB/s \n",
            "\u001b[?25hCollecting pyshp>=1.2.0\n",
            "\u001b[?25l  Downloading https://files.pythonhosted.org/packages/27/16/3bf15aa864fb77845fab8007eda22c2bd67bd6c1fd13496df452c8c43621/pyshp-2.1.0.tar.gz (215kB)\n",
            "\u001b[K     |████████████████████████████████| 225kB 45.7MB/s \n",
            "\u001b[?25hRequirement already satisfied: six in /usr/local/lib/python3.6/dist-packages (from basemap==1.2.1) (1.15.0)\n",
            "Requirement already satisfied: kiwisolver>=1.0.1 in /usr/local/lib/python3.6/dist-packages (from matplotlib!=3.0.1,>=1.0.0->basemap==1.2.1) (1.2.0)\n",
            "Requirement already satisfied: cycler>=0.10 in /usr/local/lib/python3.6/dist-packages (from matplotlib!=3.0.1,>=1.0.0->basemap==1.2.1) (0.10.0)\n",
            "Requirement already satisfied: python-dateutil>=2.1 in /usr/local/lib/python3.6/dist-packages (from matplotlib!=3.0.1,>=1.0.0->basemap==1.2.1) (2.8.1)\n",
            "Requirement already satisfied: pyparsing!=2.0.4,!=2.1.2,!=2.1.6,>=2.0.1 in /usr/local/lib/python3.6/dist-packages (from matplotlib!=3.0.1,>=1.0.0->basemap==1.2.1) (2.4.7)\n",
            "Building wheels for collected packages: basemap, pyshp\n",
            "  Building wheel for basemap (setup.py) ... \u001b[?25l\u001b[?25hdone\n",
            "  Created wheel for basemap: filename=basemap-1.2.1-cp36-cp36m-linux_x86_64.whl size=121756178 sha256=617ef6514d6bc4d0c62411568aa3da51f8ca243a202fe53eb179217bef188a98\n",
            "  Stored in directory: /tmp/pip-ephem-wheel-cache-33v46e0d/wheels/98/4a/fc/ce719b75d97e646645c225f3332b1b217536100314922e9572\n",
            "  Building wheel for pyshp (setup.py) ... \u001b[?25l\u001b[?25hdone\n",
            "  Created wheel for pyshp: filename=pyshp-2.1.0-cp36-none-any.whl size=32609 sha256=c08ea3583a9fe66aef3ad7bfdfe81113997a5482a97eb3b95e07288e3b4cc303\n",
            "  Stored in directory: /root/.cache/pip/wheels/a6/0c/de/321b5192ad416b328975a2f0385f72c64db4656501eba7cc1a\n",
            "Successfully built basemap pyshp\n",
            "Installing collected packages: pyproj, pyshp, basemap\n",
            "Successfully installed basemap-1.2.1 pyproj-2.6.1.post1 pyshp-2.1.0\n"
          ],
          "name": "stdout"
        },
        {
          "output_type": "display_data",
          "data": {
            "application/vnd.colab-display-data+json": {
              "pip_warning": {
                "packages": [
                  "mpl_toolkits"
                ]
              }
            }
          },
          "metadata": {
            "tags": []
          }
        }
      ]
    },
    {
      "cell_type": "code",
      "metadata": {
        "id": "ebeQO-2M328J",
        "colab_type": "code",
        "colab": {}
      },
      "source": [
        "import pandas as pd\n",
        "import numpy as np\n",
        "import random\n",
        "import zipfile\n",
        "import matplotlib.pyplot as plt\n",
        "from datetime import datetime"
      ],
      "execution_count": 1,
      "outputs": []
    },
    {
      "cell_type": "code",
      "metadata": {
        "id": "tOXI_KJW325X",
        "colab_type": "code",
        "colab": {
          "base_uri": "https://localhost:8080/",
          "height": 121
        },
        "outputId": "d7123e82-a05f-44a9-d59c-0d6a9584fc6f"
      },
      "source": [
        "'''\n",
        "Here, i am mounting the drive in order to connect my Google Driver where the data i need is stored\n",
        "'''\n",
        "from google.colab import drive\n",
        "drive.mount('/content/drive')"
      ],
      "execution_count": 2,
      "outputs": [
        {
          "output_type": "stream",
          "text": [
            "Go to this URL in a browser: https://accounts.google.com/o/oauth2/auth?client_id=947318989803-6bn6qk8qdgf4n4g3pfee6491hc0brc4i.apps.googleusercontent.com&redirect_uri=urn%3aietf%3awg%3aoauth%3a2.0%3aoob&scope=email%20https%3a%2f%2fwww.googleapis.com%2fauth%2fdocs.test%20https%3a%2f%2fwww.googleapis.com%2fauth%2fdrive%20https%3a%2f%2fwww.googleapis.com%2fauth%2fdrive.photos.readonly%20https%3a%2f%2fwww.googleapis.com%2fauth%2fpeopleapi.readonly&response_type=code\n",
            "\n",
            "Enter your authorization code:\n",
            "··········\n",
            "Mounted at /content/drive\n"
          ],
          "name": "stdout"
        }
      ]
    },
    {
      "cell_type": "code",
      "metadata": {
        "id": "_cE34vDW32-5",
        "colab_type": "code",
        "colab": {}
      },
      "source": [
        "'''\n",
        "Here i am creating a direct path to the data is going to be analysed. I'm also extrating de train and test\n",
        "data from the zip file.\n",
        "'''\n",
        "\n",
        "dataset_path = '/content/drive/My Drive/Colab Notebooks/New York Taxi Fare/new-york-city-taxi-fare-prediction.zip'\n",
        "zip_object = zipfile.ZipFile(file = dataset_path, mode = \"r\")\n",
        "zip_object.extractall('./')\n",
        "zip_object.close()"
      ],
      "execution_count": 3,
      "outputs": []
    },
    {
      "cell_type": "code",
      "metadata": {
        "id": "vR4dnhw-DZE6",
        "colab_type": "code",
        "colab": {
          "base_uri": "https://localhost:8080/",
          "height": 185
        },
        "outputId": "18878df9-800d-46d8-c3da-30c5e51c14f7"
      },
      "source": [
        "'''\n",
        "First five rows of train.csv file\n",
        "'''\n",
        "!head train.csv"
      ],
      "execution_count": 4,
      "outputs": [
        {
          "output_type": "stream",
          "text": [
            "key,fare_amount,pickup_datetime,pickup_longitude,pickup_latitude,dropoff_longitude,dropoff_latitude,passenger_count\r\n",
            "2009-06-15 17:26:21.0000001,4.5,2009-06-15 17:26:21 UTC,-73.844311,40.721319,-73.84161,40.712278,1\r\n",
            "2010-01-05 16:52:16.0000002,16.9,2010-01-05 16:52:16 UTC,-74.016048,40.711303,-73.979268,40.782004,1\r\n",
            "2011-08-18 00:35:00.00000049,5.7,2011-08-18 00:35:00 UTC,-73.982738,40.76127,-73.991242,40.750562,2\r\n",
            "2012-04-21 04:30:42.0000001,7.7,2012-04-21 04:30:42 UTC,-73.98713,40.733143,-73.991567,40.758092,1\r\n",
            "2010-03-09 07:51:00.000000135,5.3,2010-03-09 07:51:00 UTC,-73.968095,40.768008,-73.956655,40.783762,1\r\n",
            "2011-01-06 09:50:45.0000002,12.1,2011-01-06 09:50:45 UTC,-74.000964,40.73163,-73.972892,40.758233,1\r\n",
            "2012-11-20 20:35:00.0000001,7.5,2012-11-20 20:35:00 UTC,-73.980002,40.751662,-73.973802,40.764842,1\r\n",
            "2012-01-04 17:22:00.00000081,16.5,2012-01-04 17:22:00 UTC,-73.9513,40.774138,-73.990095,40.751048,1\r\n",
            "2012-12-03 13:10:00.000000125,9,2012-12-03 13:10:00 UTC,-74.006462,40.726713,-73.993078,40.731628,1\r\n"
          ],
          "name": "stdout"
        }
      ]
    },
    {
      "cell_type": "markdown",
      "metadata": {
        "id": "EivDMDmgNl3a",
        "colab_type": "text"
      },
      "source": [
        "# **Investigating the data**"
      ]
    },
    {
      "cell_type": "code",
      "metadata": {
        "id": "ZW5rZMRWDZIG",
        "colab_type": "code",
        "colab": {
          "base_uri": "https://localhost:8080/",
          "height": 34
        },
        "outputId": "24843c4e-3d84-46d2-86a5-4ed7d1495d38"
      },
      "source": [
        "'''\n",
        "The database is too big and not enough memory. That means we can't use Pandas to count the quantity of rows. \n",
        "Here we are using other method.\n",
        "'''\n",
        "number_rows_in_file = sum(1 for line in open('train.csv'))\n",
        "number_rows_in_file"
      ],
      "execution_count": 5,
      "outputs": [
        {
          "output_type": "execute_result",
          "data": {
            "text/plain": [
              "55423857"
            ]
          },
          "metadata": {
            "tags": []
          },
          "execution_count": 5
        }
      ]
    },
    {
      "cell_type": "markdown",
      "metadata": {
        "id": "RUnrwlcSPZ7A",
        "colab_type": "text"
      },
      "source": [
        "**It's more than 55 milions of data. It's too big. We need to select a sample that we can actually use.**"
      ]
    },
    {
      "cell_type": "code",
      "metadata": {
        "id": "mJq_1e7APmvg",
        "colab_type": "code",
        "colab": {}
      },
      "source": [
        "'''\n",
        "We need a smaller sample to run some tests, and analyze the data. Later we can use the original data to check the results\n",
        "'''\n",
        "sample_size = 250000"
      ],
      "execution_count": 6,
      "outputs": []
    },
    {
      "cell_type": "markdown",
      "metadata": {
        "id": "XBFzjRPSQpAS",
        "colab_type": "text"
      },
      "source": [
        "**We are going to extract 250 thousands rows out of 55 milion rows, randomly**"
      ]
    },
    {
      "cell_type": "code",
      "metadata": {
        "id": "M8QklZM5WhHM",
        "colab_type": "code",
        "colab": {
          "base_uri": "https://localhost:8080/",
          "height": 34
        },
        "outputId": "46ded397-4699-47cc-db9d-857f34540bdc"
      },
      "source": [
        "'''\n",
        "First row is the head, so we begin from index 1\n",
        "'''\n",
        "range(1, number_rows_in_file)"
      ],
      "execution_count": 7,
      "outputs": [
        {
          "output_type": "execute_result",
          "data": {
            "text/plain": [
              "range(1, 55423857)"
            ]
          },
          "metadata": {
            "tags": []
          },
          "execution_count": 7
        }
      ]
    },
    {
      "cell_type": "code",
      "metadata": {
        "id": "ijUdfTEpWrzV",
        "colab_type": "code",
        "colab": {
          "base_uri": "https://localhost:8080/",
          "height": 34
        },
        "outputId": "c675e42a-e10d-40d0-9b63-51c07881bac3"
      },
      "source": [
        "number_rows_in_file - sample_size"
      ],
      "execution_count": 8,
      "outputs": [
        {
          "output_type": "execute_result",
          "data": {
            "text/plain": [
              "55173857"
            ]
          },
          "metadata": {
            "tags": []
          },
          "execution_count": 8
        }
      ]
    },
    {
      "cell_type": "code",
      "metadata": {
        "id": "3XHiHlKJQ5u2",
        "colab_type": "code",
        "colab": {}
      },
      "source": [
        "'''\n",
        "Those indexes at the variable 'skip_rows' will be ignored in order to extract random 25k rows from the total database\n",
        "'''\n",
        "random.seed(24)\n",
        "skip_rows = sorted(random.sample(range(1, number_rows_in_file + 1),\n",
        "                                 number_rows_in_file - sample_size))"
      ],
      "execution_count": 9,
      "outputs": []
    },
    {
      "cell_type": "code",
      "metadata": {
        "id": "dTT_QiYfX92Z",
        "colab_type": "code",
        "colab": {}
      },
      "source": [
        "'''\n",
        "Now we are gonna take those choosen values and put them in a variable called 'train'\n",
        "'''\n",
        "train = pd.read_csv('train.csv', skiprows = skip_rows)\n"
      ],
      "execution_count": 10,
      "outputs": []
    },
    {
      "cell_type": "code",
      "metadata": {
        "id": "HqI5FQ6mmK6O",
        "colab_type": "code",
        "colab": {
          "base_uri": "https://localhost:8080/",
          "height": 34
        },
        "outputId": "eaffbdd5-9a3b-4226-e61a-985f271d9858"
      },
      "source": [
        "train.shape"
      ],
      "execution_count": 11,
      "outputs": [
        {
          "output_type": "execute_result",
          "data": {
            "text/plain": [
              "(250000, 8)"
            ]
          },
          "metadata": {
            "tags": []
          },
          "execution_count": 11
        }
      ]
    },
    {
      "cell_type": "code",
      "metadata": {
        "id": "uW-NJURUmNmy",
        "colab_type": "code",
        "colab": {}
      },
      "source": [
        "'''\n",
        "Here I am creating another dataset containing only the sample that will be worked on. If i need to reset the environment,\n",
        "i just need to load this smaller sample\n",
        "'''\n",
        "train.to_csv('train_sample_' + str(sample_size) + '.csv', index = False)"
      ],
      "execution_count": 12,
      "outputs": []
    },
    {
      "cell_type": "code",
      "metadata": {
        "id": "cjrO9Nj3mNpr",
        "colab_type": "code",
        "colab": {}
      },
      "source": [
        "'''\n",
        "Now the train variable will receive the smaller data. This will be executed in the first time.\n",
        "'''\n",
        "train = pd.read_csv('train_sample_' + str(sample_size) + '.csv',\n",
        "                    parse_dates = ['key', 'pickup_datetime'],\n",
        "                    dtype = {'fare_amount': np.float32,\n",
        "                             'pickup_latitude': np.float32,\n",
        "                             'pickup_longitude': np.float32,\n",
        "                             'dropoff_latitude': np.float32,\n",
        "                             'dropoff_longitude': np.float32,\n",
        "                             'passenger_count': np.int32             \n",
        "                    })"
      ],
      "execution_count": 13,
      "outputs": []
    },
    {
      "cell_type": "code",
      "metadata": {
        "id": "B5F8jh11mNsr",
        "colab_type": "code",
        "colab": {
          "base_uri": "https://localhost:8080/",
          "height": 279
        },
        "outputId": "4190d91d-c1d2-4c83-ce03-111ddb5cbfa1"
      },
      "source": [
        "train.head()"
      ],
      "execution_count": 14,
      "outputs": [
        {
          "output_type": "execute_result",
          "data": {
            "text/html": [
              "<div>\n",
              "<style scoped>\n",
              "    .dataframe tbody tr th:only-of-type {\n",
              "        vertical-align: middle;\n",
              "    }\n",
              "\n",
              "    .dataframe tbody tr th {\n",
              "        vertical-align: top;\n",
              "    }\n",
              "\n",
              "    .dataframe thead th {\n",
              "        text-align: right;\n",
              "    }\n",
              "</style>\n",
              "<table border=\"1\" class=\"dataframe\">\n",
              "  <thead>\n",
              "    <tr style=\"text-align: right;\">\n",
              "      <th></th>\n",
              "      <th>key</th>\n",
              "      <th>fare_amount</th>\n",
              "      <th>pickup_datetime</th>\n",
              "      <th>pickup_longitude</th>\n",
              "      <th>pickup_latitude</th>\n",
              "      <th>dropoff_longitude</th>\n",
              "      <th>dropoff_latitude</th>\n",
              "      <th>passenger_count</th>\n",
              "    </tr>\n",
              "  </thead>\n",
              "  <tbody>\n",
              "    <tr>\n",
              "      <th>0</th>\n",
              "      <td>2011-06-21 16:15:00.000000730</td>\n",
              "      <td>7.300000</td>\n",
              "      <td>2011-06-21 16:15:00+00:00</td>\n",
              "      <td>-73.991875</td>\n",
              "      <td>40.754436</td>\n",
              "      <td>-73.977226</td>\n",
              "      <td>40.774323</td>\n",
              "      <td>3</td>\n",
              "    </tr>\n",
              "    <tr>\n",
              "      <th>1</th>\n",
              "      <td>2009-06-06 23:56:00.000000150</td>\n",
              "      <td>5.700000</td>\n",
              "      <td>2009-06-06 23:56:00+00:00</td>\n",
              "      <td>-73.982353</td>\n",
              "      <td>40.762497</td>\n",
              "      <td>-73.973213</td>\n",
              "      <td>40.755344</td>\n",
              "      <td>2</td>\n",
              "    </tr>\n",
              "    <tr>\n",
              "      <th>2</th>\n",
              "      <td>2012-04-25 16:19:00.000000106</td>\n",
              "      <td>5.300000</td>\n",
              "      <td>2012-04-25 16:19:00+00:00</td>\n",
              "      <td>-73.971916</td>\n",
              "      <td>40.759251</td>\n",
              "      <td>-73.962906</td>\n",
              "      <td>40.772160</td>\n",
              "      <td>1</td>\n",
              "    </tr>\n",
              "    <tr>\n",
              "      <th>3</th>\n",
              "      <td>2009-09-02 05:18:10.000000100</td>\n",
              "      <td>25.700001</td>\n",
              "      <td>2009-09-02 05:18:10+00:00</td>\n",
              "      <td>-73.991730</td>\n",
              "      <td>40.760502</td>\n",
              "      <td>-73.861244</td>\n",
              "      <td>40.767620</td>\n",
              "      <td>1</td>\n",
              "    </tr>\n",
              "    <tr>\n",
              "      <th>4</th>\n",
              "      <td>2011-09-24 22:57:00.000000290</td>\n",
              "      <td>4.100000</td>\n",
              "      <td>2011-09-24 22:57:00+00:00</td>\n",
              "      <td>-74.000687</td>\n",
              "      <td>40.742237</td>\n",
              "      <td>-74.000359</td>\n",
              "      <td>40.735275</td>\n",
              "      <td>2</td>\n",
              "    </tr>\n",
              "  </tbody>\n",
              "</table>\n",
              "</div>"
            ],
            "text/plain": [
              "                            key  fare_amount  ... dropoff_latitude  passenger_count\n",
              "0 2011-06-21 16:15:00.000000730     7.300000  ...        40.774323                3\n",
              "1 2009-06-06 23:56:00.000000150     5.700000  ...        40.755344                2\n",
              "2 2012-04-25 16:19:00.000000106     5.300000  ...        40.772160                1\n",
              "3 2009-09-02 05:18:10.000000100    25.700001  ...        40.767620                1\n",
              "4 2011-09-24 22:57:00.000000290     4.100000  ...        40.735275                2\n",
              "\n",
              "[5 rows x 8 columns]"
            ]
          },
          "metadata": {
            "tags": []
          },
          "execution_count": 14
        }
      ]
    },
    {
      "cell_type": "code",
      "metadata": {
        "id": "ZDxe9hetqVxa",
        "colab_type": "code",
        "colab": {
          "base_uri": "https://localhost:8080/",
          "height": 168
        },
        "outputId": "cd182d4d-5fd2-4686-c078-e225f54d909c"
      },
      "source": [
        "train.dtypes"
      ],
      "execution_count": 15,
      "outputs": [
        {
          "output_type": "execute_result",
          "data": {
            "text/plain": [
              "key                       datetime64[ns]\n",
              "fare_amount                      float32\n",
              "pickup_datetime      datetime64[ns, UTC]\n",
              "pickup_longitude                 float32\n",
              "pickup_latitude                  float32\n",
              "dropoff_longitude                float32\n",
              "dropoff_latitude                 float32\n",
              "passenger_count                    int32\n",
              "dtype: object"
            ]
          },
          "metadata": {
            "tags": []
          },
          "execution_count": 15
        }
      ]
    },
    {
      "cell_type": "markdown",
      "metadata": {
        "id": "doN1OVK7qb_n",
        "colab_type": "text"
      },
      "source": [
        "## **Cleaning the data**"
      ]
    },
    {
      "cell_type": "code",
      "metadata": {
        "id": "LthLCEDCqgzO",
        "colab_type": "code",
        "colab": {
          "base_uri": "https://localhost:8080/",
          "height": 168
        },
        "outputId": "837a8dd2-b8e4-4c5d-cba9-ddf263d58084"
      },
      "source": [
        "train.isna().sum(axis = 0)"
      ],
      "execution_count": 16,
      "outputs": [
        {
          "output_type": "execute_result",
          "data": {
            "text/plain": [
              "key                  0\n",
              "fare_amount          0\n",
              "pickup_datetime      0\n",
              "pickup_longitude     0\n",
              "pickup_latitude      0\n",
              "dropoff_longitude    0\n",
              "dropoff_latitude     0\n",
              "passenger_count      0\n",
              "dtype: int64"
            ]
          },
          "metadata": {
            "tags": []
          },
          "execution_count": 16
        }
      ]
    },
    {
      "cell_type": "markdown",
      "metadata": {
        "id": "TrftB5Jx_mY2",
        "colab_type": "text"
      },
      "source": [
        "**Analysing the dates**"
      ]
    },
    {
      "cell_type": "code",
      "metadata": {
        "id": "2KWER0fp_qgM",
        "colab_type": "code",
        "colab": {}
      },
      "source": [
        "key = train['key']"
      ],
      "execution_count": 17,
      "outputs": []
    },
    {
      "cell_type": "code",
      "metadata": {
        "id": "0ckcl9vrN_5T",
        "colab_type": "code",
        "colab": {
          "base_uri": "https://localhost:8080/",
          "height": 134
        },
        "outputId": "fe9a7964-6d93-4ba6-d9b8-bd0e7b6deac0"
      },
      "source": [
        "key.describe()"
      ],
      "execution_count": 18,
      "outputs": [
        {
          "output_type": "execute_result",
          "data": {
            "text/plain": [
              "count                            250000\n",
              "unique                           249991\n",
              "top       2012-03-30 15:32:00.000000200\n",
              "freq                                  2\n",
              "first     2009-01-01 00:37:17.000000100\n",
              "last      2015-06-30 23:59:45.000000100\n",
              "Name: key, dtype: object"
            ]
          },
          "metadata": {
            "tags": []
          },
          "execution_count": 18
        }
      ]
    },
    {
      "cell_type": "code",
      "metadata": {
        "id": "SZj2uqp8OCWb",
        "colab_type": "code",
        "colab": {
          "base_uri": "https://localhost:8080/",
          "height": 920
        },
        "outputId": "8fdb1a5c-5588-40f7-a312-9288a8fd9832"
      },
      "source": [
        "'''\n",
        "Looking for outliers\n",
        "'''\n",
        "\n",
        "plt.hist(key, bins = 100)"
      ],
      "execution_count": 19,
      "outputs": [
        {
          "output_type": "execute_result",
          "data": {
            "text/plain": [
              "(array([2365., 2610., 2478., 2556., 2571., 2629., 2443., 2412., 2455.,\n",
              "        2381., 2425., 2616., 2743., 2650., 2575., 2305., 2205., 2404.,\n",
              "        2342., 2646., 2773., 2567., 2612., 2508., 2245., 2223., 2368.,\n",
              "        2498., 2772., 2556., 2109., 2503., 2659., 2746., 2517., 2732.,\n",
              "        2758., 2615., 2546., 2686., 2175., 2564., 2624., 2790., 2596.,\n",
              "        2570., 2544., 2721., 2785., 2799., 2597., 2747., 2539., 2730.,\n",
              "        2487., 2478., 2521., 2658., 2420., 2402., 2645., 2269., 2671.,\n",
              "        2610., 2693., 2665., 2679., 2749., 2475., 2414., 2238., 2260.,\n",
              "        2466., 2586., 2673., 2478., 2368., 2343., 2526., 2576., 2662.,\n",
              "        2583., 2686., 2417., 2312., 2348., 2201., 2348., 2405., 2406.,\n",
              "        2376., 2355., 2066., 2261., 2349., 2308., 2266., 2309., 2252.,\n",
              "        2155.]),\n",
              " array([733408.0258912 , 733431.74563056, 733455.46536991, 733479.18510926,\n",
              "        733502.90484861, 733526.62458796, 733550.34432731, 733574.06406667,\n",
              "        733597.78380602, 733621.50354537, 733645.22328472, 733668.94302407,\n",
              "        733692.66276343, 733716.38250278, 733740.10224213, 733763.82198148,\n",
              "        733787.54172083, 733811.26146019, 733834.98119954, 733858.70093889,\n",
              "        733882.42067824, 733906.14041759, 733929.86015694, 733953.5798963 ,\n",
              "        733977.29963565, 734001.019375  , 734024.73911435, 734048.4588537 ,\n",
              "        734072.17859306, 734095.89833241, 734119.61807176, 734143.33781111,\n",
              "        734167.05755046, 734190.77728981, 734214.49702917, 734238.21676852,\n",
              "        734261.93650787, 734285.65624722, 734309.37598657, 734333.09572593,\n",
              "        734356.81546528, 734380.53520463, 734404.25494398, 734427.97468333,\n",
              "        734451.69442269, 734475.41416204, 734499.13390139, 734522.85364074,\n",
              "        734546.57338009, 734570.29311944, 734594.0128588 , 734617.73259815,\n",
              "        734641.4523375 , 734665.17207685, 734688.8918162 , 734712.61155556,\n",
              "        734736.33129491, 734760.05103426, 734783.77077361, 734807.49051296,\n",
              "        734831.21025231, 734854.92999167, 734878.64973102, 734902.36947037,\n",
              "        734926.08920972, 734949.80894907, 734973.52868843, 734997.24842778,\n",
              "        735020.96816713, 735044.68790648, 735068.40764583, 735092.12738519,\n",
              "        735115.84712454, 735139.56686389, 735163.28660324, 735187.00634259,\n",
              "        735210.72608194, 735234.4458213 , 735258.16556065, 735281.8853    ,\n",
              "        735305.60503935, 735329.3247787 , 735353.04451806, 735376.76425741,\n",
              "        735400.48399676, 735424.20373611, 735447.92347546, 735471.64321481,\n",
              "        735495.36295417, 735519.08269352, 735542.80243287, 735566.52217222,\n",
              "        735590.24191157, 735613.96165093, 735637.68139028, 735661.40112963,\n",
              "        735685.12086898, 735708.84060833, 735732.56034769, 735756.28008704,\n",
              "        735779.99982639]),\n",
              " <a list of 100 Patch objects>)"
            ]
          },
          "metadata": {
            "tags": []
          },
          "execution_count": 19
        },
        {
          "output_type": "display_data",
          "data": {
            "image/png": "[encoded data removed]",
            "text/plain": [
              "<Figure size 432x288 with 1 Axes>"
            ]
          },
          "metadata": {
            "tags": [],
            "needs_background": "light"
          }
        }
      ]
    },
    {
      "cell_type": "code",
      "metadata": {
        "id": "B-BqgXr4QBut",
        "colab_type": "code",
        "colab": {
          "base_uri": "https://localhost:8080/",
          "height": 134
        },
        "outputId": "46cd13f2-22f6-43cc-9ccd-963de93dd1e0"
      },
      "source": [
        "pdt = train['pickup_datetime']\n",
        "pdt.describe()"
      ],
      "execution_count": 20,
      "outputs": [
        {
          "output_type": "execute_result",
          "data": {
            "text/plain": [
              "count                        250000\n",
              "unique                       244650\n",
              "top       2013-04-04 20:25:00+00:00\n",
              "freq                              4\n",
              "first     2009-01-01 00:37:17+00:00\n",
              "last      2015-06-30 23:59:45+00:00\n",
              "Name: pickup_datetime, dtype: object"
            ]
          },
          "metadata": {
            "tags": []
          },
          "execution_count": 20
        }
      ]
    },
    {
      "cell_type": "code",
      "metadata": {
        "id": "400F-vtYRQg5",
        "colab_type": "code",
        "colab": {}
      },
      "source": [
        "'''\n",
        "Let's format the column 'pickup_datetime' so that we can visualize the datetime in a more friendlly way\n",
        "'''\n",
        "pdt = pdt.map(lambda date: date.tz_localize(None))"
      ],
      "execution_count": 21,
      "outputs": []
    },
    {
      "cell_type": "code",
      "metadata": {
        "id": "df7fMv11TEvQ",
        "colab_type": "code",
        "colab": {
          "base_uri": "https://localhost:8080/",
          "height": 118
        },
        "outputId": "7a7030bc-d037-4221-cc7f-f23297c8c9d3"
      },
      "source": [
        "pdt.head()"
      ],
      "execution_count": 96,
      "outputs": [
        {
          "output_type": "execute_result",
          "data": {
            "text/plain": [
              "0   2011-06-21 16:15:00\n",
              "1   2009-06-06 23:56:00\n",
              "2   2012-04-25 16:19:00\n",
              "3   2009-09-02 05:18:10\n",
              "4   2011-09-24 22:57:00\n",
              "Name: pickup_datetime, dtype: datetime64[ns]"
            ]
          },
          "metadata": {
            "tags": []
          },
          "execution_count": 96
        }
      ]
    },
    {
      "cell_type": "code",
      "metadata": {
        "id": "ygEqJqmITtCJ",
        "colab_type": "code",
        "colab": {}
      },
      "source": [
        "'''\n",
        "The same formatting done previously can be done in another way, as shown below.\n",
        "'''\n",
        "key = pd.to_datetime(key.dt.strftime('%Y-%m-%d %H:%M:%S'))"
      ],
      "execution_count": 23,
      "outputs": []
    },
    {
      "cell_type": "code",
      "metadata": {
        "id": "ZTMq2EY4VtSJ",
        "colab_type": "code",
        "colab": {
          "base_uri": "https://localhost:8080/",
          "height": 118
        },
        "outputId": "bc891645-a8c4-4942-cab7-1db737ac9f08"
      },
      "source": [
        "key.head()"
      ],
      "execution_count": 24,
      "outputs": [
        {
          "output_type": "execute_result",
          "data": {
            "text/plain": [
              "0   2011-06-21 16:15:00\n",
              "1   2009-06-06 23:56:00\n",
              "2   2012-04-25 16:19:00\n",
              "3   2009-09-02 05:18:10\n",
              "4   2011-09-24 22:57:00\n",
              "Name: key, dtype: datetime64[ns]"
            ]
          },
          "metadata": {
            "tags": []
          },
          "execution_count": 24
        }
      ]
    },
    {
      "cell_type": "code",
      "metadata": {
        "id": "haEHh4vBQfvX",
        "colab_type": "code",
        "colab": {
          "base_uri": "https://localhost:8080/",
          "height": 50
        },
        "outputId": "5535d92d-36aa-4d0c-8456-b67b32813dfa"
      },
      "source": [
        "'''\n",
        "It seems like the column 'pickup_datetime' has the same values as the column 'key'. Let's check if that's true.\n",
        "'''\n",
        "(key == pdt).value_counts()"
      ],
      "execution_count": 25,
      "outputs": [
        {
          "output_type": "execute_result",
          "data": {
            "text/plain": [
              "True    250000\n",
              "dtype: int64"
            ]
          },
          "metadata": {
            "tags": []
          },
          "execution_count": 25
        }
      ]
    },
    {
      "cell_type": "code",
      "metadata": {
        "id": "Pj0dFsh9W7bC",
        "colab_type": "code",
        "colab": {}
      },
      "source": [
        "'''\n",
        "The columns key and pdt are has the same values. So we are going to drop one of them.\n",
        "'''\n",
        "train.drop(['key'], axis = 1, inplace = True)"
      ],
      "execution_count": 26,
      "outputs": []
    },
    {
      "cell_type": "code",
      "metadata": {
        "id": "ziBeF1VeCI0g",
        "colab_type": "code",
        "colab": {}
      },
      "source": [
        "'''\n",
        "The comulm 'pickup_datetime is receiving the formatted values from column \"pdt\"'\n",
        "'''\n",
        "\n",
        "train['pickup_datetime'] = pdt"
      ],
      "execution_count": 27,
      "outputs": []
    },
    {
      "cell_type": "code",
      "metadata": {
        "id": "r1Yg0kKsDgPi",
        "colab_type": "code",
        "colab": {
          "base_uri": "https://localhost:8080/",
          "height": 195
        },
        "outputId": "d907569b-9466-4c4d-d39b-a05eaf66010d"
      },
      "source": [
        "train.head()"
      ],
      "execution_count": 28,
      "outputs": [
        {
          "output_type": "execute_result",
          "data": {
            "text/html": [
              "<div>\n",
              "<style scoped>\n",
              "    .dataframe tbody tr th:only-of-type {\n",
              "        vertical-align: middle;\n",
              "    }\n",
              "\n",
              "    .dataframe tbody tr th {\n",
              "        vertical-align: top;\n",
              "    }\n",
              "\n",
              "    .dataframe thead th {\n",
              "        text-align: right;\n",
              "    }\n",
              "</style>\n",
              "<table border=\"1\" class=\"dataframe\">\n",
              "  <thead>\n",
              "    <tr style=\"text-align: right;\">\n",
              "      <th></th>\n",
              "      <th>fare_amount</th>\n",
              "      <th>pickup_datetime</th>\n",
              "      <th>pickup_longitude</th>\n",
              "      <th>pickup_latitude</th>\n",
              "      <th>dropoff_longitude</th>\n",
              "      <th>dropoff_latitude</th>\n",
              "      <th>passenger_count</th>\n",
              "    </tr>\n",
              "  </thead>\n",
              "  <tbody>\n",
              "    <tr>\n",
              "      <th>0</th>\n",
              "      <td>7.300000</td>\n",
              "      <td>2011-06-21 16:15:00</td>\n",
              "      <td>-73.991875</td>\n",
              "      <td>40.754436</td>\n",
              "      <td>-73.977226</td>\n",
              "      <td>40.774323</td>\n",
              "      <td>3</td>\n",
              "    </tr>\n",
              "    <tr>\n",
              "      <th>1</th>\n",
              "      <td>5.700000</td>\n",
              "      <td>2009-06-06 23:56:00</td>\n",
              "      <td>-73.982353</td>\n",
              "      <td>40.762497</td>\n",
              "      <td>-73.973213</td>\n",
              "      <td>40.755344</td>\n",
              "      <td>2</td>\n",
              "    </tr>\n",
              "    <tr>\n",
              "      <th>2</th>\n",
              "      <td>5.300000</td>\n",
              "      <td>2012-04-25 16:19:00</td>\n",
              "      <td>-73.971916</td>\n",
              "      <td>40.759251</td>\n",
              "      <td>-73.962906</td>\n",
              "      <td>40.772160</td>\n",
              "      <td>1</td>\n",
              "    </tr>\n",
              "    <tr>\n",
              "      <th>3</th>\n",
              "      <td>25.700001</td>\n",
              "      <td>2009-09-02 05:18:10</td>\n",
              "      <td>-73.991730</td>\n",
              "      <td>40.760502</td>\n",
              "      <td>-73.861244</td>\n",
              "      <td>40.767620</td>\n",
              "      <td>1</td>\n",
              "    </tr>\n",
              "    <tr>\n",
              "      <th>4</th>\n",
              "      <td>4.100000</td>\n",
              "      <td>2011-09-24 22:57:00</td>\n",
              "      <td>-74.000687</td>\n",
              "      <td>40.742237</td>\n",
              "      <td>-74.000359</td>\n",
              "      <td>40.735275</td>\n",
              "      <td>2</td>\n",
              "    </tr>\n",
              "  </tbody>\n",
              "</table>\n",
              "</div>"
            ],
            "text/plain": [
              "   fare_amount     pickup_datetime  ...  dropoff_latitude  passenger_count\n",
              "0     7.300000 2011-06-21 16:15:00  ...         40.774323                3\n",
              "1     5.700000 2009-06-06 23:56:00  ...         40.755344                2\n",
              "2     5.300000 2012-04-25 16:19:00  ...         40.772160                1\n",
              "3    25.700001 2009-09-02 05:18:10  ...         40.767620                1\n",
              "4     4.100000 2011-09-24 22:57:00  ...         40.735275                2\n",
              "\n",
              "[5 rows x 7 columns]"
            ]
          },
          "metadata": {
            "tags": []
          },
          "execution_count": 28
        }
      ]
    },
    {
      "cell_type": "markdown",
      "metadata": {
        "id": "Br-y8IeKEijD",
        "colab_type": "text"
      },
      "source": [
        "## **Analysing the Coordenates**"
      ]
    },
    {
      "cell_type": "markdown",
      "metadata": {
        "id": "RQRosgo5FyGC",
        "colab_type": "text"
      },
      "source": [
        "**pickup_longitude**"
      ]
    },
    {
      "cell_type": "code",
      "metadata": {
        "id": "-EpdeYywEm8Y",
        "colab_type": "code",
        "colab": {
          "base_uri": "https://localhost:8080/",
          "height": 168
        },
        "outputId": "ba4eb23a-8f91-444d-b8f3-36063a992168"
      },
      "source": [
        "'''\n",
        "Let's look for some outliers. We can see in the describe below that the maximum and the minimum values are \n",
        "inconsistent\n",
        "'''\n",
        "\n",
        "plon = train['pickup_longitude']\n",
        "plon.describe()"
      ],
      "execution_count": 29,
      "outputs": [
        {
          "output_type": "execute_result",
          "data": {
            "text/plain": [
              "count    250000.000000\n",
              "mean        -72.528488\n",
              "std          15.740434\n",
              "min       -3384.713135\n",
              "25%         -73.992073\n",
              "50%         -73.981812\n",
              "75%         -73.967024\n",
              "max        2889.983887\n",
              "Name: pickup_longitude, dtype: float64"
            ]
          },
          "metadata": {
            "tags": []
          },
          "execution_count": 29
        }
      ]
    },
    {
      "cell_type": "code",
      "metadata": {
        "id": "bkNcYZSfGF5k",
        "colab_type": "code",
        "colab": {
          "base_uri": "https://localhost:8080/",
          "height": 1000
        },
        "outputId": "892b2f60-d298-4686-8e96-085a4b4b7d52"
      },
      "source": [
        "plt.hist(plon, bins = 100)"
      ],
      "execution_count": 30,
      "outputs": [
        {
          "output_type": "execute_result",
          "data": {
            "text/plain": [
              "(array([1.00000e+00, 0.00000e+00, 0.00000e+00, 0.00000e+00, 0.00000e+00,\n",
              "        0.00000e+00, 0.00000e+00, 0.00000e+00, 0.00000e+00, 0.00000e+00,\n",
              "        0.00000e+00, 0.00000e+00, 0.00000e+00, 0.00000e+00, 0.00000e+00,\n",
              "        0.00000e+00, 0.00000e+00, 0.00000e+00, 0.00000e+00, 0.00000e+00,\n",
              "        0.00000e+00, 0.00000e+00, 0.00000e+00, 0.00000e+00, 1.00000e+00,\n",
              "        0.00000e+00, 0.00000e+00, 0.00000e+00, 1.00000e+00, 0.00000e+00,\n",
              "        0.00000e+00, 0.00000e+00, 0.00000e+00, 0.00000e+00, 0.00000e+00,\n",
              "        1.00000e+00, 0.00000e+00, 0.00000e+00, 0.00000e+00, 0.00000e+00,\n",
              "        0.00000e+00, 0.00000e+00, 2.00000e+00, 0.00000e+00, 0.00000e+00,\n",
              "        0.00000e+00, 0.00000e+00, 0.00000e+00, 0.00000e+00, 0.00000e+00,\n",
              "        0.00000e+00, 1.00000e+00, 2.45048e+05, 4.82300e+03, 1.20000e+02,\n",
              "        0.00000e+00, 0.00000e+00, 0.00000e+00, 0.00000e+00, 0.00000e+00,\n",
              "        0.00000e+00, 0.00000e+00, 0.00000e+00, 0.00000e+00, 0.00000e+00,\n",
              "        0.00000e+00, 0.00000e+00, 0.00000e+00, 0.00000e+00, 0.00000e+00,\n",
              "        0.00000e+00, 0.00000e+00, 0.00000e+00, 0.00000e+00, 0.00000e+00,\n",
              "        0.00000e+00, 0.00000e+00, 0.00000e+00, 0.00000e+00, 0.00000e+00,\n",
              "        0.00000e+00, 0.00000e+00, 0.00000e+00, 0.00000e+00, 0.00000e+00,\n",
              "        0.00000e+00, 0.00000e+00, 0.00000e+00, 0.00000e+00, 0.00000e+00,\n",
              "        0.00000e+00, 0.00000e+00, 0.00000e+00, 0.00000e+00, 1.00000e+00,\n",
              "        0.00000e+00, 0.00000e+00, 0.00000e+00, 0.00000e+00, 1.00000e+00]),\n",
              " array([-3384.7131  , -3321.966   , -3259.2192  , -3196.4722  ,\n",
              "        -3133.7253  , -3070.9783  , -3008.2312  , -2945.4844  ,\n",
              "        -2882.7373  , -2819.9905  , -2757.2434  , -2694.4966  ,\n",
              "        -2631.7495  , -2569.0024  , -2506.2556  , -2443.5085  ,\n",
              "        -2380.7617  , -2318.0146  , -2255.2676  , -2192.5208  ,\n",
              "        -2129.7737  , -2067.0269  , -2004.2798  , -1941.5328  ,\n",
              "        -1878.7859  , -1816.0388  , -1753.2919  , -1690.5449  ,\n",
              "        -1627.798   , -1565.051   , -1502.3041  , -1439.557   ,\n",
              "        -1376.81    , -1314.0631  , -1251.3162  , -1188.5692  ,\n",
              "        -1125.8223  , -1063.0752  , -1000.32825 ,  -937.5813  ,\n",
              "         -874.83435 ,  -812.08734 ,  -749.3404  ,  -686.59344 ,\n",
              "         -623.84644 ,  -561.0995  ,  -498.3525  ,  -435.60553 ,\n",
              "         -372.85855 ,  -310.1116  ,  -247.36462 ,  -184.61766 ,\n",
              "         -121.87068 ,   -59.123714,     3.623257,    66.370224,\n",
              "          129.1172  ,   191.86417 ,   254.61115 ,   317.3581  ,\n",
              "          380.10507 ,   442.85205 ,   505.59903 ,   568.346   ,\n",
              "          631.09296 ,   693.8399  ,   756.5869  ,   819.33386 ,\n",
              "          882.0808  ,   944.8278  ,  1007.57477 ,  1070.3218  ,\n",
              "         1133.0687  ,  1195.8157  ,  1258.5626  ,  1321.3096  ,\n",
              "         1384.0566  ,  1446.8036  ,  1509.5505  ,  1572.2975  ,\n",
              "         1635.0444  ,  1697.7915  ,  1760.5385  ,  1823.2854  ,\n",
              "         1886.0323  ,  1948.7793  ,  2011.5262  ,  2074.2732  ,\n",
              "         2137.0203  ,  2199.7673  ,  2262.5142  ,  2325.2612  ,\n",
              "         2388.008   ,  2450.7551  ,  2513.502   ,  2576.249   ,\n",
              "         2638.996   ,  2701.743   ,  2764.49    ,  2827.2368  ,\n",
              "         2889.984   ], dtype=float32),\n",
              " <a list of 100 Patch objects>)"
            ]
          },
          "metadata": {
            "tags": []
          },
          "execution_count": 30
        },
        {
          "output_type": "display_data",
          "data": {
            "image/png": "[encoded data removed]",
            "text/plain": [
              "<Figure size 432x288 with 1 Axes>"
            ]
          },
          "metadata": {
            "tags": [],
            "needs_background": "light"
          }
        }
      ]
    },
    {
      "cell_type": "code",
      "metadata": {
        "id": "-ofBedBxGdmK",
        "colab_type": "code",
        "colab": {
          "base_uri": "https://localhost:8080/",
          "height": 34
        },
        "outputId": "2ad0764b-3ea7-4415-cc2f-64d501ffacb0"
      },
      "source": [
        "'''\n",
        "The median will show the centered value of the distribution\n",
        "'''\n",
        "plon.median()"
      ],
      "execution_count": 31,
      "outputs": [
        {
          "output_type": "execute_result",
          "data": {
            "text/plain": [
              "-73.9818115234375"
            ]
          },
          "metadata": {
            "tags": []
          },
          "execution_count": 31
        }
      ]
    },
    {
      "cell_type": "code",
      "metadata": {
        "id": "KV1P95dqGz7K",
        "colab_type": "code",
        "colab": {
          "base_uri": "https://localhost:8080/",
          "height": 970
        },
        "outputId": "7bf6cd55-eb39-4ef9-cc87-0504c1c68954"
      },
      "source": [
        "'''\n",
        "Let's check the values around the median\n",
        "'''\n",
        "plt.hist(plon[(plon > plon.median() - 2.5) & (plon < plon.median() + 2.5)], bins = 100)"
      ],
      "execution_count": 32,
      "outputs": [
        {
          "output_type": "execute_result",
          "data": {
            "text/plain": [
              "(array([1.0000e+00, 0.0000e+00, 0.0000e+00, 1.0000e+00, 0.0000e+00,\n",
              "        0.0000e+00, 1.0000e+00, 0.0000e+00, 0.0000e+00, 0.0000e+00,\n",
              "        0.0000e+00, 0.0000e+00, 0.0000e+00, 0.0000e+00, 0.0000e+00,\n",
              "        9.0000e+00, 0.0000e+00, 8.0000e+00, 1.0000e+00, 0.0000e+00,\n",
              "        0.0000e+00, 0.0000e+00, 0.0000e+00, 0.0000e+00, 0.0000e+00,\n",
              "        0.0000e+00, 0.0000e+00, 0.0000e+00, 0.0000e+00, 0.0000e+00,\n",
              "        1.0000e+00, 0.0000e+00, 1.1000e+01, 0.0000e+00, 1.0000e+00,\n",
              "        0.0000e+00, 0.0000e+00, 2.0000e+00, 1.0000e+00, 1.0000e+00,\n",
              "        5.0000e+00, 1.0000e+01, 8.0000e+00, 1.6000e+01, 3.5000e+01,\n",
              "        2.2000e+01, 3.8000e+01, 5.5800e+02, 1.6490e+05, 6.7478e+04,\n",
              "        2.1440e+03, 5.2700e+03, 3.9200e+02, 3.9510e+03, 3.3000e+01,\n",
              "        2.1000e+01, 5.0000e+00, 4.0000e+00, 3.0000e+00, 9.0000e+00,\n",
              "        0.0000e+00, 3.0000e+00, 2.0000e+00, 2.0000e+00, 0.0000e+00,\n",
              "        1.0000e+00, 0.0000e+00, 2.0000e+00, 7.9000e+01, 1.0000e+00,\n",
              "        1.0000e+00, 0.0000e+00, 0.0000e+00, 0.0000e+00, 1.0000e+00,\n",
              "        0.0000e+00, 0.0000e+00, 0.0000e+00, 0.0000e+00, 0.0000e+00,\n",
              "        0.0000e+00, 0.0000e+00, 0.0000e+00, 0.0000e+00, 0.0000e+00,\n",
              "        0.0000e+00, 0.0000e+00, 1.0000e+00, 0.0000e+00, 0.0000e+00,\n",
              "        0.0000e+00, 0.0000e+00, 0.0000e+00, 0.0000e+00, 0.0000e+00,\n",
              "        1.0000e+00, 0.0000e+00, 0.0000e+00, 0.0000e+00, 1.0000e+00]),\n",
              " array([-76.082565, -76.03953 , -75.99649 , -75.953445, -75.91041 ,\n",
              "        -75.86737 , -75.82433 , -75.78129 , -75.73825 , -75.69521 ,\n",
              "        -75.652176, -75.60913 , -75.56609 , -75.523056, -75.48002 ,\n",
              "        -75.43697 , -75.393936, -75.3509  , -75.30786 , -75.26482 ,\n",
              "        -75.22178 , -75.17874 , -75.135704, -75.09266 , -75.04962 ,\n",
              "        -75.006584, -74.96355 , -74.92051 , -74.877464, -74.83443 ,\n",
              "        -74.79139 , -74.74835 , -74.70531 , -74.66227 , -74.61923 ,\n",
              "        -74.576195, -74.53315 , -74.49011 , -74.447075, -74.40404 ,\n",
              "        -74.36099 , -74.317955, -74.27492 , -74.23188 , -74.188835,\n",
              "        -74.1458  , -74.10276 , -74.05972 , -74.01668 , -73.97364 ,\n",
              "        -73.9306  , -73.887566, -73.84453 , -73.80148 , -73.758446,\n",
              "        -73.71541 , -73.67237 , -73.629326, -73.58629 , -73.54325 ,\n",
              "        -73.50021 , -73.45717 , -73.41413 , -73.37109 , -73.32806 ,\n",
              "        -73.28501 , -73.241974, -73.19894 , -73.1559  , -73.112854,\n",
              "        -73.06982 , -73.02678 , -72.98374 , -72.9407  , -72.89766 ,\n",
              "        -72.85462 , -72.811584, -72.76855 , -72.7255  , -72.682465,\n",
              "        -72.63943 , -72.59639 , -72.553345, -72.51031 , -72.46727 ,\n",
              "        -72.42423 , -72.38119 , -72.33815 , -72.29511 , -72.252075,\n",
              "        -72.20903 , -72.16599 , -72.122955, -72.07992 , -72.03687 ,\n",
              "        -71.993835, -71.9508  , -71.90776 , -71.864716, -71.82168 ,\n",
              "        -71.77864 ], dtype=float32),\n",
              " <a list of 100 Patch objects>)"
            ]
          },
          "metadata": {
            "tags": []
          },
          "execution_count": 32
        },
        {
          "output_type": "display_data",
          "data": {
            "image/png": "[encoded data removed]",
            "text/plain": [
              "<Figure size 432x288 with 1 Axes>"
            ]
          },
          "metadata": {
            "tags": [],
            "needs_background": "light"
          }
        }
      ]
    },
    {
      "cell_type": "code",
      "metadata": {
        "id": "CGSTNAgJHskI",
        "colab_type": "code",
        "colab": {}
      },
      "source": [
        "'''\n",
        "We don't want inconsistent values in our dataframe. We only want values ​​that are 0.5 distances from the median.\n",
        "The values that is not under this distance, is inconsistent and it's gonna be removed.\n",
        "'''\n",
        "\n",
        "plon_val = (plon > plon.median() - 0.5) & (plon < plon.median() + 0.5)"
      ],
      "execution_count": 33,
      "outputs": []
    },
    {
      "cell_type": "code",
      "metadata": {
        "id": "DDedz2GlIMU6",
        "colab_type": "code",
        "colab": {
          "base_uri": "https://localhost:8080/",
          "height": 67
        },
        "outputId": "6d9d94cd-001b-450b-e0a7-9a44691f6f19"
      },
      "source": [
        "'''\n",
        "We have 5095 inconsistent values and they are gonna be removed\n",
        "'''\n",
        "plon_val.value_counts()"
      ],
      "execution_count": 34,
      "outputs": [
        {
          "output_type": "execute_result",
          "data": {
            "text/plain": [
              "True     244905\n",
              "False      5095\n",
              "Name: pickup_longitude, dtype: int64"
            ]
          },
          "metadata": {
            "tags": []
          },
          "execution_count": 34
        }
      ]
    },
    {
      "cell_type": "code",
      "metadata": {
        "id": "Ib62uqB1IMsk",
        "colab_type": "code",
        "colab": {
          "base_uri": "https://localhost:8080/",
          "height": 118
        },
        "outputId": "4d7bc374-4486-458a-8913-42b78d8599c3"
      },
      "source": [
        "'''\n",
        "We are printing the values normalized.\n",
        "'''\n",
        "print(plon_val.value_counts(), '\\n', plon_val.value_counts(normalize = True))"
      ],
      "execution_count": 35,
      "outputs": [
        {
          "output_type": "stream",
          "text": [
            "True     244905\n",
            "False      5095\n",
            "Name: pickup_longitude, dtype: int64 \n",
            " True     0.97962\n",
            "False    0.02038\n",
            "Name: pickup_longitude, dtype: float64\n"
          ],
          "name": "stdout"
        }
      ]
    },
    {
      "cell_type": "markdown",
      "metadata": {
        "id": "Xn0qjvqksnVr",
        "colab_type": "text"
      },
      "source": [
        "# **The same operation done before with the 'pickup_longitude' will be done more times for other variables**"
      ]
    },
    {
      "cell_type": "markdown",
      "metadata": {
        "id": "hFHjBxgUJ7sa",
        "colab_type": "text"
      },
      "source": [
        "**pickup_latitude**\n"
      ]
    },
    {
      "cell_type": "code",
      "metadata": {
        "id": "K9-dMrUvIM5p",
        "colab_type": "code",
        "colab": {
          "base_uri": "https://localhost:8080/",
          "height": 168
        },
        "outputId": "2e145542-2b35-4b1b-9dbf-b8f99bd11c5e"
      },
      "source": [
        "plat = train['pickup_latitude']\n",
        "plat.describe()"
      ],
      "execution_count": 36,
      "outputs": [
        {
          "output_type": "execute_result",
          "data": {
            "text/plain": [
              "count    250000.000000\n",
              "mean         39.972263\n",
              "std           8.903992\n",
              "min       -2108.157715\n",
              "25%          40.734966\n",
              "50%          40.752640\n",
              "75%          40.767147\n",
              "max        1978.489990\n",
              "Name: pickup_latitude, dtype: float64"
            ]
          },
          "metadata": {
            "tags": []
          },
          "execution_count": 36
        }
      ]
    },
    {
      "cell_type": "code",
      "metadata": {
        "id": "6QeNaDwsIM31",
        "colab_type": "code",
        "colab": {
          "base_uri": "https://localhost:8080/",
          "height": 920
        },
        "outputId": "46fc058d-75af-4a74-be10-8d963474658c"
      },
      "source": [
        "plt.hist(plat[(plat > plat.median() - 2.5) & (plat < plat.median() + 2.5)], bins = 100)"
      ],
      "execution_count": 37,
      "outputs": [
        {
          "output_type": "execute_result",
          "data": {
            "text/plain": [
              "(array([1.00000e+00, 0.00000e+00, 0.00000e+00, 0.00000e+00, 0.00000e+00,\n",
              "        1.00000e+00, 0.00000e+00, 0.00000e+00, 0.00000e+00, 0.00000e+00,\n",
              "        0.00000e+00, 0.00000e+00, 1.00000e+00, 0.00000e+00, 0.00000e+00,\n",
              "        0.00000e+00, 0.00000e+00, 1.00000e+00, 1.00000e+00, 0.00000e+00,\n",
              "        0.00000e+00, 0.00000e+00, 0.00000e+00, 0.00000e+00, 0.00000e+00,\n",
              "        0.00000e+00, 0.00000e+00, 1.00000e+00, 0.00000e+00, 0.00000e+00,\n",
              "        0.00000e+00, 0.00000e+00, 1.80000e+01, 4.00000e+00, 1.00000e+00,\n",
              "        0.00000e+00, 0.00000e+00, 0.00000e+00, 0.00000e+00, 0.00000e+00,\n",
              "        1.00000e+00, 0.00000e+00, 0.00000e+00, 1.00000e+00, 1.00000e+00,\n",
              "        2.00000e+00, 1.20000e+01, 0.00000e+00, 1.00000e+00, 3.00000e+00,\n",
              "        4.00000e+00, 4.00000e+00, 3.00000e+00, 2.00000e+00, 8.00000e+00,\n",
              "        9.00000e+00, 3.50000e+01, 1.13000e+03, 4.51200e+03, 3.20440e+04,\n",
              "        1.47045e+05, 5.82880e+04, 1.66800e+03, 1.35000e+02, 2.10000e+01,\n",
              "        9.00000e+00, 4.00000e+00, 1.10000e+01, 5.00000e+00, 2.00000e+00,\n",
              "        1.00000e+00, 1.00000e+00, 0.00000e+00, 1.00000e+00, 0.00000e+00,\n",
              "        7.90000e+01, 1.00000e+00, 0.00000e+00, 2.00000e+00, 0.00000e+00,\n",
              "        0.00000e+00, 0.00000e+00, 0.00000e+00, 0.00000e+00, 0.00000e+00,\n",
              "        1.00000e+00, 0.00000e+00, 0.00000e+00, 0.00000e+00, 0.00000e+00,\n",
              "        0.00000e+00, 0.00000e+00, 0.00000e+00, 0.00000e+00, 0.00000e+00,\n",
              "        0.00000e+00, 1.00000e+00, 0.00000e+00, 1.00000e+00, 1.00000e+00]),\n",
              " array([38.255737, 38.29692 , 38.338104, 38.379284, 38.420467, 38.46165 ,\n",
              "        38.502834, 38.544018, 38.585197, 38.62638 , 38.667564, 38.708748,\n",
              "        38.749928, 38.79111 , 38.832294, 38.873478, 38.91466 , 38.95584 ,\n",
              "        38.997025, 39.038208, 39.07939 , 39.120575, 39.161755, 39.202938,\n",
              "        39.24412 , 39.285305, 39.32649 , 39.36767 , 39.40885 , 39.450035,\n",
              "        39.49122 , 39.5324  , 39.57358 , 39.614765, 39.65595 , 39.697132,\n",
              "        39.73831 , 39.779495, 39.82068 , 39.861862, 39.903046, 39.944225,\n",
              "        39.98541 , 40.026592, 40.067776, 40.10896 , 40.15014 , 40.191322,\n",
              "        40.232506, 40.27369 , 40.314873, 40.356052, 40.397236, 40.43842 ,\n",
              "        40.479603, 40.520782, 40.561966, 40.60315 , 40.644333, 40.685516,\n",
              "        40.726696, 40.76788 , 40.809063, 40.850246, 40.89143 , 40.93261 ,\n",
              "        40.973793, 41.014977, 41.05616 , 41.097343, 41.138523, 41.179707,\n",
              "        41.22089 , 41.262074, 41.303253, 41.344437, 41.38562 , 41.426804,\n",
              "        41.467987, 41.509167, 41.55035 , 41.591534, 41.632717, 41.6739  ,\n",
              "        41.71508 , 41.756264, 41.797447, 41.83863 , 41.879814, 41.920994,\n",
              "        41.962177, 42.00336 , 42.044544, 42.085724, 42.126907, 42.16809 ,\n",
              "        42.209274, 42.250458, 42.291637, 42.33282 , 42.374004],\n",
              "       dtype=float32),\n",
              " <a list of 100 Patch objects>)"
            ]
          },
          "metadata": {
            "tags": []
          },
          "execution_count": 37
        },
        {
          "output_type": "display_data",
          "data": {
            "image/png": "[encoded data removed]",
            "text/plain": [
              "<Figure size 432x288 with 1 Axes>"
            ]
          },
          "metadata": {
            "tags": [],
            "needs_background": "light"
          }
        }
      ]
    },
    {
      "cell_type": "code",
      "metadata": {
        "id": "edZqK2yFIMx-",
        "colab_type": "code",
        "colab": {}
      },
      "source": [
        "plat_val = (plat > plat.median() - 0.5) & (plat < plat.median() + 0.5)"
      ],
      "execution_count": 38,
      "outputs": []
    },
    {
      "cell_type": "code",
      "metadata": {
        "id": "SFIO_jN5M1pW",
        "colab_type": "code",
        "colab": {
          "base_uri": "https://localhost:8080/",
          "height": 118
        },
        "outputId": "2835cec0-706b-4d30-8cb5-4b1faaf2e9e8"
      },
      "source": [
        "print(plat_val.value_counts(), '\\n', plat_val.value_counts(normalize= True))"
      ],
      "execution_count": 39,
      "outputs": [
        {
          "output_type": "stream",
          "text": [
            "True     244945\n",
            "False      5055\n",
            "Name: pickup_latitude, dtype: int64 \n",
            " True     0.97978\n",
            "False    0.02022\n",
            "Name: pickup_latitude, dtype: float64\n"
          ],
          "name": "stdout"
        }
      ]
    },
    {
      "cell_type": "markdown",
      "metadata": {
        "id": "auX361vkOeOh",
        "colab_type": "text"
      },
      "source": [
        "**dropoff_longitude**"
      ]
    },
    {
      "cell_type": "code",
      "metadata": {
        "id": "NJqyJtPcOhX6",
        "colab_type": "code",
        "colab": {}
      },
      "source": [
        "dlon = train['dropoff_longitude']"
      ],
      "execution_count": 40,
      "outputs": []
    },
    {
      "cell_type": "code",
      "metadata": {
        "id": "0TAmpvMEOlTh",
        "colab_type": "code",
        "colab": {
          "base_uri": "https://localhost:8080/",
          "height": 168
        },
        "outputId": "2e5abe5d-8c71-4fdc-a531-65e5f6dfd1b5"
      },
      "source": [
        "dlon.describe()"
      ],
      "execution_count": 41,
      "outputs": [
        {
          "output_type": "execute_result",
          "data": {
            "text/plain": [
              "count    250000.000000\n",
              "mean        -72.546288\n",
              "std          14.218449\n",
              "min       -3047.714844\n",
              "25%         -73.991402\n",
              "50%         -73.980103\n",
              "75%         -73.963638\n",
              "max        2554.397217\n",
              "Name: dropoff_longitude, dtype: float64"
            ]
          },
          "metadata": {
            "tags": []
          },
          "execution_count": 41
        }
      ]
    },
    {
      "cell_type": "code",
      "metadata": {
        "id": "qrKAAmzNOmlp",
        "colab_type": "code",
        "colab": {
          "base_uri": "https://localhost:8080/",
          "height": 1000
        },
        "outputId": "67c54a02-973a-4968-92e4-6f006047e265"
      },
      "source": [
        "fig, ax = plt.subplots(1, 2, figsize = (15, 5))\n",
        "ax[0].hist(dlon, bins = 100)\n",
        "ax[1].hist(dlon[(dlon > dlon.median() - 2.5) & (dlon < dlon.median() + 2.5)], bins = 100)"
      ],
      "execution_count": 42,
      "outputs": [
        {
          "output_type": "execute_result",
          "data": {
            "text/plain": [
              "(array([1.00000e+00, 0.00000e+00, 0.00000e+00, 0.00000e+00, 0.00000e+00,\n",
              "        0.00000e+00, 0.00000e+00, 0.00000e+00, 0.00000e+00, 0.00000e+00,\n",
              "        1.00000e+00, 4.00000e+00, 0.00000e+00, 2.00000e+00, 1.00000e+00,\n",
              "        1.00000e+00, 0.00000e+00, 0.00000e+00, 0.00000e+00, 0.00000e+00,\n",
              "        0.00000e+00, 0.00000e+00, 0.00000e+00, 0.00000e+00, 1.00000e+00,\n",
              "        0.00000e+00, 0.00000e+00, 0.00000e+00, 0.00000e+00, 0.00000e+00,\n",
              "        1.20000e+01, 0.00000e+00, 1.00000e+00, 0.00000e+00, 2.00000e+00,\n",
              "        1.00000e+00, 1.00000e+00, 3.00000e+00, 5.00000e+00, 4.00000e+00,\n",
              "        1.40000e+01, 1.10000e+01, 5.50000e+01, 3.38000e+02, 3.00000e+01,\n",
              "        6.00000e+01, 3.81000e+02, 8.00350e+04, 1.39989e+05, 1.43890e+04,\n",
              "        3.47100e+03, 3.07700e+03, 8.91000e+02, 1.93100e+03, 1.59000e+02,\n",
              "        5.10000e+01, 1.80000e+01, 1.00000e+01, 1.20000e+01, 1.00000e+01,\n",
              "        5.00000e+00, 2.00000e+00, 7.00000e+00, 3.00000e+00, 2.00000e+00,\n",
              "        1.00000e+00, 1.00000e+00, 0.00000e+00, 0.00000e+00, 6.10000e+01,\n",
              "        0.00000e+00, 0.00000e+00, 1.00000e+00, 0.00000e+00, 0.00000e+00,\n",
              "        0.00000e+00, 1.00000e+00, 0.00000e+00, 0.00000e+00, 0.00000e+00,\n",
              "        0.00000e+00, 0.00000e+00, 0.00000e+00, 0.00000e+00, 0.00000e+00,\n",
              "        0.00000e+00, 0.00000e+00, 0.00000e+00, 1.00000e+00, 0.00000e+00,\n",
              "        0.00000e+00, 0.00000e+00, 0.00000e+00, 0.00000e+00, 0.00000e+00,\n",
              "        0.00000e+00, 0.00000e+00, 0.00000e+00, 0.00000e+00, 1.00000e+00]),\n",
              " array([-75.86268 , -75.82362 , -75.78457 , -75.745514, -75.70646 ,\n",
              "        -75.667404, -75.62835 , -75.5893  , -75.55025 , -75.51119 ,\n",
              "        -75.47214 , -75.43308 , -75.39403 , -75.35497 , -75.31592 ,\n",
              "        -75.27686 , -75.23781 , -75.19875 , -75.1597  , -75.12065 ,\n",
              "        -75.0816  , -75.04254 , -75.00349 , -74.96443 , -74.92538 ,\n",
              "        -74.88632 , -74.84727 , -74.80821 , -74.76916 , -74.7301  ,\n",
              "        -74.69105 , -74.65199 , -74.612946, -74.57389 , -74.534836,\n",
              "        -74.49578 , -74.456726, -74.41767 , -74.37862 , -74.33956 ,\n",
              "        -74.30051 , -74.26145 , -74.2224  , -74.18334 , -74.144295,\n",
              "        -74.10524 , -74.066185, -74.02713 , -73.988075, -73.94902 ,\n",
              "        -73.909966, -73.87091 , -73.831856, -73.7928  , -73.753746,\n",
              "        -73.71469 , -73.67564 , -73.63659 , -73.597534, -73.55848 ,\n",
              "        -73.519424, -73.48037 , -73.441315, -73.40226 , -73.363205,\n",
              "        -73.32415 , -73.285095, -73.24604 , -73.206985, -73.16794 ,\n",
              "        -73.12888 , -73.08983 , -73.05077 , -73.01172 , -72.972664,\n",
              "        -72.93361 , -72.894554, -72.8555  , -72.816444, -72.77739 ,\n",
              "        -72.738335, -72.69928 , -72.66023 , -72.62118 , -72.58212 ,\n",
              "        -72.54307 , -72.50401 , -72.46496 , -72.4259  , -72.38685 ,\n",
              "        -72.34779 , -72.30874 , -72.269684, -72.23063 , -72.19158 ,\n",
              "        -72.15253 , -72.11347 , -72.07442 , -72.03536 , -71.99631 ,\n",
              "        -71.95725 ], dtype=float32),\n",
              " <a list of 100 Patch objects>)"
            ]
          },
          "metadata": {
            "tags": []
          },
          "execution_count": 42
        },
        {
          "output_type": "display_data",
          "data": {
            "image/png": "[encoded data removed]",
            "text/plain": [
              "<Figure size 1080x360 with 2 Axes>"
            ]
          },
          "metadata": {
            "tags": [],
            "needs_background": "light"
          }
        }
      ]
    },
    {
      "cell_type": "code",
      "metadata": {
        "id": "tDBo5v9uQTpN",
        "colab_type": "code",
        "colab": {
          "base_uri": "https://localhost:8080/",
          "height": 118
        },
        "outputId": "f96a4c5f-d266-4b45-ca23-d76011962db1"
      },
      "source": [
        "dlon_val = (dlon > dlon.median()- 0.5) & (dlon < dlon.median() + 0.5)\n",
        "print(dlon_val.value_counts(), '\\n', dlon_val.value_counts(normalize = True))"
      ],
      "execution_count": 43,
      "outputs": [
        {
          "output_type": "stream",
          "text": [
            "True     244950\n",
            "False      5050\n",
            "Name: dropoff_longitude, dtype: int64 \n",
            " True     0.9798\n",
            "False    0.0202\n",
            "Name: dropoff_longitude, dtype: float64\n"
          ],
          "name": "stdout"
        }
      ]
    },
    {
      "cell_type": "markdown",
      "metadata": {
        "id": "PbaGuwQ4UWAA",
        "colab_type": "text"
      },
      "source": [
        "**dropoff_latitude**"
      ]
    },
    {
      "cell_type": "code",
      "metadata": {
        "id": "OCuR3FCaUZFy",
        "colab_type": "code",
        "colab": {
          "base_uri": "https://localhost:8080/",
          "height": 168
        },
        "outputId": "ea9ddb79-b96b-4629-c7c6-d60b80bbb438"
      },
      "source": [
        "dlat = train['dropoff_latitude']\n",
        "dlat.describe()"
      ],
      "execution_count": 44,
      "outputs": [
        {
          "output_type": "execute_result",
          "data": {
            "text/plain": [
              "count    250000.000000\n",
              "mean         39.981991\n",
              "std          10.486096\n",
              "min       -2450.704834\n",
              "25%          40.734032\n",
              "50%          40.753296\n",
              "75%          40.768162\n",
              "max        2561.559082\n",
              "Name: dropoff_latitude, dtype: float64"
            ]
          },
          "metadata": {
            "tags": []
          },
          "execution_count": 44
        }
      ]
    },
    {
      "cell_type": "code",
      "metadata": {
        "id": "0_TeDSdFUbqa",
        "colab_type": "code",
        "colab": {
          "base_uri": "https://localhost:8080/",
          "height": 975
        },
        "outputId": "8c21cbb9-caa7-438f-d730-b88a8a5cabb8"
      },
      "source": [
        "fig, ax = plt.subplots(1, 2, figsize = (15, 5))\n",
        "ax[0].hist(dlat, bins = 100)\n",
        "ax[1].hist(dlat[(dlat > dlat.median() - 2.5) & (dlat < dlat.median() + 2.5)], bins = 100)"
      ],
      "execution_count": 45,
      "outputs": [
        {
          "output_type": "execute_result",
          "data": {
            "text/plain": [
              "(array([1.00000e+00, 0.00000e+00, 0.00000e+00, 0.00000e+00, 0.00000e+00,\n",
              "        0.00000e+00, 0.00000e+00, 0.00000e+00, 0.00000e+00, 0.00000e+00,\n",
              "        1.00000e+00, 0.00000e+00, 0.00000e+00, 0.00000e+00, 0.00000e+00,\n",
              "        0.00000e+00, 0.00000e+00, 2.20000e+01, 7.00000e+00, 2.00000e+00,\n",
              "        0.00000e+00, 0.00000e+00, 0.00000e+00, 0.00000e+00, 0.00000e+00,\n",
              "        0.00000e+00, 0.00000e+00, 0.00000e+00, 0.00000e+00, 0.00000e+00,\n",
              "        0.00000e+00, 1.00000e+00, 2.00000e+00, 0.00000e+00, 1.00000e+00,\n",
              "        1.20000e+01, 1.00000e+00, 2.00000e+00, 0.00000e+00, 2.00000e+00,\n",
              "        3.00000e+00, 4.00000e+00, 2.00000e+00, 3.00000e+00, 9.00000e+00,\n",
              "        1.50000e+01, 1.37000e+02, 4.75000e+02, 2.81300e+03, 5.33900e+03,\n",
              "        2.86410e+04, 1.02682e+05, 9.06040e+04, 1.12760e+04, 2.21000e+03,\n",
              "        5.63000e+02, 1.19000e+02, 2.50000e+01, 5.00000e+00, 1.10000e+01,\n",
              "        9.00000e+00, 8.00000e+00, 2.00000e+00, 2.00000e+00, 3.00000e+00,\n",
              "        0.00000e+00, 1.00000e+00, 1.00000e+00, 1.00000e+00, 0.00000e+00,\n",
              "        5.80000e+01, 1.00000e+00, 0.00000e+00, 2.00000e+00, 1.00000e+00,\n",
              "        0.00000e+00, 0.00000e+00, 0.00000e+00, 0.00000e+00, 0.00000e+00,\n",
              "        0.00000e+00, 0.00000e+00, 1.00000e+00, 0.00000e+00, 0.00000e+00,\n",
              "        0.00000e+00, 0.00000e+00, 0.00000e+00, 0.00000e+00, 0.00000e+00,\n",
              "        0.00000e+00, 0.00000e+00, 0.00000e+00, 0.00000e+00, 0.00000e+00,\n",
              "        0.00000e+00, 0.00000e+00, 0.00000e+00, 1.00000e+00, 1.00000e+00]),\n",
              " array([39.01689 , 39.050373, 39.08386 , 39.11734 , 39.15082 , 39.184303,\n",
              "        39.21779 , 39.25127 , 39.28475 , 39.318237, 39.35172 , 39.3852  ,\n",
              "        39.418686, 39.452168, 39.48565 , 39.519135, 39.552616, 39.586098,\n",
              "        39.61958 , 39.653065, 39.686546, 39.720028, 39.753513, 39.786995,\n",
              "        39.820477, 39.85396 , 39.887444, 39.920925, 39.954407, 39.987892,\n",
              "        40.021374, 40.054855, 40.08834 , 40.121822, 40.155304, 40.18879 ,\n",
              "        40.22227 , 40.255753, 40.289234, 40.32272 , 40.3562  , 40.389683,\n",
              "        40.42317 , 40.45665 , 40.49013 , 40.523613, 40.5571  , 40.59058 ,\n",
              "        40.62406 , 40.657547, 40.69103 , 40.72451 , 40.757996, 40.791477,\n",
              "        40.82496 , 40.858444, 40.891926, 40.925407, 40.95889 , 40.992374,\n",
              "        41.025856, 41.059338, 41.092823, 41.126305, 41.159786, 41.193268,\n",
              "        41.226753, 41.260235, 41.293716, 41.3272  , 41.360683, 41.394165,\n",
              "        41.42765 , 41.461132, 41.494614, 41.5281  , 41.56158 , 41.595062,\n",
              "        41.628544, 41.66203 , 41.69551 , 41.728992, 41.762478, 41.79596 ,\n",
              "        41.82944 , 41.862923, 41.896408, 41.92989 , 41.96337 , 41.996857,\n",
              "        42.03034 , 42.06382 , 42.097305, 42.130787, 42.16427 , 42.197754,\n",
              "        42.231236, 42.264717, 42.2982  , 42.331684, 42.365166],\n",
              "       dtype=float32),\n",
              " <a list of 100 Patch objects>)"
            ]
          },
          "metadata": {
            "tags": []
          },
          "execution_count": 45
        },
        {
          "output_type": "display_data",
          "data": {
            "image/png": "[encoded data removed]",
            "text/plain": [
              "<Figure size 1080x360 with 2 Axes>"
            ]
          },
          "metadata": {
            "tags": [],
            "needs_background": "light"
          }
        }
      ]
    },
    {
      "cell_type": "code",
      "metadata": {
        "id": "QSzb1bipUduf",
        "colab_type": "code",
        "colab": {
          "base_uri": "https://localhost:8080/",
          "height": 118
        },
        "outputId": "01a69814-a692-4cf6-9207-00b60c661ab2"
      },
      "source": [
        "dlat_val = (dlat > dlat.median() - 0.5) & (dlat < dlat.median() + 0.5)\n",
        "print(dlat_val.value_counts(), '\\n', dlat_val.value_counts(normalize = True))"
      ],
      "execution_count": 46,
      "outputs": [
        {
          "output_type": "stream",
          "text": [
            "True     244964\n",
            "False      5036\n",
            "Name: dropoff_latitude, dtype: int64 \n",
            " True     0.979856\n",
            "False    0.020144\n",
            "Name: dropoff_latitude, dtype: float64\n"
          ],
          "name": "stdout"
        }
      ]
    },
    {
      "cell_type": "markdown",
      "metadata": {
        "id": "mDNJ4igrUnO9",
        "colab_type": "text"
      },
      "source": [
        "**passenger_count**"
      ]
    },
    {
      "cell_type": "code",
      "metadata": {
        "id": "-yhWE23MUlti",
        "colab_type": "code",
        "colab": {
          "base_uri": "https://localhost:8080/",
          "height": 168
        },
        "outputId": "ab9eef8f-a5a7-4ac7-dd4e-f2735319e088"
      },
      "source": [
        "'''\n",
        "We have a maximum of 208 passenger in a car. And that's impossible\n",
        "'''\n",
        "pcnt = train['passenger_count']\n",
        "pcnt.describe()"
      ],
      "execution_count": 47,
      "outputs": [
        {
          "output_type": "execute_result",
          "data": {
            "text/plain": [
              "count    250000.000000\n",
              "mean          1.688128\n",
              "std           1.375412\n",
              "min           0.000000\n",
              "25%           1.000000\n",
              "50%           1.000000\n",
              "75%           2.000000\n",
              "max         208.000000\n",
              "Name: passenger_count, dtype: float64"
            ]
          },
          "metadata": {
            "tags": []
          },
          "execution_count": 47
        }
      ]
    },
    {
      "cell_type": "code",
      "metadata": {
        "id": "vPhtJnVIYvZs",
        "colab_type": "code",
        "colab": {
          "base_uri": "https://localhost:8080/",
          "height": 34
        },
        "outputId": "47cfcb78-8c1d-4022-bd7b-239a6f2dde2f"
      },
      "source": [
        "'''\n",
        "How many zero passengers we have? Let's find out. \n",
        "We have 861 passangers == 0 that represents 0.00344 of entire dataframe ( with 250000 rows)\n",
        "'''\n",
        "print((pcnt == 0).sum(), (pcnt == 0).mean())"
      ],
      "execution_count": 48,
      "outputs": [
        {
          "output_type": "stream",
          "text": [
            "861 0.003444\n"
          ],
          "name": "stdout"
        }
      ]
    },
    {
      "cell_type": "code",
      "metadata": {
        "id": "hjTfSFbXaVMH",
        "colab_type": "code",
        "colab": {
          "base_uri": "https://localhost:8080/",
          "height": 836
        },
        "outputId": "618b39d6-a7c0-4f6d-ed60-5b83aa949820"
      },
      "source": [
        "plt.hist(pcnt, bins = 100)"
      ],
      "execution_count": 49,
      "outputs": [
        {
          "output_type": "execute_result",
          "data": {
            "text/plain": [
              "(array([2.10511e+05, 1.63390e+04, 2.31490e+04, 0.00000e+00, 0.00000e+00,\n",
              "        0.00000e+00, 0.00000e+00, 0.00000e+00, 0.00000e+00, 0.00000e+00,\n",
              "        0.00000e+00, 0.00000e+00, 0.00000e+00, 0.00000e+00, 0.00000e+00,\n",
              "        0.00000e+00, 0.00000e+00, 0.00000e+00, 0.00000e+00, 0.00000e+00,\n",
              "        0.00000e+00, 0.00000e+00, 0.00000e+00, 0.00000e+00, 0.00000e+00,\n",
              "        0.00000e+00, 0.00000e+00, 0.00000e+00, 0.00000e+00, 0.00000e+00,\n",
              "        0.00000e+00, 0.00000e+00, 0.00000e+00, 0.00000e+00, 0.00000e+00,\n",
              "        0.00000e+00, 0.00000e+00, 0.00000e+00, 0.00000e+00, 0.00000e+00,\n",
              "        0.00000e+00, 0.00000e+00, 0.00000e+00, 0.00000e+00, 0.00000e+00,\n",
              "        0.00000e+00, 0.00000e+00, 0.00000e+00, 0.00000e+00, 0.00000e+00,\n",
              "        0.00000e+00, 0.00000e+00, 0.00000e+00, 0.00000e+00, 0.00000e+00,\n",
              "        0.00000e+00, 0.00000e+00, 0.00000e+00, 0.00000e+00, 0.00000e+00,\n",
              "        0.00000e+00, 0.00000e+00, 0.00000e+00, 0.00000e+00, 0.00000e+00,\n",
              "        0.00000e+00, 0.00000e+00, 0.00000e+00, 0.00000e+00, 0.00000e+00,\n",
              "        0.00000e+00, 0.00000e+00, 0.00000e+00, 0.00000e+00, 0.00000e+00,\n",
              "        0.00000e+00, 0.00000e+00, 0.00000e+00, 0.00000e+00, 0.00000e+00,\n",
              "        0.00000e+00, 0.00000e+00, 0.00000e+00, 0.00000e+00, 0.00000e+00,\n",
              "        0.00000e+00, 0.00000e+00, 0.00000e+00, 0.00000e+00, 0.00000e+00,\n",
              "        0.00000e+00, 0.00000e+00, 0.00000e+00, 0.00000e+00, 0.00000e+00,\n",
              "        0.00000e+00, 0.00000e+00, 0.00000e+00, 0.00000e+00, 1.00000e+00]),\n",
              " array([  0.  ,   2.08,   4.16,   6.24,   8.32,  10.4 ,  12.48,  14.56,\n",
              "         16.64,  18.72,  20.8 ,  22.88,  24.96,  27.04,  29.12,  31.2 ,\n",
              "         33.28,  35.36,  37.44,  39.52,  41.6 ,  43.68,  45.76,  47.84,\n",
              "         49.92,  52.  ,  54.08,  56.16,  58.24,  60.32,  62.4 ,  64.48,\n",
              "         66.56,  68.64,  70.72,  72.8 ,  74.88,  76.96,  79.04,  81.12,\n",
              "         83.2 ,  85.28,  87.36,  89.44,  91.52,  93.6 ,  95.68,  97.76,\n",
              "         99.84, 101.92, 104.  , 106.08, 108.16, 110.24, 112.32, 114.4 ,\n",
              "        116.48, 118.56, 120.64, 122.72, 124.8 , 126.88, 128.96, 131.04,\n",
              "        133.12, 135.2 , 137.28, 139.36, 141.44, 143.52, 145.6 , 147.68,\n",
              "        149.76, 151.84, 153.92, 156.  , 158.08, 160.16, 162.24, 164.32,\n",
              "        166.4 , 168.48, 170.56, 172.64, 174.72, 176.8 , 178.88, 180.96,\n",
              "        183.04, 185.12, 187.2 , 189.28, 191.36, 193.44, 195.52, 197.6 ,\n",
              "        199.68, 201.76, 203.84, 205.92, 208.  ]),\n",
              " <a list of 100 Patch objects>)"
            ]
          },
          "metadata": {
            "tags": []
          },
          "execution_count": 49
        },
        {
          "output_type": "display_data",
          "data": {
            "image/png": "[encoded data removed]",
            "text/plain": [
              "<Figure size 432x288 with 1 Axes>"
            ]
          },
          "metadata": {
            "tags": [],
            "needs_background": "light"
          }
        }
      ]
    },
    {
      "cell_type": "code",
      "metadata": {
        "id": "errzkw_tgee9",
        "colab_type": "code",
        "colab": {
          "base_uri": "https://localhost:8080/",
          "height": 702
        },
        "outputId": "fd36937d-df0d-41d5-cd6c-e46837a9e02b"
      },
      "source": [
        "'''\n",
        "Plotting the histogram with a number of passengers less than 20, we can see that most the number os \n",
        "passengers revolves around 6 passengers.\n",
        "'''\n",
        "plt.hist(pcnt[pcnt < 20], bins = 100)"
      ],
      "execution_count": 50,
      "outputs": [
        {
          "output_type": "execute_result",
          "data": {
            "text/plain": [
              "(array([   861.,      0.,      0.,      0.,      0.,      0.,      0.,\n",
              "             0.,      0.,      0.,      0.,      0.,      0.,      0.,\n",
              "             0.,      0., 172964.,      0.,      0.,      0.,      0.,\n",
              "             0.,      0.,      0.,      0.,      0.,      0.,      0.,\n",
              "             0.,      0.,      0.,      0.,      0.,  36686.,      0.,\n",
              "             0.,      0.,      0.,      0.,      0.,      0.,      0.,\n",
              "             0.,      0.,      0.,      0.,      0.,      0.,      0.,\n",
              "             0.,  11001.,      0.,      0.,      0.,      0.,      0.,\n",
              "             0.,      0.,      0.,      0.,      0.,      0.,      0.,\n",
              "             0.,      0.,      0.,   5338.,      0.,      0.,      0.,\n",
              "             0.,      0.,      0.,      0.,      0.,      0.,      0.,\n",
              "             0.,      0.,      0.,      0.,      0.,      0.,  17761.,\n",
              "             0.,      0.,      0.,      0.,      0.,      0.,      0.,\n",
              "             0.,      0.,      0.,      0.,      0.,      0.,      0.,\n",
              "             0.,   5388.]),\n",
              " array([0.  , 0.06, 0.12, 0.18, 0.24, 0.3 , 0.36, 0.42, 0.48, 0.54, 0.6 ,\n",
              "        0.66, 0.72, 0.78, 0.84, 0.9 , 0.96, 1.02, 1.08, 1.14, 1.2 , 1.26,\n",
              "        1.32, 1.38, 1.44, 1.5 , 1.56, 1.62, 1.68, 1.74, 1.8 , 1.86, 1.92,\n",
              "        1.98, 2.04, 2.1 , 2.16, 2.22, 2.28, 2.34, 2.4 , 2.46, 2.52, 2.58,\n",
              "        2.64, 2.7 , 2.76, 2.82, 2.88, 2.94, 3.  , 3.06, 3.12, 3.18, 3.24,\n",
              "        3.3 , 3.36, 3.42, 3.48, 3.54, 3.6 , 3.66, 3.72, 3.78, 3.84, 3.9 ,\n",
              "        3.96, 4.02, 4.08, 4.14, 4.2 , 4.26, 4.32, 4.38, 4.44, 4.5 , 4.56,\n",
              "        4.62, 4.68, 4.74, 4.8 , 4.86, 4.92, 4.98, 5.04, 5.1 , 5.16, 5.22,\n",
              "        5.28, 5.34, 5.4 , 5.46, 5.52, 5.58, 5.64, 5.7 , 5.76, 5.82, 5.88,\n",
              "        5.94, 6.  ]),\n",
              " <a list of 100 Patch objects>)"
            ]
          },
          "metadata": {
            "tags": []
          },
          "execution_count": 50
        },
        {
          "output_type": "display_data",
          "data": {
            "image/png": "[encoded data removed]",
            "text/plain": [
              "<Figure size 432x288 with 1 Axes>"
            ]
          },
          "metadata": {
            "tags": [],
            "needs_background": "light"
          }
        }
      ]
    },
    {
      "cell_type": "code",
      "metadata": {
        "id": "SrHMIHJlgr15",
        "colab_type": "code",
        "colab": {
          "base_uri": "https://localhost:8080/",
          "height": 118
        },
        "outputId": "07d661bd-629e-4463-ad8f-e1c20b2debfb"
      },
      "source": [
        "'''\n",
        "Any number of passengers below 1 and above 6 is inconsistent. We are going to remove those inconsistences.\n",
        "'''\n",
        "pcnt_val = (pcnt >= 1) & (pcnt <=6)\n",
        "print(pcnt_val.value_counts(), '\\n', pcnt_val.value_counts(normalize = True))"
      ],
      "execution_count": 51,
      "outputs": [
        {
          "output_type": "stream",
          "text": [
            "True     249138\n",
            "False       862\n",
            "Name: passenger_count, dtype: int64 \n",
            " True     0.996552\n",
            "False    0.003448\n",
            "Name: passenger_count, dtype: float64\n"
          ],
          "name": "stdout"
        }
      ]
    },
    {
      "cell_type": "markdown",
      "metadata": {
        "id": "FIj9QaWxoW-l",
        "colab_type": "text"
      },
      "source": [
        "**fare_amount**"
      ]
    },
    {
      "cell_type": "code",
      "metadata": {
        "id": "ewDJgIGxoYxD",
        "colab_type": "code",
        "colab": {
          "base_uri": "https://localhost:8080/",
          "height": 168
        },
        "outputId": "be79c434-6a3a-498c-96ff-1577ee2d6383"
      },
      "source": [
        "'''\n",
        "We can see some inconsistencies below. Negative values and a very maximum expensive value (400 dollars) are shown below.\n",
        "'''\n",
        "fare = train['fare_amount']\n",
        "fare.describe()"
      ],
      "execution_count": 52,
      "outputs": [
        {
          "output_type": "execute_result",
          "data": {
            "text/plain": [
              "count    250000.000000\n",
              "mean         11.328001\n",
              "std           9.699137\n",
              "min          -7.700000\n",
              "25%           6.000000\n",
              "50%           8.500000\n",
              "75%          12.500000\n",
              "max         400.000000\n",
              "Name: fare_amount, dtype: float64"
            ]
          },
          "metadata": {
            "tags": []
          },
          "execution_count": 52
        }
      ]
    },
    {
      "cell_type": "code",
      "metadata": {
        "id": "fvMtlHBMohN_",
        "colab_type": "code",
        "colab": {
          "base_uri": "https://localhost:8080/",
          "height": 1000
        },
        "outputId": "16b69432-aba0-40f9-f80b-156075806a66"
      },
      "source": [
        "plt.hist(fare, bins = 100)"
      ],
      "execution_count": 53,
      "outputs": [
        {
          "output_type": "execute_result",
          "data": {
            "text/plain": [
              "(array([4.00000e+00, 1.20000e+01, 2.72480e+04, 1.04666e+05, 5.64860e+04,\n",
              "        2.52810e+04, 1.20500e+04, 6.25600e+03, 4.32400e+03, 3.49100e+03,\n",
              "        2.25300e+03, 1.35600e+03, 1.46500e+03, 5.88000e+02, 2.09200e+03,\n",
              "        1.50500e+03, 3.17000e+02, 1.23000e+02, 9.00000e+01, 6.10000e+01,\n",
              "        5.30000e+01, 6.10000e+01, 4.40000e+01, 3.30000e+01, 2.10000e+01,\n",
              "        1.70000e+01, 1.90000e+01, 1.10000e+01, 8.00000e+00, 8.00000e+00,\n",
              "        7.00000e+00, 7.00000e+00, 4.00000e+00, 4.00000e+00, 4.00000e+00,\n",
              "        4.00000e+00, 4.00000e+00, 3.00000e+00, 2.00000e+00, 1.00000e+00,\n",
              "        1.00000e+00, 3.00000e+00, 0.00000e+00, 2.00000e+00, 0.00000e+00,\n",
              "        2.00000e+00, 0.00000e+00, 1.00000e+00, 2.00000e+00, 0.00000e+00,\n",
              "        1.00000e+00, 1.00000e+00, 0.00000e+00, 0.00000e+00, 1.00000e+00,\n",
              "        0.00000e+00, 0.00000e+00, 0.00000e+00, 0.00000e+00, 1.00000e+00,\n",
              "        0.00000e+00, 0.00000e+00, 0.00000e+00, 0.00000e+00, 0.00000e+00,\n",
              "        0.00000e+00, 0.00000e+00, 0.00000e+00, 1.00000e+00, 0.00000e+00,\n",
              "        0.00000e+00, 0.00000e+00, 0.00000e+00, 0.00000e+00, 0.00000e+00,\n",
              "        0.00000e+00, 0.00000e+00, 0.00000e+00, 0.00000e+00, 0.00000e+00,\n",
              "        0.00000e+00, 0.00000e+00, 0.00000e+00, 0.00000e+00, 0.00000e+00,\n",
              "        0.00000e+00, 0.00000e+00, 0.00000e+00, 0.00000e+00, 0.00000e+00,\n",
              "        0.00000e+00, 0.00000e+00, 0.00000e+00, 0.00000e+00, 0.00000e+00,\n",
              "        0.00000e+00, 0.00000e+00, 0.00000e+00, 0.00000e+00, 1.00000e+00]),\n",
              " array([ -7.7       ,  -3.623     ,   0.45400017,   4.531     ,\n",
              "          8.608     ,  12.685     ,  16.762001  ,  20.839     ,\n",
              "         24.916     ,  28.993     ,  33.07      ,  37.147     ,\n",
              "         41.224     ,  45.301     ,  49.378     ,  53.455     ,\n",
              "         57.532     ,  61.609     ,  65.686     ,  69.763     ,\n",
              "         73.84      ,  77.917     ,  81.994     ,  86.071     ,\n",
              "         90.148     ,  94.225     ,  98.302     , 102.379     ,\n",
              "        106.456     , 110.533     , 114.61      , 118.687     ,\n",
              "        122.764     , 126.841     , 130.918     , 134.995     ,\n",
              "        139.072     , 143.149     , 147.226     , 151.303     ,\n",
              "        155.38      , 159.457     , 163.534     , 167.61101   ,\n",
              "        171.688     , 175.765     , 179.842     , 183.919     ,\n",
              "        187.996     , 192.073     , 196.15      , 200.227     ,\n",
              "        204.304     , 208.381     , 212.458     , 216.535     ,\n",
              "        220.612     , 224.689     , 228.766     , 232.843     ,\n",
              "        236.92      , 240.997     , 245.074     , 249.151     ,\n",
              "        253.228     , 257.305     , 261.382     , 265.459     ,\n",
              "        269.536     , 273.613     , 277.69      , 281.767     ,\n",
              "        285.844     , 289.921     , 293.998     , 298.075     ,\n",
              "        302.152     , 306.229     , 310.306     , 314.383     ,\n",
              "        318.46      , 322.537     , 326.614     , 330.691     ,\n",
              "        334.768     , 338.845     , 342.922     , 346.999     ,\n",
              "        351.076     , 355.153     , 359.23      , 363.307     ,\n",
              "        367.384     , 371.461     , 375.538     , 379.615     ,\n",
              "        383.692     , 387.769     , 391.846     , 395.923     ,\n",
              "        400.        ], dtype=float32),\n",
              " <a list of 100 Patch objects>)"
            ]
          },
          "metadata": {
            "tags": []
          },
          "execution_count": 53
        },
        {
          "output_type": "display_data",
          "data": {
            "image/png": "[encoded data removed]",
            "text/plain": [
              "<Figure size 432x288 with 1 Axes>"
            ]
          },
          "metadata": {
            "tags": [],
            "needs_background": "light"
          }
        }
      ]
    },
    {
      "cell_type": "code",
      "metadata": {
        "id": "rn8q4pOYo5sf",
        "colab_type": "code",
        "colab": {
          "base_uri": "https://localhost:8080/",
          "height": 970
        },
        "outputId": "2686a8c3-0b12-42a5-b891-ee487fbf72f3"
      },
      "source": [
        "'''\n",
        "Most of fare values are above 2.5 dollars.\n",
        "'''\n",
        "plt.hist(fare[fare < 10], bins = 100)"
      ],
      "execution_count": 54,
      "outputs": [
        {
          "output_type": "execute_result",
          "data": {
            "text/plain": [
              "(array([1.0000e+00, 0.0000e+00, 1.0000e+00, 0.0000e+00, 1.0000e+00,\n",
              "        0.0000e+00, 0.0000e+00, 0.0000e+00, 0.0000e+00, 0.0000e+00,\n",
              "        0.0000e+00, 1.0000e+00, 0.0000e+00, 0.0000e+00, 0.0000e+00,\n",
              "        0.0000e+00, 0.0000e+00, 0.0000e+00, 0.0000e+00, 0.0000e+00,\n",
              "        0.0000e+00, 0.0000e+00, 0.0000e+00, 1.0000e+00, 0.0000e+00,\n",
              "        0.0000e+00, 1.0000e+00, 0.0000e+00, 0.0000e+00, 2.0000e+00,\n",
              "        0.0000e+00, 0.0000e+00, 0.0000e+00, 0.0000e+00, 0.0000e+00,\n",
              "        0.0000e+00, 0.0000e+00, 0.0000e+00, 0.0000e+00, 0.0000e+00,\n",
              "        0.0000e+00, 0.0000e+00, 0.0000e+00, 8.0000e+00, 0.0000e+00,\n",
              "        0.0000e+00, 0.0000e+00, 1.0000e+00, 0.0000e+00, 0.0000e+00,\n",
              "        0.0000e+00, 0.0000e+00, 0.0000e+00, 0.0000e+00, 1.0000e+00,\n",
              "        0.0000e+00, 0.0000e+00, 9.9500e+02, 2.0000e+00, 6.0400e+02,\n",
              "        4.6900e+02, 0.0000e+00, 1.8760e+03, 1.3010e+03, 3.7130e+03,\n",
              "        3.0000e+01, 7.9620e+03, 6.0000e+01, 1.0234e+04, 6.3000e+01,\n",
              "        3.0000e+01, 1.1645e+04, 2.7000e+01, 7.2590e+03, 5.0590e+03,\n",
              "        7.3090e+03, 1.3200e+02, 5.2030e+03, 7.2090e+03, 4.6000e+01,\n",
              "        1.2293e+04, 5.4000e+01, 6.5120e+03, 5.1870e+03, 6.2180e+03,\n",
              "        5.0390e+03, 1.0000e+00, 5.7920e+03, 4.7320e+03, 5.2460e+03,\n",
              "        3.1000e+01, 9.5170e+03, 9.4000e+01, 4.5630e+03, 4.1940e+03,\n",
              "        0.0000e+00, 4.0720e+03, 3.9540e+03, 3.7350e+03, 2.4000e+01]),\n",
              " array([-7.7       , -7.5231    , -7.3462    , -7.1692996 , -6.9923997 ,\n",
              "        -6.8155    , -6.6386    , -6.4617    , -6.2848    , -6.1078997 ,\n",
              "        -5.9309998 , -5.7541    , -5.5772    , -5.4003    , -5.2233996 ,\n",
              "        -5.0464997 , -4.8696    , -4.6927    , -4.5158    , -4.3389    ,\n",
              "        -4.1619997 , -3.9850998 , -3.8082    , -3.6313    , -3.4543998 ,\n",
              "        -3.2775    , -3.1006    , -2.9236999 , -2.7468    , -2.5699    ,\n",
              "        -2.393     , -2.2161    , -2.0391998 , -1.8622999 , -1.6854    ,\n",
              "        -1.5085    , -1.3316    , -1.1546999 , -0.97779995, -0.8009    ,\n",
              "        -0.62399995, -0.44709998, -0.27019998, -0.09329999,  0.08360001,\n",
              "         0.2605    ,  0.43739998,  0.6143    ,  0.7912    ,  0.9681    ,\n",
              "         1.145     ,  1.3219    ,  1.4987999 ,  1.6757    ,  1.8526    ,\n",
              "         2.0295    ,  2.2064    ,  2.3833    ,  2.5602    ,  2.7371    ,\n",
              "         2.914     ,  3.0909    ,  3.2677999 ,  3.4447    ,  3.6216    ,\n",
              "         3.7984998 ,  3.9754    ,  4.1523    ,  4.3292    ,  4.5060997 ,\n",
              "         4.683     ,  4.8599    ,  5.0368    ,  5.2137    ,  5.3905997 ,\n",
              "         5.5675    ,  5.7444    ,  5.9213    ,  6.0982    ,  6.2750998 ,\n",
              "         6.4519997 ,  6.6289    ,  6.8058    ,  6.9827    ,  7.1596    ,\n",
              "         7.3364997 ,  7.5133996 ,  7.6903    ,  7.8672    ,  8.0441    ,\n",
              "         8.221     ,  8.3979    ,  8.5748    ,  8.751699  ,  8.928599  ,\n",
              "         9.1055    ,  9.2824    ,  9.4593    ,  9.6362    ,  9.8131    ,\n",
              "         9.99      ], dtype=float32),\n",
              " <a list of 100 Patch objects>)"
            ]
          },
          "metadata": {
            "tags": []
          },
          "execution_count": 54
        },
        {
          "output_type": "display_data",
          "data": {
            "image/png": "[encoded data removed]",
            "text/plain": [
              "<Figure size 432x288 with 1 Axes>"
            ]
          },
          "metadata": {
            "tags": [],
            "needs_background": "light"
          }
        }
      ]
    },
    {
      "cell_type": "code",
      "metadata": {
        "id": "ucwy7r4jpDFV",
        "colab_type": "code",
        "colab": {
          "base_uri": "https://localhost:8080/",
          "height": 920
        },
        "outputId": "79776e1f-2814-43ed-ad98-75fadfd3510b"
      },
      "source": [
        "'''\n",
        "Most of fare values are below 150 dollars.\n",
        "'''\n",
        "plt.hist(fare[fare > 50], bins = 100)"
      ],
      "execution_count": 55,
      "outputs": [
        {
          "output_type": "execute_result",
          "data": {
            "text/plain": [
              "(array([7.150e+02, 4.060e+02, 1.385e+03, 9.600e+01, 1.030e+02, 6.600e+01,\n",
              "        4.400e+01, 4.600e+01, 5.700e+01, 3.400e+01, 3.200e+01, 2.500e+01,\n",
              "        1.100e+01, 1.400e+01, 2.000e+01, 8.000e+00, 9.000e+00, 7.000e+00,\n",
              "        6.000e+00, 7.000e+00, 5.000e+00, 2.000e+00, 4.000e+00, 3.000e+00,\n",
              "        4.000e+00, 5.000e+00, 0.000e+00, 4.000e+00, 1.000e+00, 1.000e+00,\n",
              "        0.000e+00, 2.000e+00, 2.000e+00, 2.000e+00, 0.000e+00, 0.000e+00,\n",
              "        2.000e+00, 0.000e+00, 1.000e+00, 2.000e+00, 0.000e+00, 0.000e+00,\n",
              "        1.000e+00, 1.000e+00, 0.000e+00, 0.000e+00, 1.000e+00, 0.000e+00,\n",
              "        0.000e+00, 0.000e+00, 0.000e+00, 0.000e+00, 1.000e+00, 0.000e+00,\n",
              "        0.000e+00, 0.000e+00, 0.000e+00, 0.000e+00, 0.000e+00, 0.000e+00,\n",
              "        0.000e+00, 0.000e+00, 1.000e+00, 0.000e+00, 0.000e+00, 0.000e+00,\n",
              "        0.000e+00, 0.000e+00, 0.000e+00, 0.000e+00, 0.000e+00, 0.000e+00,\n",
              "        0.000e+00, 0.000e+00, 0.000e+00, 0.000e+00, 0.000e+00, 0.000e+00,\n",
              "        0.000e+00, 0.000e+00, 0.000e+00, 0.000e+00, 0.000e+00, 0.000e+00,\n",
              "        0.000e+00, 0.000e+00, 0.000e+00, 0.000e+00, 0.000e+00, 0.000e+00,\n",
              "        0.000e+00, 0.000e+00, 0.000e+00, 0.000e+00, 0.000e+00, 0.000e+00,\n",
              "        0.000e+00, 0.000e+00, 0.000e+00, 1.000e+00]),\n",
              " array([ 50.04    ,  53.5396  ,  57.0392  ,  60.5388  ,  64.0384  ,\n",
              "         67.538   ,  71.0376  ,  74.5372  ,  78.036804,  81.5364  ,\n",
              "         85.036   ,  88.5356  ,  92.0352  ,  95.5348  ,  99.0344  ,\n",
              "        102.534004, 106.0336  , 109.5332  , 113.0328  , 116.5324  ,\n",
              "        120.032   , 123.5316  , 127.031204, 130.5308  , 134.0304  ,\n",
              "        137.53    , 141.0296  , 144.5292  , 148.0288  , 151.5284  ,\n",
              "        155.028   , 158.5276  , 162.0272  , 165.5268  , 169.0264  ,\n",
              "        172.526   , 176.0256  , 179.5252  , 183.0248  , 186.5244  ,\n",
              "        190.024   , 193.5236  , 197.0232  , 200.5228  , 204.0224  ,\n",
              "        207.522   , 211.0216  , 214.5212  , 218.0208  , 221.5204  ,\n",
              "        225.02    , 228.5196  , 232.0192  , 235.5188  , 239.0184  ,\n",
              "        242.518   , 246.0176  , 249.5172  , 253.0168  , 256.5164  ,\n",
              "        260.016   , 263.5156  , 267.0152  , 270.5148  , 274.0144  ,\n",
              "        277.514   , 281.0136  , 284.5132  , 288.0128  , 291.5124  ,\n",
              "        295.012   , 298.5116  , 302.0112  , 305.5108  , 309.0104  ,\n",
              "        312.51    , 316.0096  , 319.5092  , 323.0088  , 326.5084  ,\n",
              "        330.008   , 333.5076  , 337.0072  , 340.5068  , 344.0064  ,\n",
              "        347.506   , 351.0056  , 354.5052  , 358.0048  , 361.5044  ,\n",
              "        365.004   , 368.5036  , 372.0032  , 375.5028  , 379.0024  ,\n",
              "        382.502   , 386.0016  , 389.5012  , 393.0008  , 396.5004  ,\n",
              "        400.      ], dtype=float32),\n",
              " <a list of 100 Patch objects>)"
            ]
          },
          "metadata": {
            "tags": []
          },
          "execution_count": 55
        },
        {
          "output_type": "display_data",
          "data": {
            "image/png": "[encoded data removed]",
            "text/plain": [
              "<Figure size 432x288 with 1 Axes>"
            ]
          },
          "metadata": {
            "tags": [],
            "needs_background": "light"
          }
        }
      ]
    },
    {
      "cell_type": "code",
      "metadata": {
        "id": "1X9PhSRapcba",
        "colab_type": "code",
        "colab": {
          "base_uri": "https://localhost:8080/",
          "height": 118
        },
        "outputId": "12ae4e3e-df87-4fd6-b4cd-954cba849a76"
      },
      "source": [
        "'''\n",
        "We will choose fare values between 2 and 150 dollars. We have only 37 fare values outside those values\n",
        "'''\n",
        "fare_val = (fare > 2) & (fare < 150)\n",
        "print(fare_val.value_counts(), '\\n', fare_val.value_counts(normalize = True))"
      ],
      "execution_count": 56,
      "outputs": [
        {
          "output_type": "stream",
          "text": [
            "True     249963\n",
            "False        37\n",
            "Name: fare_amount, dtype: int64 \n",
            " True     0.999852\n",
            "False    0.000148\n",
            "Name: fare_amount, dtype: float64\n"
          ],
          "name": "stdout"
        }
      ]
    },
    {
      "cell_type": "markdown",
      "metadata": {
        "id": "4rGqx0vIviLh",
        "colab_type": "text"
      },
      "source": [
        "## **Uniting all the variables**"
      ]
    },
    {
      "cell_type": "markdown",
      "metadata": {
        "id": "xdt2ZeoIwRrF",
        "colab_type": "text"
      },
      "source": [
        "After creating the variables with the conditions limits, we have to unite all the variables into a single variable. That's been done right below."
      ]
    },
    {
      "cell_type": "code",
      "metadata": {
        "id": "q1idgXv6pcia",
        "colab_type": "code",
        "colab": {}
      },
      "source": [
        "val_entries = fare_val & plon_val & plat_val & dlon_val & dlat_val & pcnt_val"
      ],
      "execution_count": 57,
      "outputs": []
    },
    {
      "cell_type": "code",
      "metadata": {
        "id": "dpARxCF6pcmL",
        "colab_type": "code",
        "colab": {
          "base_uri": "https://localhost:8080/",
          "height": 118
        },
        "outputId": "4245c819-464e-4d31-be6e-c67e4974713f"
      },
      "source": [
        "'''\n",
        "We have only 2.5% of our database with undesired values. This is small if you compare with the whole database, \n",
        "so we can just delete them. \n",
        "'''\n",
        "print(val_entries.value_counts(), '\\n', val_entries.value_counts(normalize= True))"
      ],
      "execution_count": 58,
      "outputs": [
        {
          "output_type": "stream",
          "text": [
            "True     243718\n",
            "False      6282\n",
            "dtype: int64 \n",
            " True     0.974872\n",
            "False    0.025128\n",
            "dtype: float64\n"
          ],
          "name": "stdout"
        }
      ]
    },
    {
      "cell_type": "code",
      "metadata": {
        "id": "DAfB5aDGpcgG",
        "colab_type": "code",
        "colab": {}
      },
      "source": [
        "train = train.drop(val_entries[val_entries == False].index)"
      ],
      "execution_count": 59,
      "outputs": []
    },
    {
      "cell_type": "code",
      "metadata": {
        "id": "6ePkNJ3zpceb",
        "colab_type": "code",
        "colab": {
          "base_uri": "https://localhost:8080/",
          "height": 195
        },
        "outputId": "5e2ebcda-2a4a-433a-e8ad-23e09a1067d6"
      },
      "source": [
        "train.head()"
      ],
      "execution_count": 60,
      "outputs": [
        {
          "output_type": "execute_result",
          "data": {
            "text/html": [
              "<div>\n",
              "<style scoped>\n",
              "    .dataframe tbody tr th:only-of-type {\n",
              "        vertical-align: middle;\n",
              "    }\n",
              "\n",
              "    .dataframe tbody tr th {\n",
              "        vertical-align: top;\n",
              "    }\n",
              "\n",
              "    .dataframe thead th {\n",
              "        text-align: right;\n",
              "    }\n",
              "</style>\n",
              "<table border=\"1\" class=\"dataframe\">\n",
              "  <thead>\n",
              "    <tr style=\"text-align: right;\">\n",
              "      <th></th>\n",
              "      <th>fare_amount</th>\n",
              "      <th>pickup_datetime</th>\n",
              "      <th>pickup_longitude</th>\n",
              "      <th>pickup_latitude</th>\n",
              "      <th>dropoff_longitude</th>\n",
              "      <th>dropoff_latitude</th>\n",
              "      <th>passenger_count</th>\n",
              "    </tr>\n",
              "  </thead>\n",
              "  <tbody>\n",
              "    <tr>\n",
              "      <th>0</th>\n",
              "      <td>7.300000</td>\n",
              "      <td>2011-06-21 16:15:00</td>\n",
              "      <td>-73.991875</td>\n",
              "      <td>40.754436</td>\n",
              "      <td>-73.977226</td>\n",
              "      <td>40.774323</td>\n",
              "      <td>3</td>\n",
              "    </tr>\n",
              "    <tr>\n",
              "      <th>1</th>\n",
              "      <td>5.700000</td>\n",
              "      <td>2009-06-06 23:56:00</td>\n",
              "      <td>-73.982353</td>\n",
              "      <td>40.762497</td>\n",
              "      <td>-73.973213</td>\n",
              "      <td>40.755344</td>\n",
              "      <td>2</td>\n",
              "    </tr>\n",
              "    <tr>\n",
              "      <th>2</th>\n",
              "      <td>5.300000</td>\n",
              "      <td>2012-04-25 16:19:00</td>\n",
              "      <td>-73.971916</td>\n",
              "      <td>40.759251</td>\n",
              "      <td>-73.962906</td>\n",
              "      <td>40.772160</td>\n",
              "      <td>1</td>\n",
              "    </tr>\n",
              "    <tr>\n",
              "      <th>3</th>\n",
              "      <td>25.700001</td>\n",
              "      <td>2009-09-02 05:18:10</td>\n",
              "      <td>-73.991730</td>\n",
              "      <td>40.760502</td>\n",
              "      <td>-73.861244</td>\n",
              "      <td>40.767620</td>\n",
              "      <td>1</td>\n",
              "    </tr>\n",
              "    <tr>\n",
              "      <th>4</th>\n",
              "      <td>4.100000</td>\n",
              "      <td>2011-09-24 22:57:00</td>\n",
              "      <td>-74.000687</td>\n",
              "      <td>40.742237</td>\n",
              "      <td>-74.000359</td>\n",
              "      <td>40.735275</td>\n",
              "      <td>2</td>\n",
              "    </tr>\n",
              "  </tbody>\n",
              "</table>\n",
              "</div>"
            ],
            "text/plain": [
              "   fare_amount     pickup_datetime  ...  dropoff_latitude  passenger_count\n",
              "0     7.300000 2011-06-21 16:15:00  ...         40.774323                3\n",
              "1     5.700000 2009-06-06 23:56:00  ...         40.755344                2\n",
              "2     5.300000 2012-04-25 16:19:00  ...         40.772160                1\n",
              "3    25.700001 2009-09-02 05:18:10  ...         40.767620                1\n",
              "4     4.100000 2011-09-24 22:57:00  ...         40.735275                2\n",
              "\n",
              "[5 rows x 7 columns]"
            ]
          },
          "metadata": {
            "tags": []
          },
          "execution_count": 60
        }
      ]
    },
    {
      "cell_type": "code",
      "metadata": {
        "id": "z9TajL67yOCF",
        "colab_type": "code",
        "colab": {
          "base_uri": "https://localhost:8080/",
          "height": 34
        },
        "outputId": "3a3687ed-156e-4703-de66-2e8e0c41cd0a"
      },
      "source": [
        "train.shape"
      ],
      "execution_count": 61,
      "outputs": [
        {
          "output_type": "execute_result",
          "data": {
            "text/plain": [
              "(243718, 7)"
            ]
          },
          "metadata": {
            "tags": []
          },
          "execution_count": 61
        }
      ]
    },
    {
      "cell_type": "markdown",
      "metadata": {
        "id": "ae3KZNNlzI7n",
        "colab_type": "text"
      },
      "source": [
        "## **Feature Engineering**"
      ]
    },
    {
      "cell_type": "markdown",
      "metadata": {
        "id": "924w4iZfzroD",
        "colab_type": "text"
      },
      "source": [
        "\n",
        "The two most important factors in predicting the value of the taxi fare are the distance and the duration of taxi ride. We don't have those features. So we need to create them."
      ]
    },
    {
      "cell_type": "markdown",
      "metadata": {
        "id": "naa-v_B93P0U",
        "colab_type": "text"
      },
      "source": [
        "**Duration**"
      ]
    },
    {
      "cell_type": "markdown",
      "metadata": {
        "id": "wR3a4aZl3TmI",
        "colab_type": "text"
      },
      "source": [
        "The duration of the trip is not given and we cannot calculate because the arrival time is not given. That makes sense\n",
        "because the intention of the model is to predict the fare before the taxi ride happens.\n",
        "\n",
        "Something that influences the duration of the ride is the traffic condition. We can deduct using 'pickup_datetime'.\n",
        "\n",
        "\n",
        "*   time of day: traffic will be less intense overnight\n",
        "*   day of the week: traffic will be less intense on weekends\n",
        "*   day of the year: referrals and vacations, for example\n",
        "*   year: may be influenced by changes in transport rules or inflation\n",
        "\n",
        "\n",
        "\n",
        "\n"
      ]
    },
    {
      "cell_type": "code",
      "metadata": {
        "id": "leYZu44239-6",
        "colab_type": "code",
        "colab": {}
      },
      "source": [
        "'''\n",
        "We are creating a variable called 'hour_of_day'.\n",
        "'''\n",
        "train['hour_of_day'] = train['pickup_datetime'].map(lambda date: date.timetuple().tm_hour)"
      ],
      "execution_count": 62,
      "outputs": []
    },
    {
      "cell_type": "code",
      "metadata": {
        "id": "PSsjVn6Y5xsD",
        "colab_type": "code",
        "colab": {
          "base_uri": "https://localhost:8080/",
          "height": 195
        },
        "outputId": "e958b50d-a4a1-46e9-ee30-e18018774676"
      },
      "source": [
        "train.head()"
      ],
      "execution_count": 63,
      "outputs": [
        {
          "output_type": "execute_result",
          "data": {
            "text/html": [
              "<div>\n",
              "<style scoped>\n",
              "    .dataframe tbody tr th:only-of-type {\n",
              "        vertical-align: middle;\n",
              "    }\n",
              "\n",
              "    .dataframe tbody tr th {\n",
              "        vertical-align: top;\n",
              "    }\n",
              "\n",
              "    .dataframe thead th {\n",
              "        text-align: right;\n",
              "    }\n",
              "</style>\n",
              "<table border=\"1\" class=\"dataframe\">\n",
              "  <thead>\n",
              "    <tr style=\"text-align: right;\">\n",
              "      <th></th>\n",
              "      <th>fare_amount</th>\n",
              "      <th>pickup_datetime</th>\n",
              "      <th>pickup_longitude</th>\n",
              "      <th>pickup_latitude</th>\n",
              "      <th>dropoff_longitude</th>\n",
              "      <th>dropoff_latitude</th>\n",
              "      <th>passenger_count</th>\n",
              "      <th>hour_of_day</th>\n",
              "    </tr>\n",
              "  </thead>\n",
              "  <tbody>\n",
              "    <tr>\n",
              "      <th>0</th>\n",
              "      <td>7.300000</td>\n",
              "      <td>2011-06-21 16:15:00</td>\n",
              "      <td>-73.991875</td>\n",
              "      <td>40.754436</td>\n",
              "      <td>-73.977226</td>\n",
              "      <td>40.774323</td>\n",
              "      <td>3</td>\n",
              "      <td>16</td>\n",
              "    </tr>\n",
              "    <tr>\n",
              "      <th>1</th>\n",
              "      <td>5.700000</td>\n",
              "      <td>2009-06-06 23:56:00</td>\n",
              "      <td>-73.982353</td>\n",
              "      <td>40.762497</td>\n",
              "      <td>-73.973213</td>\n",
              "      <td>40.755344</td>\n",
              "      <td>2</td>\n",
              "      <td>23</td>\n",
              "    </tr>\n",
              "    <tr>\n",
              "      <th>2</th>\n",
              "      <td>5.300000</td>\n",
              "      <td>2012-04-25 16:19:00</td>\n",
              "      <td>-73.971916</td>\n",
              "      <td>40.759251</td>\n",
              "      <td>-73.962906</td>\n",
              "      <td>40.772160</td>\n",
              "      <td>1</td>\n",
              "      <td>16</td>\n",
              "    </tr>\n",
              "    <tr>\n",
              "      <th>3</th>\n",
              "      <td>25.700001</td>\n",
              "      <td>2009-09-02 05:18:10</td>\n",
              "      <td>-73.991730</td>\n",
              "      <td>40.760502</td>\n",
              "      <td>-73.861244</td>\n",
              "      <td>40.767620</td>\n",
              "      <td>1</td>\n",
              "      <td>5</td>\n",
              "    </tr>\n",
              "    <tr>\n",
              "      <th>4</th>\n",
              "      <td>4.100000</td>\n",
              "      <td>2011-09-24 22:57:00</td>\n",
              "      <td>-74.000687</td>\n",
              "      <td>40.742237</td>\n",
              "      <td>-74.000359</td>\n",
              "      <td>40.735275</td>\n",
              "      <td>2</td>\n",
              "      <td>22</td>\n",
              "    </tr>\n",
              "  </tbody>\n",
              "</table>\n",
              "</div>"
            ],
            "text/plain": [
              "   fare_amount     pickup_datetime  ...  passenger_count  hour_of_day\n",
              "0     7.300000 2011-06-21 16:15:00  ...                3           16\n",
              "1     5.700000 2009-06-06 23:56:00  ...                2           23\n",
              "2     5.300000 2012-04-25 16:19:00  ...                1           16\n",
              "3    25.700001 2009-09-02 05:18:10  ...                1            5\n",
              "4     4.100000 2011-09-24 22:57:00  ...                2           22\n",
              "\n",
              "[5 rows x 8 columns]"
            ]
          },
          "metadata": {
            "tags": []
          },
          "execution_count": 63
        }
      ]
    },
    {
      "cell_type": "code",
      "metadata": {
        "id": "NCBewWiR6GUF",
        "colab_type": "code",
        "colab": {}
      },
      "source": [
        "'''\n",
        "We are gonna create other features so that we can analyse the taxi rides through the time\n",
        "'''\n",
        "train['day_of_week'] = train['pickup_datetime'].map(lambda date: date.timetuple().tm_wday)\n",
        "train['day_of_year'] = train['pickup_datetime'].map(lambda date: date.timetuple().tm_yday)\n",
        "train['year'] = train['pickup_datetime'].map(lambda date: date.timetuple().tm_year)"
      ],
      "execution_count": 64,
      "outputs": []
    },
    {
      "cell_type": "code",
      "metadata": {
        "id": "FLcgmocn6GeS",
        "colab_type": "code",
        "colab": {
          "base_uri": "https://localhost:8080/",
          "height": 299
        },
        "outputId": "fd1e200d-ddb9-4a0d-ec00-ac7e83129115"
      },
      "source": [
        "train.head()"
      ],
      "execution_count": 65,
      "outputs": [
        {
          "output_type": "execute_result",
          "data": {
            "text/html": [
              "<div>\n",
              "<style scoped>\n",
              "    .dataframe tbody tr th:only-of-type {\n",
              "        vertical-align: middle;\n",
              "    }\n",
              "\n",
              "    .dataframe tbody tr th {\n",
              "        vertical-align: top;\n",
              "    }\n",
              "\n",
              "    .dataframe thead th {\n",
              "        text-align: right;\n",
              "    }\n",
              "</style>\n",
              "<table border=\"1\" class=\"dataframe\">\n",
              "  <thead>\n",
              "    <tr style=\"text-align: right;\">\n",
              "      <th></th>\n",
              "      <th>fare_amount</th>\n",
              "      <th>pickup_datetime</th>\n",
              "      <th>pickup_longitude</th>\n",
              "      <th>pickup_latitude</th>\n",
              "      <th>dropoff_longitude</th>\n",
              "      <th>dropoff_latitude</th>\n",
              "      <th>passenger_count</th>\n",
              "      <th>hour_of_day</th>\n",
              "      <th>day_of_week</th>\n",
              "      <th>day_of_year</th>\n",
              "      <th>year</th>\n",
              "    </tr>\n",
              "  </thead>\n",
              "  <tbody>\n",
              "    <tr>\n",
              "      <th>0</th>\n",
              "      <td>7.300000</td>\n",
              "      <td>2011-06-21 16:15:00</td>\n",
              "      <td>-73.991875</td>\n",
              "      <td>40.754436</td>\n",
              "      <td>-73.977226</td>\n",
              "      <td>40.774323</td>\n",
              "      <td>3</td>\n",
              "      <td>16</td>\n",
              "      <td>1</td>\n",
              "      <td>172</td>\n",
              "      <td>2011</td>\n",
              "    </tr>\n",
              "    <tr>\n",
              "      <th>1</th>\n",
              "      <td>5.700000</td>\n",
              "      <td>2009-06-06 23:56:00</td>\n",
              "      <td>-73.982353</td>\n",
              "      <td>40.762497</td>\n",
              "      <td>-73.973213</td>\n",
              "      <td>40.755344</td>\n",
              "      <td>2</td>\n",
              "      <td>23</td>\n",
              "      <td>5</td>\n",
              "      <td>157</td>\n",
              "      <td>2009</td>\n",
              "    </tr>\n",
              "    <tr>\n",
              "      <th>2</th>\n",
              "      <td>5.300000</td>\n",
              "      <td>2012-04-25 16:19:00</td>\n",
              "      <td>-73.971916</td>\n",
              "      <td>40.759251</td>\n",
              "      <td>-73.962906</td>\n",
              "      <td>40.772160</td>\n",
              "      <td>1</td>\n",
              "      <td>16</td>\n",
              "      <td>2</td>\n",
              "      <td>116</td>\n",
              "      <td>2012</td>\n",
              "    </tr>\n",
              "    <tr>\n",
              "      <th>3</th>\n",
              "      <td>25.700001</td>\n",
              "      <td>2009-09-02 05:18:10</td>\n",
              "      <td>-73.991730</td>\n",
              "      <td>40.760502</td>\n",
              "      <td>-73.861244</td>\n",
              "      <td>40.767620</td>\n",
              "      <td>1</td>\n",
              "      <td>5</td>\n",
              "      <td>2</td>\n",
              "      <td>245</td>\n",
              "      <td>2009</td>\n",
              "    </tr>\n",
              "    <tr>\n",
              "      <th>4</th>\n",
              "      <td>4.100000</td>\n",
              "      <td>2011-09-24 22:57:00</td>\n",
              "      <td>-74.000687</td>\n",
              "      <td>40.742237</td>\n",
              "      <td>-74.000359</td>\n",
              "      <td>40.735275</td>\n",
              "      <td>2</td>\n",
              "      <td>22</td>\n",
              "      <td>5</td>\n",
              "      <td>267</td>\n",
              "      <td>2011</td>\n",
              "    </tr>\n",
              "  </tbody>\n",
              "</table>\n",
              "</div>"
            ],
            "text/plain": [
              "   fare_amount     pickup_datetime  ...  day_of_year  year\n",
              "0     7.300000 2011-06-21 16:15:00  ...          172  2011\n",
              "1     5.700000 2009-06-06 23:56:00  ...          157  2009\n",
              "2     5.300000 2012-04-25 16:19:00  ...          116  2012\n",
              "3    25.700001 2009-09-02 05:18:10  ...          245  2009\n",
              "4     4.100000 2011-09-24 22:57:00  ...          267  2011\n",
              "\n",
              "[5 rows x 11 columns]"
            ]
          },
          "metadata": {
            "tags": []
          },
          "execution_count": 65
        }
      ]
    },
    {
      "cell_type": "code",
      "metadata": {
        "id": "ADSl9kjV6Gbx",
        "colab_type": "code",
        "colab": {
          "base_uri": "https://localhost:8080/",
          "height": 34
        },
        "outputId": "4893c2a3-67ef-42bd-9eee-d7e52f202e4e"
      },
      "source": [
        "'''\n",
        "We need to take care of leap year that has 366 days in a year. These years happen each 4 years. In a leap year\n",
        "we have the day 02/29 wich we don't have in common years. This might cause some trouble in the prediction.\n",
        "We are counting how many of these days we have. \n",
        "'''\n",
        "len(train['pickup_datetime'][train['pickup_datetime'].dt.strftime('%m-%d') == '02-29'])"
      ],
      "execution_count": 66,
      "outputs": [
        {
          "output_type": "execute_result",
          "data": {
            "text/plain": [
              "117"
            ]
          },
          "metadata": {
            "tags": []
          },
          "execution_count": 66
        }
      ]
    },
    {
      "cell_type": "code",
      "metadata": {
        "id": "dC9-1-6d6GZY",
        "colab_type": "code",
        "colab": {}
      },
      "source": [
        "'''\n",
        "We have only a few of rows with the day == 02-29, if you compare with the whole dataset. So we are just \n",
        "gonna delete the rows with that condition.\n",
        "'''\n",
        "train.drop(train['pickup_datetime'][train['pickup_datetime'].dt.strftime('%m-%d') == '02-29'].index,\n",
        "           inplace = True)"
      ],
      "execution_count": 67,
      "outputs": []
    },
    {
      "cell_type": "markdown",
      "metadata": {
        "id": "J_xbR0h5EAue",
        "colab_type": "text"
      },
      "source": [
        "\n",
        "We removed the rows whose day = 02-29. Now we need to adjust the years where these removals took place, or else the holidays and weekdays will be wrong."
      ]
    },
    {
      "cell_type": "code",
      "metadata": {
        "id": "Q8Aa-aYb6GXG",
        "colab_type": "code",
        "colab": {
          "base_uri": "https://localhost:8080/",
          "height": 101
        },
        "outputId": "00496a65-aa44-4775-9418-077b7e6b8741"
      },
      "source": [
        "'''\n",
        "Only the year 2012 was affected by the previous change in that dataset. So we are just gonna work with that year.\n",
        "We need only work days after the 59° day. Because only these days were affected with the previous removal.\n",
        "'''\n",
        "condition = (train['year'] == 2012) & (train['day_of_year'] > 59)\n",
        "train['day_of_year'][condition] = train['day_of_year'] - 1\n"
      ],
      "execution_count": 68,
      "outputs": [
        {
          "output_type": "stream",
          "text": [
            "/usr/local/lib/python3.6/dist-packages/ipykernel_launcher.py:6: SettingWithCopyWarning: \n",
            "A value is trying to be set on a copy of a slice from a DataFrame\n",
            "\n",
            "See the caveats in the documentation: https://pandas.pydata.org/pandas-docs/stable/user_guide/indexing.html#returning-a-view-versus-a-copy\n",
            "  \n"
          ],
          "name": "stderr"
        }
      ]
    },
    {
      "cell_type": "code",
      "metadata": {
        "id": "X6t1phY5vY-T",
        "colab_type": "code",
        "colab": {
          "base_uri": "https://localhost:8080/",
          "height": 299
        },
        "outputId": "bca0f478-5cec-4749-89fc-a2267d5a39ce"
      },
      "source": [
        "train.head()"
      ],
      "execution_count": 69,
      "outputs": [
        {
          "output_type": "execute_result",
          "data": {
            "text/html": [
              "<div>\n",
              "<style scoped>\n",
              "    .dataframe tbody tr th:only-of-type {\n",
              "        vertical-align: middle;\n",
              "    }\n",
              "\n",
              "    .dataframe tbody tr th {\n",
              "        vertical-align: top;\n",
              "    }\n",
              "\n",
              "    .dataframe thead th {\n",
              "        text-align: right;\n",
              "    }\n",
              "</style>\n",
              "<table border=\"1\" class=\"dataframe\">\n",
              "  <thead>\n",
              "    <tr style=\"text-align: right;\">\n",
              "      <th></th>\n",
              "      <th>fare_amount</th>\n",
              "      <th>pickup_datetime</th>\n",
              "      <th>pickup_longitude</th>\n",
              "      <th>pickup_latitude</th>\n",
              "      <th>dropoff_longitude</th>\n",
              "      <th>dropoff_latitude</th>\n",
              "      <th>passenger_count</th>\n",
              "      <th>hour_of_day</th>\n",
              "      <th>day_of_week</th>\n",
              "      <th>day_of_year</th>\n",
              "      <th>year</th>\n",
              "    </tr>\n",
              "  </thead>\n",
              "  <tbody>\n",
              "    <tr>\n",
              "      <th>0</th>\n",
              "      <td>7.300000</td>\n",
              "      <td>2011-06-21 16:15:00</td>\n",
              "      <td>-73.991875</td>\n",
              "      <td>40.754436</td>\n",
              "      <td>-73.977226</td>\n",
              "      <td>40.774323</td>\n",
              "      <td>3</td>\n",
              "      <td>16</td>\n",
              "      <td>1</td>\n",
              "      <td>172</td>\n",
              "      <td>2011</td>\n",
              "    </tr>\n",
              "    <tr>\n",
              "      <th>1</th>\n",
              "      <td>5.700000</td>\n",
              "      <td>2009-06-06 23:56:00</td>\n",
              "      <td>-73.982353</td>\n",
              "      <td>40.762497</td>\n",
              "      <td>-73.973213</td>\n",
              "      <td>40.755344</td>\n",
              "      <td>2</td>\n",
              "      <td>23</td>\n",
              "      <td>5</td>\n",
              "      <td>157</td>\n",
              "      <td>2009</td>\n",
              "    </tr>\n",
              "    <tr>\n",
              "      <th>2</th>\n",
              "      <td>5.300000</td>\n",
              "      <td>2012-04-25 16:19:00</td>\n",
              "      <td>-73.971916</td>\n",
              "      <td>40.759251</td>\n",
              "      <td>-73.962906</td>\n",
              "      <td>40.772160</td>\n",
              "      <td>1</td>\n",
              "      <td>16</td>\n",
              "      <td>2</td>\n",
              "      <td>115</td>\n",
              "      <td>2012</td>\n",
              "    </tr>\n",
              "    <tr>\n",
              "      <th>3</th>\n",
              "      <td>25.700001</td>\n",
              "      <td>2009-09-02 05:18:10</td>\n",
              "      <td>-73.991730</td>\n",
              "      <td>40.760502</td>\n",
              "      <td>-73.861244</td>\n",
              "      <td>40.767620</td>\n",
              "      <td>1</td>\n",
              "      <td>5</td>\n",
              "      <td>2</td>\n",
              "      <td>245</td>\n",
              "      <td>2009</td>\n",
              "    </tr>\n",
              "    <tr>\n",
              "      <th>4</th>\n",
              "      <td>4.100000</td>\n",
              "      <td>2011-09-24 22:57:00</td>\n",
              "      <td>-74.000687</td>\n",
              "      <td>40.742237</td>\n",
              "      <td>-74.000359</td>\n",
              "      <td>40.735275</td>\n",
              "      <td>2</td>\n",
              "      <td>22</td>\n",
              "      <td>5</td>\n",
              "      <td>267</td>\n",
              "      <td>2011</td>\n",
              "    </tr>\n",
              "  </tbody>\n",
              "</table>\n",
              "</div>"
            ],
            "text/plain": [
              "   fare_amount     pickup_datetime  ...  day_of_year  year\n",
              "0     7.300000 2011-06-21 16:15:00  ...          172  2011\n",
              "1     5.700000 2009-06-06 23:56:00  ...          157  2009\n",
              "2     5.300000 2012-04-25 16:19:00  ...          115  2012\n",
              "3    25.700001 2009-09-02 05:18:10  ...          245  2009\n",
              "4     4.100000 2011-09-24 22:57:00  ...          267  2011\n",
              "\n",
              "[5 rows x 11 columns]"
            ]
          },
          "metadata": {
            "tags": []
          },
          "execution_count": 69
        }
      ]
    },
    {
      "cell_type": "markdown",
      "metadata": {
        "id": "Y4UegRzR0UbE",
        "colab_type": "text"
      },
      "source": [
        "Now we are gonna make an association with the variables we have just created (hour_of_day, day_of_week, day_of_year, year) in order to try to describe the vehicle traffic in that period of time."
      ]
    },
    {
      "cell_type": "code",
      "metadata": {
        "id": "aqSDVybA1Dxq",
        "colab_type": "code",
        "colab": {
          "base_uri": "https://localhost:8080/",
          "height": 244
        },
        "outputId": "a6870005-3649-4b4c-b3a0-2af853be7b22"
      },
      "source": [
        "'''\n",
        "We will have 4 graphics to compare and make some pre-analysis\n",
        "We don't have the data from 2015 because we have data only until the half of the year in 2015\n",
        "The graphics are from 2009 until 2014\n",
        "'''\n",
        "fig, ax = plt.subplots(1, 4, figsize = (15, 3))\n",
        "train_not_2015 = train[train['year'] < 2015]\n",
        "ax[0].hist(train_not_2015['hour_of_day'], bins = 24)\n",
        "ax[0].set_title('Hour of Day')\n",
        "\n",
        "ax[1].hist(train_not_2015['day_of_week'], bins = 7)\n",
        "ax[1].set_title('Days of Week')\n",
        "\n",
        "ax[2].hist(train_not_2015['day_of_year'], bins = 365)\n",
        "ax[2].set_title('Day of Year')\n",
        "\n",
        "ax[3].hist(train_not_2015['year'], bins = 6)\n",
        "ax[3].set_title('Year')"
      ],
      "execution_count": 70,
      "outputs": [
        {
          "output_type": "execute_result",
          "data": {
            "text/plain": [
              "Text(0.5, 1.0, 'Year')"
            ]
          },
          "metadata": {
            "tags": []
          },
          "execution_count": 70
        },
        {
          "output_type": "display_data",
          "data": {
            "image/png": "[encoded data removed]",
            "text/plain": [
              "<Figure size 1080x216 with 4 Axes>"
            ]
          },
          "metadata": {
            "tags": [],
            "needs_background": "light"
          }
        }
      ]
    },
    {
      "cell_type": "markdown",
      "metadata": {
        "id": "ZRs2_-I_3KPV",
        "colab_type": "text"
      },
      "source": [
        "## **Now we are going to look for correlations between the variables**"
      ]
    },
    {
      "cell_type": "markdown",
      "metadata": {
        "id": "hHmJRBsu3X3r",
        "colab_type": "text"
      },
      "source": [
        "###**Correlations between 'pickup_datetime' and demanda**\n",
        "\n",
        "> **Demanda** is the quantity of taxi rides. Meaning, 'demanda' is the number of registers in the database.\n",
        "\n",
        "\n"
      ]
    },
    {
      "cell_type": "code",
      "metadata": {
        "id": "xwQh2-J93e92",
        "colab_type": "code",
        "colab": {
          "base_uri": "https://localhost:8080/",
          "height": 920
        },
        "outputId": "48e9f452-a0b5-45ec-c3bd-033c6081b08d"
      },
      "source": [
        "'''\n",
        "According with the graphic below, there is not so much correlation between pickup_datetime and the number of taxi rides.\n",
        "'''\n",
        "plt.hist(train['pickup_datetime'], bins = 100)"
      ],
      "execution_count": 71,
      "outputs": [
        {
          "output_type": "execute_result",
          "data": {
            "text/plain": [
              "(array([2322., 2557., 2436., 2505., 2528., 2580., 2406., 2394., 2435.,\n",
              "        2344., 2397., 2591., 2712., 2605., 2534., 2272., 2161., 2348.,\n",
              "        2285., 2582., 2704., 2513., 2546., 2444., 2177., 2166., 2310.,\n",
              "        2452., 2701., 2492., 2056., 2426., 2533., 2621., 2431., 2620.,\n",
              "        2661., 2532., 2436., 2585., 2096., 2441., 2513., 2671., 2501.,\n",
              "        2462., 2431., 2590., 2547., 2669., 2475., 2646., 2478., 2660.,\n",
              "        2410., 2419., 2446., 2598., 2366., 2351., 2588., 2228., 2621.,\n",
              "        2554., 2629., 2616., 2644., 2574., 2425., 2363., 2196., 2238.,\n",
              "        2451., 2552., 2629., 2419., 2332., 2308., 2492., 2541., 2615.,\n",
              "        2516., 2623., 2355., 2224., 2299., 2139., 2292., 2357., 2366.,\n",
              "        2334., 2314., 2020., 2222., 2287., 2253., 2215., 2267., 2219.,\n",
              "        2114.]),\n",
              " array([733408.0258912 , 733431.74563056, 733455.46536991, 733479.18510926,\n",
              "        733502.90484861, 733526.62458796, 733550.34432731, 733574.06406667,\n",
              "        733597.78380602, 733621.50354537, 733645.22328472, 733668.94302407,\n",
              "        733692.66276343, 733716.38250278, 733740.10224213, 733763.82198148,\n",
              "        733787.54172083, 733811.26146019, 733834.98119954, 733858.70093889,\n",
              "        733882.42067824, 733906.14041759, 733929.86015694, 733953.5798963 ,\n",
              "        733977.29963565, 734001.019375  , 734024.73911435, 734048.4588537 ,\n",
              "        734072.17859306, 734095.89833241, 734119.61807176, 734143.33781111,\n",
              "        734167.05755046, 734190.77728981, 734214.49702917, 734238.21676852,\n",
              "        734261.93650787, 734285.65624722, 734309.37598657, 734333.09572593,\n",
              "        734356.81546528, 734380.53520463, 734404.25494398, 734427.97468333,\n",
              "        734451.69442269, 734475.41416204, 734499.13390139, 734522.85364074,\n",
              "        734546.57338009, 734570.29311944, 734594.0128588 , 734617.73259815,\n",
              "        734641.4523375 , 734665.17207685, 734688.8918162 , 734712.61155556,\n",
              "        734736.33129491, 734760.05103426, 734783.77077361, 734807.49051296,\n",
              "        734831.21025231, 734854.92999167, 734878.64973102, 734902.36947037,\n",
              "        734926.08920972, 734949.80894907, 734973.52868843, 734997.24842778,\n",
              "        735020.96816713, 735044.68790648, 735068.40764583, 735092.12738519,\n",
              "        735115.84712454, 735139.56686389, 735163.28660324, 735187.00634259,\n",
              "        735210.72608194, 735234.4458213 , 735258.16556065, 735281.8853    ,\n",
              "        735305.60503935, 735329.3247787 , 735353.04451806, 735376.76425741,\n",
              "        735400.48399676, 735424.20373611, 735447.92347546, 735471.64321481,\n",
              "        735495.36295417, 735519.08269352, 735542.80243287, 735566.52217222,\n",
              "        735590.24191157, 735613.96165093, 735637.68139028, 735661.40112963,\n",
              "        735685.12086898, 735708.84060833, 735732.56034769, 735756.28008704,\n",
              "        735779.99982639]),\n",
              " <a list of 100 Patch objects>)"
            ]
          },
          "metadata": {
            "tags": []
          },
          "execution_count": 71
        },
        {
          "output_type": "display_data",
          "data": {
            "image/png": "[encoded data removed]",
            "text/plain": [
              "<Figure size 432x288 with 1 Axes>"
            ]
          },
          "metadata": {
            "tags": [],
            "needs_background": "light"
          }
        }
      ]
    },
    {
      "cell_type": "code",
      "metadata": {
        "id": "5AH1n8A04YxU",
        "colab_type": "code",
        "colab": {}
      },
      "source": [
        ""
      ],
      "execution_count": 71,
      "outputs": []
    },
    {
      "cell_type": "markdown",
      "metadata": {
        "id": "2TxVKuZC4-97",
        "colab_type": "text"
      },
      "source": [
        "**Correlations between 'pickup_datetime' and taxi fare**"
      ]
    },
    {
      "cell_type": "code",
      "metadata": {
        "id": "ERiZLhZE5CYV",
        "colab_type": "code",
        "colab": {
          "base_uri": "https://localhost:8080/",
          "height": 337
        },
        "outputId": "6240ef7a-933e-4731-a7d1-1a295d53ce20"
      },
      "source": [
        "'''\n",
        "In the scatter method, s is the size of the dots and alpha is the color.\n",
        "In the x axis we have the date and in the y axis, we have the fare\n",
        "'''\n",
        "plt.figure(figsize= (15, 5))\n",
        "plt.scatter(train['pickup_datetime'], train['fare_amount'], s = 1, alpha = 0.2)"
      ],
      "execution_count": 72,
      "outputs": [
        {
          "output_type": "execute_result",
          "data": {
            "text/plain": [
              "<matplotlib.collections.PathCollection at 0x7f41792eb3c8>"
            ]
          },
          "metadata": {
            "tags": []
          },
          "execution_count": 72
        },
        {
          "output_type": "display_data",
          "data": {
            "image/png": "[encoded data removed]",
            "text/plain": [
              "<Figure size 1080x360 with 1 Axes>"
            ]
          },
          "metadata": {
            "tags": [],
            "needs_background": "light"
          }
        }
      ]
    },
    {
      "cell_type": "markdown",
      "metadata": {
        "id": "r7AAzpvhekyC",
        "colab_type": "text"
      },
      "source": [
        "As we can see from the scatter plot above, some line in the graphic suggest that there are fixed values (or most common values) for the fare in most of time. We are gonna analyse that properlly"
      ]
    },
    {
      "cell_type": "code",
      "metadata": {
        "id": "2RQGIC6Ge1AE",
        "colab_type": "code",
        "colab": {}
      },
      "source": [
        "'''\n",
        "The most common range of values comes from 40 to 60. Now we are going to grab the most common values and count them\n",
        "using the Counter method.\n",
        "'''\n",
        "\n",
        "from collections import Counter\n",
        "fare_zoom = train['fare_amount'][(train['fare_amount'] > 40) & (train['fare_amount'] < 60)]"
      ],
      "execution_count": 73,
      "outputs": []
    },
    {
      "cell_type": "code",
      "metadata": {
        "id": "s4eIaE_ffRgs",
        "colab_type": "code",
        "colab": {
          "base_uri": "https://localhost:8080/",
          "height": 34
        },
        "outputId": "0b01d283-cb87-4ba7-a203-a65a06619579"
      },
      "source": [
        "fare_zoom.shape"
      ],
      "execution_count": 74,
      "outputs": [
        {
          "output_type": "execute_result",
          "data": {
            "text/plain": [
              "(5993,)"
            ]
          },
          "metadata": {
            "tags": []
          },
          "execution_count": 74
        }
      ]
    },
    {
      "cell_type": "code",
      "metadata": {
        "id": "IuwCZd57fTjk",
        "colab_type": "code",
        "colab": {}
      },
      "source": [
        "common_fare_zoom = Counter(fare_zoom)"
      ],
      "execution_count": 75,
      "outputs": []
    },
    {
      "cell_type": "code",
      "metadata": {
        "id": "5Hzy8dUZfZu9",
        "colab_type": "code",
        "colab": {
          "base_uri": "https://localhost:8080/",
          "height": 1000
        },
        "outputId": "9615e733-e160-419c-d951-b236f58eecf8"
      },
      "source": [
        "common_fare_zoom"
      ],
      "execution_count": 76,
      "outputs": [
        {
          "output_type": "execute_result",
          "data": {
            "text/plain": [
              "Counter({40.040000915527344: 7,\n",
              "         40.099998474121094: 18,\n",
              "         40.25: 1,\n",
              "         40.27000045776367: 6,\n",
              "         40.29999923706055: 9,\n",
              "         40.33000183105469: 41,\n",
              "         40.400001525878906: 1,\n",
              "         40.5: 74,\n",
              "         40.540000915527344: 5,\n",
              "         40.650001525878906: 2,\n",
              "         40.66999816894531: 3,\n",
              "         40.70000076293945: 1,\n",
              "         40.7599983215332: 1,\n",
              "         40.79999923706055: 6,\n",
              "         40.83000183105469: 47,\n",
              "         40.900001525878906: 24,\n",
              "         40.939998626708984: 1,\n",
              "         41.0: 35,\n",
              "         41.040000915527344: 7,\n",
              "         41.04999923706055: 1,\n",
              "         41.06999969482422: 3,\n",
              "         41.29999923706055: 31,\n",
              "         41.33000183105469: 27,\n",
              "         41.400001525878906: 1,\n",
              "         41.470001220703125: 4,\n",
              "         41.5: 37,\n",
              "         41.540000915527344: 7,\n",
              "         41.599998474121094: 3,\n",
              "         41.70000076293945: 24,\n",
              "         41.79999923706055: 7,\n",
              "         41.83000183105469: 45,\n",
              "         41.849998474121094: 1,\n",
              "         41.869998931884766: 5,\n",
              "         42.0: 26,\n",
              "         42.040000915527344: 8,\n",
              "         42.099998474121094: 9,\n",
              "         42.20000076293945: 2,\n",
              "         42.25: 2,\n",
              "         42.27000045776367: 2,\n",
              "         42.29999923706055: 7,\n",
              "         42.33000183105469: 29,\n",
              "         42.5: 36,\n",
              "         42.540000915527344: 10,\n",
              "         42.599998474121094: 1,\n",
              "         42.66999816894531: 1,\n",
              "         42.79999923706055: 2,\n",
              "         42.83000183105469: 28,\n",
              "         42.900001525878906: 25,\n",
              "         43.0: 25,\n",
              "         43.040000915527344: 5,\n",
              "         43.04999923706055: 1,\n",
              "         43.06999969482422: 3,\n",
              "         43.29999923706055: 24,\n",
              "         43.33000183105469: 41,\n",
              "         43.45000076293945: 2,\n",
              "         43.470001220703125: 3,\n",
              "         43.5: 22,\n",
              "         43.540000915527344: 7,\n",
              "         43.54999923706055: 1,\n",
              "         43.70000076293945: 5,\n",
              "         43.79999923706055: 4,\n",
              "         43.83000183105469: 23,\n",
              "         43.849998474121094: 2,\n",
              "         43.869998931884766: 4,\n",
              "         43.900001525878906: 1,\n",
              "         44.0: 32,\n",
              "         44.040000915527344: 3,\n",
              "         44.099998474121094: 20,\n",
              "         44.20000076293945: 1,\n",
              "         44.27000045776367: 2,\n",
              "         44.29999923706055: 6,\n",
              "         44.33000183105469: 34,\n",
              "         44.400001525878906: 1,\n",
              "         44.5: 38,\n",
              "         44.540000915527344: 6,\n",
              "         44.650001525878906: 1,\n",
              "         44.66999816894531: 1,\n",
              "         44.79999923706055: 7,\n",
              "         44.83000183105469: 16,\n",
              "         44.900001525878906: 11,\n",
              "         44.939998626708984: 1,\n",
              "         45.0: 673,\n",
              "         45.040000915527344: 4,\n",
              "         45.06999969482422: 1,\n",
              "         45.29999923706055: 8,\n",
              "         45.33000183105469: 25,\n",
              "         45.439998626708984: 1,\n",
              "         45.5: 18,\n",
              "         45.529998779296875: 1,\n",
              "         45.540000915527344: 3,\n",
              "         45.599998474121094: 1,\n",
              "         45.70000076293945: 7,\n",
              "         45.79999923706055: 2,\n",
              "         45.83000183105469: 19,\n",
              "         45.869998931884766: 3,\n",
              "         45.900001525878906: 2,\n",
              "         46.0: 27,\n",
              "         46.040000915527344: 5,\n",
              "         46.099998474121094: 5,\n",
              "         46.27000045776367: 1,\n",
              "         46.29999923706055: 2,\n",
              "         46.33000183105469: 22,\n",
              "         46.5: 26,\n",
              "         46.540000915527344: 3,\n",
              "         46.65999984741211: 2,\n",
              "         46.79999923706055: 5,\n",
              "         46.83000183105469: 12,\n",
              "         46.900001525878906: 8,\n",
              "         46.939998626708984: 2,\n",
              "         47.0: 14,\n",
              "         47.0099983215332: 1,\n",
              "         47.040000915527344: 3,\n",
              "         47.06999969482422: 3,\n",
              "         47.08000183105469: 1,\n",
              "         47.29999923706055: 12,\n",
              "         47.33000183105469: 13,\n",
              "         47.400001525878906: 1,\n",
              "         47.40999984741211: 1,\n",
              "         47.45000076293945: 1,\n",
              "         47.5: 19,\n",
              "         47.540000915527344: 3,\n",
              "         47.70000076293945: 9,\n",
              "         47.79999923706055: 3,\n",
              "         47.83000183105469: 12,\n",
              "         48.0: 26,\n",
              "         48.040000915527344: 4,\n",
              "         48.099998474121094: 8,\n",
              "         48.150001525878906: 1,\n",
              "         48.27000045776367: 2,\n",
              "         48.29999923706055: 3,\n",
              "         48.33000183105469: 17,\n",
              "         48.5: 19,\n",
              "         48.540000915527344: 1,\n",
              "         48.70000076293945: 1,\n",
              "         48.79999923706055: 1,\n",
              "         48.83000183105469: 13,\n",
              "         48.900001525878906: 4,\n",
              "         48.939998626708984: 1,\n",
              "         49.0: 16,\n",
              "         49.04999923706055: 1,\n",
              "         49.06999969482422: 2,\n",
              "         49.150001525878906: 142,\n",
              "         49.29999923706055: 8,\n",
              "         49.33000183105469: 11,\n",
              "         49.40999984741211: 1,\n",
              "         49.470001220703125: 1,\n",
              "         49.5: 18,\n",
              "         49.540000915527344: 4,\n",
              "         49.56999969482422: 498,\n",
              "         49.70000076293945: 8,\n",
              "         49.79999923706055: 732,\n",
              "         49.83000183105469: 10,\n",
              "         49.869998931884766: 2,\n",
              "         49.900001525878906: 1,\n",
              "         50.0: 60,\n",
              "         50.040000915527344: 3,\n",
              "         50.099998474121094: 5,\n",
              "         50.25: 1,\n",
              "         50.27000045776367: 1,\n",
              "         50.29999923706055: 3,\n",
              "         50.33000183105469: 12,\n",
              "         50.5: 62,\n",
              "         50.540000915527344: 2,\n",
              "         50.54999923706055: 1,\n",
              "         50.66999816894531: 1,\n",
              "         50.70000076293945: 1,\n",
              "         50.79999923706055: 1,\n",
              "         50.83000183105469: 9,\n",
              "         50.84000015258789: 1,\n",
              "         50.900001525878906: 3,\n",
              "         51.0: 24,\n",
              "         51.040000915527344: 3,\n",
              "         51.06999969482422: 1,\n",
              "         51.150001525878906: 1,\n",
              "         51.29999923706055: 5,\n",
              "         51.33000183105469: 4,\n",
              "         51.45000076293945: 2,\n",
              "         51.470001220703125: 2,\n",
              "         51.5: 13,\n",
              "         51.540000915527344: 2,\n",
              "         51.70000076293945: 5,\n",
              "         51.83000183105469: 6,\n",
              "         52.0: 415,\n",
              "         52.040000915527344: 1,\n",
              "         52.099998474121094: 3,\n",
              "         52.20000076293945: 1,\n",
              "         52.25: 2,\n",
              "         52.29999923706055: 3,\n",
              "         52.33000183105469: 10,\n",
              "         52.5: 13,\n",
              "         52.540000915527344: 2,\n",
              "         52.599998474121094: 1,\n",
              "         52.66999816894531: 1,\n",
              "         52.70000076293945: 2,\n",
              "         52.83000183105469: 3,\n",
              "         52.900001525878906: 5,\n",
              "         53.0: 15,\n",
              "         53.0099983215332: 1,\n",
              "         53.099998474121094: 1,\n",
              "         53.150001525878906: 1,\n",
              "         53.29999923706055: 3,\n",
              "         53.33000183105469: 5,\n",
              "         53.45000076293945: 1,\n",
              "         53.5: 6,\n",
              "         53.70000076293945: 7,\n",
              "         53.83000183105469: 1,\n",
              "         53.900001525878906: 2,\n",
              "         54.0: 13,\n",
              "         54.040000915527344: 1,\n",
              "         54.099998474121094: 4,\n",
              "         54.13999938964844: 1,\n",
              "         54.29999923706055: 1,\n",
              "         54.33000183105469: 4,\n",
              "         54.400001525878906: 1,\n",
              "         54.5: 15,\n",
              "         54.540000915527344: 1,\n",
              "         54.70000076293945: 1,\n",
              "         54.83000183105469: 1,\n",
              "         54.900001525878906: 2,\n",
              "         54.939998626708984: 1,\n",
              "         55.0: 28,\n",
              "         55.040000915527344: 1,\n",
              "         55.099998474121094: 1,\n",
              "         55.25: 4,\n",
              "         55.29999923706055: 2,\n",
              "         55.33000183105469: 2,\n",
              "         55.40999984741211: 1,\n",
              "         55.5: 8,\n",
              "         55.54999923706055: 1,\n",
              "         55.70000076293945: 1,\n",
              "         55.75: 2,\n",
              "         55.79999923706055: 1,\n",
              "         55.83000183105469: 2,\n",
              "         55.900001525878906: 5,\n",
              "         56.0: 15,\n",
              "         56.040000915527344: 1,\n",
              "         56.099998474121094: 3,\n",
              "         56.15999984741211: 1,\n",
              "         56.29999923706055: 1,\n",
              "         56.33000183105469: 2,\n",
              "         56.400001525878906: 1,\n",
              "         56.439998626708984: 1,\n",
              "         56.5: 9,\n",
              "         56.66999816894531: 1,\n",
              "         56.75: 1,\n",
              "         56.79999923706055: 231,\n",
              "         56.83000183105469: 3,\n",
              "         56.900001525878906: 5,\n",
              "         56.939998626708984: 1,\n",
              "         57.0: 5,\n",
              "         57.099998474121094: 1,\n",
              "         57.29999923706055: 2,\n",
              "         57.33000183105469: 1059,\n",
              "         57.400001525878906: 1,\n",
              "         57.5: 5,\n",
              "         57.540000915527344: 163,\n",
              "         57.70000076293945: 2,\n",
              "         57.849998474121094: 2,\n",
              "         57.900001525878906: 1,\n",
              "         58.0: 12,\n",
              "         58.040000915527344: 1,\n",
              "         58.20000076293945: 1,\n",
              "         58.25: 3,\n",
              "         58.29999923706055: 1,\n",
              "         58.5: 5,\n",
              "         58.650001525878906: 1,\n",
              "         58.70000076293945: 3,\n",
              "         58.79999923706055: 2,\n",
              "         58.83000183105469: 1,\n",
              "         58.900001525878906: 1,\n",
              "         59.0: 7,\n",
              "         59.29999923706055: 3,\n",
              "         59.33000183105469: 1,\n",
              "         59.40999984741211: 1,\n",
              "         59.470001220703125: 1,\n",
              "         59.5: 11,\n",
              "         59.79999923706055: 2,\n",
              "         59.83000183105469: 2,\n",
              "         59.900001525878906: 7})"
            ]
          },
          "metadata": {
            "tags": []
          },
          "execution_count": 76
        }
      ]
    },
    {
      "cell_type": "code",
      "metadata": {
        "id": "W9MX4OADfbyb",
        "colab_type": "code",
        "colab": {}
      },
      "source": [
        "'''\n",
        "Here we are taking the 10 most common fare values\n",
        "'''\n",
        "most_common_fare_zoom = common_fare_zoom.most_common(10)"
      ],
      "execution_count": 77,
      "outputs": []
    },
    {
      "cell_type": "code",
      "metadata": {
        "id": "HNy3FK3Kgirg",
        "colab_type": "code",
        "colab": {
          "base_uri": "https://localhost:8080/",
          "height": 185
        },
        "outputId": "f961330a-6088-4d2d-9bcc-854afa8928d4"
      },
      "source": [
        "most_common_fare_zoom"
      ],
      "execution_count": 97,
      "outputs": [
        {
          "output_type": "execute_result",
          "data": {
            "text/plain": [
              "[(57.33000183105469, 1059),\n",
              " (49.79999923706055, 732),\n",
              " (45.0, 673),\n",
              " (49.56999969482422, 498),\n",
              " (52.0, 415),\n",
              " (56.79999923706055, 231),\n",
              " (57.540000915527344, 163),\n",
              " (49.150001525878906, 142),\n",
              " (40.5, 74),\n",
              " (50.5, 62)]"
            ]
          },
          "metadata": {
            "tags": []
          },
          "execution_count": 97
        }
      ]
    },
    {
      "cell_type": "code",
      "metadata": {
        "id": "Z_xuX8__glQZ",
        "colab_type": "code",
        "colab": {
          "base_uri": "https://localhost:8080/",
          "height": 282
        },
        "outputId": "5ebf07c6-5f17-4ce0-8526-43e9c0b57b2c"
      },
      "source": [
        "'''\n",
        "Here we have the plot from the most_common_fare_zoom calculated right before.\n",
        "'''\n",
        "plt.bar([x[0] for x in most_common_fare_zoom], [x[1] for x in most_common_fare_zoom])"
      ],
      "execution_count": 79,
      "outputs": [
        {
          "output_type": "execute_result",
          "data": {
            "text/plain": [
              "<BarContainer object of 10 artists>"
            ]
          },
          "metadata": {
            "tags": []
          },
          "execution_count": 79
        },
        {
          "output_type": "display_data",
          "data": {
            "image/png": "[encoded data removed]",
            "text/plain": [
              "<Figure size 432x288 with 1 Axes>"
            ]
          },
          "metadata": {
            "tags": [],
            "needs_background": "light"
          }
        }
      ]
    },
    {
      "cell_type": "markdown",
      "metadata": {
        "id": "R1og1PXZkR1U",
        "colab_type": "text"
      },
      "source": [
        "**Here we are gonna keep exploring the fixed taxi rides, in order to find a correlation with the fare amount**"
      ]
    },
    {
      "cell_type": "code",
      "metadata": {
        "id": "AogXTf9QkbLg",
        "colab_type": "code",
        "colab": {}
      },
      "source": [
        "from mpl_toolkits.basemap import Basemap"
      ],
      "execution_count": 80,
      "outputs": []
    },
    {
      "cell_type": "markdown",
      "metadata": {
        "id": "jj3vVYfXq1gv",
        "colab_type": "text"
      },
      "source": [
        "## **New York City latitude and longitude definition**"
      ]
    },
    {
      "cell_type": "code",
      "metadata": {
        "id": "L1ktBqm-q4Zx",
        "colab_type": "code",
        "colab": {
          "base_uri": "https://localhost:8080/",
          "height": 594
        },
        "outputId": "c0ebb75e-ff64-496f-a54b-763bb8345a87"
      },
      "source": [
        "lat1, lat2 = 40.55, 40.95\n",
        "lon1, lon2 = -74.10, -73.70\n",
        "\n",
        "plt.figure(figsize = (10, 10))\n",
        "\n",
        "#Map coverage area\n",
        "m = Basemap(projection = 'cyl', resolution = 'h',\n",
        "            llcrnrlat = lat1, urcrnrlat = lat2,\n",
        "            llcrnrlon = lon1, urcrnrlon = lon2)\n",
        "\n",
        "#Drawing the maps\n",
        "m.drawcoastlines()\n",
        "m.fillcontinents(color = 'palegoldenrod', lake_color = 'lightskyblue')\n",
        "m.drawmapboundary(fill_color = 'lightskyblue')\n",
        "m.drawparallels(np.arange(lat1, lat2 + 0.05, 0.1), labels = [1, 0, 0, 0])\n",
        "m.drawmeridians(np.arange(lon1, lon2 + 0.05, 0.1), labels = [0, 0, 0, 1])\n",
        "\n",
        "# Pickup locations - all exits (green)\n",
        "m.scatter(train['pickup_longitude'], train['pickup_latitude'], s = 1, c = 'green',\n",
        "          alpha = 0.1, zorder = 5)\n",
        "# Dropoof locations - all exits (yellow)\n",
        "m.scatter(train['dropoff_longitude'], train['dropoff_latitude'], s = 1, c='yellow',\n",
        "         alpha = 0.1, zorder = 5)\n",
        "\n",
        "for i in [0, 1, 2, 4]:\n",
        "  this_fare = most_common_fare_zoom[i][0]\n",
        "  this_df = train[train['fare_amount'] == this_fare]\n",
        "  # pickup location - red\n",
        "  m.scatter(this_df['pickup_longitude'], this_df['pickup_latitude'], s = 2, c = 'red',\n",
        "           alpha = 0.2, zorder = 5)\n",
        "  # dropoff location - blue\n",
        "  m.scatter(this_df['dropoff_longitude'], this_df['dropoff_latitude'], s = 2, c = 'blue',\n",
        "           alpha = 0.2, zorder = 5)\n",
        "  "
      ],
      "execution_count": 81,
      "outputs": [
        {
          "output_type": "display_data",
          "data": {
            "image/png": "[encoded data removed]",
            "text/plain": [
              "<Figure size 720x720 with 1 Axes>"
            ]
          },
          "metadata": {
            "tags": []
          }
        }
      ]
    },
    {
      "cell_type": "markdown",
      "metadata": {
        "id": "dyRK8ehB8LvK",
        "colab_type": "text"
      },
      "source": [
        "**As we can see from the graphics above is that we have 2 common agreggation places. We wanna know what are these places.**"
      ]
    },
    {
      "cell_type": "code",
      "metadata": {
        "id": "deM6JW1o8YPS",
        "colab_type": "code",
        "colab": {}
      },
      "source": [
        "coords = train[['dropoff_latitude',\n",
        "                'dropoff_longitude']][(train['fare_amount'] > 40) &\n",
        "                                       (train['fare_amount'] < 60) &\n",
        "                                       (train['dropoff_latitude'] < 40.7) &\n",
        "                                       (train['dropoff_latitude'] > 40.6) &\n",
        "                                       (train['dropoff_longitude'] < -73.7) &\n",
        "                                       (train['dropoff_longitude'] > -73.9)]"
      ],
      "execution_count": 82,
      "outputs": []
    },
    {
      "cell_type": "code",
      "metadata": {
        "id": "csvDZj3_83A3",
        "colab_type": "code",
        "colab": {
          "base_uri": "https://localhost:8080/",
          "height": 34
        },
        "outputId": "24254ffa-fc1b-4172-c2f7-16b3734db8fd"
      },
      "source": [
        "coords.shape"
      ],
      "execution_count": 83,
      "outputs": [
        {
          "output_type": "execute_result",
          "data": {
            "text/plain": [
              "(1612, 2)"
            ]
          },
          "metadata": {
            "tags": []
          },
          "execution_count": 83
        }
      ]
    },
    {
      "cell_type": "code",
      "metadata": {
        "id": "l7vSm2Os9pzZ",
        "colab_type": "code",
        "colab": {
          "base_uri": "https://localhost:8080/",
          "height": 195
        },
        "outputId": "ee53e8d9-8a29-45d1-cada-ee16c161b7f2"
      },
      "source": [
        "coords.head()"
      ],
      "execution_count": 84,
      "outputs": [
        {
          "output_type": "execute_result",
          "data": {
            "text/html": [
              "<div>\n",
              "<style scoped>\n",
              "    .dataframe tbody tr th:only-of-type {\n",
              "        vertical-align: middle;\n",
              "    }\n",
              "\n",
              "    .dataframe tbody tr th {\n",
              "        vertical-align: top;\n",
              "    }\n",
              "\n",
              "    .dataframe thead th {\n",
              "        text-align: right;\n",
              "    }\n",
              "</style>\n",
              "<table border=\"1\" class=\"dataframe\">\n",
              "  <thead>\n",
              "    <tr style=\"text-align: right;\">\n",
              "      <th></th>\n",
              "      <th>dropoff_latitude</th>\n",
              "      <th>dropoff_longitude</th>\n",
              "    </tr>\n",
              "  </thead>\n",
              "  <tbody>\n",
              "    <tr>\n",
              "      <th>140</th>\n",
              "      <td>40.643787</td>\n",
              "      <td>-73.783150</td>\n",
              "    </tr>\n",
              "    <tr>\n",
              "      <th>187</th>\n",
              "      <td>40.643696</td>\n",
              "      <td>-73.783447</td>\n",
              "    </tr>\n",
              "    <tr>\n",
              "      <th>300</th>\n",
              "      <td>40.644257</td>\n",
              "      <td>-73.782288</td>\n",
              "    </tr>\n",
              "    <tr>\n",
              "      <th>321</th>\n",
              "      <td>40.648746</td>\n",
              "      <td>-73.782425</td>\n",
              "    </tr>\n",
              "    <tr>\n",
              "      <th>756</th>\n",
              "      <td>40.648785</td>\n",
              "      <td>-73.782310</td>\n",
              "    </tr>\n",
              "  </tbody>\n",
              "</table>\n",
              "</div>"
            ],
            "text/plain": [
              "     dropoff_latitude  dropoff_longitude\n",
              "140         40.643787         -73.783150\n",
              "187         40.643696         -73.783447\n",
              "300         40.644257         -73.782288\n",
              "321         40.648746         -73.782425\n",
              "756         40.648785         -73.782310"
            ]
          },
          "metadata": {
            "tags": []
          },
          "execution_count": 84
        }
      ]
    },
    {
      "cell_type": "code",
      "metadata": {
        "id": "wxiuTLKg9s-y",
        "colab_type": "code",
        "colab": {
          "base_uri": "https://localhost:8080/",
          "height": 34
        },
        "outputId": "52fb5866-d996-4756-f881-9ddf535ec5d3"
      },
      "source": [
        "'''\n",
        "If you put those coordenates in the Google Maps, you will discover that they belong to the New York International Airport\n",
        "'''\n",
        "print(coords['dropoff_latitude'].median(), coords['dropoff_longitude'].median())"
      ],
      "execution_count": 85,
      "outputs": [
        {
          "output_type": "stream",
          "text": [
            "40.645118713378906 -73.78643798828125\n"
          ],
          "name": "stdout"
        }
      ]
    },
    {
      "cell_type": "code",
      "metadata": {
        "id": "gEFbC8EO96RX",
        "colab_type": "code",
        "colab": {}
      },
      "source": [
        "coords = train[['dropoff_latitude',\n",
        "                'dropoff_longitude']][(train['fare_amount'] > 40) &\n",
        "                                       (train['fare_amount'] < 60) &\n",
        "                                       (train['dropoff_latitude'] < 40.85) &\n",
        "                                       (train['dropoff_latitude'] > 40.7) &\n",
        "                                       (train['dropoff_longitude'] < -73.9) &\n",
        "                                       (train['dropoff_longitude'] > -74.1)]"
      ],
      "execution_count": 86,
      "outputs": []
    },
    {
      "cell_type": "code",
      "metadata": {
        "id": "IDCH_Ym_-FOB",
        "colab_type": "code",
        "colab": {
          "base_uri": "https://localhost:8080/",
          "height": 34
        },
        "outputId": "ee581011-393f-4005-dbc1-015151bafa72"
      },
      "source": [
        "'''\n",
        "If you put those coordenates in the Google Maps, you will discover that they belong to the downtown in Manhattam\n",
        "'''\n",
        "print(coords['dropoff_latitude'].median(), coords['dropoff_longitude'].median())"
      ],
      "execution_count": 87,
      "outputs": [
        {
          "output_type": "stream",
          "text": [
            "40.755348205566406 -73.98301696777344\n"
          ],
          "name": "stdout"
        }
      ]
    },
    {
      "cell_type": "markdown",
      "metadata": {
        "id": "SaVx1IxVEO_t",
        "colab_type": "text"
      },
      "source": [
        "**Correlation between the fare and the number of passengers**"
      ]
    },
    {
      "cell_type": "markdown",
      "metadata": {
        "id": "LaVpLWK7Eb_w",
        "colab_type": "text"
      },
      "source": [
        "Now we want to look between the correlation between the fare and the number os passengers. That's what i am doing down below."
      ]
    },
    {
      "cell_type": "code",
      "metadata": {
        "id": "GG9jj-dGD_AD",
        "colab_type": "code",
        "colab": {}
      },
      "source": [
        "filtered = train[['fare_amount', \n",
        "                  'passenger_count']][((train['fare_amount'] == most_common_fare_zoom[0][0]) |\n",
        "                                       (train['fare_amount'] == most_common_fare_zoom[1][0]) |\n",
        "                                       (train['fare_amount'] == most_common_fare_zoom[2][0]) |\n",
        "                                       (train['fare_amount'] == most_common_fare_zoom[4][0]))&\n",
        "                                       (train['fare_amount'] < 60) &\n",
        "                                       (train['dropoff_latitude'] < 40.7) & \n",
        "                                       (train['dropoff_latitude'] > 40.6) & \n",
        "                                       (train['dropoff_longitude'] < -73.7) &\n",
        "                                       (train['dropoff_longitude'] > -73.9)]"
      ],
      "execution_count": 88,
      "outputs": []
    },
    {
      "cell_type": "code",
      "metadata": {
        "id": "LWx7wvw6D-9g",
        "colab_type": "code",
        "colab": {
          "base_uri": "https://localhost:8080/",
          "height": 34
        },
        "outputId": "77a948b4-361c-4cfc-e15c-a0575a6a5928"
      },
      "source": [
        "filtered.shape"
      ],
      "execution_count": 89,
      "outputs": [
        {
          "output_type": "execute_result",
          "data": {
            "text/plain": [
              "(1109, 2)"
            ]
          },
          "metadata": {
            "tags": []
          },
          "execution_count": 89
        }
      ]
    },
    {
      "cell_type": "code",
      "metadata": {
        "id": "mga7k9ptD-r5",
        "colab_type": "code",
        "colab": {
          "base_uri": "https://localhost:8080/",
          "height": 282
        },
        "outputId": "650de790-e5e0-42e1-e7de-8839fb32771e"
      },
      "source": [
        "'''\n",
        "As shown in the graphics down below, we have the same fare regardless of the number of passengers. Because of that, we \n",
        "can't find a good correlation between the fare and the number of passengers.\n",
        "'''\n",
        "plt.scatter(filtered['passenger_count'], filtered['fare_amount'])"
      ],
      "execution_count": 90,
      "outputs": [
        {
          "output_type": "execute_result",
          "data": {
            "text/plain": [
              "<matplotlib.collections.PathCollection at 0x7f41778c5e10>"
            ]
          },
          "metadata": {
            "tags": []
          },
          "execution_count": 90
        },
        {
          "output_type": "display_data",
          "data": {
            "image/png": "[encoded data removed]",
            "text/plain": [
              "<Figure size 432x288 with 1 Axes>"
            ]
          },
          "metadata": {
            "tags": [],
            "needs_background": "light"
          }
        }
      ]
    },
    {
      "cell_type": "markdown",
      "metadata": {
        "id": "YIe7yxEoI-zK",
        "colab_type": "text"
      },
      "source": [
        "**Correlation between the fare and the hour of day, the day of the week and day of the year**"
      ]
    },
    {
      "cell_type": "code",
      "metadata": {
        "id": "6gs5sXrbD-i6",
        "colab_type": "code",
        "colab": {}
      },
      "source": [
        "filtered = train[['fare_amount', \n",
        "                  'hour_of_day',\n",
        "                  'day_of_week',\n",
        "                  'day_of_year']][((train['fare_amount'] == most_common_fare_zoom[0][0]) |\n",
        "                                       (train['fare_amount'] == most_common_fare_zoom[1][0]) |\n",
        "                                       (train['fare_amount'] == most_common_fare_zoom[2][0]) |\n",
        "                                       (train['fare_amount'] == most_common_fare_zoom[4][0]))&\n",
        "                                       (train['fare_amount'] < 60) &\n",
        "                                       (train['dropoff_latitude'] < 40.7) & \n",
        "                                       (train['dropoff_latitude'] > 40.6) & \n",
        "                                       (train['dropoff_longitude'] < -73.7) &\n",
        "                                       (train['dropoff_longitude'] > -73.9)]"
      ],
      "execution_count": 91,
      "outputs": []
    },
    {
      "cell_type": "code",
      "metadata": {
        "id": "6_w2vRjiD-hN",
        "colab_type": "code",
        "colab": {
          "base_uri": "https://localhost:8080/",
          "height": 34
        },
        "outputId": "8a45f525-8160-49cc-b340-c212c3b7817a"
      },
      "source": [
        "filtered.shape"
      ],
      "execution_count": 92,
      "outputs": [
        {
          "output_type": "execute_result",
          "data": {
            "text/plain": [
              "(1109, 4)"
            ]
          },
          "metadata": {
            "tags": []
          },
          "execution_count": 92
        }
      ]
    },
    {
      "cell_type": "code",
      "metadata": {
        "id": "4I6gkxDHD-Ci",
        "colab_type": "code",
        "colab": {
          "base_uri": "https://localhost:8080/",
          "height": 353
        },
        "outputId": "49470cca-3332-431a-9c06-f563b5bef8f1"
      },
      "source": [
        "fig, ax = plt.subplots(1, 3, figsize = (15, 5))\n",
        "ax[0].scatter(filtered['hour_of_day'], filtered['fare_amount'])\n",
        "ax[0].set_title('Hour of day')\n",
        "ax[1].scatter(filtered['day_of_week'], filtered['fare_amount'])\n",
        "ax[1].set_title('Day of week')\n",
        "ax[2].scatter(filtered['day_of_year'], filtered['fare_amount'])\n",
        "ax[2].set_title('Day of year')"
      ],
      "execution_count": 93,
      "outputs": [
        {
          "output_type": "execute_result",
          "data": {
            "text/plain": [
              "Text(0.5, 1.0, 'Day of year')"
            ]
          },
          "metadata": {
            "tags": []
          },
          "execution_count": 93
        },
        {
          "output_type": "display_data",
          "data": {
            "image/png": "[encoded data removed]",
            "text/plain": [
              "<Figure size 1080x360 with 3 Axes>"
            ]
          },
          "metadata": {
            "tags": [],
            "needs_background": "light"
          }
        }
      ]
    },
    {
      "cell_type": "markdown",
      "metadata": {
        "id": "2UTMfdd5TFpM",
        "colab_type": "text"
      },
      "source": [
        "**Like before, there is no correlation between fare and the time period of taxi ride. The fixed value is correlated with the places where the taxi ride takes place and not the period of time.**\n",
        "\n"
      ]
    },
    {
      "cell_type": "code",
      "metadata": {
        "id": "lXDoJ_q3QD5c",
        "colab_type": "code",
        "colab": {}
      },
      "source": [
        "'''\n",
        "The 'pickup_datetime' is not necessary because we already have created other time period variables \n",
        "that originated from it. So we are gonna just drop it.\n",
        "'''\n",
        "\n",
        "train.drop('pickup_datetime', axis = 1, inplace = True)"
      ],
      "execution_count": 94,
      "outputs": []
    },
    {
      "cell_type": "code",
      "metadata": {
        "id": "7bkoof1lQD-p",
        "colab_type": "code",
        "colab": {
          "base_uri": "https://localhost:8080/",
          "height": 126
        },
        "outputId": "ef588b8c-c2d4-4664-ca35-9f5b46bf0ad5"
      },
      "source": [
        "train.head(2)"
      ],
      "execution_count": 100,
      "outputs": [
        {
          "output_type": "execute_result",
          "data": {
            "text/html": [
              "<div>\n",
              "<style scoped>\n",
              "    .dataframe tbody tr th:only-of-type {\n",
              "        vertical-align: middle;\n",
              "    }\n",
              "\n",
              "    .dataframe tbody tr th {\n",
              "        vertical-align: top;\n",
              "    }\n",
              "\n",
              "    .dataframe thead th {\n",
              "        text-align: right;\n",
              "    }\n",
              "</style>\n",
              "<table border=\"1\" class=\"dataframe\">\n",
              "  <thead>\n",
              "    <tr style=\"text-align: right;\">\n",
              "      <th></th>\n",
              "      <th>fare_amount</th>\n",
              "      <th>pickup_longitude</th>\n",
              "      <th>pickup_latitude</th>\n",
              "      <th>dropoff_longitude</th>\n",
              "      <th>dropoff_latitude</th>\n",
              "      <th>passenger_count</th>\n",
              "      <th>hour_of_day</th>\n",
              "      <th>day_of_week</th>\n",
              "      <th>day_of_year</th>\n",
              "      <th>year</th>\n",
              "    </tr>\n",
              "  </thead>\n",
              "  <tbody>\n",
              "    <tr>\n",
              "      <th>0</th>\n",
              "      <td>7.3</td>\n",
              "      <td>-73.991875</td>\n",
              "      <td>40.754436</td>\n",
              "      <td>-73.977226</td>\n",
              "      <td>40.774323</td>\n",
              "      <td>3</td>\n",
              "      <td>16</td>\n",
              "      <td>1</td>\n",
              "      <td>172</td>\n",
              "      <td>2011</td>\n",
              "    </tr>\n",
              "    <tr>\n",
              "      <th>1</th>\n",
              "      <td>5.7</td>\n",
              "      <td>-73.982353</td>\n",
              "      <td>40.762497</td>\n",
              "      <td>-73.973213</td>\n",
              "      <td>40.755344</td>\n",
              "      <td>2</td>\n",
              "      <td>23</td>\n",
              "      <td>5</td>\n",
              "      <td>157</td>\n",
              "      <td>2009</td>\n",
              "    </tr>\n",
              "  </tbody>\n",
              "</table>\n",
              "</div>"
            ],
            "text/plain": [
              "   fare_amount  pickup_longitude  ...  day_of_year  year\n",
              "0          7.3        -73.991875  ...          172  2011\n",
              "1          5.7        -73.982353  ...          157  2009\n",
              "\n",
              "[2 rows x 10 columns]"
            ]
          },
          "metadata": {
            "tags": []
          },
          "execution_count": 100
        }
      ]
    },
    {
      "cell_type": "markdown",
      "metadata": {
        "id": "EeMj_hf-U-Y9",
        "colab_type": "text"
      },
      "source": [
        "###**Distance correlations**"
      ]
    },
    {
      "cell_type": "code",
      "metadata": {
        "id": "VEYGtYO6QEEF",
        "colab_type": "code",
        "colab": {}
      },
      "source": [
        "'''\n",
        "We are gonna calculate the distance in radians. That's because we are calculating in a spherical surface.\n",
        "'''\n",
        "lon1, lon2 = np.radians(train['pickup_longitude']), np.radians(train['dropoff_longitude'])"
      ],
      "execution_count": 101,
      "outputs": []
    },
    {
      "cell_type": "code",
      "metadata": {
        "id": "AP8HYbL7QECV",
        "colab_type": "code",
        "colab": {
          "base_uri": "https://localhost:8080/",
          "height": 218
        },
        "outputId": "1067f6c9-3640-4c59-d73a-49be0e849b65"
      },
      "source": [
        "lon1"
      ],
      "execution_count": 102,
      "outputs": [
        {
          "output_type": "execute_result",
          "data": {
            "text/plain": [
              "0        -1.291402\n",
              "1        -1.291236\n",
              "2        -1.291054\n",
              "3        -1.291399\n",
              "4        -1.291556\n",
              "            ...   \n",
              "249995   -1.291295\n",
              "249996   -1.291283\n",
              "249997   -1.291392\n",
              "249998   -1.291099\n",
              "249999   -1.291158\n",
              "Name: pickup_longitude, Length: 243601, dtype: float32"
            ]
          },
          "metadata": {
            "tags": []
          },
          "execution_count": 102
        }
      ]
    },
    {
      "cell_type": "code",
      "metadata": {
        "id": "-49J9bSksLUF",
        "colab_type": "code",
        "colab": {}
      },
      "source": [
        "lat1, lat2 = np.radians(train['pickup_latitude']), np.radians(train['dropoff_latitude'])"
      ],
      "execution_count": 103,
      "outputs": []
    },
    {
      "cell_type": "code",
      "metadata": {
        "id": "hZEp0KBtsXdF",
        "colab_type": "code",
        "colab": {
          "base_uri": "https://localhost:8080/",
          "height": 218
        },
        "outputId": "4999d60b-3abf-4afe-a203-bff878d430b3"
      },
      "source": [
        "lat1"
      ],
      "execution_count": 106,
      "outputs": [
        {
          "output_type": "execute_result",
          "data": {
            "text/plain": [
              "0         0.711299\n",
              "1         0.711440\n",
              "2         0.711383\n",
              "3         0.711405\n",
              "4         0.711086\n",
              "            ...   \n",
              "249995    0.710685\n",
              "249996    0.710984\n",
              "249997    0.710649\n",
              "249998    0.711435\n",
              "249999    0.711458\n",
              "Name: pickup_latitude, Length: 243601, dtype: float32"
            ]
          },
          "metadata": {
            "tags": []
          },
          "execution_count": 106
        }
      ]
    },
    {
      "cell_type": "code",
      "metadata": {
        "id": "6CLFwiMZsYKM",
        "colab_type": "code",
        "colab": {}
      },
      "source": [
        "'''\n",
        "To calculate the distance d, we need to subtract the dropoff point to the pickup point\n",
        "'''\n",
        "dlon = lon2 - lon1\n",
        "dlat = lat2 - lat1"
      ],
      "execution_count": 105,
      "outputs": []
    },
    {
      "cell_type": "markdown",
      "metadata": {
        "id": "bIaLEcWLs2aZ",
        "colab_type": "text"
      },
      "source": [
        "In order to find the real distance between 2 points of a sphere (like the Earth), we need to use a mathematical function called Haversine:\n",
        "https://en.wikipedia.org/wiki/Haversine_formula"
      ]
    },
    {
      "cell_type": "markdown",
      "metadata": {
        "id": "iCPSnhbOyS3E",
        "colab_type": "text"
      },
      "source": [
        "**Euclidian Distance (Km)**"
      ]
    },
    {
      "cell_type": "code",
      "metadata": {
        "id": "Eo_J8koGsvGa",
        "colab_type": "code",
        "colab": {}
      },
      "source": [
        "a = np.sin(dlat / 2)**2 + np.cos(lat1) * np.cos(lat2) * np.sin(dlon/2)**2\n",
        "c = 2 * np.arctan2(np.sqrt(a), np.sqrt(1 - a))\n",
        "train['eucl_distance'] = 6373 * c"
      ],
      "execution_count": 107,
      "outputs": []
    },
    {
      "cell_type": "markdown",
      "metadata": {
        "id": "8v-Ig6VTyaLK",
        "colab_type": "text"
      },
      "source": [
        "**Manhattan Distance (Km)**"
      ]
    },
    {
      "cell_type": "code",
      "metadata": {
        "id": "glMNNgtFyLs9",
        "colab_type": "code",
        "colab": {}
      },
      "source": [
        "a1 = np.sin(dlon / 2)**2\n",
        "c1 = 2 * np.arctan2(np.sqrt(a1), np.sqrt(1 - a1))\n",
        "a2 = np.sin(dlat / 2)**2\n",
        "c2 = 2 * np.arctan2(np.sqrt(a2), np.sqrt(1 - a2))\n",
        "train['manh_distance'] = 6373 * (c1 + c2)"
      ],
      "execution_count": 109,
      "outputs": []
    },
    {
      "cell_type": "code",
      "metadata": {
        "id": "g5dFErxuyKgA",
        "colab_type": "code",
        "colab": {
          "base_uri": "https://localhost:8080/",
          "height": 215
        },
        "outputId": "41455b6e-825c-423f-f744-5443e71fde49"
      },
      "source": [
        "train.head()"
      ],
      "execution_count": 110,
      "outputs": [
        {
          "output_type": "execute_result",
          "data": {
            "text/html": [
              "<div>\n",
              "<style scoped>\n",
              "    .dataframe tbody tr th:only-of-type {\n",
              "        vertical-align: middle;\n",
              "    }\n",
              "\n",
              "    .dataframe tbody tr th {\n",
              "        vertical-align: top;\n",
              "    }\n",
              "\n",
              "    .dataframe thead th {\n",
              "        text-align: right;\n",
              "    }\n",
              "</style>\n",
              "<table border=\"1\" class=\"dataframe\">\n",
              "  <thead>\n",
              "    <tr style=\"text-align: right;\">\n",
              "      <th></th>\n",
              "      <th>fare_amount</th>\n",
              "      <th>pickup_longitude</th>\n",
              "      <th>pickup_latitude</th>\n",
              "      <th>dropoff_longitude</th>\n",
              "      <th>dropoff_latitude</th>\n",
              "      <th>passenger_count</th>\n",
              "      <th>hour_of_day</th>\n",
              "      <th>day_of_week</th>\n",
              "      <th>day_of_year</th>\n",
              "      <th>year</th>\n",
              "      <th>eucl_distance</th>\n",
              "      <th>manh_distance</th>\n",
              "    </tr>\n",
              "  </thead>\n",
              "  <tbody>\n",
              "    <tr>\n",
              "      <th>0</th>\n",
              "      <td>7.300000</td>\n",
              "      <td>-73.991875</td>\n",
              "      <td>40.754436</td>\n",
              "      <td>-73.977226</td>\n",
              "      <td>40.774323</td>\n",
              "      <td>3</td>\n",
              "      <td>16</td>\n",
              "      <td>1</td>\n",
              "      <td>172</td>\n",
              "      <td>2011</td>\n",
              "      <td>2.532987</td>\n",
              "      <td>3.841528</td>\n",
              "    </tr>\n",
              "    <tr>\n",
              "      <th>1</th>\n",
              "      <td>5.700000</td>\n",
              "      <td>-73.982353</td>\n",
              "      <td>40.762497</td>\n",
              "      <td>-73.973213</td>\n",
              "      <td>40.755344</td>\n",
              "      <td>2</td>\n",
              "      <td>23</td>\n",
              "      <td>5</td>\n",
              "      <td>157</td>\n",
              "      <td>2009</td>\n",
              "      <td>1.107720</td>\n",
              "      <td>1.813074</td>\n",
              "    </tr>\n",
              "    <tr>\n",
              "      <th>2</th>\n",
              "      <td>5.300000</td>\n",
              "      <td>-73.971916</td>\n",
              "      <td>40.759251</td>\n",
              "      <td>-73.962906</td>\n",
              "      <td>40.772160</td>\n",
              "      <td>1</td>\n",
              "      <td>16</td>\n",
              "      <td>2</td>\n",
              "      <td>115</td>\n",
              "      <td>2012</td>\n",
              "      <td>1.624382</td>\n",
              "      <td>2.438704</td>\n",
              "    </tr>\n",
              "    <tr>\n",
              "      <th>3</th>\n",
              "      <td>25.700001</td>\n",
              "      <td>-73.991730</td>\n",
              "      <td>40.760502</td>\n",
              "      <td>-73.861244</td>\n",
              "      <td>40.767620</td>\n",
              "      <td>1</td>\n",
              "      <td>5</td>\n",
              "      <td>2</td>\n",
              "      <td>245</td>\n",
              "      <td>2009</td>\n",
              "      <td>11.021216</td>\n",
              "      <td>15.305335</td>\n",
              "    </tr>\n",
              "    <tr>\n",
              "      <th>4</th>\n",
              "      <td>4.100000</td>\n",
              "      <td>-74.000687</td>\n",
              "      <td>40.742237</td>\n",
              "      <td>-74.000359</td>\n",
              "      <td>40.735275</td>\n",
              "      <td>2</td>\n",
              "      <td>22</td>\n",
              "      <td>5</td>\n",
              "      <td>267</td>\n",
              "      <td>2011</td>\n",
              "      <td>0.774648</td>\n",
              "      <td>0.810622</td>\n",
              "    </tr>\n",
              "  </tbody>\n",
              "</table>\n",
              "</div>"
            ],
            "text/plain": [
              "   fare_amount  pickup_longitude  ...  eucl_distance  manh_distance\n",
              "0     7.300000        -73.991875  ...       2.532987       3.841528\n",
              "1     5.700000        -73.982353  ...       1.107720       1.813074\n",
              "2     5.300000        -73.971916  ...       1.624382       2.438704\n",
              "3    25.700001        -73.991730  ...      11.021216      15.305335\n",
              "4     4.100000        -74.000687  ...       0.774648       0.810622\n",
              "\n",
              "[5 rows x 12 columns]"
            ]
          },
          "metadata": {
            "tags": []
          },
          "execution_count": 110
        }
      ]
    },
    {
      "cell_type": "markdown",
      "metadata": {
        "id": "ciDVt1yEzIwa",
        "colab_type": "text"
      },
      "source": [
        "\n",
        "Now we will see how the Euclidean distance and Manhattan distance data are distributed."
      ]
    },
    {
      "cell_type": "code",
      "metadata": {
        "id": "koGJQgR5ym6R",
        "colab_type": "code",
        "colab": {
          "base_uri": "https://localhost:8080/",
          "height": 353
        },
        "outputId": "2b89810b-962f-4c00-b643-c8ade46c4cae"
      },
      "source": [
        "fig, ax = plt.subplots(1, 2, figsize = (10,5))\n",
        "ax[0].hist(train['eucl_distance'])\n",
        "ax[0].set_title('Euclidian Distance')\n",
        "ax[1].hist(train['manh_distance'])\n",
        "ax[1].set_title('Manhattan Distance')"
      ],
      "execution_count": 111,
      "outputs": [
        {
          "output_type": "execute_result",
          "data": {
            "text/plain": [
              "Text(0.5, 1.0, 'Manhattan Distance')"
            ]
          },
          "metadata": {
            "tags": []
          },
          "execution_count": 111
        },
        {
          "output_type": "display_data",
          "data": {
            "image/png": "[encoded data removed]",
            "text/plain": [
              "<Figure size 720x360 with 2 Axes>"
            ]
          },
          "metadata": {
            "tags": [],
            "needs_background": "light"
          }
        }
      ]
    },
    {
      "cell_type": "markdown",
      "metadata": {
        "id": "f8El6lzF5psv",
        "colab_type": "text"
      },
      "source": [
        "#**Pre-processing**"
      ]
    },
    {
      "cell_type": "code",
      "metadata": {
        "id": "IAnUyxu5zaYB",
        "colab_type": "code",
        "colab": {}
      },
      "source": [
        "X_train = train.drop('fare_amount', axis = 1)\n",
        "y_train = train['fare_amount']"
      ],
      "execution_count": 112,
      "outputs": []
    },
    {
      "cell_type": "code",
      "metadata": {
        "id": "n4FU7Ke758qo",
        "colab_type": "code",
        "colab": {
          "base_uri": "https://localhost:8080/",
          "height": 215
        },
        "outputId": "a52c9ab3-da19-4b6d-9fe4-605b48b44390"
      },
      "source": [
        "X_train.head()"
      ],
      "execution_count": 113,
      "outputs": [
        {
          "output_type": "execute_result",
          "data": {
            "text/html": [
              "<div>\n",
              "<style scoped>\n",
              "    .dataframe tbody tr th:only-of-type {\n",
              "        vertical-align: middle;\n",
              "    }\n",
              "\n",
              "    .dataframe tbody tr th {\n",
              "        vertical-align: top;\n",
              "    }\n",
              "\n",
              "    .dataframe thead th {\n",
              "        text-align: right;\n",
              "    }\n",
              "</style>\n",
              "<table border=\"1\" class=\"dataframe\">\n",
              "  <thead>\n",
              "    <tr style=\"text-align: right;\">\n",
              "      <th></th>\n",
              "      <th>pickup_longitude</th>\n",
              "      <th>pickup_latitude</th>\n",
              "      <th>dropoff_longitude</th>\n",
              "      <th>dropoff_latitude</th>\n",
              "      <th>passenger_count</th>\n",
              "      <th>hour_of_day</th>\n",
              "      <th>day_of_week</th>\n",
              "      <th>day_of_year</th>\n",
              "      <th>year</th>\n",
              "      <th>eucl_distance</th>\n",
              "      <th>manh_distance</th>\n",
              "    </tr>\n",
              "  </thead>\n",
              "  <tbody>\n",
              "    <tr>\n",
              "      <th>0</th>\n",
              "      <td>-73.991875</td>\n",
              "      <td>40.754436</td>\n",
              "      <td>-73.977226</td>\n",
              "      <td>40.774323</td>\n",
              "      <td>3</td>\n",
              "      <td>16</td>\n",
              "      <td>1</td>\n",
              "      <td>172</td>\n",
              "      <td>2011</td>\n",
              "      <td>2.532987</td>\n",
              "      <td>3.841528</td>\n",
              "    </tr>\n",
              "    <tr>\n",
              "      <th>1</th>\n",
              "      <td>-73.982353</td>\n",
              "      <td>40.762497</td>\n",
              "      <td>-73.973213</td>\n",
              "      <td>40.755344</td>\n",
              "      <td>2</td>\n",
              "      <td>23</td>\n",
              "      <td>5</td>\n",
              "      <td>157</td>\n",
              "      <td>2009</td>\n",
              "      <td>1.107720</td>\n",
              "      <td>1.813074</td>\n",
              "    </tr>\n",
              "    <tr>\n",
              "      <th>2</th>\n",
              "      <td>-73.971916</td>\n",
              "      <td>40.759251</td>\n",
              "      <td>-73.962906</td>\n",
              "      <td>40.772160</td>\n",
              "      <td>1</td>\n",
              "      <td>16</td>\n",
              "      <td>2</td>\n",
              "      <td>115</td>\n",
              "      <td>2012</td>\n",
              "      <td>1.624382</td>\n",
              "      <td>2.438704</td>\n",
              "    </tr>\n",
              "    <tr>\n",
              "      <th>3</th>\n",
              "      <td>-73.991730</td>\n",
              "      <td>40.760502</td>\n",
              "      <td>-73.861244</td>\n",
              "      <td>40.767620</td>\n",
              "      <td>1</td>\n",
              "      <td>5</td>\n",
              "      <td>2</td>\n",
              "      <td>245</td>\n",
              "      <td>2009</td>\n",
              "      <td>11.021216</td>\n",
              "      <td>15.305335</td>\n",
              "    </tr>\n",
              "    <tr>\n",
              "      <th>4</th>\n",
              "      <td>-74.000687</td>\n",
              "      <td>40.742237</td>\n",
              "      <td>-74.000359</td>\n",
              "      <td>40.735275</td>\n",
              "      <td>2</td>\n",
              "      <td>22</td>\n",
              "      <td>5</td>\n",
              "      <td>267</td>\n",
              "      <td>2011</td>\n",
              "      <td>0.774648</td>\n",
              "      <td>0.810622</td>\n",
              "    </tr>\n",
              "  </tbody>\n",
              "</table>\n",
              "</div>"
            ],
            "text/plain": [
              "   pickup_longitude  pickup_latitude  ...  eucl_distance  manh_distance\n",
              "0        -73.991875        40.754436  ...       2.532987       3.841528\n",
              "1        -73.982353        40.762497  ...       1.107720       1.813074\n",
              "2        -73.971916        40.759251  ...       1.624382       2.438704\n",
              "3        -73.991730        40.760502  ...      11.021216      15.305335\n",
              "4        -74.000687        40.742237  ...       0.774648       0.810622\n",
              "\n",
              "[5 rows x 11 columns]"
            ]
          },
          "metadata": {
            "tags": []
          },
          "execution_count": 113
        }
      ]
    },
    {
      "cell_type": "code",
      "metadata": {
        "id": "SbxtXOid5-pd",
        "colab_type": "code",
        "colab": {
          "base_uri": "https://localhost:8080/",
          "height": 118
        },
        "outputId": "ba556269-63b4-4f6c-fc3d-eec2baedb1ab"
      },
      "source": [
        "y_train.head()"
      ],
      "execution_count": 114,
      "outputs": [
        {
          "output_type": "execute_result",
          "data": {
            "text/plain": [
              "0     7.300000\n",
              "1     5.700000\n",
              "2     5.300000\n",
              "3    25.700001\n",
              "4     4.100000\n",
              "Name: fare_amount, dtype: float32"
            ]
          },
          "metadata": {
            "tags": []
          },
          "execution_count": 114
        }
      ]
    },
    {
      "cell_type": "markdown",
      "metadata": {
        "id": "hMFICQ7N6Xdf",
        "colab_type": "text"
      },
      "source": [
        "**We'll need to normalize the whole dataset between 0 and 1. Otherwise, it will take a lot of time to train the dataset**"
      ]
    },
    {
      "cell_type": "code",
      "metadata": {
        "id": "QP9EwJI46AR1",
        "colab_type": "code",
        "colab": {}
      },
      "source": [
        "'''\n",
        "Here we are normalizing the data\n",
        "'''\n",
        "from sklearn.preprocessing import MinMaxScaler\n",
        "scaler = MinMaxScaler()\n",
        "scaler.fit(X_train)\n",
        "X_train_scaled = scaler.transform(X_train)"
      ],
      "execution_count": 115,
      "outputs": []
    },
    {
      "cell_type": "code",
      "metadata": {
        "id": "8cGCyoBb704X",
        "colab_type": "code",
        "colab": {
          "base_uri": "https://localhost:8080/",
          "height": 235
        },
        "outputId": "dace7f92-4c6d-40b4-d992-e3ad3f358dcc"
      },
      "source": [
        "X_train_scaled"
      ],
      "execution_count": 116,
      "outputs": [
        {
          "output_type": "execute_result",
          "data": {
            "text/plain": [
              "array([[0.46909902, 0.53244966, 0.48130494, ..., 0.33333333, 0.04465228,\n",
              "        0.04432241],\n",
              "       [0.47960274, 0.54129062, 0.48569592, ..., 0.        , 0.01952724,\n",
              "        0.0209187 ],\n",
              "       [0.49111644, 0.53772997, 0.4969739 , ..., 0.5       , 0.0286351 ,\n",
              "        0.02813704],\n",
              "       ...,\n",
              "       [0.46973025, 0.49159209, 0.46574451, ..., 0.5       , 0.01310639,\n",
              "        0.00876105],\n",
              "       [0.48822118, 0.5410061 , 0.46955113, ..., 0.66666667, 0.03251048,\n",
              "        0.03403618],\n",
              "       [0.48453478, 0.54244543, 0.48481105, ..., 0.83333333, 0.04036586,\n",
              "        0.03110414]])"
            ]
          },
          "metadata": {
            "tags": []
          },
          "execution_count": 116
        }
      ]
    },
    {
      "cell_type": "markdown",
      "metadata": {
        "id": "2BUXZbHw8Muz",
        "colab_type": "text"
      },
      "source": [
        "#**Training**"
      ]
    },
    {
      "cell_type": "code",
      "metadata": {
        "id": "QuA3NVM671Db",
        "colab_type": "code",
        "colab": {}
      },
      "source": [
        "#Cross validation to prevent overfitting\n",
        "from sklearn.model_selection import cross_val_score\n",
        "cv = 3\n",
        "\n",
        "#The metric we are going to use\n",
        "scoring = 'neg_mean_squared_error'\n",
        "\n",
        "#Count the number of CPUs we have\n",
        "import multiprocessing\n",
        "n_jobs = multiprocessing.cpu_count() - 1"
      ],
      "execution_count": 117,
      "outputs": []
    },
    {
      "cell_type": "code",
      "metadata": {
        "id": "5V0ICbeK71Lk",
        "colab_type": "code",
        "colab": {
          "base_uri": "https://localhost:8080/",
          "height": 34
        },
        "outputId": "a54943b3-5b6b-4cc8-a773-9bd23e87d1a2"
      },
      "source": [
        "n_jobs"
      ],
      "execution_count": 122,
      "outputs": [
        {
          "output_type": "execute_result",
          "data": {
            "text/plain": [
              "1"
            ]
          },
          "metadata": {
            "tags": []
          },
          "execution_count": 122
        }
      ]
    },
    {
      "cell_type": "markdown",
      "metadata": {
        "id": "G7YnDR5L9Vr9",
        "colab_type": "text"
      },
      "source": [
        "###**Now we are going to work with some algorithms**"
      ]
    },
    {
      "cell_type": "markdown",
      "metadata": {
        "id": "q3Xa2sS19e2e",
        "colab_type": "text"
      },
      "source": [
        "**Linear Progression**"
      ]
    },
    {
      "cell_type": "code",
      "metadata": {
        "id": "jYWDLY4X71Jb",
        "colab_type": "code",
        "colab": {
          "base_uri": "https://localhost:8080/",
          "height": 34
        },
        "outputId": "4437b88e-d9ff-4a19-a136-31f0f16f41e9"
      },
      "source": [
        "from sklearn.linear_model import LinearRegression\n",
        "model = LinearRegression()\n",
        "scores = cross_val_score(model, X_train_scaled, y_train, cv = cv,\n",
        "                         scoring = scoring, n_jobs = n_jobs)\n",
        "np.sqrt(-scores.mean())"
      ],
      "execution_count": 124,
      "outputs": [
        {
          "output_type": "execute_result",
          "data": {
            "text/plain": [
              "4.544562517699698"
            ]
          },
          "metadata": {
            "tags": []
          },
          "execution_count": 124
        }
      ]
    },
    {
      "cell_type": "markdown",
      "metadata": {
        "id": "W4dMw0Ha5KZs",
        "colab_type": "text"
      },
      "source": [
        "As we can see above, our squared error is already less than the previouslly calculated squared error (between 5 and 8). But we will keep looking for better results down below."
      ]
    },
    {
      "cell_type": "markdown",
      "metadata": {
        "id": "8Zq4ROzd39cY",
        "colab_type": "text"
      },
      "source": [
        "**Ridge Regression**"
      ]
    },
    {
      "cell_type": "code",
      "metadata": {
        "id": "m_Qymzrq3mbd",
        "colab_type": "code",
        "colab": {
          "base_uri": "https://localhost:8080/",
          "height": 34
        },
        "outputId": "bd14b1a6-ae9d-401a-e599-857182cfca95"
      },
      "source": [
        "from sklearn.linear_model import Ridge\n",
        "model = Ridge()\n",
        "scores = cross_val_score(model, X_train_scaled, y_train, cv = cv,\n",
        "                         scoring = scoring, n_jobs = n_jobs)\n",
        "np.sqrt(-scores.mean())"
      ],
      "execution_count": 126,
      "outputs": [
        {
          "output_type": "execute_result",
          "data": {
            "text/plain": [
              "4.544908581344033"
            ]
          },
          "metadata": {
            "tags": []
          },
          "execution_count": 126
        }
      ]
    },
    {
      "cell_type": "markdown",
      "metadata": {
        "id": "jt7xU3fc4H0l",
        "colab_type": "text"
      },
      "source": [
        "**Lasso Regression**"
      ]
    },
    {
      "cell_type": "code",
      "metadata": {
        "id": "D69TDRvt3p4t",
        "colab_type": "code",
        "colab": {
          "base_uri": "https://localhost:8080/",
          "height": 34
        },
        "outputId": "cb1488a2-c4b6-436f-ce24-50d66825ae8e"
      },
      "source": [
        "from sklearn.linear_model import Lasso\n",
        "model = Lasso()\n",
        "scores = cross_val_score(model, X_train_scaled, y_train, cv = cv,\n",
        "                         scoring = scoring, n_jobs = n_jobs)\n",
        "np.sqrt(-scores.mean())"
      ],
      "execution_count": 127,
      "outputs": [
        {
          "output_type": "execute_result",
          "data": {
            "text/plain": [
              "9.497971897486826"
            ]
          },
          "metadata": {
            "tags": []
          },
          "execution_count": 127
        }
      ]
    },
    {
      "cell_type": "code",
      "metadata": {
        "id": "8brNuHri3qpJ",
        "colab_type": "code",
        "colab": {}
      },
      "source": [
        ""
      ],
      "execution_count": null,
      "outputs": []
    },
    {
      "cell_type": "markdown",
      "metadata": {
        "id": "ueCSnYsB4MLh",
        "colab_type": "text"
      },
      "source": [
        "**Nearest Neighbors (KNN)**"
      ]
    },
    {
      "cell_type": "markdown",
      "metadata": {
        "id": "5eXdOtFV7Oe7",
        "colab_type": "text"
      },
      "source": [
        "Instance based algorithm"
      ]
    },
    {
      "cell_type": "code",
      "metadata": {
        "id": "JlzVx3MA3qtb",
        "colab_type": "code",
        "colab": {
          "base_uri": "https://localhost:8080/",
          "height": 34
        },
        "outputId": "a3296a54-dbe3-46f4-f18f-7b2ece370e85"
      },
      "source": [
        "from sklearn.neighbors import KNeighborsRegressor\n",
        "model = KNeighborsRegressor()\n",
        "scores = cross_val_score(model, X_train_scaled, y_train, cv = cv,\n",
        "                         scoring = scoring, n_jobs = n_jobs)\n",
        "np.sqrt(-scores.mean())"
      ],
      "execution_count": 128,
      "outputs": [
        {
          "output_type": "execute_result",
          "data": {
            "text/plain": [
              "5.028889040907392"
            ]
          },
          "metadata": {
            "tags": []
          },
          "execution_count": 128
        }
      ]
    },
    {
      "cell_type": "markdown",
      "metadata": {
        "id": "IGh2KVaB4YVD",
        "colab_type": "text"
      },
      "source": [
        "**Decision Tree**"
      ]
    },
    {
      "cell_type": "code",
      "metadata": {
        "id": "T5WjW05o3tTm",
        "colab_type": "code",
        "colab": {
          "base_uri": "https://localhost:8080/",
          "height": 34
        },
        "outputId": "0bc1195d-085d-4f9b-c049-3534e33770f3"
      },
      "source": [
        "from sklearn.tree import DecisionTreeRegressor\n",
        "model = DecisionTreeRegressor()\n",
        "scores = cross_val_score(model, X_train_scaled, y_train, cv = cv,\n",
        "                         scoring = scoring, n_jobs = n_jobs)\n",
        "np.sqrt(-scores.mean())"
      ],
      "execution_count": 129,
      "outputs": [
        {
          "output_type": "execute_result",
          "data": {
            "text/plain": [
              "5.2190106452219425"
            ]
          },
          "metadata": {
            "tags": []
          },
          "execution_count": 129
        }
      ]
    },
    {
      "cell_type": "markdown",
      "metadata": {
        "id": "s2bbz7dN4cJz",
        "colab_type": "text"
      },
      "source": [
        "**Random Forest**"
      ]
    },
    {
      "cell_type": "code",
      "metadata": {
        "id": "nllDMoTB3vxE",
        "colab_type": "code",
        "colab": {
          "base_uri": "https://localhost:8080/",
          "height": 34
        },
        "outputId": "ac976c92-5993-42e1-e9ac-9f6cb162a32e"
      },
      "source": [
        "from sklearn.ensemble import RandomForestRegressor\n",
        "model = RandomForestRegressor()\n",
        "scores = cross_val_score(model, X_train_scaled, y_train, cv = cv,\n",
        "                         scoring = scoring, n_jobs = n_jobs)\n",
        "np.sqrt(-scores.mean())"
      ],
      "execution_count": 130,
      "outputs": [
        {
          "output_type": "execute_result",
          "data": {
            "text/plain": [
              "3.6721288100004426"
            ]
          },
          "metadata": {
            "tags": []
          },
          "execution_count": 130
        }
      ]
    },
    {
      "cell_type": "markdown",
      "metadata": {
        "id": "SUbynq-84f0T",
        "colab_type": "text"
      },
      "source": [
        "**Gradient Boosting**"
      ]
    },
    {
      "cell_type": "code",
      "metadata": {
        "id": "iialYE6o3ydU",
        "colab_type": "code",
        "colab": {
          "base_uri": "https://localhost:8080/",
          "height": 34
        },
        "outputId": "b602d5e7-8ca5-4e3c-dc2c-ce3e84288c5f"
      },
      "source": [
        "from sklearn.ensemble import GradientBoostingRegressor\n",
        "model = GradientBoostingRegressor()\n",
        "scores = cross_val_score(model, X_train_scaled, y_train, cv = cv,\n",
        "                         scoring = scoring, n_jobs = n_jobs)\n",
        "np.sqrt(-scores.mean())"
      ],
      "execution_count": 132,
      "outputs": [
        {
          "output_type": "execute_result",
          "data": {
            "text/plain": [
              "3.801042824009698"
            ]
          },
          "metadata": {
            "tags": []
          },
          "execution_count": 132
        }
      ]
    },
    {
      "cell_type": "markdown",
      "metadata": {
        "id": "GB91m2P_4jpZ",
        "colab_type": "text"
      },
      "source": [
        "**Deep Learning**"
      ]
    },
    {
      "cell_type": "code",
      "metadata": {
        "id": "ETuLPH0m35Za",
        "colab_type": "code",
        "colab": {
          "base_uri": "https://localhost:8080/",
          "height": 154
        },
        "outputId": "56c4e943-8785-46bd-b26b-e01a1bd59a72"
      },
      "source": [
        "from sklearn.neural_network import MLPRegressor\n",
        "model = MLPRegressor()\n",
        "scores = cross_val_score(model, X_train_scaled, y_train, cv = cv,\n",
        "                         scoring = scoring, n_jobs = n_jobs)\n",
        "np.sqrt(-scores.mean())"
      ],
      "execution_count": 133,
      "outputs": [
        {
          "output_type": "stream",
          "text": [
            "/usr/local/lib/python3.6/dist-packages/sklearn/neural_network/_multilayer_perceptron.py:571: ConvergenceWarning: Stochastic Optimizer: Maximum iterations (200) reached and the optimization hasn't converged yet.\n",
            "  % self.max_iter, ConvergenceWarning)\n",
            "/usr/local/lib/python3.6/dist-packages/sklearn/neural_network/_multilayer_perceptron.py:571: ConvergenceWarning: Stochastic Optimizer: Maximum iterations (200) reached and the optimization hasn't converged yet.\n",
            "  % self.max_iter, ConvergenceWarning)\n",
            "/usr/local/lib/python3.6/dist-packages/sklearn/neural_network/_multilayer_perceptron.py:571: ConvergenceWarning: Stochastic Optimizer: Maximum iterations (200) reached and the optimization hasn't converged yet.\n",
            "  % self.max_iter, ConvergenceWarning)\n"
          ],
          "name": "stderr"
        },
        {
          "output_type": "execute_result",
          "data": {
            "text/plain": [
              "4.205800702039588"
            ]
          },
          "metadata": {
            "tags": []
          },
          "execution_count": 133
        }
      ]
    },
    {
      "cell_type": "markdown",
      "metadata": {
        "id": "-m081mi7M5dz",
        "colab_type": "text"
      },
      "source": [
        "###**The best performance were with the Gradient Booster and the Random Forest algorithms. I wanna try a new algorithm rather than use the Random Forest again, so i am gonna use the Gradient Booster**"
      ]
    },
    {
      "cell_type": "markdown",
      "metadata": {
        "id": "jE3aw7UL4npO",
        "colab_type": "text"
      },
      "source": [
        "#**Inspecting the best model**"
      ]
    },
    {
      "cell_type": "markdown",
      "metadata": {
        "id": "90pgaSaP4sbs",
        "colab_type": "text"
      },
      "source": [
        "**Dividing the database**"
      ]
    },
    {
      "cell_type": "code",
      "metadata": {
        "id": "6g7_Gs9V4q61",
        "colab_type": "code",
        "colab": {}
      },
      "source": [
        "from sklearn.model_selection import train_test_split\n",
        "X_train1, X_test, y_train1, y_test = train_test_split(X_train_scaled, y_train,\n",
        "                                                      test_size = 0.2, random_state = 24)"
      ],
      "execution_count": 134,
      "outputs": []
    },
    {
      "cell_type": "code",
      "metadata": {
        "id": "kX5OdRY2NqlE",
        "colab_type": "code",
        "colab": {
          "base_uri": "https://localhost:8080/",
          "height": 34
        },
        "outputId": "d01e53c3-21fa-479d-a3ce-af1a14bfcbc7"
      },
      "source": [
        "X_train1.shape"
      ],
      "execution_count": 135,
      "outputs": [
        {
          "output_type": "execute_result",
          "data": {
            "text/plain": [
              "(194880, 11)"
            ]
          },
          "metadata": {
            "tags": []
          },
          "execution_count": 135
        }
      ]
    },
    {
      "cell_type": "code",
      "metadata": {
        "id": "0oWCrcBKOYVi",
        "colab_type": "code",
        "colab": {
          "base_uri": "https://localhost:8080/",
          "height": 34
        },
        "outputId": "c531a9a5-da3f-46ba-ec63-224d2698b041"
      },
      "source": [
        "X_test.shape"
      ],
      "execution_count": 136,
      "outputs": [
        {
          "output_type": "execute_result",
          "data": {
            "text/plain": [
              "(48721, 11)"
            ]
          },
          "metadata": {
            "tags": []
          },
          "execution_count": 136
        }
      ]
    },
    {
      "cell_type": "markdown",
      "metadata": {
        "id": "LPbOItTdOxCS",
        "colab_type": "text"
      },
      "source": [
        "**Training the model**"
      ]
    },
    {
      "cell_type": "code",
      "metadata": {
        "id": "gY9IQiawOb56",
        "colab_type": "code",
        "colab": {
          "base_uri": "https://localhost:8080/",
          "height": 168
        },
        "outputId": "9b771f37-afef-4d19-8db4-20051df54800"
      },
      "source": [
        "model = GradientBoostingRegressor()\n",
        "model.fit(X_train1, y_train1)"
      ],
      "execution_count": 137,
      "outputs": [
        {
          "output_type": "execute_result",
          "data": {
            "text/plain": [
              "GradientBoostingRegressor(alpha=0.9, ccp_alpha=0.0, criterion='friedman_mse',\n",
              "                          init=None, learning_rate=0.1, loss='ls', max_depth=3,\n",
              "                          max_features=None, max_leaf_nodes=None,\n",
              "                          min_impurity_decrease=0.0, min_impurity_split=None,\n",
              "                          min_samples_leaf=1, min_samples_split=2,\n",
              "                          min_weight_fraction_leaf=0.0, n_estimators=100,\n",
              "                          n_iter_no_change=None, presort='deprecated',\n",
              "                          random_state=None, subsample=1.0, tol=0.0001,\n",
              "                          validation_fraction=0.1, verbose=0, warm_start=False)"
            ]
          },
          "metadata": {
            "tags": []
          },
          "execution_count": 137
        }
      ]
    },
    {
      "cell_type": "markdown",
      "metadata": {
        "id": "sqJgZHOQPQ7B",
        "colab_type": "text"
      },
      "source": [
        "**Inspecting the model**"
      ]
    },
    {
      "cell_type": "code",
      "metadata": {
        "id": "_uoe8nPsPGCm",
        "colab_type": "code",
        "colab": {}
      },
      "source": [
        "'''\n",
        "We want to know the importance of each feature \n",
        "'''\n",
        "feature_importances = model.feature_importances_"
      ],
      "execution_count": 138,
      "outputs": []
    },
    {
      "cell_type": "code",
      "metadata": {
        "id": "kxEVUGVGPpqX",
        "colab_type": "code",
        "colab": {
          "base_uri": "https://localhost:8080/",
          "height": 67
        },
        "outputId": "9db9865d-1a89-4f32-d096-101943fc4359"
      },
      "source": [
        "'''\n",
        "The bigger his value, more important the feature is.\n",
        "'''\n",
        "feature_importances"
      ],
      "execution_count": 139,
      "outputs": [
        {
          "output_type": "execute_result",
          "data": {
            "text/plain": [
              "array([1.62904662e-02, 1.50691646e-03, 3.83742822e-02, 8.95929038e-03,\n",
              "       1.89670671e-04, 3.67087855e-03, 4.64382547e-04, 1.34847857e-03,\n",
              "       2.49167397e-02, 8.58909014e-01, 4.53698807e-02])"
            ]
          },
          "metadata": {
            "tags": []
          },
          "execution_count": 139
        }
      ]
    },
    {
      "cell_type": "code",
      "metadata": {
        "id": "SeqXH-WhPq78",
        "colab_type": "code",
        "colab": {}
      },
      "source": [
        "'''\n",
        "Here we are calculating the order of importance\n",
        "'''\n",
        "argsort = np.argsort(feature_importances)"
      ],
      "execution_count": 140,
      "outputs": []
    },
    {
      "cell_type": "code",
      "metadata": {
        "id": "2CVoBmJ4P9Ip",
        "colab_type": "code",
        "colab": {
          "base_uri": "https://localhost:8080/",
          "height": 34
        },
        "outputId": "95837170-ba43-43ee-9854-077b5acb7b1d"
      },
      "source": [
        "'''\n",
        "The smaller value in this array is in position 4 of the \"feature_importences\". The second smaller value is in \n",
        "the sisth position of the \"feature_importences\". The third smaller value is in the seventh position of \"feature_importences\", \n",
        "and so on. \n",
        "'''\n",
        "argsort"
      ],
      "execution_count": 141,
      "outputs": [
        {
          "output_type": "execute_result",
          "data": {
            "text/plain": [
              "array([ 4,  6,  7,  1,  5,  3,  0,  8,  2, 10,  9])"
            ]
          },
          "metadata": {
            "tags": []
          },
          "execution_count": 141
        }
      ]
    },
    {
      "cell_type": "markdown",
      "metadata": {
        "id": "IBtQwnZhVRDl",
        "colab_type": "text"
      },
      "source": [
        "**We wanna know wich feature is more important. So we are going to turn the argsort array into names of features**"
      ]
    },
    {
      "cell_type": "code",
      "metadata": {
        "id": "3cMcFNmaP-Ya",
        "colab_type": "code",
        "colab": {}
      },
      "source": [
        "feature_importances_sorted = feature_importances[argsort]"
      ],
      "execution_count": 142,
      "outputs": []
    },
    {
      "cell_type": "code",
      "metadata": {
        "id": "DpWxsM8wUh3s",
        "colab_type": "code",
        "colab": {
          "base_uri": "https://localhost:8080/",
          "height": 67
        },
        "outputId": "a4273f54-1e93-4704-ef44-38462c2f7134"
      },
      "source": [
        "feature_importances_sorted"
      ],
      "execution_count": 143,
      "outputs": [
        {
          "output_type": "execute_result",
          "data": {
            "text/plain": [
              "array([1.89670671e-04, 4.64382547e-04, 1.34847857e-03, 1.50691646e-03,\n",
              "       3.67087855e-03, 8.95929038e-03, 1.62904662e-02, 2.49167397e-02,\n",
              "       3.83742822e-02, 4.53698807e-02, 8.58909014e-01])"
            ]
          },
          "metadata": {
            "tags": []
          },
          "execution_count": 143
        }
      ]
    },
    {
      "cell_type": "code",
      "metadata": {
        "id": "Poc7idrEUis9",
        "colab_type": "code",
        "colab": {}
      },
      "source": [
        "feature_names = X_train.columns"
      ],
      "execution_count": 144,
      "outputs": []
    },
    {
      "cell_type": "code",
      "metadata": {
        "id": "dK6w0YOsUxAz",
        "colab_type": "code",
        "colab": {
          "base_uri": "https://localhost:8080/",
          "height": 84
        },
        "outputId": "a7374fb9-0d3f-45e2-d52a-4e828c71b2b3"
      },
      "source": [
        "feature_names"
      ],
      "execution_count": 145,
      "outputs": [
        {
          "output_type": "execute_result",
          "data": {
            "text/plain": [
              "Index(['pickup_longitude', 'pickup_latitude', 'dropoff_longitude',\n",
              "       'dropoff_latitude', 'passenger_count', 'hour_of_day', 'day_of_week',\n",
              "       'day_of_year', 'year', 'eucl_distance', 'manh_distance'],\n",
              "      dtype='object')"
            ]
          },
          "metadata": {
            "tags": []
          },
          "execution_count": 145
        }
      ]
    },
    {
      "cell_type": "code",
      "metadata": {
        "id": "ghyi-57oUzxI",
        "colab_type": "code",
        "colab": {}
      },
      "source": [
        "features_sorted = feature_names[argsort]"
      ],
      "execution_count": 146,
      "outputs": []
    },
    {
      "cell_type": "code",
      "metadata": {
        "id": "r75Z30qyU6k1",
        "colab_type": "code",
        "colab": {
          "base_uri": "https://localhost:8080/",
          "height": 84
        },
        "outputId": "ef46d8a0-3707-4822-bbbe-a2f33f515e1d"
      },
      "source": [
        "features_sorted"
      ],
      "execution_count": 147,
      "outputs": [
        {
          "output_type": "execute_result",
          "data": {
            "text/plain": [
              "Index(['passenger_count', 'day_of_week', 'day_of_year', 'pickup_latitude',\n",
              "       'hour_of_day', 'dropoff_latitude', 'pickup_longitude', 'year',\n",
              "       'dropoff_longitude', 'manh_distance', 'eucl_distance'],\n",
              "      dtype='object')"
            ]
          },
          "metadata": {
            "tags": []
          },
          "execution_count": 147
        }
      ]
    },
    {
      "cell_type": "code",
      "metadata": {
        "id": "-y91mnudU7q4",
        "colab_type": "code",
        "colab": {
          "base_uri": "https://localhost:8080/",
          "height": 282
        },
        "outputId": "601a686c-0892-4966-f0f4-7ef8bdece2e2"
      },
      "source": [
        "'''\n",
        "This chart makes it clear which feature is the most important.\n",
        "'''\n",
        "plt.barh(features_sorted, feature_importances_sorted)"
      ],
      "execution_count": 148,
      "outputs": [
        {
          "output_type": "execute_result",
          "data": {
            "text/plain": [
              "<BarContainer object of 11 artists>"
            ]
          },
          "metadata": {
            "tags": []
          },
          "execution_count": 148
        },
        {
          "output_type": "display_data",
          "data": {
            "image/png": "[encoded data removed]",
            "text/plain": [
              "<Figure size 432x288 with 1 Axes>"
            ]
          },
          "metadata": {
            "tags": [],
            "needs_background": "light"
          }
        }
      ]
    },
    {
      "cell_type": "markdown",
      "metadata": {
        "id": "yDmiH4vMWw1D",
        "colab_type": "text"
      },
      "source": [
        "**Calculating the rooted mean squared error in the training database** **bold text**"
      ]
    },
    {
      "cell_type": "code",
      "metadata": {
        "id": "ikAUQwz-VGW_",
        "colab_type": "code",
        "colab": {}
      },
      "source": [
        "mse = model.train_score_[-1]"
      ],
      "execution_count": 151,
      "outputs": []
    },
    {
      "cell_type": "code",
      "metadata": {
        "id": "TZ1lIGxPWX1V",
        "colab_type": "code",
        "colab": {
          "base_uri": "https://localhost:8080/",
          "height": 34
        },
        "outputId": "0425bfc3-e9ca-4ff5-9362-0c459f1c7bc9"
      },
      "source": [
        "mse"
      ],
      "execution_count": 152,
      "outputs": [
        {
          "output_type": "execute_result",
          "data": {
            "text/plain": [
              "13.354031211329652"
            ]
          },
          "metadata": {
            "tags": []
          },
          "execution_count": 152
        }
      ]
    },
    {
      "cell_type": "code",
      "metadata": {
        "id": "ypVtcfz8WZMn",
        "colab_type": "code",
        "colab": {}
      },
      "source": [
        "rmse = np.sqrt(mse)"
      ],
      "execution_count": 153,
      "outputs": []
    },
    {
      "cell_type": "code",
      "metadata": {
        "id": "f_4N0bT6Wkj_",
        "colab_type": "code",
        "colab": {
          "base_uri": "https://localhost:8080/",
          "height": 34
        },
        "outputId": "ca7c9eeb-69bc-48a6-b8d6-9f38cabadb27"
      },
      "source": [
        "rmse"
      ],
      "execution_count": 154,
      "outputs": [
        {
          "output_type": "execute_result",
          "data": {
            "text/plain": [
              "3.654316791320869"
            ]
          },
          "metadata": {
            "tags": []
          },
          "execution_count": 154
        }
      ]
    },
    {
      "cell_type": "markdown",
      "metadata": {
        "id": "YumtPVmdXFAC",
        "colab_type": "text"
      },
      "source": [
        "**Calculating the rooted mean squared error in the test database**"
      ]
    },
    {
      "cell_type": "code",
      "metadata": {
        "id": "gI10nlUsWlBV",
        "colab_type": "code",
        "colab": {}
      },
      "source": [
        "y_pred = model.predict(X_test)"
      ],
      "execution_count": 155,
      "outputs": []
    },
    {
      "cell_type": "code",
      "metadata": {
        "id": "ZBKz8I7sXPl3",
        "colab_type": "code",
        "colab": {
          "base_uri": "https://localhost:8080/",
          "height": 50
        },
        "outputId": "17a3f323-5684-4438-d5d7-a2583995a519"
      },
      "source": [
        "'''\n",
        "Those are the answers for the fare prediction\n",
        "'''\n",
        "y_pred"
      ],
      "execution_count": 156,
      "outputs": [
        {
          "output_type": "execute_result",
          "data": {
            "text/plain": [
              "array([ 8.33955994, 11.76764658,  8.89642242, ...,  6.41753151,\n",
              "       10.42639211,  7.12977732])"
            ]
          },
          "metadata": {
            "tags": []
          },
          "execution_count": 156
        }
      ]
    },
    {
      "cell_type": "code",
      "metadata": {
        "id": "-volwodAXRBD",
        "colab_type": "code",
        "colab": {
          "base_uri": "https://localhost:8080/",
          "height": 218
        },
        "outputId": "8641c169-a205-4d9f-f280-2b180be45659"
      },
      "source": [
        "'''\n",
        "Those are the real fare prices\n",
        "'''\n",
        "y_test"
      ],
      "execution_count": 157,
      "outputs": [
        {
          "output_type": "execute_result",
          "data": {
            "text/plain": [
              "201634     8.5\n",
              "49065     10.5\n",
              "101158     6.5\n",
              "25912      6.1\n",
              "124348     8.1\n",
              "          ... \n",
              "107532     7.0\n",
              "178791    14.5\n",
              "121684     5.7\n",
              "143553    12.0\n",
              "145653     6.5\n",
              "Name: fare_amount, Length: 48721, dtype: float32"
            ]
          },
          "metadata": {
            "tags": []
          },
          "execution_count": 157
        }
      ]
    },
    {
      "cell_type": "markdown",
      "metadata": {
        "id": "tbJ1i2yNXsMK",
        "colab_type": "text"
      },
      "source": [
        "**The values above are the predictions of the fare and the real fare. It's noticeable that the prediction prices are really close with the real prices. Below, we calculate the rooted mean squared error for the entire test database. The less the 'rmse', the better**\n",
        "\n",
        "\n"
      ]
    },
    {
      "cell_type": "code",
      "metadata": {
        "id": "pix0e1x-Xmp9",
        "colab_type": "code",
        "colab": {
          "base_uri": "https://localhost:8080/",
          "height": 34
        },
        "outputId": "869b6ed3-5449-4572-97d6-4294d67bce1b"
      },
      "source": [
        "from sklearn.metrics import mean_squared_error\n",
        "mse = mean_squared_error(y_test, y_pred)\n",
        "rmse = np.sqrt(mse)\n",
        "rmse"
      ],
      "execution_count": 158,
      "outputs": [
        {
          "output_type": "execute_result",
          "data": {
            "text/plain": [
              "3.826681905538945"
            ]
          },
          "metadata": {
            "tags": []
          },
          "execution_count": 158
        }
      ]
    },
    {
      "cell_type": "markdown",
      "metadata": {
        "id": "5iW69NnvZBXc",
        "colab_type": "text"
      },
      "source": [
        "#**Automatic comparison between the fare predicted and the real fare**"
      ]
    },
    {
      "cell_type": "code",
      "metadata": {
        "id": "eUuyNmocYQ4u",
        "colab_type": "code",
        "colab": {
          "base_uri": "https://localhost:8080/",
          "height": 50
        },
        "outputId": "66165ea6-101b-43d9-de39-658e103a2abd"
      },
      "source": [
        "'''\n",
        "We are using the dataframe 'sample_size' that has 250 000 registers. We are gonna print every 250 bars. Otherwise\n",
        "the graphics visualization would be decreased\n",
        "'''\n",
        "fig = plt.figure(figsize=(20, 5))\n",
        "print_every = int(sample_size / 1000)\n",
        "print_every"
      ],
      "execution_count": 159,
      "outputs": [
        {
          "output_type": "execute_result",
          "data": {
            "text/plain": [
              "250"
            ]
          },
          "metadata": {
            "tags": []
          },
          "execution_count": 159
        },
        {
          "output_type": "display_data",
          "data": {
            "text/plain": [
              "<Figure size 1440x360 with 0 Axes>"
            ]
          },
          "metadata": {
            "tags": []
          }
        }
      ]
    },
    {
      "cell_type": "code",
      "metadata": {
        "id": "4hLlE70_b4wG",
        "colab_type": "code",
        "colab": {
          "base_uri": "https://localhost:8080/",
          "height": 327
        },
        "outputId": "707a5967-8383-42d5-d675-f8face3ec561"
      },
      "source": [
        "fig = plt.figure(figsize=(20,5))\n",
        "'''\n",
        "In the 'true_values' bar, we will have the real fare values.\n",
        "'''\n",
        "plt.bar(list(range(len(y_test[::print_every]))), y_test.values[::print_every],\n",
        "        alpha = 1, color = 'red', width = 1, label = 'true values')\n",
        "\n",
        "'''\n",
        "In the 'predicted_values' bar, we will have the predicted fare values.\n",
        "'''\n",
        "plt.bar(list(range(len(y_pred[::print_every]))), y_pred[::print_every],\n",
        "        alpha = 0.5, color = 'blue', width = 1, label = 'predicted values')\n",
        "plt.legend()"
      ],
      "execution_count": 160,
      "outputs": [
        {
          "output_type": "execute_result",
          "data": {
            "text/plain": [
              "<matplotlib.legend.Legend at 0x7f4161169c50>"
            ]
          },
          "metadata": {
            "tags": []
          },
          "execution_count": 160
        },
        {
          "output_type": "display_data",
          "data": {
            "image/png": "[encoded data removed]",
            "text/plain": [
              "<Figure size 1440x360 with 1 Axes>"
            ]
          },
          "metadata": {
            "tags": [],
            "needs_background": "light"
          }
        }
      ]
    },
    {
      "cell_type": "markdown",
      "metadata": {
        "id": "npDVteR2cjrg",
        "colab_type": "text"
      },
      "source": [
        "#**Answering the challenge**"
      ]
    },
    {
      "cell_type": "markdown",
      "metadata": {
        "id": "Kn1Q3HOPeB4v",
        "colab_type": "text"
      },
      "source": [
        "###**Instructions**"
      ]
    },
    {
      "cell_type": "markdown",
      "metadata": {
        "id": "PLx4Po5EeBzB",
        "colab_type": "text"
      },
      "source": [
        "**Submission file:**\n",
        "\n",
        "> For each key in the test set, you must predict a value for the fare_amount variable. The file should contain a header and have the following format:\n",
        "\n",
        "\n",
        ">key,fare_amount\n",
        "\n",
        "2015-01-27 13:08:24.0000002, 11.00\n",
        "\n",
        "\n",
        "\n"
      ]
    },
    {
      "cell_type": "code",
      "metadata": {
        "id": "e-fog-8teab1",
        "colab_type": "code",
        "colab": {}
      },
      "source": [
        "'''\n",
        "Here we are using the test.csv file that was downloaded at the beggining from the challenge page and now it is being used to check the \n",
        "predictions. We are adding in the original test file a feature called 'key' in order to compare values with the same keys.\n",
        "'''\n",
        "test = pd.read_csv('test.csv',\n",
        "                    parse_dates = ['pickup_datetime'],\n",
        "                    dtype = {'fare_amount': np.float32,\n",
        "                             'pickup_latitude': np.float32,\n",
        "                             'pickup_longitude': np.float32,\n",
        "                             'dropoff_latitude': np.float32,\n",
        "                             'dropoff_longitude': np.float32,\n",
        "                             'passenger_count': np.int32,\n",
        "                             'key': str             \n",
        "                    })"
      ],
      "execution_count": 161,
      "outputs": []
    },
    {
      "cell_type": "code",
      "metadata": {
        "id": "eENWuI8Fecun",
        "colab_type": "code",
        "colab": {
          "base_uri": "https://localhost:8080/",
          "height": 34
        },
        "outputId": "1cb429a4-5661-4991-a596-afdbdcb851c5"
      },
      "source": [
        "test.shape"
      ],
      "execution_count": 162,
      "outputs": [
        {
          "output_type": "execute_result",
          "data": {
            "text/plain": [
              "(9914, 7)"
            ]
          },
          "metadata": {
            "tags": []
          },
          "execution_count": 162
        }
      ]
    },
    {
      "cell_type": "code",
      "metadata": {
        "id": "rF81qaXUecri",
        "colab_type": "code",
        "colab": {}
      },
      "source": [
        "key = test['key']"
      ],
      "execution_count": 163,
      "outputs": []
    },
    {
      "cell_type": "markdown",
      "metadata": {
        "id": "LXP8cEgDhg-f",
        "colab_type": "text"
      },
      "source": [
        "#**Preprocessing the test dataset**"
      ]
    },
    {
      "cell_type": "markdown",
      "metadata": {
        "id": "pZnUzpIShIiG",
        "colab_type": "text"
      },
      "source": [
        "**We need to make the same pre processing that it was made before to the\n",
        "train dataset, to the test dataset. So we are just repeating the same process done before.**"
      ]
    },
    {
      "cell_type": "code",
      "metadata": {
        "id": "X-80ArW3eco6",
        "colab_type": "code",
        "colab": {}
      },
      "source": [
        "# Data\n",
        "pdt = test['pickup_datetime']\n",
        "pdt = pdt.map(lambda date: date.tz_localize(None))\n",
        "test.drop(['key'], axis = 1, inplace=True)\n",
        "test['pickup_datetime'] = pdt"
      ],
      "execution_count": 164,
      "outputs": []
    },
    {
      "cell_type": "code",
      "metadata": {
        "id": "UWJ2rKRCecmM",
        "colab_type": "code",
        "colab": {}
      },
      "source": [
        "# New Attributes\n",
        "test['day_of_week'] = test['pickup_datetime'].map(lambda date: date.timetuple().tm_wday)\n",
        "test['day_of_year'] = test['pickup_datetime'].map(lambda date: date.timetuple().tm_yday)\n",
        "test['year'] = test['pickup_datetime'].map(lambda date: date.timetuple().tm_year)\n",
        "test['hour_of_day'] = test['pickup_datetime'].map(lambda date: date.timetuple().tm_hour)\n",
        "test.drop('pickup_datetime', axis = 1, inplace = True)\n",
        "\n",
        "# Distance\n",
        "lon1, lon2 = np.radians(test['pickup_longitude']), np.radians(test['dropoff_longitude'])\n",
        "lat1, lat2 = np.radians(test['pickup_latitude']), np.radians(test['dropoff_latitude'])\n",
        "dlon = lon2 - lon1\n",
        "dlat = lat2 - lat1\n",
        "\n",
        "a = np.sin(dlat/2)**2 + np.cos(lat1) * np.cos(lat2) * np.sin(dlon/2)**2\n",
        "c = 2 * np.arctan2(np.sqrt(a), np.sqrt(1-a))\n",
        "test['eucl_distance'] = 6373 * c\n",
        "\n",
        "a1 = np.sin(dlon/2)**2\n",
        "c1 = 2 * np.arctan2(np.sqrt(a1), np.sqrt(1-a1))\n",
        "a2 = np.sin(dlat/2)**2\n",
        "c2 = 2 * np.arctan2(np.sqrt(a2), np.sqrt(1-a2))\n",
        "test['manh_distance'] = 6373 * (c1+c2)"
      ],
      "execution_count": 165,
      "outputs": []
    },
    {
      "cell_type": "code",
      "metadata": {
        "id": "gJCmGqysecjT",
        "colab_type": "code",
        "colab": {
          "base_uri": "https://localhost:8080/",
          "height": 215
        },
        "outputId": "d3283701-1ae3-4ce0-dd22-4ed07bee6cde"
      },
      "source": [
        "test.head()"
      ],
      "execution_count": 166,
      "outputs": [
        {
          "output_type": "execute_result",
          "data": {
            "text/html": [
              "<div>\n",
              "<style scoped>\n",
              "    .dataframe tbody tr th:only-of-type {\n",
              "        vertical-align: middle;\n",
              "    }\n",
              "\n",
              "    .dataframe tbody tr th {\n",
              "        vertical-align: top;\n",
              "    }\n",
              "\n",
              "    .dataframe thead th {\n",
              "        text-align: right;\n",
              "    }\n",
              "</style>\n",
              "<table border=\"1\" class=\"dataframe\">\n",
              "  <thead>\n",
              "    <tr style=\"text-align: right;\">\n",
              "      <th></th>\n",
              "      <th>pickup_longitude</th>\n",
              "      <th>pickup_latitude</th>\n",
              "      <th>dropoff_longitude</th>\n",
              "      <th>dropoff_latitude</th>\n",
              "      <th>passenger_count</th>\n",
              "      <th>day_of_week</th>\n",
              "      <th>day_of_year</th>\n",
              "      <th>year</th>\n",
              "      <th>hour_of_day</th>\n",
              "      <th>eucl_distance</th>\n",
              "      <th>manh_distance</th>\n",
              "    </tr>\n",
              "  </thead>\n",
              "  <tbody>\n",
              "    <tr>\n",
              "      <th>0</th>\n",
              "      <td>-73.973320</td>\n",
              "      <td>40.763805</td>\n",
              "      <td>-73.981430</td>\n",
              "      <td>40.743835</td>\n",
              "      <td>1</td>\n",
              "      <td>1</td>\n",
              "      <td>27</td>\n",
              "      <td>2015</td>\n",
              "      <td>13</td>\n",
              "      <td>2.324087</td>\n",
              "      <td>3.123212</td>\n",
              "    </tr>\n",
              "    <tr>\n",
              "      <th>1</th>\n",
              "      <td>-73.986862</td>\n",
              "      <td>40.719383</td>\n",
              "      <td>-73.998886</td>\n",
              "      <td>40.739201</td>\n",
              "      <td>1</td>\n",
              "      <td>1</td>\n",
              "      <td>27</td>\n",
              "      <td>2015</td>\n",
              "      <td>13</td>\n",
              "      <td>2.426061</td>\n",
              "      <td>3.541439</td>\n",
              "    </tr>\n",
              "    <tr>\n",
              "      <th>2</th>\n",
              "      <td>-73.982521</td>\n",
              "      <td>40.751259</td>\n",
              "      <td>-73.979652</td>\n",
              "      <td>40.746140</td>\n",
              "      <td>1</td>\n",
              "      <td>5</td>\n",
              "      <td>281</td>\n",
              "      <td>2011</td>\n",
              "      <td>11</td>\n",
              "      <td>0.618597</td>\n",
              "      <td>0.888493</td>\n",
              "    </tr>\n",
              "    <tr>\n",
              "      <th>3</th>\n",
              "      <td>-73.981163</td>\n",
              "      <td>40.767807</td>\n",
              "      <td>-73.990448</td>\n",
              "      <td>40.751637</td>\n",
              "      <td>1</td>\n",
              "      <td>5</td>\n",
              "      <td>336</td>\n",
              "      <td>2012</td>\n",
              "      <td>21</td>\n",
              "      <td>1.961528</td>\n",
              "      <td>2.831859</td>\n",
              "    </tr>\n",
              "    <tr>\n",
              "      <th>4</th>\n",
              "      <td>-73.966049</td>\n",
              "      <td>40.789776</td>\n",
              "      <td>-73.988564</td>\n",
              "      <td>40.744427</td>\n",
              "      <td>1</td>\n",
              "      <td>5</td>\n",
              "      <td>336</td>\n",
              "      <td>2012</td>\n",
              "      <td>21</td>\n",
              "      <td>5.388903</td>\n",
              "      <td>7.548207</td>\n",
              "    </tr>\n",
              "  </tbody>\n",
              "</table>\n",
              "</div>"
            ],
            "text/plain": [
              "   pickup_longitude  pickup_latitude  ...  eucl_distance  manh_distance\n",
              "0        -73.973320        40.763805  ...       2.324087       3.123212\n",
              "1        -73.986862        40.719383  ...       2.426061       3.541439\n",
              "2        -73.982521        40.751259  ...       0.618597       0.888493\n",
              "3        -73.981163        40.767807  ...       1.961528       2.831859\n",
              "4        -73.966049        40.789776  ...       5.388903       7.548207\n",
              "\n",
              "[5 rows x 11 columns]"
            ]
          },
          "metadata": {
            "tags": []
          },
          "execution_count": 166
        }
      ]
    },
    {
      "cell_type": "code",
      "metadata": {
        "id": "DrtqjdvXecgm",
        "colab_type": "code",
        "colab": {}
      },
      "source": [
        "X_test = test\n",
        "X_test_scaled = scaler.transform(X_test)"
      ],
      "execution_count": 167,
      "outputs": []
    },
    {
      "cell_type": "code",
      "metadata": {
        "id": "MSvA4DkPepHt",
        "colab_type": "code",
        "colab": {}
      },
      "source": [
        "y_pred = model.predict(X_test_scaled)"
      ],
      "execution_count": 168,
      "outputs": []
    },
    {
      "cell_type": "code",
      "metadata": {
        "id": "fH6a8DtnepFg",
        "colab_type": "code",
        "colab": {
          "base_uri": "https://localhost:8080/",
          "height": 50
        },
        "outputId": "66d44b04-4bfc-471f-9156-0bb93006de37"
      },
      "source": [
        "y_pred"
      ],
      "execution_count": 169,
      "outputs": [
        {
          "output_type": "execute_result",
          "data": {
            "text/plain": [
              "array([ 7.81949711,  8.01032537,  4.74255696, ..., 46.53711072,\n",
              "       17.67953294,  5.54085545])"
            ]
          },
          "metadata": {
            "tags": []
          },
          "execution_count": 169
        }
      ]
    },
    {
      "cell_type": "code",
      "metadata": {
        "id": "lczRno7bepDI",
        "colab_type": "code",
        "colab": {}
      },
      "source": [
        "'''\n",
        "To submit to the challenge, we need the features 'key' and the 'fare_amount' ( predicted values)\n",
        "'''\n",
        "submission = pd.DataFrame({'key': key, 'fare_amount': y_pred})"
      ],
      "execution_count": 170,
      "outputs": []
    },
    {
      "cell_type": "code",
      "metadata": {
        "id": "yK_W881bepAf",
        "colab_type": "code",
        "colab": {
          "base_uri": "https://localhost:8080/",
          "height": 195
        },
        "outputId": "ab141854-4034-4646-8642-01a27692610b"
      },
      "source": [
        "submission.head()"
      ],
      "execution_count": 171,
      "outputs": [
        {
          "output_type": "execute_result",
          "data": {
            "text/html": [
              "<div>\n",
              "<style scoped>\n",
              "    .dataframe tbody tr th:only-of-type {\n",
              "        vertical-align: middle;\n",
              "    }\n",
              "\n",
              "    .dataframe tbody tr th {\n",
              "        vertical-align: top;\n",
              "    }\n",
              "\n",
              "    .dataframe thead th {\n",
              "        text-align: right;\n",
              "    }\n",
              "</style>\n",
              "<table border=\"1\" class=\"dataframe\">\n",
              "  <thead>\n",
              "    <tr style=\"text-align: right;\">\n",
              "      <th></th>\n",
              "      <th>key</th>\n",
              "      <th>fare_amount</th>\n",
              "    </tr>\n",
              "  </thead>\n",
              "  <tbody>\n",
              "    <tr>\n",
              "      <th>0</th>\n",
              "      <td>2015-01-27 13:08:24.0000002</td>\n",
              "      <td>7.819497</td>\n",
              "    </tr>\n",
              "    <tr>\n",
              "      <th>1</th>\n",
              "      <td>2015-01-27 13:08:24.0000003</td>\n",
              "      <td>8.010325</td>\n",
              "    </tr>\n",
              "    <tr>\n",
              "      <th>2</th>\n",
              "      <td>2011-10-08 11:53:44.0000002</td>\n",
              "      <td>4.742557</td>\n",
              "    </tr>\n",
              "    <tr>\n",
              "      <th>3</th>\n",
              "      <td>2012-12-01 21:12:12.0000002</td>\n",
              "      <td>7.182718</td>\n",
              "    </tr>\n",
              "    <tr>\n",
              "      <th>4</th>\n",
              "      <td>2012-12-01 21:12:12.0000003</td>\n",
              "      <td>12.949216</td>\n",
              "    </tr>\n",
              "  </tbody>\n",
              "</table>\n",
              "</div>"
            ],
            "text/plain": [
              "                           key  fare_amount\n",
              "0  2015-01-27 13:08:24.0000002     7.819497\n",
              "1  2015-01-27 13:08:24.0000003     8.010325\n",
              "2  2011-10-08 11:53:44.0000002     4.742557\n",
              "3  2012-12-01 21:12:12.0000002     7.182718\n",
              "4  2012-12-01 21:12:12.0000003    12.949216"
            ]
          },
          "metadata": {
            "tags": []
          },
          "execution_count": 171
        }
      ]
    },
    {
      "cell_type": "code",
      "metadata": {
        "id": "uFJytUU3eu8p",
        "colab_type": "code",
        "colab": {}
      },
      "source": [
        "submission.to_csv('submission.csv', index = False)"
      ],
      "execution_count": 172,
      "outputs": []
    },
    {
      "cell_type": "code",
      "metadata": {
        "id": "192JhRJ5evGt",
        "colab_type": "code",
        "colab": {}
      },
      "source": [
        ""
      ],
      "execution_count": null,
      "outputs": []
    },
    {
      "cell_type": "code",
      "metadata": {
        "id": "AzPmhkH2evER",
        "colab_type": "code",
        "colab": {}
      },
      "source": [
        ""
      ],
      "execution_count": null,
      "outputs": []
    },
    {
      "cell_type": "code",
      "metadata": {
        "id": "vPyvXgDdevBa",
        "colab_type": "code",
        "colab": {}
      },
      "source": [
        ""
      ],
      "execution_count": null,
      "outputs": []
    },
    {
      "cell_type": "code",
      "metadata": {
        "id": "pMfI-j97eu53",
        "colab_type": "code",
        "colab": {}
      },
      "source": [
        ""
      ],
      "execution_count": null,
      "outputs": []
    }
  ]
}