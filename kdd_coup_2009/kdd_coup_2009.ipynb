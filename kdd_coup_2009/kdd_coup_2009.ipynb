{
 "cells": [
  {
   "cell_type": "markdown",
   "metadata": {},
   "source": [
    "<h1>Modeling 'churn'</h1>\n",
    "<h3>\n",
    "KDD Cup 2009: Customer relationship prediction</h3>\n",
    "<p>Customer Relationship Management (CRM) is a key element of modern marketing strategies. The KDD Cup 2009 offers the opportunity to work on large marketing databases from the French Telecom company Orange to predict the propensity of customers to switch provider (churn), buy new products or services (appetency), or buy upgrades or add-ons proposed to them to make the sale more profitable (up-selling).\n",
    "\n",
    "The most practical way, in a CRM system, to build knowledge on customer is to produce scores. A score (the output of a model) is an evaluation for all instances of a target variable to explain (i.e. churn, appetency or up-selling). Tools which produce scores allow to project, on a given population, quantifiable information. The score is computed using input variables which describe instances. Scores are then used by the information system (IS), for example, to personalize the customer relationship. An industrial customer analysis platform able to build prediction models with a very large number of input variables has been developed by Orange Labs. This platform implements several processing methods for instances and variables selection, prediction and indexation based on an efficient model combined with variable selection regularization and model averaging method. The main characteristic of this platform is its ability to scale on very large datasets with hundreds of thousands of instances and thousands of variables. The rapid and robust detection of the variables that have most contributed to the output prediction can be a key factor in a marketing application.\n",
    "\n",
    "The challenge is to beat the in-house system developed by Orange Labs. It is an opportunity to prove that you can deal with a very large database, including heterogeneous noisy data (numerical and categorical variables), and unbalanced class distributions. Time efficiency is often a crucial point. Therefore part of the competition will be time-constrained to test the ability of the participants to deliver solutions quickly.</p>"
   ]
  },
  {
   "cell_type": "code",
   "execution_count": 1,
   "metadata": {},
   "outputs": [],
   "source": [
    "'''\n",
    "Importing everything I need.\n",
    "'''\n",
    "import pandas as pd\n",
    "import numpy as np\n",
    "from sklearn.ensemble import ExtraTreesClassifier, RandomForestClassifier, GradientBoostingClassifier\n",
    "from matplotlib import pyplot as plt\n",
    "from sklearn.metrics import roc_auc_score\n",
    "from sklearn.model_selection import train_test_split, cross_val_score, GridSearchCV"
   ]
  },
  {
   "cell_type": "code",
   "execution_count": 2,
   "metadata": {},
   "outputs": [],
   "source": [
    "'''\n",
    "Loading features\n",
    "'''\n",
    "features = pd.read_csv('D:/PROGRAMANDO/_DataStudy/Udemy_Kagle/kdd_coup_2009/kdd/orange_small_train.data', sep = '\\t', na_filter = False)"
   ]
  },
  {
   "cell_type": "code",
   "execution_count": 3,
   "metadata": {},
   "outputs": [
    {
     "data": {
      "text/html": [
       "<div>\n",
       "<style scoped>\n",
       "    .dataframe tbody tr th:only-of-type {\n",
       "        vertical-align: middle;\n",
       "    }\n",
       "\n",
       "    .dataframe tbody tr th {\n",
       "        vertical-align: top;\n",
       "    }\n",
       "\n",
       "    .dataframe thead th {\n",
       "        text-align: right;\n",
       "    }\n",
       "</style>\n",
       "<table border=\"1\" class=\"dataframe\">\n",
       "  <thead>\n",
       "    <tr style=\"text-align: right;\">\n",
       "      <th></th>\n",
       "      <th>Var1</th>\n",
       "      <th>Var2</th>\n",
       "      <th>Var3</th>\n",
       "      <th>Var4</th>\n",
       "      <th>Var5</th>\n",
       "      <th>Var6</th>\n",
       "      <th>Var7</th>\n",
       "      <th>Var8</th>\n",
       "      <th>Var9</th>\n",
       "      <th>Var10</th>\n",
       "      <th>...</th>\n",
       "      <th>Var221</th>\n",
       "      <th>Var222</th>\n",
       "      <th>Var223</th>\n",
       "      <th>Var224</th>\n",
       "      <th>Var225</th>\n",
       "      <th>Var226</th>\n",
       "      <th>Var227</th>\n",
       "      <th>Var228</th>\n",
       "      <th>Var229</th>\n",
       "      <th>Var230</th>\n",
       "    </tr>\n",
       "  </thead>\n",
       "  <tbody>\n",
       "    <tr>\n",
       "      <td>0</td>\n",
       "      <td></td>\n",
       "      <td></td>\n",
       "      <td></td>\n",
       "      <td></td>\n",
       "      <td></td>\n",
       "      <td>1526</td>\n",
       "      <td>7</td>\n",
       "      <td></td>\n",
       "      <td></td>\n",
       "      <td></td>\n",
       "      <td>...</td>\n",
       "      <td>oslk</td>\n",
       "      <td>fXVEsaq</td>\n",
       "      <td>jySVZNlOJy</td>\n",
       "      <td></td>\n",
       "      <td></td>\n",
       "      <td>xb3V</td>\n",
       "      <td>RAYp</td>\n",
       "      <td>F2FyR07IdsN7I</td>\n",
       "      <td></td>\n",
       "      <td></td>\n",
       "    </tr>\n",
       "    <tr>\n",
       "      <td>1</td>\n",
       "      <td></td>\n",
       "      <td></td>\n",
       "      <td></td>\n",
       "      <td></td>\n",
       "      <td></td>\n",
       "      <td>525</td>\n",
       "      <td>0</td>\n",
       "      <td></td>\n",
       "      <td></td>\n",
       "      <td></td>\n",
       "      <td>...</td>\n",
       "      <td>oslk</td>\n",
       "      <td>2Kb5FSF</td>\n",
       "      <td>LM8l689qOp</td>\n",
       "      <td></td>\n",
       "      <td></td>\n",
       "      <td>fKCe</td>\n",
       "      <td>RAYp</td>\n",
       "      <td>F2FyR07IdsN7I</td>\n",
       "      <td></td>\n",
       "      <td></td>\n",
       "    </tr>\n",
       "    <tr>\n",
       "      <td>2</td>\n",
       "      <td></td>\n",
       "      <td></td>\n",
       "      <td></td>\n",
       "      <td></td>\n",
       "      <td></td>\n",
       "      <td>5236</td>\n",
       "      <td>7</td>\n",
       "      <td></td>\n",
       "      <td></td>\n",
       "      <td></td>\n",
       "      <td>...</td>\n",
       "      <td>Al6ZaUT</td>\n",
       "      <td>NKv4yOc</td>\n",
       "      <td>jySVZNlOJy</td>\n",
       "      <td></td>\n",
       "      <td>kG3k</td>\n",
       "      <td>Qu4f</td>\n",
       "      <td>02N6s8f</td>\n",
       "      <td>ib5G6X1eUxUn6</td>\n",
       "      <td>am7c</td>\n",
       "      <td></td>\n",
       "    </tr>\n",
       "    <tr>\n",
       "      <td>3</td>\n",
       "      <td></td>\n",
       "      <td></td>\n",
       "      <td></td>\n",
       "      <td></td>\n",
       "      <td></td>\n",
       "      <td></td>\n",
       "      <td>0</td>\n",
       "      <td></td>\n",
       "      <td></td>\n",
       "      <td></td>\n",
       "      <td>...</td>\n",
       "      <td>oslk</td>\n",
       "      <td>CE7uk3u</td>\n",
       "      <td>LM8l689qOp</td>\n",
       "      <td></td>\n",
       "      <td></td>\n",
       "      <td>FSa2</td>\n",
       "      <td>RAYp</td>\n",
       "      <td>F2FyR07IdsN7I</td>\n",
       "      <td></td>\n",
       "      <td></td>\n",
       "    </tr>\n",
       "    <tr>\n",
       "      <td>4</td>\n",
       "      <td></td>\n",
       "      <td></td>\n",
       "      <td></td>\n",
       "      <td></td>\n",
       "      <td></td>\n",
       "      <td>1029</td>\n",
       "      <td>7</td>\n",
       "      <td></td>\n",
       "      <td></td>\n",
       "      <td></td>\n",
       "      <td>...</td>\n",
       "      <td>oslk</td>\n",
       "      <td>1J2cvxe</td>\n",
       "      <td>LM8l689qOp</td>\n",
       "      <td></td>\n",
       "      <td>kG3k</td>\n",
       "      <td>FSa2</td>\n",
       "      <td>RAYp</td>\n",
       "      <td>F2FyR07IdsN7I</td>\n",
       "      <td>mj86</td>\n",
       "      <td></td>\n",
       "    </tr>\n",
       "  </tbody>\n",
       "</table>\n",
       "<p>5 rows × 230 columns</p>\n",
       "</div>"
      ],
      "text/plain": [
       "  Var1 Var2 Var3 Var4 Var5  Var6 Var7 Var8 Var9 Var10  ...   Var221   Var222  \\\n",
       "0                           1526    7                  ...     oslk  fXVEsaq   \n",
       "1                            525    0                  ...     oslk  2Kb5FSF   \n",
       "2                           5236    7                  ...  Al6ZaUT  NKv4yOc   \n",
       "3                                   0                  ...     oslk  CE7uk3u   \n",
       "4                           1029    7                  ...     oslk  1J2cvxe   \n",
       "\n",
       "       Var223 Var224 Var225 Var226   Var227         Var228 Var229 Var230  \n",
       "0  jySVZNlOJy                 xb3V     RAYp  F2FyR07IdsN7I                \n",
       "1  LM8l689qOp                 fKCe     RAYp  F2FyR07IdsN7I                \n",
       "2  jySVZNlOJy          kG3k   Qu4f  02N6s8f  ib5G6X1eUxUn6   am7c         \n",
       "3  LM8l689qOp                 FSa2     RAYp  F2FyR07IdsN7I                \n",
       "4  LM8l689qOp          kG3k   FSa2     RAYp  F2FyR07IdsN7I   mj86         \n",
       "\n",
       "[5 rows x 230 columns]"
      ]
     },
     "execution_count": 3,
     "metadata": {},
     "output_type": "execute_result"
    }
   ],
   "source": [
    "features.head()"
   ]
  },
  {
   "cell_type": "code",
   "execution_count": 4,
   "metadata": {},
   "outputs": [],
   "source": [
    "'''\n",
    "Loading the answers (outcome))\n",
    "'''\n",
    "outcome = pd.read_csv('D:/PROGRAMANDO/_DataStudy/Udemy_Kagle/kdd_coup_2009/kdd/orange_small_train_churn.labels', header = None)"
   ]
  },
  {
   "cell_type": "code",
   "execution_count": 5,
   "metadata": {},
   "outputs": [
    {
     "data": {
      "text/html": [
       "<div>\n",
       "<style scoped>\n",
       "    .dataframe tbody tr th:only-of-type {\n",
       "        vertical-align: middle;\n",
       "    }\n",
       "\n",
       "    .dataframe tbody tr th {\n",
       "        vertical-align: top;\n",
       "    }\n",
       "\n",
       "    .dataframe thead th {\n",
       "        text-align: right;\n",
       "    }\n",
       "</style>\n",
       "<table border=\"1\" class=\"dataframe\">\n",
       "  <thead>\n",
       "    <tr style=\"text-align: right;\">\n",
       "      <th></th>\n",
       "      <th>0</th>\n",
       "    </tr>\n",
       "  </thead>\n",
       "  <tbody>\n",
       "    <tr>\n",
       "      <td>0</td>\n",
       "      <td>-1</td>\n",
       "    </tr>\n",
       "    <tr>\n",
       "      <td>1</td>\n",
       "      <td>1</td>\n",
       "    </tr>\n",
       "    <tr>\n",
       "      <td>2</td>\n",
       "      <td>-1</td>\n",
       "    </tr>\n",
       "    <tr>\n",
       "      <td>3</td>\n",
       "      <td>-1</td>\n",
       "    </tr>\n",
       "    <tr>\n",
       "      <td>4</td>\n",
       "      <td>-1</td>\n",
       "    </tr>\n",
       "  </tbody>\n",
       "</table>\n",
       "</div>"
      ],
      "text/plain": [
       "   0\n",
       "0 -1\n",
       "1  1\n",
       "2 -1\n",
       "3 -1\n",
       "4 -1"
      ]
     },
     "execution_count": 5,
     "metadata": {},
     "output_type": "execute_result"
    }
   ],
   "source": [
    "outcome.head()"
   ]
  },
  {
   "cell_type": "code",
   "execution_count": 6,
   "metadata": {},
   "outputs": [
    {
     "data": {
      "text/plain": [
       "array([-1,  1], dtype=int64)"
      ]
     },
     "execution_count": 6,
     "metadata": {},
     "output_type": "execute_result"
    }
   ],
   "source": [
    "'''\n",
    "Returns all the unique values from outcome. It must have only 2 in this case.\n",
    "'''\n",
    "\n",
    "np.unique(outcome)"
   ]
  },
  {
   "cell_type": "markdown",
   "metadata": {},
   "source": [
    "<h3>Identify categorical and numerical variables.</h3>"
   ]
  },
  {
   "cell_type": "code",
   "execution_count": 7,
   "metadata": {},
   "outputs": [],
   "source": [
    "all_vars = np.array(features.columns)"
   ]
  },
  {
   "cell_type": "code",
   "execution_count": 8,
   "metadata": {},
   "outputs": [],
   "source": [
    "'''\n",
    "Only numerical values. As it was stated in the challenge, the first 190th are numerical variables. \n",
    "'''\n",
    "num_vars = np.array(all_vars[:190])"
   ]
  },
  {
   "cell_type": "code",
   "execution_count": 9,
   "metadata": {},
   "outputs": [],
   "source": [
    "'''\n",
    "Only categorical variables. As it was stated in the challenge, beggining in 191th, all the variables until the end\n",
    "are categorical'''\n",
    "\n",
    "cat_vars = np.array(all_vars[190:])"
   ]
  },
  {
   "cell_type": "markdown",
   "metadata": {},
   "source": [
    "<h3>Analysing the numerical variables.</h3>"
   ]
  },
  {
   "cell_type": "code",
   "execution_count": 10,
   "metadata": {},
   "outputs": [
    {
     "data": {
      "text/plain": [
       "(50000, 230)"
      ]
     },
     "execution_count": 10,
     "metadata": {},
     "output_type": "execute_result"
    }
   ],
   "source": [
    "features.shape"
   ]
  },
  {
   "cell_type": "code",
   "execution_count": 11,
   "metadata": {},
   "outputs": [
    {
     "data": {
      "text/plain": [
       "Var1\n",
       "       49298\n",
       "0        380\n",
       "120        1\n",
       "128        2\n",
       "152        1\n",
       "16        81\n",
       "24        46\n",
       "32        23\n",
       "360        1\n",
       "392        1\n",
       "40        10\n",
       "48         6\n",
       "536        1\n",
       "56         5\n",
       "64         1\n",
       "680        1\n",
       "72         3\n",
       "8        138\n",
       "80         1\n",
       "dtype: int64"
      ]
     },
     "execution_count": 11,
     "metadata": {},
     "output_type": "execute_result"
    }
   ],
   "source": [
    "'''\n",
    "We can see how many of each value we have at the column 'Var1'. We have 49298 empty values.\n",
    "'''\n",
    "var = features.groupby('Var1').size()\n",
    "var"
   ]
  },
  {
   "cell_type": "markdown",
   "metadata": {},
   "source": [
    "<h3>Transforming the numerical and categorical columns.</h3>"
   ]
  },
  {
   "cell_type": "code",
   "execution_count": 12,
   "metadata": {},
   "outputs": [],
   "source": [
    "'''\n",
    "Here i am verifying all the values in all the numerical columns with a loop. \n",
    "We are looping through all the numerical variables and storing the quantity of unique values in each column \n",
    "in a variable called col_count. \n",
    "'''\n",
    "counts_per_column = pd.DataFrame()\n",
    "for col in num_vars:\n",
    "    col_count = features.groupby(col).size()\n",
    "    counts_per_column = counts_per_column.append(col_count, ignore_index = True)"
   ]
  },
  {
   "cell_type": "code",
   "execution_count": 13,
   "metadata": {},
   "outputs": [
    {
     "data": {
      "text/plain": [
       "(190, 351788)"
      ]
     },
     "execution_count": 13,
     "metadata": {},
     "output_type": "execute_result"
    }
   ],
   "source": [
    "counts_per_column.shape"
   ]
  },
  {
   "cell_type": "code",
   "execution_count": 14,
   "metadata": {},
   "outputs": [
    {
     "data": {
      "text/plain": [
       "(351788, 190)"
      ]
     },
     "execution_count": 14,
     "metadata": {},
     "output_type": "execute_result"
    }
   ],
   "source": [
    "counts_per_column.T.shape"
   ]
  },
  {
   "cell_type": "code",
   "execution_count": 15,
   "metadata": {},
   "outputs": [
    {
     "name": "stdout",
     "output_type": "stream",
     "text": [
      "Primeiras 10 categorias:  Index(['', '-10', '-1000060.0', '-10002.16', '-100034.8', '-1000420.0',\n",
      "       '-1000468.0', '-1000496.0', '-1000516.0', '-1000548.0'],\n",
      "      dtype='object')\n"
     ]
    }
   ],
   "source": [
    "'''\n",
    "First we transform the 190 rows into columns, as it should be. \n",
    "'''\n",
    "\n",
    "counts_per_column = counts_per_column.T\n",
    "counts_per_column.index = counts_per_column.index.astype('str')\n",
    "counts_per_column.sort_index(inplace = True)\n",
    "\n",
    "#Here i have the first 10 columns in order. If there is a column with categorical values, it will appears in the \n",
    "#first positions.\n",
    "print(\"Primeiras 10 categorias: \", counts_per_column.index[:10])"
   ]
  },
  {
   "cell_type": "code",
   "execution_count": 16,
   "metadata": {},
   "outputs": [],
   "source": [
    "'''\n",
    "Here i am verifying all the values in all the categorical columns with a loop. \n",
    "We are looping through all the categorical variables and storing the quantity of unique values in each column \n",
    "in a variable called col_count. \n",
    "'''\n",
    "counts_per_column = pd.DataFrame()\n",
    "for col in cat_vars:\n",
    "    col_count = features.groupby(col).size()\n",
    "    counts_per_column = counts_per_column.append(col_count, ignore_index = True)"
   ]
  },
  {
   "cell_type": "code",
   "execution_count": 17,
   "metadata": {
    "scrolled": true
   },
   "outputs": [
    {
     "name": "stdout",
     "output_type": "stream",
     "text": [
      "Primeiras dez categorias:  Index(['', '000J', '0062', '00AD', '00ARusu', '00AYONy', '00AhP4J', '00J8E9a',\n",
      "       '00JHTSP', '00L3'],\n",
      "      dtype='object')\n",
      "Últimas dez categorias:  Index(['zzQ9udm', 'zzQV', 'zzbGOGx', 'zzbGa54', 'zzcv6yg4s3UGv', 'zzfHvGh',\n",
      "       'zzfLM_S', 'zzfUfAI', 'zzfo6HG', 'zzpZ'],\n",
      "      dtype='object')\n"
     ]
    }
   ],
   "source": [
    "counts_per_column = counts_per_column.T\n",
    "counts_per_column.index = counts_per_column.index.astype('str')\n",
    "counts_per_column.sort_index(inplace = True)\n",
    "print('Primeiras dez categorias: ', counts_per_column.index[:10])\n",
    "print('Últimas dez categorias: ', counts_per_column.index[(len(counts_per_column.index)-10):])"
   ]
  },
  {
   "cell_type": "markdown",
   "metadata": {},
   "source": [
    "<h3>Treating the missing values</h3>"
   ]
  },
  {
   "cell_type": "code",
   "execution_count": 18,
   "metadata": {},
   "outputs": [],
   "source": [
    "'''\n",
    "Replacing the empty spaces to 'nan', so that we can treat this problem in an easy way.\n",
    "'''\n",
    "features = features.replace('', np.nan)\n"
   ]
  },
  {
   "cell_type": "code",
   "execution_count": 19,
   "metadata": {},
   "outputs": [],
   "source": [
    "'''\n",
    "Here i am transforming the variable types. The numerical variables are gonna turn into 'float' and the \n",
    "categorical variables are gonna turn into 'category'\n",
    "'''\n",
    "#For numerical values\n",
    "for col in num_vars:\n",
    "    features[col] = features[col].astype('float')\n",
    "    \n",
    "#For categorical values\n",
    "for col in cat_vars:\n",
    "    features[col] = features[col].astype('category')"
   ]
  },
  {
   "cell_type": "code",
   "execution_count": 20,
   "metadata": {},
   "outputs": [],
   "source": [
    "'''\n",
    "Verifying how many empty entries each variable has\n",
    "'''\n",
    "empty_entry_per_column = features.isna().sum(axis = 0)"
   ]
  },
  {
   "cell_type": "code",
   "execution_count": 21,
   "metadata": {},
   "outputs": [
    {
     "data": {
      "text/plain": [
       "Var1    49298\n",
       "Var2    48759\n",
       "Var3    48760\n",
       "Var4    48421\n",
       "Var5    48513\n",
       "dtype: int64"
      ]
     },
     "execution_count": 21,
     "metadata": {},
     "output_type": "execute_result"
    }
   ],
   "source": [
    "'''\n",
    "We have too many empty values in some variables. We need to drop them.\n",
    "'''\n",
    "\n",
    "empty_entry_per_column.head()"
   ]
  },
  {
   "cell_type": "code",
   "execution_count": 22,
   "metadata": {},
   "outputs": [
    {
     "data": {
      "text/plain": [
       "(array([ 28.,  38.,   1.,   0.,   2.,   5.,   0.,   2.,   0., 154.]),\n",
       " array([    0.,  5000., 10000., 15000., 20000., 25000., 30000., 35000.,\n",
       "        40000., 45000., 50000.]),\n",
       " <a list of 10 Patch objects>)"
      ]
     },
     "execution_count": 22,
     "metadata": {},
     "output_type": "execute_result"
    },
    {
     "data": {
      "image/png": "[encoded data removed]",
      "text/plain": [
       "<Figure size 432x288 with 2 Axes>"
      ]
     },
     "metadata": {
      "needs_background": "light"
     },
     "output_type": "display_data"
    }
   ],
   "source": [
    "'''\n",
    "Printing the boxplot and the historogram showing the empty entries per column\n",
    "'''\n",
    "\n",
    "fig, (ax1, ax2) = plt.subplots(1, 2)\n",
    "ax1.boxplot(empty_entry_per_column)\n",
    "ax2.hist(empty_entry_per_column)\n"
   ]
  },
  {
   "cell_type": "code",
   "execution_count": 23,
   "metadata": {},
   "outputs": [
    {
     "name": "stdout",
     "output_type": "stream",
     "text": [
      "48513.0\n"
     ]
    }
   ],
   "source": [
    "'''\n",
    "Printing the median from the empty_entry_per_column to compare with the graphics.\n",
    "'''\n",
    "median = empty_entry_per_column.median()\n",
    "print(median)"
   ]
  },
  {
   "cell_type": "markdown",
   "metadata": {},
   "source": [
    "<h3>Conclusion about the missing values</h3>\n",
    "<p>\n",
    "    As we can see from the graphics, we have too many empty values. We have a little more than 48000 empty values in many variables. The boxplot shows this problem. \n",
    "    \n",
    "   <p>Looking at the historigram, we can see that we have a little more than 40 variables with around 10000 missing values. It means that if we drop every variable with more than 10000 missing values, we are gonna be able to keep a low missing values in the dataframe.</p>\n",
    "</p>"
   ]
  },
  {
   "cell_type": "code",
   "execution_count": 24,
   "metadata": {},
   "outputs": [],
   "source": [
    "'''\n",
    "The threshold is the percentage of acceptable missing values in each variable. \n",
    "'''\n",
    "num_entries = len(features)\n",
    "threshold = 0.25\n",
    "\n"
   ]
  },
  {
   "cell_type": "code",
   "execution_count": 25,
   "metadata": {},
   "outputs": [],
   "source": [
    "'''\n",
    "The 'keep_vars' represents the variables that we are gonna keep, under a condition: the empty entries per column must be\n",
    "less than (threshold)% of the entire variable\n",
    "'''\n",
    "keep_vars = np.array(features.columns[(empty_entry_per_column <= (num_entries * threshold))])"
   ]
  },
  {
   "cell_type": "code",
   "execution_count": 26,
   "metadata": {},
   "outputs": [
    {
     "data": {
      "text/plain": [
       "array(['Var6', 'Var7', 'Var13', 'Var21', 'Var22', 'Var24', 'Var25',\n",
       "       'Var28', 'Var35', 'Var38', 'Var44', 'Var57', 'Var65', 'Var73',\n",
       "       'Var74', 'Var76', 'Var78', 'Var81', 'Var83', 'Var85', 'Var109',\n",
       "       'Var112', 'Var113', 'Var119', 'Var123', 'Var125', 'Var132',\n",
       "       'Var133', 'Var134', 'Var140', 'Var143', 'Var144', 'Var149',\n",
       "       'Var153', 'Var160', 'Var163', 'Var173', 'Var181', 'Var192',\n",
       "       'Var193', 'Var195', 'Var196', 'Var197', 'Var198', 'Var199',\n",
       "       'Var202', 'Var203', 'Var204', 'Var205', 'Var206', 'Var207',\n",
       "       'Var208', 'Var210', 'Var211', 'Var212', 'Var216', 'Var217',\n",
       "       'Var218', 'Var219', 'Var220', 'Var221', 'Var222', 'Var223',\n",
       "       'Var226', 'Var227', 'Var228'], dtype=object)"
      ]
     },
     "execution_count": 26,
     "metadata": {},
     "output_type": "execute_result"
    }
   ],
   "source": [
    "keep_vars"
   ]
  },
  {
   "cell_type": "markdown",
   "metadata": {},
   "source": [
    "<h3>Updating the dataframes with numerical and categorical variables</h3>"
   ]
  },
  {
   "cell_type": "code",
   "execution_count": 27,
   "metadata": {},
   "outputs": [],
   "source": [
    "'''\n",
    "Here i am updating the dataframes that contains the numerical and the categorical values with the values whose \n",
    "missing values are below 0.25% the entire variable \n",
    "'''\n",
    "num_vars = [elem for elem in num_vars if elem in keep_vars]\n",
    "cat_vars = [elem for elem in cat_vars if elem in keep_vars]"
   ]
  },
  {
   "cell_type": "code",
   "execution_count": 28,
   "metadata": {},
   "outputs": [],
   "source": [
    "'''\n",
    "For the numerical variables, i am gonna replace the null values with the mean of the variable.\n",
    "'''\n",
    "\n",
    "for col in num_vars:\n",
    "    col_mean = features[col].mean()\n",
    "    features[col] = features[col].fillna(col_mean)"
   ]
  },
  {
   "cell_type": "code",
   "execution_count": 29,
   "metadata": {},
   "outputs": [],
   "source": [
    "'''\n",
    "For the categorical variables, i am gonna replace the null values with the word 'missing'.\n",
    "'''\n",
    "\n",
    "for col in cat_vars:\n",
    "    features[col] = features[col].cat.add_categories('missing')\n",
    "    features[col] = features[col].fillna('missing')"
   ]
  },
  {
   "cell_type": "markdown",
   "metadata": {},
   "source": [
    "<h3>Eliminating variables with too many unique values.</h3>"
   ]
  },
  {
   "cell_type": "code",
   "execution_count": 30,
   "metadata": {},
   "outputs": [],
   "source": [
    "'''\n",
    "Let's group to verify how many different values (categories) each variable has.\n",
    "The set method return only the unique values in order. The len(set()) method returns the quantity of unique values. \n",
    "'''\n",
    "n_categories_per_feature = features[cat_vars].apply(lambda x: len(set(x)))"
   ]
  },
  {
   "cell_type": "code",
   "execution_count": 31,
   "metadata": {},
   "outputs": [
    {
     "data": {
      "text/plain": [
       "Var192      362\n",
       "Var193       51\n",
       "Var195       23\n",
       "Var196        4\n",
       "Var197      226\n",
       "Var198     4291\n",
       "Var199     5074\n",
       "Var202     5714\n",
       "Var203        6\n",
       "Var204      100\n",
       "Var205        4\n",
       "Var206       22\n",
       "Var207       14\n",
       "Var208        3\n",
       "Var210        6\n",
       "Var211        2\n",
       "Var212       81\n",
       "Var216     2016\n",
       "Var217    13991\n",
       "Var218        3\n",
       "Var219       23\n",
       "Var220     4291\n",
       "Var221        7\n",
       "Var222     4291\n",
       "Var223        5\n",
       "Var226       23\n",
       "Var227        7\n",
       "Var228       30\n",
       "dtype: int64"
      ]
     },
     "execution_count": 31,
     "metadata": {},
     "output_type": "execute_result"
    }
   ],
   "source": [
    "n_categories_per_feature"
   ]
  },
  {
   "cell_type": "code",
   "execution_count": 32,
   "metadata": {},
   "outputs": [
    {
     "data": {
      "text/plain": [
       "(array([21.,  1.,  0.,  4.,  1.,  0.,  0.,  0.,  0.,  1.]),\n",
       " array([2.00000e+00, 1.40090e+03, 2.79980e+03, 4.19870e+03, 5.59760e+03,\n",
       "        6.99650e+03, 8.39540e+03, 9.79430e+03, 1.11932e+04, 1.25921e+04,\n",
       "        1.39910e+04]),\n",
       " <a list of 10 Patch objects>)"
      ]
     },
     "execution_count": 32,
     "metadata": {},
     "output_type": "execute_result"
    },
    {
     "data": {
      "image/png": "[encoded data removed]",
      "text/plain": [
       "<Figure size 432x288 with 1 Axes>"
      ]
     },
     "metadata": {
      "needs_background": "light"
     },
     "output_type": "display_data"
    }
   ],
   "source": [
    "'''\n",
    "As shown in the graphic below, there are about 21 variables with unique values above 1400. There are a few variables\n",
    "with unique values above 5000 and even less, with unique values above 14000. So, we need to drop variables with too many \n",
    "unique values. In this case, above 1400. Otherwise, it's gonna be confusing to make some assumptions to our predictive model.\n",
    "'''\n",
    "\n",
    "plt.hist(n_categories_per_feature)"
   ]
  },
  {
   "cell_type": "code",
   "execution_count": 33,
   "metadata": {},
   "outputs": [],
   "source": [
    "'''\n",
    "In cat_vars we are gonna have only variables whose number of unique values is below 1400\n",
    "'''\n",
    "cat_vars = np.array(n_categories_per_feature[n_categories_per_feature < 1400].index)"
   ]
  },
  {
   "cell_type": "code",
   "execution_count": 34,
   "metadata": {},
   "outputs": [
    {
     "data": {
      "text/plain": [
       "array(['Var192', 'Var193', 'Var195', 'Var196', 'Var197', 'Var203',\n",
       "       'Var204', 'Var205', 'Var206', 'Var207', 'Var208', 'Var210',\n",
       "       'Var211', 'Var212', 'Var218', 'Var219', 'Var221', 'Var223',\n",
       "       'Var226', 'Var227', 'Var228'], dtype=object)"
      ]
     },
     "execution_count": 34,
     "metadata": {},
     "output_type": "execute_result"
    }
   ],
   "source": [
    "cat_vars"
   ]
  },
  {
   "cell_type": "code",
   "execution_count": 35,
   "metadata": {},
   "outputs": [],
   "source": [
    "'''\n",
    "Putting the numerical and categorical variables in the same dataframe back again\n",
    "'''\n",
    "features = features[list(num_vars) + list(cat_vars)]"
   ]
  },
  {
   "cell_type": "code",
   "execution_count": 36,
   "metadata": {},
   "outputs": [
    {
     "data": {
      "text/plain": [
       "(50000, 59)"
      ]
     },
     "execution_count": 36,
     "metadata": {},
     "output_type": "execute_result"
    }
   ],
   "source": [
    "features.shape"
   ]
  },
  {
   "cell_type": "code",
   "execution_count": 37,
   "metadata": {},
   "outputs": [
    {
     "data": {
      "text/html": [
       "<div>\n",
       "<style scoped>\n",
       "    .dataframe tbody tr th:only-of-type {\n",
       "        vertical-align: middle;\n",
       "    }\n",
       "\n",
       "    .dataframe tbody tr th {\n",
       "        vertical-align: top;\n",
       "    }\n",
       "\n",
       "    .dataframe thead th {\n",
       "        text-align: right;\n",
       "    }\n",
       "</style>\n",
       "<table border=\"1\" class=\"dataframe\">\n",
       "  <thead>\n",
       "    <tr style=\"text-align: right;\">\n",
       "      <th></th>\n",
       "      <th>Var6</th>\n",
       "      <th>Var7</th>\n",
       "      <th>Var13</th>\n",
       "      <th>Var21</th>\n",
       "      <th>Var22</th>\n",
       "      <th>Var24</th>\n",
       "      <th>Var25</th>\n",
       "      <th>Var28</th>\n",
       "      <th>Var35</th>\n",
       "      <th>Var38</th>\n",
       "      <th>...</th>\n",
       "      <th>Var210</th>\n",
       "      <th>Var211</th>\n",
       "      <th>Var212</th>\n",
       "      <th>Var218</th>\n",
       "      <th>Var219</th>\n",
       "      <th>Var221</th>\n",
       "      <th>Var223</th>\n",
       "      <th>Var226</th>\n",
       "      <th>Var227</th>\n",
       "      <th>Var228</th>\n",
       "    </tr>\n",
       "  </thead>\n",
       "  <tbody>\n",
       "    <tr>\n",
       "      <td>0</td>\n",
       "      <td>1526.000000</td>\n",
       "      <td>7.0</td>\n",
       "      <td>184.0</td>\n",
       "      <td>464.000000</td>\n",
       "      <td>580.0</td>\n",
       "      <td>14.000000</td>\n",
       "      <td>128.0</td>\n",
       "      <td>166.56</td>\n",
       "      <td>0.0</td>\n",
       "      <td>3570.0</td>\n",
       "      <td>...</td>\n",
       "      <td>uKAI</td>\n",
       "      <td>L84s</td>\n",
       "      <td>XfqtO3UdzaXh_</td>\n",
       "      <td>cJvF</td>\n",
       "      <td>FzaX</td>\n",
       "      <td>oslk</td>\n",
       "      <td>jySVZNlOJy</td>\n",
       "      <td>xb3V</td>\n",
       "      <td>RAYp</td>\n",
       "      <td>F2FyR07IdsN7I</td>\n",
       "    </tr>\n",
       "    <tr>\n",
       "      <td>1</td>\n",
       "      <td>525.000000</td>\n",
       "      <td>0.0</td>\n",
       "      <td>0.0</td>\n",
       "      <td>168.000000</td>\n",
       "      <td>210.0</td>\n",
       "      <td>2.000000</td>\n",
       "      <td>24.0</td>\n",
       "      <td>353.52</td>\n",
       "      <td>0.0</td>\n",
       "      <td>4764966.0</td>\n",
       "      <td>...</td>\n",
       "      <td>uKAI</td>\n",
       "      <td>L84s</td>\n",
       "      <td>NhsEn4L</td>\n",
       "      <td>missing</td>\n",
       "      <td>FzaX</td>\n",
       "      <td>oslk</td>\n",
       "      <td>LM8l689qOp</td>\n",
       "      <td>fKCe</td>\n",
       "      <td>RAYp</td>\n",
       "      <td>F2FyR07IdsN7I</td>\n",
       "    </tr>\n",
       "    <tr>\n",
       "      <td>2</td>\n",
       "      <td>5236.000000</td>\n",
       "      <td>7.0</td>\n",
       "      <td>904.0</td>\n",
       "      <td>1212.000000</td>\n",
       "      <td>1515.0</td>\n",
       "      <td>26.000000</td>\n",
       "      <td>816.0</td>\n",
       "      <td>220.08</td>\n",
       "      <td>0.0</td>\n",
       "      <td>5883894.0</td>\n",
       "      <td>...</td>\n",
       "      <td>uKAI</td>\n",
       "      <td>L84s</td>\n",
       "      <td>UbxQ8lZ</td>\n",
       "      <td>UYBR</td>\n",
       "      <td>FzaX</td>\n",
       "      <td>Al6ZaUT</td>\n",
       "      <td>jySVZNlOJy</td>\n",
       "      <td>Qu4f</td>\n",
       "      <td>02N6s8f</td>\n",
       "      <td>ib5G6X1eUxUn6</td>\n",
       "    </tr>\n",
       "    <tr>\n",
       "      <td>3</td>\n",
       "      <td>1326.437116</td>\n",
       "      <td>0.0</td>\n",
       "      <td>0.0</td>\n",
       "      <td>234.518225</td>\n",
       "      <td>0.0</td>\n",
       "      <td>4.507926</td>\n",
       "      <td>0.0</td>\n",
       "      <td>22.08</td>\n",
       "      <td>0.0</td>\n",
       "      <td>0.0</td>\n",
       "      <td>...</td>\n",
       "      <td>uKAI</td>\n",
       "      <td>Mtgm</td>\n",
       "      <td>NhsEn4L</td>\n",
       "      <td>UYBR</td>\n",
       "      <td>FzaX</td>\n",
       "      <td>oslk</td>\n",
       "      <td>LM8l689qOp</td>\n",
       "      <td>FSa2</td>\n",
       "      <td>RAYp</td>\n",
       "      <td>F2FyR07IdsN7I</td>\n",
       "    </tr>\n",
       "    <tr>\n",
       "      <td>4</td>\n",
       "      <td>1029.000000</td>\n",
       "      <td>7.0</td>\n",
       "      <td>3216.0</td>\n",
       "      <td>64.000000</td>\n",
       "      <td>80.0</td>\n",
       "      <td>4.000000</td>\n",
       "      <td>64.0</td>\n",
       "      <td>200.00</td>\n",
       "      <td>0.0</td>\n",
       "      <td>0.0</td>\n",
       "      <td>...</td>\n",
       "      <td>uKAI</td>\n",
       "      <td>L84s</td>\n",
       "      <td>XfqtO3UdzaXh_</td>\n",
       "      <td>UYBR</td>\n",
       "      <td>FzaX</td>\n",
       "      <td>oslk</td>\n",
       "      <td>LM8l689qOp</td>\n",
       "      <td>FSa2</td>\n",
       "      <td>RAYp</td>\n",
       "      <td>F2FyR07IdsN7I</td>\n",
       "    </tr>\n",
       "  </tbody>\n",
       "</table>\n",
       "<p>5 rows × 59 columns</p>\n",
       "</div>"
      ],
      "text/plain": [
       "          Var6  Var7   Var13        Var21   Var22      Var24  Var25   Var28  \\\n",
       "0  1526.000000   7.0   184.0   464.000000   580.0  14.000000  128.0  166.56   \n",
       "1   525.000000   0.0     0.0   168.000000   210.0   2.000000   24.0  353.52   \n",
       "2  5236.000000   7.0   904.0  1212.000000  1515.0  26.000000  816.0  220.08   \n",
       "3  1326.437116   0.0     0.0   234.518225     0.0   4.507926    0.0   22.08   \n",
       "4  1029.000000   7.0  3216.0    64.000000    80.0   4.000000   64.0  200.00   \n",
       "\n",
       "   Var35      Var38  ...  Var210  Var211         Var212   Var218  Var219  \\\n",
       "0    0.0     3570.0  ...    uKAI    L84s  XfqtO3UdzaXh_     cJvF    FzaX   \n",
       "1    0.0  4764966.0  ...    uKAI    L84s        NhsEn4L  missing    FzaX   \n",
       "2    0.0  5883894.0  ...    uKAI    L84s        UbxQ8lZ     UYBR    FzaX   \n",
       "3    0.0        0.0  ...    uKAI    Mtgm        NhsEn4L     UYBR    FzaX   \n",
       "4    0.0        0.0  ...    uKAI    L84s  XfqtO3UdzaXh_     UYBR    FzaX   \n",
       "\n",
       "    Var221      Var223  Var226   Var227         Var228  \n",
       "0     oslk  jySVZNlOJy    xb3V     RAYp  F2FyR07IdsN7I  \n",
       "1     oslk  LM8l689qOp    fKCe     RAYp  F2FyR07IdsN7I  \n",
       "2  Al6ZaUT  jySVZNlOJy    Qu4f  02N6s8f  ib5G6X1eUxUn6  \n",
       "3     oslk  LM8l689qOp    FSa2     RAYp  F2FyR07IdsN7I  \n",
       "4     oslk  LM8l689qOp    FSa2     RAYp  F2FyR07IdsN7I  \n",
       "\n",
       "[5 rows x 59 columns]"
      ]
     },
     "execution_count": 37,
     "metadata": {},
     "output_type": "execute_result"
    }
   ],
   "source": [
    "features.head()"
   ]
  },
  {
   "cell_type": "markdown",
   "metadata": {},
   "source": [
    "<h3>Selecting the adequate variables with decisions trees.</h3>\n",
    "<p>We have many categorical and numerical variables. But we need to narrow down this quantity to more suitable variables. So that we can build a proper predictive model. In order to do that, we need to know how importante a variable is. We are gonna build a function to do that and put the variables in order of importance.\n",
    "</p>"
   ]
  },
  {
   "cell_type": "code",
   "execution_count": 38,
   "metadata": {},
   "outputs": [],
   "source": [
    "'''\n",
    "Treating the categorical values, turning them into dummies\n",
    "'''\n",
    "features_churn = pd.get_dummies(features)"
   ]
  },
  {
   "cell_type": "code",
   "execution_count": 39,
   "metadata": {},
   "outputs": [
    {
     "data": {
      "text/plain": [
       "(50000, 1052)"
      ]
     },
     "execution_count": 39,
     "metadata": {},
     "output_type": "execute_result"
    }
   ],
   "source": [
    "features_churn.shape"
   ]
  },
  {
   "cell_type": "code",
   "execution_count": 40,
   "metadata": {},
   "outputs": [
    {
     "data": {
      "text/plain": [
       "array([-1,  1, -1, ..., -1, -1, -1], dtype=int64)"
      ]
     },
     "execution_count": 40,
     "metadata": {},
     "output_type": "execute_result"
    }
   ],
   "source": [
    "'''\n",
    "Explanation of the technique used below\n",
    "'''\n",
    "np.array(outcome).ravel()"
   ]
  },
  {
   "cell_type": "code",
   "execution_count": 41,
   "metadata": {},
   "outputs": [],
   "source": [
    "'''\n",
    "We are creating a function that will return how important a variable is.\n",
    "Outcome assumes the values -1 and 1\n",
    "'''\n",
    "def etc_importances(features, outcome):\n",
    "    model = ExtraTreesClassifier(n_estimators = 200, criterion = 'entropy', verbose = 0 )\n",
    "    model.fit(features, np.array(outcome).ravel())\n",
    "    \n",
    "    importances = model.feature_importances_\n",
    "    variables = np.array(features.columns)\n",
    "    indices = np.argsort(importances)[::-1]\n",
    "    importances = importances[indices]\n",
    "    variables = variables[indices]\n",
    "    \n",
    "    return variables, importances"
   ]
  },
  {
   "cell_type": "code",
   "execution_count": 42,
   "metadata": {},
   "outputs": [],
   "source": [
    "variables, importances = etc_importances(features_churn, outcome)"
   ]
  },
  {
   "cell_type": "code",
   "execution_count": 43,
   "metadata": {},
   "outputs": [
    {
     "data": {
      "text/plain": [
       "(50000, 1052)"
      ]
     },
     "execution_count": 43,
     "metadata": {},
     "output_type": "execute_result"
    }
   ],
   "source": [
    "features_churn.shape"
   ]
  },
  {
   "cell_type": "markdown",
   "metadata": {},
   "source": [
    "<h3>Discovering the ideal quantity of variables</h3>\n",
    "<p>After the preprocessing, we have 1052. But we need to create a model with less variables.Otherwise the model will not perform very well. But how many variables do we need? That's what we are gonna find out. </p>"
   ]
  },
  {
   "cell_type": "code",
   "execution_count": 44,
   "metadata": {},
   "outputs": [],
   "source": [
    "def sum_and_plot_importances(variables, importances):\n",
    "    sum_importances = pd.DataFrame()\n",
    "    for i in range(importances.size):\n",
    "        sum_importance = importances[:(i+1)].sum()\n",
    "        this_variable = pd.Series([variables[i], sum_importance])\n",
    "        sum_importances = sum_importances.append(this_variable, ignore_index = True)\n",
    "    plt.scatter(sum_importances.index, sum_importances.iloc[:,1])\n",
    "    return sum_importances"
   ]
  },
  {
   "cell_type": "markdown",
   "metadata": {},
   "source": [
    "<h3>Interpreting the importance graph</h3>\n",
    "<p>\n",
    "On the Y axis we have the level of importance that goes from zero to 1. On the X axis we have the indices of the variables. Note that in the graph that the importance curve stabilizes more or less at the 600 index. Therefore, as the indices are ordered, from this point on the variables do not have as much importance for the predictive model. And that is where we will cut.</p>"
   ]
  },
  {
   "cell_type": "code",
   "execution_count": 45,
   "metadata": {},
   "outputs": [
    {
     "data": {
      "image/png": "[encoded data removed]",
      "text/plain": [
       "<Figure size 432x288 with 1 Axes>"
      ]
     },
     "metadata": {
      "needs_background": "light"
     },
     "output_type": "display_data"
    }
   ],
   "source": [
    "sum_importances = sum_and_plot_importances(variables, importances)"
   ]
  },
  {
   "cell_type": "markdown",
   "metadata": {},
   "source": [
    "<h3>Removing undesired variables.</h3>\n",
    "<p>\n",
    "To facilitate the construction of the predictive model, we will build a dataframe that contains only variables whose importance is less than a certain threshold. Any variable whose limit is greater than this threshold, will be deleted from the new dataframe. A function called \"keep_vars\" will be created for this purpose.</p>"
   ]
  },
  {
   "cell_type": "code",
   "execution_count": 46,
   "metadata": {},
   "outputs": [
    {
     "data": {
      "text/html": [
       "<div>\n",
       "<style scoped>\n",
       "    .dataframe tbody tr th:only-of-type {\n",
       "        vertical-align: middle;\n",
       "    }\n",
       "\n",
       "    .dataframe tbody tr th {\n",
       "        vertical-align: top;\n",
       "    }\n",
       "\n",
       "    .dataframe thead th {\n",
       "        text-align: right;\n",
       "    }\n",
       "</style>\n",
       "<table border=\"1\" class=\"dataframe\">\n",
       "  <thead>\n",
       "    <tr style=\"text-align: right;\">\n",
       "      <th></th>\n",
       "      <th>0</th>\n",
       "      <th>1</th>\n",
       "    </tr>\n",
       "  </thead>\n",
       "  <tbody>\n",
       "    <tr>\n",
       "      <td>0</td>\n",
       "      <td>Var57</td>\n",
       "      <td>0.018095</td>\n",
       "    </tr>\n",
       "    <tr>\n",
       "      <td>1</td>\n",
       "      <td>Var73</td>\n",
       "      <td>0.036016</td>\n",
       "    </tr>\n",
       "    <tr>\n",
       "      <td>2</td>\n",
       "      <td>Var113</td>\n",
       "      <td>0.053426</td>\n",
       "    </tr>\n",
       "    <tr>\n",
       "      <td>3</td>\n",
       "      <td>Var81</td>\n",
       "      <td>0.067191</td>\n",
       "    </tr>\n",
       "    <tr>\n",
       "      <td>4</td>\n",
       "      <td>Var153</td>\n",
       "      <td>0.080869</td>\n",
       "    </tr>\n",
       "    <tr>\n",
       "      <td>...</td>\n",
       "      <td>...</td>\n",
       "      <td>...</td>\n",
       "    </tr>\n",
       "    <tr>\n",
       "      <td>1047</td>\n",
       "      <td>Var226_missing</td>\n",
       "      <td>1.000000</td>\n",
       "    </tr>\n",
       "    <tr>\n",
       "      <td>1048</td>\n",
       "      <td>Var192_1JGr4RUaLY</td>\n",
       "      <td>1.000000</td>\n",
       "    </tr>\n",
       "    <tr>\n",
       "      <td>1049</td>\n",
       "      <td>Var204_missing</td>\n",
       "      <td>1.000000</td>\n",
       "    </tr>\n",
       "    <tr>\n",
       "      <td>1050</td>\n",
       "      <td>Var227_missing</td>\n",
       "      <td>1.000000</td>\n",
       "    </tr>\n",
       "    <tr>\n",
       "      <td>1051</td>\n",
       "      <td>Var228_missing</td>\n",
       "      <td>1.000000</td>\n",
       "    </tr>\n",
       "  </tbody>\n",
       "</table>\n",
       "<p>1052 rows × 2 columns</p>\n",
       "</div>"
      ],
      "text/plain": [
       "                      0         1\n",
       "0                 Var57  0.018095\n",
       "1                 Var73  0.036016\n",
       "2                Var113  0.053426\n",
       "3                 Var81  0.067191\n",
       "4                Var153  0.080869\n",
       "...                 ...       ...\n",
       "1047     Var226_missing  1.000000\n",
       "1048  Var192_1JGr4RUaLY  1.000000\n",
       "1049     Var204_missing  1.000000\n",
       "1050     Var227_missing  1.000000\n",
       "1051     Var228_missing  1.000000\n",
       "\n",
       "[1052 rows x 2 columns]"
      ]
     },
     "execution_count": 46,
     "metadata": {},
     "output_type": "execute_result"
    }
   ],
   "source": [
    "'''\n",
    "Here we have the variables and their thresholds in the column '1'\n",
    "'''\n",
    "sum_importances"
   ]
  },
  {
   "cell_type": "code",
   "execution_count": 47,
   "metadata": {},
   "outputs": [],
   "source": [
    "def keep_vars(features, sum_importances, threshold):\n",
    "    keep_vars = list(sum_importances[sum_importances.iloc[:, 1] <= threshold].iloc[:, 0])\n",
    "    features = features.loc[:, keep_vars]\n",
    "    \n",
    "    return features"
   ]
  },
  {
   "cell_type": "code",
   "execution_count": 48,
   "metadata": {},
   "outputs": [],
   "source": [
    "features_churn = keep_vars(features_churn, sum_importances, threshold = 0.99)"
   ]
  },
  {
   "cell_type": "markdown",
   "metadata": {},
   "source": [
    "<h3>After the preprocessing, we have our final dataframe down below. </h3>"
   ]
  },
  {
   "cell_type": "code",
   "execution_count": 49,
   "metadata": {},
   "outputs": [
    {
     "data": {
      "text/plain": [
       "(50000, 684)"
      ]
     },
     "execution_count": 49,
     "metadata": {},
     "output_type": "execute_result"
    }
   ],
   "source": [
    "\n",
    "features_churn.shape"
   ]
  },
  {
   "cell_type": "markdown",
   "metadata": {},
   "source": [
    "<h3>Splitting the dataframe</h3>\n",
    "<p>Now we need to split our database between Train and Test. We will create a function for that.</p>"
   ]
  },
  {
   "cell_type": "code",
   "execution_count": 50,
   "metadata": {},
   "outputs": [],
   "source": [
    "def split_datasets(features, outcome, test_size = 0.2):\n",
    "    X_train, X_test, y_train, y_test = train_test_split(features, outcome, test_size = test_size, stratify = outcome,\n",
    "                                                       random_state = 0)\n",
    "    y_train, y_test = np.array(y_train).ravel(), np.array(y_test).ravel()\n",
    "    \n",
    "    return X_train, X_test, y_train, y_test"
   ]
  },
  {
   "cell_type": "code",
   "execution_count": 51,
   "metadata": {},
   "outputs": [],
   "source": [
    "X_train, X_test, y_train, y_test = split_datasets(features_churn, outcome)"
   ]
  },
  {
   "cell_type": "code",
   "execution_count": 52,
   "metadata": {},
   "outputs": [
    {
     "data": {
      "text/plain": [
       "(40000, 684)"
      ]
     },
     "execution_count": 52,
     "metadata": {},
     "output_type": "execute_result"
    }
   ],
   "source": [
    "X_train.shape"
   ]
  },
  {
   "cell_type": "code",
   "execution_count": 53,
   "metadata": {},
   "outputs": [
    {
     "data": {
      "text/plain": [
       "(10000, 684)"
      ]
     },
     "execution_count": 53,
     "metadata": {},
     "output_type": "execute_result"
    }
   ],
   "source": [
    "X_test.shape"
   ]
  },
  {
   "cell_type": "markdown",
   "metadata": {},
   "source": [
    "<h1>Verifying metrics and testing some algorithms</h1>"
   ]
  },
  {
   "cell_type": "markdown",
   "metadata": {},
   "source": [
    "<h3>AUC and ROC:</h3>\n",
    "    <p>First of all, there is a very good explanation about those metrics in the following link: \n",
    "    <a href=\"https://neptune.ai/blog/f1-score-accuracy-roc-auc-pr-auc#:~:text=Accuracy%20vs%20ROC%20AUC,assigned%20positive%20and%20negative%20classes\">AUC and ROC uses</a>\n",
    "    <p>AUC (area under a curve) is a good metric for unbalanced and binary classifiers. Another thing to remember is that ROC AUC is especially good at ranking predictions and choosing algorithms. Because of that, the metric will be used to test several algorithms.</p> \n",
    "</p>"
   ]
  },
  {
   "cell_type": "code",
   "execution_count": 54,
   "metadata": {},
   "outputs": [],
   "source": [
    "'''\n",
    "Random Forest Classifier (RFC)\n",
    "'''\n",
    "def rfc_test(X_train, y_train, n_estimators = 100, cv = 5):\n",
    "    np.random.seed(0)\n",
    "    rfc = RandomForestClassifier(n_estimators = n_estimators, random_state = 0, n_jobs = -1)\n",
    "    cv_scores = cross_val_score(rfc, X_train, y_train, scoring = 'roc_auc', cv = cv, n_jobs = -1)\n",
    "    print('Média dos cinco testes: ', cv_scores.mean())"
   ]
  },
  {
   "cell_type": "code",
   "execution_count": 55,
   "metadata": {},
   "outputs": [
    {
     "name": "stdout",
     "output_type": "stream",
     "text": [
      "Média dos cinco testes:  0.6274981214841274\n"
     ]
    }
   ],
   "source": [
    "rfc_test(X_train, y_train)"
   ]
  },
  {
   "cell_type": "markdown",
   "metadata": {},
   "source": [
    "<h1>In an AUC measure, the closer we get to 1.0, the better the results</h1>"
   ]
  },
  {
   "cell_type": "code",
   "execution_count": 56,
   "metadata": {},
   "outputs": [],
   "source": [
    "'''\n",
    "Grading Boost Classifier\n",
    "'''\n",
    "def gbc_test(X_train, y_train, n_estimators = 100, learning_rate = 0.1, cv = 5):\n",
    "    np.random.seed(0)\n",
    "    gbc = GradientBoostingClassifier(n_estimators = n_estimators, learning_rate = learning_rate,\n",
    "                                  random_state = 0)\n",
    "    cv_scores = cross_val_score(gbc, X_train, y_train, scoring = 'roc_auc', cv = cv, n_jobs = -1)\n",
    "    print('Média dos cinco testes: ', cv_scores.mean())"
   ]
  },
  {
   "cell_type": "code",
   "execution_count": 57,
   "metadata": {},
   "outputs": [
    {
     "name": "stdout",
     "output_type": "stream",
     "text": [
      "Média dos cinco testes:  0.6706079531896121\n"
     ]
    }
   ],
   "source": [
    "gbc_test(X_train, y_train)"
   ]
  },
  {
   "cell_type": "markdown",
   "metadata": {},
   "source": [
    "<h3>Tuning the GradientBoostingClassifier</h3>\n",
    "<p>According to the average results of the AUC metrics that was tested, the GradientBoostingClassifier algorithm obtained better results. Therefore, we will perform the tunning of this algorithm. \n",
    "<p>Tunning consists of testing several different parameters of the algorithm in order to find the best combination of parameters. Those tests are gonna be made with the 'GridSearch method' and inside a function called 'optmize' </p></p>"
   ]
  },
  {
   "cell_type": "code",
   "execution_count": 58,
   "metadata": {},
   "outputs": [],
   "source": [
    "def optimize(n_estimators, learning_rate, min_samples_split, min_samples_leaf,\n",
    "             max_depth, max_features, subsample, params, cv = 5):\n",
    "    np.random.seed(0)\n",
    "    gbc = GradientBoostingClassifier(n_estimators = n_estimators,\n",
    "                                  learning_rate = learning_rate,\n",
    "                                  min_samples_split = min_samples_split,\n",
    "                                  min_samples_leaf = min_samples_leaf,\n",
    "                                  max_depth = max_depth,\n",
    "                                  max_features = max_features,\n",
    "                                  subsample = subsample,\n",
    "                                  random_state = 0)\n",
    "    grid_search = GridSearchCV(estimator = gbc, param_grid = params, scoring = 'roc_auc',\n",
    "                             n_jobs = -1, iid = False, cv = cv)\n",
    "    grid_search.fit(X_train, y_train)\n",
    "    results = grid_search.cv_results_\n",
    "    best_params = grid_search.best_params_\n",
    "    best_score = grid_search.best_score_\n",
    "    print(best_params, best_score)\n",
    "  \n",
    "    return gbc, best_params, best_score"
   ]
  },
  {
   "cell_type": "markdown",
   "metadata": {},
   "source": [
    "<h3>Tunning results below:</h3>"
   ]
  },
  {
   "cell_type": "code",
   "execution_count": 59,
   "metadata": {},
   "outputs": [],
   "source": [
    "'''\n",
    "Variables created to collect the results\n",
    "'''\n",
    "models = np.array([])\n",
    "opt_params = dict()\n",
    "scores = np.array([])\n"
   ]
  },
  {
   "cell_type": "markdown",
   "metadata": {},
   "source": [
    "<h3>Optimizing the parameter 'n_estimators'</h3>"
   ]
  },
  {
   "cell_type": "code",
   "execution_count": 60,
   "metadata": {},
   "outputs": [],
   "source": [
    "'''\n",
    "This is the first model. Only multiple parameters of the 'n_estimators' will be tested. All of other parameters\n",
    "will receive set values.\n",
    "'''\n",
    "#MODEL 0\n",
    "learning_rate = 0.1\n",
    "n_estimators = None\n",
    "max_depth = 8\n",
    "min_samples_split = 250\n",
    "min_samples_leaf = 20\n",
    "max_features = 'sqrt'\n",
    "subsample = 0.8\n",
    "params = {'n_estimators': range(50, 151, 10)}"
   ]
  },
  {
   "cell_type": "code",
   "execution_count": 61,
   "metadata": {},
   "outputs": [
    {
     "name": "stdout",
     "output_type": "stream",
     "text": [
      "{'n_estimators': 60} 0.6680093714913787\n"
     ]
    }
   ],
   "source": [
    "'''\n",
    "Here i am using the function 'optimize' to test the parameter 'n_estimator'\n",
    "'''\n",
    "gbc, opt_param, score = optimize(n_estimators = n_estimators,\n",
    "                                 learning_rate = learning_rate,\n",
    "                                 min_samples_split = min_samples_split,\n",
    "                                 min_samples_leaf = min_samples_leaf,\n",
    "                                 max_depth = max_depth,\n",
    "                                 max_features = max_features,\n",
    "                                 subsample = subsample,\n",
    "                                 params = params)"
   ]
  },
  {
   "cell_type": "code",
   "execution_count": 62,
   "metadata": {},
   "outputs": [],
   "source": [
    "'''\n",
    "Updating the variables that contains the results\n",
    "'''\n",
    "models = np.append(models, gbc)\n",
    "opt_params = {**opt_params, **opt_param}\n",
    "scores = np.append(scores, score)"
   ]
  },
  {
   "cell_type": "code",
   "execution_count": 63,
   "metadata": {},
   "outputs": [
    {
     "data": {
      "text/plain": [
       "array([GradientBoostingClassifier(criterion='friedman_mse', init=None,\n",
       "                           learning_rate=0.1, loss='deviance', max_depth=8,\n",
       "                           max_features='sqrt', max_leaf_nodes=None,\n",
       "                           min_impurity_decrease=0.0, min_impurity_split=None,\n",
       "                           min_samples_leaf=20, min_samples_split=250,\n",
       "                           min_weight_fraction_leaf=0.0, n_estimators=None,\n",
       "                           n_iter_no_change=None, presort='auto',\n",
       "                           random_state=0, subsample=0.8, tol=0.0001,\n",
       "                           validation_fraction=0.1, verbose=0,\n",
       "                           warm_start=False)], dtype=object)"
      ]
     },
     "execution_count": 63,
     "metadata": {},
     "output_type": "execute_result"
    }
   ],
   "source": [
    "models"
   ]
  },
  {
   "cell_type": "code",
   "execution_count": 64,
   "metadata": {},
   "outputs": [
    {
     "data": {
      "text/plain": [
       "{'n_estimators': 60}"
      ]
     },
     "execution_count": 64,
     "metadata": {},
     "output_type": "execute_result"
    }
   ],
   "source": [
    "opt_params"
   ]
  },
  {
   "cell_type": "code",
   "execution_count": 65,
   "metadata": {},
   "outputs": [
    {
     "data": {
      "text/plain": [
       "array([0.66800937])"
      ]
     },
     "execution_count": 65,
     "metadata": {},
     "output_type": "execute_result"
    }
   ],
   "source": [
    "scores"
   ]
  },
  {
   "cell_type": "markdown",
   "metadata": {},
   "source": [
    "<h3>Optmizing the parameters max_depth and min_samples_split</h3>"
   ]
  },
  {
   "cell_type": "code",
   "execution_count": 66,
   "metadata": {},
   "outputs": [],
   "source": [
    "'''\n",
    "This is the second model that we are going to optimize. We already have the optimization of the parameter n_estimators,\n",
    "so we are just gonna use this value (n_estimators = 60) and optimize other parameters (max_depth and min_samples_split).\n",
    "'''\n",
    "\n",
    "#MODEL 1\n",
    "#This is the same parameter that we optimized before.\n",
    "n_estimators = opt_params['n_estimators']\n",
    "\n",
    "max_depth = None\n",
    "min_samples_split = None\n",
    "min_samples_leaf = 20\n",
    "max_features = 'sqrt'\n",
    "subsample = 0.8\n",
    "params = {'max_depth': range(3, 12, 2), 'min_samples_split': range(150, 401, 50)}"
   ]
  },
  {
   "cell_type": "code",
   "execution_count": 67,
   "metadata": {},
   "outputs": [
    {
     "name": "stdout",
     "output_type": "stream",
     "text": [
      "{'max_depth': 5, 'min_samples_split': 250} 0.6709395336143786\n"
     ]
    }
   ],
   "source": [
    "gbc, opt_param, score = optimize(n_estimators = n_estimators,\n",
    "                                 learning_rate = learning_rate,\n",
    "                                 min_samples_split = min_samples_split,\n",
    "                                 min_samples_leaf = min_samples_leaf,\n",
    "                                 max_depth = max_depth,\n",
    "                                 max_features = max_features,\n",
    "                                 subsample = subsample,\n",
    "                                 params = params)"
   ]
  },
  {
   "cell_type": "code",
   "execution_count": 68,
   "metadata": {},
   "outputs": [],
   "source": [
    "'''\n",
    "Updating the variables that contains the new results\n",
    "'''\n",
    "models = np.append(models, gbc)\n",
    "opt_params = {**opt_params, **opt_param}\n",
    "scores = np.append(scores, score)"
   ]
  },
  {
   "cell_type": "markdown",
   "metadata": {},
   "source": [
    "<h3>Optmizing the parameter min_samples_leaf</h3>"
   ]
  },
  {
   "cell_type": "code",
   "execution_count": 69,
   "metadata": {},
   "outputs": [],
   "source": [
    "'''\n",
    "This is the third model that we are going to optimize. We already have the optimization of the parameters n_estimators,\n",
    "max_depth and min_samples_split,so we are just gonna use those values and optimize other parameter (min_samples_leaf).\n",
    "'''\n",
    "\n",
    "# MODELO 2\n",
    "max_depth = opt_params['max_depth']\n",
    "min_samples_split = opt_params['min_samples_split']\n",
    "min_samples_leaf = None\n",
    "max_features = 'sqrt'\n",
    "subsample = 0.8\n",
    "params = {'min_samples_leaf': range(25, 61, 5)}"
   ]
  },
  {
   "cell_type": "code",
   "execution_count": 70,
   "metadata": {},
   "outputs": [
    {
     "name": "stdout",
     "output_type": "stream",
     "text": [
      "{'min_samples_leaf': 55} 0.6713398229659295\n"
     ]
    }
   ],
   "source": [
    "gbc, opt_param, score = optimize(n_estimators = n_estimators,\n",
    "                                 learning_rate = learning_rate,\n",
    "                                 min_samples_split = min_samples_split,\n",
    "                                 min_samples_leaf = min_samples_leaf,\n",
    "                                 max_depth = max_depth,\n",
    "                                 max_features = max_features,\n",
    "                                 subsample = subsample,\n",
    "                                 params = params)"
   ]
  },
  {
   "cell_type": "code",
   "execution_count": 71,
   "metadata": {},
   "outputs": [],
   "source": [
    "'''\n",
    "Updating the variables that contains the new results\n",
    "'''\n",
    "models = np.append(models, gbc)\n",
    "opt_params = {**opt_params, **opt_param}\n",
    "scores = np.append(scores, score)"
   ]
  },
  {
   "cell_type": "code",
   "execution_count": 72,
   "metadata": {},
   "outputs": [
    {
     "data": {
      "text/plain": [
       "{'n_estimators': 60,\n",
       " 'max_depth': 5,\n",
       " 'min_samples_split': 250,\n",
       " 'min_samples_leaf': 55}"
      ]
     },
     "execution_count": 72,
     "metadata": {},
     "output_type": "execute_result"
    }
   ],
   "source": [
    "opt_params"
   ]
  },
  {
   "cell_type": "markdown",
   "metadata": {},
   "source": [
    "<h3>Optmizing the parameter max_features</h3>"
   ]
  },
  {
   "cell_type": "code",
   "execution_count": 73,
   "metadata": {},
   "outputs": [],
   "source": [
    "'''\n",
    "This is the fourth model that we are going to optimize. We already have the optimization of the parameters n_estimators,\n",
    "max_depth, min_samples_split and min_samples_leaf, so we are just gonna use those values and optimize other \n",
    "parameter (max_features).\n",
    "'''\n",
    "\n",
    "# MODELO 3\n",
    "min_samples_leaf = opt_params['min_samples_leaf']\n",
    "max_features = None\n",
    "subsample = 0.8\n",
    "params = {'max_features': range(21, 31, 1)}"
   ]
  },
  {
   "cell_type": "code",
   "execution_count": 74,
   "metadata": {},
   "outputs": [
    {
     "name": "stdout",
     "output_type": "stream",
     "text": [
      "{'max_features': 29} 0.6716039565700498\n"
     ]
    }
   ],
   "source": [
    "gbc, opt_param, score = optimize(n_estimators = n_estimators,\n",
    "                                 learning_rate = learning_rate,\n",
    "                                 min_samples_split = min_samples_split,\n",
    "                                 min_samples_leaf = min_samples_leaf,\n",
    "                                 max_depth = max_depth,\n",
    "                                 max_features = max_features,\n",
    "                                 subsample = subsample,\n",
    "                                 params = params)"
   ]
  },
  {
   "cell_type": "code",
   "execution_count": 75,
   "metadata": {},
   "outputs": [],
   "source": [
    "'''\n",
    "Updating the variables that contains the new results\n",
    "'''\n",
    "models = np.append(models, gbc)\n",
    "opt_params = {**opt_params, **opt_param}\n",
    "scores = np.append(scores, score)"
   ]
  },
  {
   "cell_type": "code",
   "execution_count": 76,
   "metadata": {},
   "outputs": [
    {
     "data": {
      "text/plain": [
       "{'n_estimators': 60,\n",
       " 'max_depth': 5,\n",
       " 'min_samples_split': 250,\n",
       " 'min_samples_leaf': 55,\n",
       " 'max_features': 29}"
      ]
     },
     "execution_count": 76,
     "metadata": {},
     "output_type": "execute_result"
    }
   ],
   "source": [
    "opt_params"
   ]
  },
  {
   "cell_type": "markdown",
   "metadata": {},
   "source": [
    "<h3>Optmizing the parameter subsample</h3>"
   ]
  },
  {
   "cell_type": "code",
   "execution_count": 77,
   "metadata": {},
   "outputs": [],
   "source": [
    "'''\n",
    "This is the fifth model that we are going to optimize. We already have the optimization of the parameters n_estimators,\n",
    "max_depth, min_samples_split, min_samples_leaf and max_features, so we are just gonna use those values and optimize other \n",
    "parameter (subsample).\n",
    "'''\n",
    "# MODELO 4\n",
    "max_features = opt_params['max_features']\n",
    "subsample = None\n",
    "params = {'subsample': np.append(np.arange(0.6, 1, 0.05), 1)}"
   ]
  },
  {
   "cell_type": "code",
   "execution_count": 78,
   "metadata": {},
   "outputs": [
    {
     "data": {
      "text/plain": [
       "array([0.6 , 0.65, 0.7 , 0.75, 0.8 , 0.85, 0.9 , 0.95, 1.  ])"
      ]
     },
     "execution_count": 78,
     "metadata": {},
     "output_type": "execute_result"
    }
   ],
   "source": [
    "np.append(np.arange(0.6, 1, 0.05), 1)"
   ]
  },
  {
   "cell_type": "code",
   "execution_count": 79,
   "metadata": {},
   "outputs": [
    {
     "name": "stdout",
     "output_type": "stream",
     "text": [
      "{'subsample': 0.8500000000000002} 0.6727805740471442\n"
     ]
    }
   ],
   "source": [
    "gbc, opt_param, score = optimize(n_estimators = n_estimators,\n",
    "                                 learning_rate = learning_rate,\n",
    "                                 min_samples_split = min_samples_split,\n",
    "                                 min_samples_leaf = min_samples_leaf,\n",
    "                                 max_depth = max_depth,\n",
    "                                 max_features = max_features,\n",
    "                                 subsample = subsample,\n",
    "                                 params = params)"
   ]
  },
  {
   "cell_type": "code",
   "execution_count": 80,
   "metadata": {},
   "outputs": [],
   "source": [
    "'''\n",
    "Updating the variables that contains the new results\n",
    "'''\n",
    "models = np.append(models, gbc)\n",
    "opt_params = {**opt_params, **opt_param}\n",
    "scores = np.append(scores, score)"
   ]
  },
  {
   "cell_type": "code",
   "execution_count": 81,
   "metadata": {},
   "outputs": [
    {
     "data": {
      "text/plain": [
       "{'n_estimators': 60,\n",
       " 'max_depth': 5,\n",
       " 'min_samples_split': 250,\n",
       " 'min_samples_leaf': 55,\n",
       " 'max_features': 29,\n",
       " 'subsample': 0.8500000000000002}"
      ]
     },
     "execution_count": 81,
     "metadata": {},
     "output_type": "execute_result"
    }
   ],
   "source": [
    "opt_params"
   ]
  },
  {
   "cell_type": "code",
   "execution_count": 82,
   "metadata": {},
   "outputs": [
    {
     "data": {
      "text/plain": [
       "array([0.66800937, 0.67093953, 0.67133982, 0.67160396, 0.67278057])"
      ]
     },
     "execution_count": 82,
     "metadata": {},
     "output_type": "execute_result"
    }
   ],
   "source": [
    "'''\n",
    "\n",
    "These values will be used for the next technique that will be implemented for the tuning of the algorithm\n",
    "'''\n",
    "scores\n"
   ]
  },
  {
   "cell_type": "markdown",
   "metadata": {},
   "source": [
    "<h3>Optmizing n_estimators and learning_rate</h3>\n",
    "<p>Here we will redo the optimization of the 'n_estimators' parameter. But this time, we will jointly perform the optimization of the 'learning_rate' parameter. <p> For the optimization of these two parameters, a new function will be created, implementing a new tunning technique: we will implement a cross-validation directly and not the Grid_Search method.  The new function will be called optimize2.</p>\n",
    "\n",
    "<p>\n",
    "We will plot some graphs with the values of the scores obtained with the other tunning techniques done previously.</p></p>"
   ]
  },
  {
   "cell_type": "code",
   "execution_count": 83,
   "metadata": {},
   "outputs": [],
   "source": [
    "def optimize2(n_estimators, learning_rate, min_samples_split, min_samples_leaf,\n",
    "             max_depth, max_features, subsample, cv = 5):\n",
    "    np.random.seed(0)\n",
    "    gbc = GradientBoostingClassifier(n_estimators = n_estimators,\n",
    "                                  learning_rate = learning_rate,\n",
    "                                  min_samples_split = min_samples_split,\n",
    "                                  min_samples_leaf = min_samples_leaf,\n",
    "                                  max_depth = max_depth,\n",
    "                                  max_features = max_features,\n",
    "                                  subsample = subsample,\n",
    "                                  random_state = 0)\n",
    "    \n",
    "    #Here, the cross validation is being applied\n",
    "    cv_scores = cross_val_score(gbc, X_train, y_train, scoring = 'roc_auc', cv = cv, n_jobs = -1)\n",
    "    score = cv_scores.mean()\n",
    "    \n",
    "    #The 'scores' variable is the same one that it's being updated with all previously calculated score values \n",
    "    #We are ploting some graphs from the previouslly calculated score\n",
    "    plt.plot(np.append(scores, score))\n",
    "    plt.title('n_estimators = {} / learning rate = {}'.format(n_estimators, learning_rate))\n",
    "  \n",
    "    return gbc, score"
   ]
  },
  {
   "cell_type": "code",
   "execution_count": 84,
   "metadata": {},
   "outputs": [],
   "source": [
    "learning_rate = 0.1\n",
    "n_estimators = opt_params['n_estimators']"
   ]
  },
  {
   "cell_type": "code",
   "execution_count": 85,
   "metadata": {},
   "outputs": [],
   "source": [
    "# MODEL 5\n",
    "subsample = opt_params['subsample']\n",
    "learning_rate /= 2\n",
    "n_estimators *= 2"
   ]
  },
  {
   "cell_type": "code",
   "execution_count": 86,
   "metadata": {},
   "outputs": [
    {
     "data": {
      "text/plain": [
       "(0.05, 120)"
      ]
     },
     "execution_count": 86,
     "metadata": {},
     "output_type": "execute_result"
    }
   ],
   "source": [
    "learning_rate, n_estimators"
   ]
  },
  {
   "cell_type": "markdown",
   "metadata": {},
   "source": [
    "<h5>\n",
    "The graph shows the performance evolution of the model previously built with the tunning parameters technique. We are going to keep tuning those variables until the scores stop rising. </h5>"
   ]
  },
  {
   "cell_type": "code",
   "execution_count": 87,
   "metadata": {},
   "outputs": [
    {
     "data": {
      "image/png": "[encoded data removed]",
      "text/plain": [
       "<Figure size 432x288 with 1 Axes>"
      ]
     },
     "metadata": {
      "needs_background": "light"
     },
     "output_type": "display_data"
    }
   ],
   "source": [
    "gbc, score = optimize2(n_estimators = n_estimators,\n",
    "                       learning_rate = learning_rate,\n",
    "                       min_samples_split = min_samples_split,\n",
    "                       min_samples_leaf = min_samples_leaf,\n",
    "                       max_depth = max_depth,\n",
    "                       max_features = max_features,\n",
    "                       subsample = subsample)"
   ]
  },
  {
   "cell_type": "code",
   "execution_count": 88,
   "metadata": {},
   "outputs": [
    {
     "data": {
      "text/plain": [
       "0.6715707641261119"
      ]
     },
     "execution_count": 88,
     "metadata": {},
     "output_type": "execute_result"
    }
   ],
   "source": [
    "score"
   ]
  },
  {
   "cell_type": "code",
   "execution_count": 89,
   "metadata": {},
   "outputs": [
    {
     "data": {
      "text/plain": [
       "array([0.66800937, 0.67093953, 0.67133982, 0.67160396, 0.67278057])"
      ]
     },
     "execution_count": 89,
     "metadata": {},
     "output_type": "execute_result"
    }
   ],
   "source": [
    "scores"
   ]
  },
  {
   "cell_type": "code",
   "execution_count": 90,
   "metadata": {},
   "outputs": [],
   "source": [
    "# Updating the results\n",
    "models = np.append(models, gbc)\n",
    "scores = np.append(scores, score)"
   ]
  },
  {
   "cell_type": "code",
   "execution_count": 92,
   "metadata": {},
   "outputs": [
    {
     "data": {
      "text/plain": [
       "(0.002, 3000)"
      ]
     },
     "execution_count": 92,
     "metadata": {},
     "output_type": "execute_result"
    }
   ],
   "source": [
    "#Model 6\n",
    "'''\n",
    "Updating learning_rate and n_estimators\n",
    "'''\n",
    "learning_rate /= 5\n",
    "n_estimators *=5\n",
    "\n",
    "learning_rate, n_estimators"
   ]
  },
  {
   "cell_type": "markdown",
   "metadata": {},
   "source": [
    "<h5>As shown at the graph, the score keeps rising. So we are gonna keep updating the variables 'learning_rate' and 'n_estimators'</h5>"
   ]
  },
  {
   "cell_type": "code",
   "execution_count": 93,
   "metadata": {},
   "outputs": [
    {
     "data": {
      "image/png": "[encoded data removed]",
      "text/plain": [
       "<Figure size 432x288 with 1 Axes>"
      ]
     },
     "metadata": {
      "needs_background": "light"
     },
     "output_type": "display_data"
    }
   ],
   "source": [
    "gbc, score = optimize2(n_estimators = n_estimators,\n",
    "                       learning_rate = learning_rate,\n",
    "                       min_samples_split = min_samples_split,\n",
    "                       min_samples_leaf = min_samples_leaf,\n",
    "                       max_depth = max_depth,\n",
    "                       max_features = max_features,\n",
    "                       subsample = subsample)"
   ]
  },
  {
   "cell_type": "code",
   "execution_count": 94,
   "metadata": {},
   "outputs": [],
   "source": [
    "# Updating the variables with the results\n",
    "models = np.append(models, gbc)\n",
    "scores = np.append(scores, score)"
   ]
  },
  {
   "cell_type": "code",
   "execution_count": 95,
   "metadata": {},
   "outputs": [
    {
     "data": {
      "text/plain": [
       "array([0.66800937, 0.67093953, 0.67133982, 0.67160396, 0.67278057,\n",
       "       0.67157076, 0.6749253 ])"
      ]
     },
     "execution_count": 95,
     "metadata": {},
     "output_type": "execute_result"
    }
   ],
   "source": [
    "scores"
   ]
  },
  {
   "cell_type": "code",
   "execution_count": 96,
   "metadata": {},
   "outputs": [
    {
     "data": {
      "text/plain": [
       "(0.001, 6000)"
      ]
     },
     "execution_count": 96,
     "metadata": {},
     "output_type": "execute_result"
    }
   ],
   "source": [
    "# MODEL 7\n",
    "learning_rate /= 2\n",
    "n_estimators *= 2\n",
    "learning_rate, n_estimators"
   ]
  },
  {
   "cell_type": "code",
   "execution_count": 97,
   "metadata": {},
   "outputs": [
    {
     "data": {
      "image/png": "[encoded data removed]",
      "text/plain": [
       "<Figure size 432x288 with 1 Axes>"
      ]
     },
     "metadata": {
      "needs_background": "light"
     },
     "output_type": "display_data"
    }
   ],
   "source": [
    "gbc, score = optimize2(n_estimators = n_estimators,\n",
    "                       learning_rate = learning_rate,\n",
    "                       min_samples_split = min_samples_split,\n",
    "                       min_samples_leaf = min_samples_leaf,\n",
    "                       max_depth = max_depth,\n",
    "                       max_features = max_features,\n",
    "                       subsample = subsample)"
   ]
  },
  {
   "cell_type": "code",
   "execution_count": 98,
   "metadata": {},
   "outputs": [],
   "source": [
    "# Updating the variables with the results\n",
    "models = np.append(models, gbc)\n",
    "scores = np.append(scores, score)"
   ]
  },
  {
   "cell_type": "code",
   "execution_count": 99,
   "metadata": {},
   "outputs": [
    {
     "data": {
      "text/plain": [
       "array([0.66800937, 0.67093953, 0.67133982, 0.67160396, 0.67278057,\n",
       "       0.67157076, 0.6749253 , 0.67482658])"
      ]
     },
     "execution_count": 99,
     "metadata": {},
     "output_type": "execute_result"
    }
   ],
   "source": [
    "scores"
   ]
  },
  {
   "cell_type": "code",
   "execution_count": 100,
   "metadata": {},
   "outputs": [
    {
     "data": {
      "text/plain": [
       "(0.0002, 30000)"
      ]
     },
     "execution_count": 100,
     "metadata": {},
     "output_type": "execute_result"
    }
   ],
   "source": [
    "# MODEL 8\n",
    "learning_rate /= 5\n",
    "n_estimators *= 5\n",
    "learning_rate, n_estimators"
   ]
  },
  {
   "cell_type": "code",
   "execution_count": 101,
   "metadata": {},
   "outputs": [
    {
     "data": {
      "image/png": "[encoded data removed]",
      "text/plain": [
       "<Figure size 432x288 with 1 Axes>"
      ]
     },
     "metadata": {
      "needs_background": "light"
     },
     "output_type": "display_data"
    }
   ],
   "source": [
    "gbc, score = optimize2(n_estimators = n_estimators,\n",
    "                       learning_rate = learning_rate,\n",
    "                       min_samples_split = min_samples_split,\n",
    "                       min_samples_leaf = min_samples_leaf,\n",
    "                       max_depth = max_depth,\n",
    "                       max_features = max_features,\n",
    "                       subsample = subsample)"
   ]
  },
  {
   "cell_type": "code",
   "execution_count": 102,
   "metadata": {},
   "outputs": [],
   "source": [
    "# Updating the variables with the results\n",
    "models = np.append(models, gbc)\n",
    "scores = np.append(scores, score)"
   ]
  },
  {
   "cell_type": "code",
   "execution_count": 103,
   "metadata": {},
   "outputs": [
    {
     "data": {
      "text/plain": [
       "array([0.66800937, 0.67093953, 0.67133982, 0.67160396, 0.67278057,\n",
       "       0.67157076, 0.6749253 , 0.67482658, 0.67493242])"
      ]
     },
     "execution_count": 103,
     "metadata": {},
     "output_type": "execute_result"
    }
   ],
   "source": [
    "scores"
   ]
  },
  {
   "cell_type": "code",
   "execution_count": 104,
   "metadata": {},
   "outputs": [
    {
     "name": "stdout",
     "output_type": "stream",
     "text": [
      "Modelo de melhor desempenho:  8  - AUC:  0.6749324183632107\n"
     ]
    }
   ],
   "source": [
    "'''\n",
    "Here we are printing the model that showed the best score. This model has the best parameters to use in the \n",
    "predictive algorithm\n",
    "'''\n",
    "print('Modelo de melhor desempenho: ', scores.argmax(), ' - AUC: ', max(scores))"
   ]
  },
  {
   "cell_type": "code",
   "execution_count": 105,
   "metadata": {},
   "outputs": [],
   "source": [
    "'''\n",
    "The variable 'best_model' is receiving the best parameters to the algorithm. That way, we can fit the train datasets\n",
    "later.\n",
    "'''\n",
    "\n",
    "best_model = models[scores.argmax()]"
   ]
  },
  {
   "cell_type": "code",
   "execution_count": 106,
   "metadata": {},
   "outputs": [
    {
     "ename": "KeyboardInterrupt",
     "evalue": "",
     "output_type": "error",
     "traceback": [
      "\u001b[1;31m---------------------------------------------------------------------------\u001b[0m",
      "\u001b[1;31mKeyboardInterrupt\u001b[0m                         Traceback (most recent call last)",
      "\u001b[1;32m<ipython-input-106-180deabc21e6>\u001b[0m in \u001b[0;36m<module>\u001b[1;34m\u001b[0m\n\u001b[1;32m----> 1\u001b[1;33m \u001b[0mbest_model\u001b[0m\u001b[1;33m.\u001b[0m\u001b[0mfit\u001b[0m\u001b[1;33m(\u001b[0m\u001b[0mX_train\u001b[0m\u001b[1;33m,\u001b[0m \u001b[0my_train\u001b[0m\u001b[1;33m)\u001b[0m\u001b[1;33m\u001b[0m\u001b[1;33m\u001b[0m\u001b[0m\n\u001b[0m",
      "\u001b[1;32m~\\Anaconda3\\lib\\site-packages\\sklearn\\ensemble\\gradient_boosting.py\u001b[0m in \u001b[0;36mfit\u001b[1;34m(self, X, y, sample_weight, monitor)\u001b[0m\n\u001b[0;32m   1544\u001b[0m         n_stages = self._fit_stages(\n\u001b[0;32m   1545\u001b[0m             \u001b[0mX\u001b[0m\u001b[1;33m,\u001b[0m \u001b[0my\u001b[0m\u001b[1;33m,\u001b[0m \u001b[0mraw_predictions\u001b[0m\u001b[1;33m,\u001b[0m \u001b[0msample_weight\u001b[0m\u001b[1;33m,\u001b[0m \u001b[0mself\u001b[0m\u001b[1;33m.\u001b[0m\u001b[0m_rng\u001b[0m\u001b[1;33m,\u001b[0m \u001b[0mX_val\u001b[0m\u001b[1;33m,\u001b[0m \u001b[0my_val\u001b[0m\u001b[1;33m,\u001b[0m\u001b[1;33m\u001b[0m\u001b[1;33m\u001b[0m\u001b[0m\n\u001b[1;32m-> 1546\u001b[1;33m             sample_weight_val, begin_at_stage, monitor, X_idx_sorted)\n\u001b[0m\u001b[0;32m   1547\u001b[0m \u001b[1;33m\u001b[0m\u001b[0m\n\u001b[0;32m   1548\u001b[0m         \u001b[1;31m# change shape of arrays after fit (early-stopping or additional ests)\u001b[0m\u001b[1;33m\u001b[0m\u001b[1;33m\u001b[0m\u001b[1;33m\u001b[0m\u001b[0m\n",
      "\u001b[1;32m~\\Anaconda3\\lib\\site-packages\\sklearn\\ensemble\\gradient_boosting.py\u001b[0m in \u001b[0;36m_fit_stages\u001b[1;34m(self, X, y, raw_predictions, sample_weight, random_state, X_val, y_val, sample_weight_val, begin_at_stage, monitor, X_idx_sorted)\u001b[0m\n\u001b[0;32m   1608\u001b[0m             raw_predictions = self._fit_stage(\n\u001b[0;32m   1609\u001b[0m                 \u001b[0mi\u001b[0m\u001b[1;33m,\u001b[0m \u001b[0mX\u001b[0m\u001b[1;33m,\u001b[0m \u001b[0my\u001b[0m\u001b[1;33m,\u001b[0m \u001b[0mraw_predictions\u001b[0m\u001b[1;33m,\u001b[0m \u001b[0msample_weight\u001b[0m\u001b[1;33m,\u001b[0m \u001b[0msample_mask\u001b[0m\u001b[1;33m,\u001b[0m\u001b[1;33m\u001b[0m\u001b[1;33m\u001b[0m\u001b[0m\n\u001b[1;32m-> 1610\u001b[1;33m                 random_state, X_idx_sorted, X_csc, X_csr)\n\u001b[0m\u001b[0;32m   1611\u001b[0m \u001b[1;33m\u001b[0m\u001b[0m\n\u001b[0;32m   1612\u001b[0m             \u001b[1;31m# track deviance (= loss)\u001b[0m\u001b[1;33m\u001b[0m\u001b[1;33m\u001b[0m\u001b[1;33m\u001b[0m\u001b[0m\n",
      "\u001b[1;32m~\\Anaconda3\\lib\\site-packages\\sklearn\\ensemble\\gradient_boosting.py\u001b[0m in \u001b[0;36m_fit_stage\u001b[1;34m(self, i, X, y, raw_predictions, sample_weight, sample_mask, random_state, X_idx_sorted, X_csc, X_csr)\u001b[0m\n\u001b[0;32m   1242\u001b[0m             \u001b[0mX\u001b[0m \u001b[1;33m=\u001b[0m \u001b[0mX_csr\u001b[0m \u001b[1;32mif\u001b[0m \u001b[0mX_csr\u001b[0m \u001b[1;32mis\u001b[0m \u001b[1;32mnot\u001b[0m \u001b[1;32mNone\u001b[0m \u001b[1;32melse\u001b[0m \u001b[0mX\u001b[0m\u001b[1;33m\u001b[0m\u001b[1;33m\u001b[0m\u001b[0m\n\u001b[0;32m   1243\u001b[0m             tree.fit(X, residual, sample_weight=sample_weight,\n\u001b[1;32m-> 1244\u001b[1;33m                      check_input=False, X_idx_sorted=X_idx_sorted)\n\u001b[0m\u001b[0;32m   1245\u001b[0m \u001b[1;33m\u001b[0m\u001b[0m\n\u001b[0;32m   1246\u001b[0m             \u001b[1;31m# update tree leaves\u001b[0m\u001b[1;33m\u001b[0m\u001b[1;33m\u001b[0m\u001b[1;33m\u001b[0m\u001b[0m\n",
      "\u001b[1;32m~\\Anaconda3\\lib\\site-packages\\sklearn\\tree\\tree.py\u001b[0m in \u001b[0;36mfit\u001b[1;34m(self, X, y, sample_weight, check_input, X_idx_sorted)\u001b[0m\n\u001b[0;32m   1155\u001b[0m             \u001b[0msample_weight\u001b[0m\u001b[1;33m=\u001b[0m\u001b[0msample_weight\u001b[0m\u001b[1;33m,\u001b[0m\u001b[1;33m\u001b[0m\u001b[1;33m\u001b[0m\u001b[0m\n\u001b[0;32m   1156\u001b[0m             \u001b[0mcheck_input\u001b[0m\u001b[1;33m=\u001b[0m\u001b[0mcheck_input\u001b[0m\u001b[1;33m,\u001b[0m\u001b[1;33m\u001b[0m\u001b[1;33m\u001b[0m\u001b[0m\n\u001b[1;32m-> 1157\u001b[1;33m             X_idx_sorted=X_idx_sorted)\n\u001b[0m\u001b[0;32m   1158\u001b[0m         \u001b[1;32mreturn\u001b[0m \u001b[0mself\u001b[0m\u001b[1;33m\u001b[0m\u001b[1;33m\u001b[0m\u001b[0m\n\u001b[0;32m   1159\u001b[0m \u001b[1;33m\u001b[0m\u001b[0m\n",
      "\u001b[1;32m~\\Anaconda3\\lib\\site-packages\\sklearn\\tree\\tree.py\u001b[0m in \u001b[0;36mfit\u001b[1;34m(self, X, y, sample_weight, check_input, X_idx_sorted)\u001b[0m\n\u001b[0;32m    378\u001b[0m                                            min_impurity_split)\n\u001b[0;32m    379\u001b[0m \u001b[1;33m\u001b[0m\u001b[0m\n\u001b[1;32m--> 380\u001b[1;33m         \u001b[0mbuilder\u001b[0m\u001b[1;33m.\u001b[0m\u001b[0mbuild\u001b[0m\u001b[1;33m(\u001b[0m\u001b[0mself\u001b[0m\u001b[1;33m.\u001b[0m\u001b[0mtree_\u001b[0m\u001b[1;33m,\u001b[0m \u001b[0mX\u001b[0m\u001b[1;33m,\u001b[0m \u001b[0my\u001b[0m\u001b[1;33m,\u001b[0m \u001b[0msample_weight\u001b[0m\u001b[1;33m,\u001b[0m \u001b[0mX_idx_sorted\u001b[0m\u001b[1;33m)\u001b[0m\u001b[1;33m\u001b[0m\u001b[1;33m\u001b[0m\u001b[0m\n\u001b[0m\u001b[0;32m    381\u001b[0m \u001b[1;33m\u001b[0m\u001b[0m\n\u001b[0;32m    382\u001b[0m         \u001b[1;32mif\u001b[0m \u001b[0mself\u001b[0m\u001b[1;33m.\u001b[0m\u001b[0mn_outputs_\u001b[0m \u001b[1;33m==\u001b[0m \u001b[1;36m1\u001b[0m\u001b[1;33m:\u001b[0m\u001b[1;33m\u001b[0m\u001b[1;33m\u001b[0m\u001b[0m\n",
      "\u001b[1;31mKeyboardInterrupt\u001b[0m: "
     ]
    }
   ],
   "source": [
    "best_model.fit(X_train, y_train)"
   ]
  },
  {
   "cell_type": "code",
   "execution_count": null,
   "metadata": {},
   "outputs": [],
   "source": [
    "'''\n",
    "The variable 'y_pred_probs' is receiving a vector with two columns, containing the probabilities for the \n",
    "two classes: -1 (not churn) and 1 (churn).\n",
    "'''\n",
    "y_pred_probs = best_model.predict_proba(X_test)"
   ]
  },
  {
   "cell_type": "code",
   "execution_count": null,
   "metadata": {},
   "outputs": [],
   "source": [
    "y_pred_probs"
   ]
  },
  {
   "cell_type": "code",
   "execution_count": null,
   "metadata": {},
   "outputs": [],
   "source": [
    "'''\n",
    "We want the probabilities of churning. So we are going to get all the rows and the second column that contain the \n",
    "probabilities to churn.\n",
    "'''\n",
    "y_pred_probs[:, 1]"
   ]
  },
  {
   "cell_type": "code",
   "execution_count": null,
   "metadata": {},
   "outputs": [],
   "source": [
    "'''\n",
    "Here we are testing those probabilities in the test dataset, using the ROC metric. \n",
    "'''\n",
    "roc_auc_score(y_test, y_pred_probs[:, 1])"
   ]
  },
  {
   "cell_type": "code",
   "execution_count": null,
   "metadata": {},
   "outputs": [],
   "source": []
  },
  {
   "cell_type": "code",
   "execution_count": null,
   "metadata": {},
   "outputs": [],
   "source": []
  }
 ],
 "metadata": {
  "kernelspec": {
   "display_name": "Python 3",
   "language": "python",
   "name": "python3"
  },
  "language_info": {
   "codemirror_mode": {
    "name": "ipython",
    "version": 3
   },
   "file_extension": ".py",
   "mimetype": "text/x-python",
   "name": "python",
   "nbconvert_exporter": "python",
   "pygments_lexer": "ipython3",
   "version": "3.7.4"
  }
 },
 "nbformat": 4,
 "nbformat_minor": 2
}
