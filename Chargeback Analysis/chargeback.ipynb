{
 "cells": [
  {
   "cell_type": "markdown",
   "metadata": {},
   "source": [
    "<h1>Análise de Chargebacks em compras futuras:</h1>\n",
    "<p>    O ambiente de e-commerce costuma receber vários casos de Chargebacks, que é o nome dado para uma compra que é feita utilizando-se do cartão de crédito que depois é cancelado por algum problema na transação.</p>\n",
    "\n",
    "<p>    Esse projeto é uma case cujo o objetivo é, dado algumas informações sobre uma compra com cartão de crédito, prever se a compra sofrerá um chargeback ou não.</p> \n",
    "\n",
    "<p>    Para esse projeto foi disponibilizado uma planilha de vendas com cartões de crédito contendo duas abas: Na aba 1 continha informações do dia da compra, a hora da compra, o cartão em que a compra foi feita e se existia chargeback ou não. Na aba 2 continham as mesmas informações, menos a informação dos chargebacks. </p>\n",
    "\n",
    "<p><h3>Objetivo:</h3></p>\n",
    "<p>O objetivo é muito simples. Através da análide dados dos chargebacks da aba 1, utilizarei técnicas de Machine Learning para gerar um modelo que seja capaz de prever quais compras da aba 2 sofrerão ( considerando que a aba 2 trate de dados futuros) charback ou não. Entretanto, para realizar essa tarefa alguns passos devem ser dados antes.</p>\n",
    "\n",
    "<p><h3>Coleta dos dados:</h3></p>\n",
    "<p>Como dito anteriormente, o material para análise veio em uma planilha com duas abas. Para melhor trabalhar com esse material, foi decidido separar o mesmo em duas planilhas diferentes. Uma planilha é o dataset de treino que será usada para calcular a probabilidade de um chargeback ocorrer. A outra planilha é o dataset de teste, que será usada para testar o modelo criado na planilha de testes para previsão de chargebacks.</p>\n",
    "\n",
    "<p>O motivo pelo qual essa divisão foi feita é porque esse é o método padrão de submissão de tarefas do Kagle: um dataset de treino e outro de teste separados. As informações das duas planilhas não foram alteradas. Apenas a divisão fora feita. </p>\n",
    "\n",
    "<p>Importante frisar que o dataset original com as duas abas foi salvo. Foram criadas outras duas planilhas com as informações separadas que são cópias do arquivo original.</p>\n",
    "\n",
    "<p><h3>Limpeza dos dados:</h3></p>\n",
    "<p>\n",
    "    A limpeza dos dados foi feita simultaneamente nos dois datasets. Entretanto, o dataset de treino apresentou maiores problemas que precisaram ser sanados. A maneira como a limpeza de dados foi feita é explicitado ao longo do arquivo.\n",
    "</p>\n",
    "<p><h3>Análise exploratória dos dados:</h3></p>\n",
    "<p>Aqui foram feitas inúmeras observações a respeito dos dados. Sua cardinalidade, dados faltantes, dados cujos tipos estavam errados. Todos esses problemas e como eles foram solucionados, foi mostrado ao longo do projeto.</p>\n",
    "\n",
    "<p><h3>Visualização dos dados:</h3></p>\n",
    "<p>Após a análise exploratória dos dados, algumas informações podem ser visualizadas. Isso permite criar inferências e realizar observações de maneira mais explícita.</p>\n",
    "\n",
    "<p><h3>Formatação dos dados:</h3></p>\n",
    "<p>\n",
    "    Cada vez que os dados estavam formatados de maneira que dificultasse a análise e visualização dos dados, um novo dataframe era criado com a formatação necessária.\n",
    "</p>\n",
    "\n",
    "<p><h3>Escolha dos algoritmos:</h3></p>\n",
    "<p>\n",
    "    4 algoritmos foram testados com o objetivo de se escolher o melhor deles para a criação do modelo preditivo. A maneira como isso foi feito, é explicado durante o projeto.\n",
    "</p>\n",
    "\n",
    "<p><h3>Otimização e criação do modelo preditivo:</h3></p>\n",
    "<p>\n",
    "    Após realizar os testes com vários algoritmos, é hora de otimizá-los para só então escolher o algoritmo que apresente a melhor performance em relação a sua acurácia na hora de prever um chargeback. Isso é explicitado ao longo do projeto.\n",
    "</p>\n",
    "\n",
    "\n"
   ]
  },
  {
   "cell_type": "markdown",
   "metadata": {},
   "source": [
    "<h3>Carregando as bibliotecas necessárias:<h3>"
   ]
  },
  {
   "cell_type": "code",
   "execution_count": 2,
   "metadata": {},
   "outputs": [],
   "source": [
    "#Importando todas as bibliotecas necessárias\n",
    "import pandas as pd\n",
    "import numpy as np \n",
    "\n",
    "#Para impedir as mensagens de Warning\n",
    "import warnings\n",
    "warnings.filterwarnings('ignore')\n",
    "\n",
    "#Para plotagem de gráficos\n",
    "import matplotlib.pyplot as plt \n",
    "import seaborn as sns\n",
    "%matplotlib inline\n",
    "\n",
    "#Importando alguns modelos preditivos\n",
    "from sklearn.tree import DecisionTreeClassifier\n",
    "from sklearn.ensemble import RandomForestClassifier\n",
    "from sklearn.neighbors import KNeighborsClassifier\n",
    "from sklearn.naive_bayes import GaussianNB\n",
    "from sklearn.model_selection import KFold\n"
   ]
  },
  {
   "cell_type": "markdown",
   "metadata": {},
   "source": [
    "<h3>Carregando os datasets:</h3>"
   ]
  },
  {
   "cell_type": "code",
   "execution_count": 3,
   "metadata": {},
   "outputs": [],
   "source": [
    "#Carregando os datasets. Eles foram separados entre treio e teste para o desafio\n",
    "#Os datasets encontram-se na mesma pasta\n",
    "train = pd.read_excel('stone_train.xlsx')\n",
    "test = pd.read_excel('stone_test.xlsx')\n",
    "\n",
    "#Função necessária para mostrar todas as linhas e colunas do dataset sem truncá-las\n",
    "pd.set_option('display.max_columns', None)\n",
    "pd.set_option('display.max_rows', None)"
   ]
  },
  {
   "cell_type": "code",
   "execution_count": 4,
   "metadata": {},
   "outputs": [
    {
     "data": {
      "text/html": [
       "<div>\n",
       "<style scoped>\n",
       "    .dataframe tbody tr th:only-of-type {\n",
       "        vertical-align: middle;\n",
       "    }\n",
       "\n",
       "    .dataframe tbody tr th {\n",
       "        vertical-align: top;\n",
       "    }\n",
       "\n",
       "    .dataframe thead th {\n",
       "        text-align: right;\n",
       "    }\n",
       "</style>\n",
       "<table border=\"1\" class=\"dataframe\">\n",
       "  <thead>\n",
       "    <tr style=\"text-align: right;\">\n",
       "      <th></th>\n",
       "      <th>Dia</th>\n",
       "      <th>Hora</th>\n",
       "      <th>Valor</th>\n",
       "      <th>Cartão</th>\n",
       "      <th>CBK</th>\n",
       "    </tr>\n",
       "  </thead>\n",
       "  <tbody>\n",
       "    <tr>\n",
       "      <th>0</th>\n",
       "      <td>2015-05-01</td>\n",
       "      <td>00:01:54</td>\n",
       "      <td>36.54</td>\n",
       "      <td>536518******2108</td>\n",
       "      <td>Não</td>\n",
       "    </tr>\n",
       "    <tr>\n",
       "      <th>1</th>\n",
       "      <td>2015-05-01</td>\n",
       "      <td>00:03:46</td>\n",
       "      <td>36.54</td>\n",
       "      <td>536518******2108</td>\n",
       "      <td>Não</td>\n",
       "    </tr>\n",
       "    <tr>\n",
       "      <th>2</th>\n",
       "      <td>2015-05-01</td>\n",
       "      <td>00:08:50</td>\n",
       "      <td>69</td>\n",
       "      <td>453211******1239</td>\n",
       "      <td>Não</td>\n",
       "    </tr>\n",
       "    <tr>\n",
       "      <th>3</th>\n",
       "      <td>2015-05-01</td>\n",
       "      <td>00:27:00</td>\n",
       "      <td>193.43</td>\n",
       "      <td>548827******1705</td>\n",
       "      <td>Não</td>\n",
       "    </tr>\n",
       "    <tr>\n",
       "      <th>4</th>\n",
       "      <td>2015-05-01</td>\n",
       "      <td>01:32:46</td>\n",
       "      <td>132</td>\n",
       "      <td>531681******9778</td>\n",
       "      <td>Não</td>\n",
       "    </tr>\n",
       "  </tbody>\n",
       "</table>\n",
       "</div>"
      ],
      "text/plain": [
       "         Dia      Hora   Valor            Cartão  CBK\n",
       "0 2015-05-01  00:01:54   36.54  536518******2108  Não\n",
       "1 2015-05-01  00:03:46   36.54  536518******2108  Não\n",
       "2 2015-05-01  00:08:50      69  453211******1239  Não\n",
       "3 2015-05-01  00:27:00  193.43  548827******1705  Não\n",
       "4 2015-05-01  01:32:46     132  531681******9778  Não"
      ]
     },
     "execution_count": 4,
     "metadata": {},
     "output_type": "execute_result"
    }
   ],
   "source": [
    "'''\n",
    "Analisando as 5 primeiras linhas do dataset de treino.\n",
    "'''\n",
    "\n",
    "train.head()"
   ]
  },
  {
   "cell_type": "code",
   "execution_count": 5,
   "metadata": {},
   "outputs": [
    {
     "data": {
      "text/html": [
       "<div>\n",
       "<style scoped>\n",
       "    .dataframe tbody tr th:only-of-type {\n",
       "        vertical-align: middle;\n",
       "    }\n",
       "\n",
       "    .dataframe tbody tr th {\n",
       "        vertical-align: top;\n",
       "    }\n",
       "\n",
       "    .dataframe thead th {\n",
       "        text-align: right;\n",
       "    }\n",
       "</style>\n",
       "<table border=\"1\" class=\"dataframe\">\n",
       "  <thead>\n",
       "    <tr style=\"text-align: right;\">\n",
       "      <th></th>\n",
       "      <th>Dia</th>\n",
       "      <th>Hora</th>\n",
       "      <th>Valor</th>\n",
       "      <th>Cartão</th>\n",
       "      <th>CBK</th>\n",
       "    </tr>\n",
       "  </thead>\n",
       "  <tbody>\n",
       "    <tr>\n",
       "      <th>0</th>\n",
       "      <td>2015-06-01</td>\n",
       "      <td>00:02:25</td>\n",
       "      <td>112.00</td>\n",
       "      <td>541555******5965</td>\n",
       "      <td>NaN</td>\n",
       "    </tr>\n",
       "    <tr>\n",
       "      <th>1</th>\n",
       "      <td>2015-06-01</td>\n",
       "      <td>00:30:45</td>\n",
       "      <td>112.00</td>\n",
       "      <td>406669******7350</td>\n",
       "      <td>NaN</td>\n",
       "    </tr>\n",
       "    <tr>\n",
       "      <th>2</th>\n",
       "      <td>2015-06-01</td>\n",
       "      <td>00:43:20</td>\n",
       "      <td>18.34</td>\n",
       "      <td>541187******4535</td>\n",
       "      <td>NaN</td>\n",
       "    </tr>\n",
       "    <tr>\n",
       "      <th>3</th>\n",
       "      <td>2015-06-01</td>\n",
       "      <td>00:46:46</td>\n",
       "      <td>55.00</td>\n",
       "      <td>554927******5629</td>\n",
       "      <td>NaN</td>\n",
       "    </tr>\n",
       "    <tr>\n",
       "      <th>4</th>\n",
       "      <td>2015-06-01</td>\n",
       "      <td>00:47:50</td>\n",
       "      <td>50.00</td>\n",
       "      <td>498407******2077</td>\n",
       "      <td>NaN</td>\n",
       "    </tr>\n",
       "  </tbody>\n",
       "</table>\n",
       "</div>"
      ],
      "text/plain": [
       "         Dia      Hora   Valor            Cartão  CBK\n",
       "0 2015-06-01  00:02:25  112.00  541555******5965  NaN\n",
       "1 2015-06-01  00:30:45  112.00  406669******7350  NaN\n",
       "2 2015-06-01  00:43:20   18.34  541187******4535  NaN\n",
       "3 2015-06-01  00:46:46   55.00  554927******5629  NaN\n",
       "4 2015-06-01  00:47:50   50.00  498407******2077  NaN"
      ]
     },
     "execution_count": 5,
     "metadata": {},
     "output_type": "execute_result"
    }
   ],
   "source": [
    "'''\n",
    "Analisando as 5 primeiras linhas do dataset de teste.\n",
    "'''\n",
    "\n",
    "test.head()"
   ]
  },
  {
   "cell_type": "markdown",
   "metadata": {},
   "source": [
    "<p>\n",
    "Analisando os tipos das features presentes no dataset de treino. Alguns valores precisarão ser \n",
    "alterados\n",
    "</p>"
   ]
  },
  {
   "cell_type": "code",
   "execution_count": 6,
   "metadata": {},
   "outputs": [
    {
     "data": {
      "text/plain": [
       "Dia       datetime64[ns]\n",
       "Hora              object\n",
       "Valor             object\n",
       "Cartão            object\n",
       "CBK               object\n",
       "dtype: object"
      ]
     },
     "execution_count": 6,
     "metadata": {},
     "output_type": "execute_result"
    }
   ],
   "source": [
    "train.dtypes"
   ]
  },
  {
   "cell_type": "code",
   "execution_count": 7,
   "metadata": {},
   "outputs": [
    {
     "data": {
      "text/plain": [
       "Dia       datetime64[ns]\n",
       "Hora              object\n",
       "Valor            float64\n",
       "Cartão            object\n",
       "CBK              float64\n",
       "dtype: object"
      ]
     },
     "execution_count": 7,
     "metadata": {},
     "output_type": "execute_result"
    }
   ],
   "source": [
    "'''\n",
    "Analisando os tipos das features presentes no dataset de teste\n",
    "'''\n",
    "\n",
    "test.dtypes"
   ]
  },
  {
   "cell_type": "code",
   "execution_count": 8,
   "metadata": {},
   "outputs": [
    {
     "name": "stdout",
     "output_type": "stream",
     "text": [
      "Dimensões do DataFrame:\n",
      "Linhas:\t\t11128\n",
      "Colunas:\t5\n"
     ]
    }
   ],
   "source": [
    "'''\n",
    "Esse é o tamanho total do dataframe.\n",
    "'''\n",
    "print(\"Dimensões do DataFrame:\")\n",
    "print(\"Linhas:\\t\\t{}\".format(train.shape[0]))\n",
    "print(\"Colunas:\\t{}\".format(train.shape[1]))"
   ]
  },
  {
   "cell_type": "markdown",
   "metadata": {},
   "source": [
    "<h1>Limpeza dos dados:</h1>"
   ]
  },
  {
   "cell_type": "code",
   "execution_count": 9,
   "metadata": {},
   "outputs": [],
   "source": [
    "'''\n",
    "É aconselhável sempre retirar os pontos e acentos das features ou dos valores\n",
    "'''\n",
    "\n",
    "train.rename(columns = {'Cartão':'Cartao'}, inplace = True) \n",
    "test.rename(columns = {'Cartão':'Cartao'}, inplace = True) "
   ]
  },
  {
   "cell_type": "code",
   "execution_count": 10,
   "metadata": {},
   "outputs": [],
   "source": [
    "'''\n",
    "Atribuindo uma cópia dos datasets de treino e de teste à novas variáveis.\n",
    "'''\n",
    "\n",
    "s_train = train.copy()\n",
    "s_test = test.copy()"
   ]
  },
  {
   "cell_type": "markdown",
   "metadata": {},
   "source": [
    "<h3>Eliminando os dados nulos</h3>\n",
    "<p>Aqui pode ser verificado abaixo que temos cerca de 124 dados nulos. Isso ocorre em virtude da maneira que o dataframe está estruturado. Nas 124 linhas finais, as colunas de dia e hora estão misturadas. Ou seja, nessas 124 linhas finais, os valores estão em suas colunas erradas. Os valores da coluna \"Valor\" estão na coluna \"Hora\", da coluna \"Cartao\" estão na coluna \"Valor\" e da coluna \"CBK\" na coluna \"Cartao\". Isso significa que temos 124 valores nulos na coluna \"CBK\".</p>"
   ]
  },
  {
   "cell_type": "code",
   "execution_count": 11,
   "metadata": {},
   "outputs": [
    {
     "data": {
      "text/plain": [
       "Dia         0\n",
       "Hora        0\n",
       "Valor       0\n",
       "Cartao      0\n",
       "CBK       124\n",
       "dtype: int64"
      ]
     },
     "execution_count": 11,
     "metadata": {},
     "output_type": "execute_result"
    }
   ],
   "source": [
    "'''\n",
    "Verificando a quantidade de dados nulos em cada coluna\n",
    "'''\n",
    "s_train.isnull().sum()\n"
   ]
  },
  {
   "cell_type": "markdown",
   "metadata": {},
   "source": [
    "<h3>Eliminando valores nulos</h3>\n",
    "<p>A maneira escolhida para resolver o problema dos valores nulos foi deletar todas as linhas que possuem alguma coluna cujo valor seja nulo. Segundo as literaturas é recomendado a deletar no máximo 20% da informação. Entretanto, as 124 linhas deletadas representam uma perda ínfima de informação de pouco mais de 1%</p>"
   ]
  },
  {
   "cell_type": "code",
   "execution_count": 12,
   "metadata": {},
   "outputs": [
    {
     "data": {
      "text/plain": [
       "Dia       0\n",
       "Hora      0\n",
       "Valor     0\n",
       "Cartao    0\n",
       "CBK       0\n",
       "dtype: int64"
      ]
     },
     "execution_count": 12,
     "metadata": {},
     "output_type": "execute_result"
    }
   ],
   "source": [
    "s_train.dropna(inplace = True)\n",
    "s_train.isnull().sum()"
   ]
  },
  {
   "cell_type": "code",
   "execution_count": 13,
   "metadata": {
    "scrolled": true
   },
   "outputs": [
    {
     "data": {
      "text/plain": [
       "Dia           0\n",
       "Hora          0\n",
       "Valor         0\n",
       "Cartao        0\n",
       "CBK       11820\n",
       "dtype: int64"
      ]
     },
     "execution_count": 13,
     "metadata": {},
     "output_type": "execute_result"
    }
   ],
   "source": [
    "'''Verificando a quantidade de dados nulos em cada coluna. A quantidade de CBK está nula, já que será\n",
    "ela quem será preenchida com as previsões.\n",
    "'''\n",
    "\n",
    "s_test.isnull().sum()"
   ]
  },
  {
   "cell_type": "markdown",
   "metadata": {},
   "source": [
    "<h3>Criando funções de padronização</h3>\n",
    "<p>As colunas precisam ser numéricas. Pois os algoritmos preditivos permitem somente o uso de valores numéricos. Para realizar tal tarefa na coluna \"CBK\", que apresenta apenas dois valores possíveis (\"Sim\" e \"Não\")foi criado uma função simples que transforma \"Não\" e \"Sim\" em 0 e 1.</p>"
   ]
  },
  {
   "cell_type": "code",
   "execution_count": 14,
   "metadata": {},
   "outputs": [],
   "source": [
    "'''\n",
    "Função criada para padronizar o transformar a palavra que refere-se ao lado chargeback em \n",
    "valores números. Isso ocorre porque para a utilização de modelos de Machine Learning, \n",
    "só números serão aceitos.\n",
    "'''\n",
    "def padronizar_chargeback(cbk):\n",
    "    if cbk == \"Não\":\n",
    "        return 0\n",
    "    else:\n",
    "        return 1"
   ]
  },
  {
   "cell_type": "code",
   "execution_count": 15,
   "metadata": {},
   "outputs": [
    {
     "data": {
      "text/html": [
       "<div>\n",
       "<style scoped>\n",
       "    .dataframe tbody tr th:only-of-type {\n",
       "        vertical-align: middle;\n",
       "    }\n",
       "\n",
       "    .dataframe tbody tr th {\n",
       "        vertical-align: top;\n",
       "    }\n",
       "\n",
       "    .dataframe thead th {\n",
       "        text-align: right;\n",
       "    }\n",
       "</style>\n",
       "<table border=\"1\" class=\"dataframe\">\n",
       "  <thead>\n",
       "    <tr style=\"text-align: right;\">\n",
       "      <th></th>\n",
       "      <th>Dia</th>\n",
       "      <th>Hora</th>\n",
       "      <th>Valor</th>\n",
       "      <th>Cartao</th>\n",
       "      <th>CBK</th>\n",
       "    </tr>\n",
       "  </thead>\n",
       "  <tbody>\n",
       "    <tr>\n",
       "      <th>0</th>\n",
       "      <td>2015-05-01</td>\n",
       "      <td>00:01:54</td>\n",
       "      <td>36.54</td>\n",
       "      <td>536518******2108</td>\n",
       "      <td>0</td>\n",
       "    </tr>\n",
       "    <tr>\n",
       "      <th>1</th>\n",
       "      <td>2015-05-01</td>\n",
       "      <td>00:03:46</td>\n",
       "      <td>36.54</td>\n",
       "      <td>536518******2108</td>\n",
       "      <td>0</td>\n",
       "    </tr>\n",
       "    <tr>\n",
       "      <th>2</th>\n",
       "      <td>2015-05-01</td>\n",
       "      <td>00:08:50</td>\n",
       "      <td>69</td>\n",
       "      <td>453211******1239</td>\n",
       "      <td>0</td>\n",
       "    </tr>\n",
       "    <tr>\n",
       "      <th>3</th>\n",
       "      <td>2015-05-01</td>\n",
       "      <td>00:27:00</td>\n",
       "      <td>193.43</td>\n",
       "      <td>548827******1705</td>\n",
       "      <td>0</td>\n",
       "    </tr>\n",
       "    <tr>\n",
       "      <th>4</th>\n",
       "      <td>2015-05-01</td>\n",
       "      <td>01:32:46</td>\n",
       "      <td>132</td>\n",
       "      <td>531681******9778</td>\n",
       "      <td>0</td>\n",
       "    </tr>\n",
       "  </tbody>\n",
       "</table>\n",
       "</div>"
      ],
      "text/plain": [
       "         Dia      Hora   Valor            Cartao  CBK\n",
       "0 2015-05-01  00:01:54   36.54  536518******2108    0\n",
       "1 2015-05-01  00:03:46   36.54  536518******2108    0\n",
       "2 2015-05-01  00:08:50      69  453211******1239    0\n",
       "3 2015-05-01  00:27:00  193.43  548827******1705    0\n",
       "4 2015-05-01  01:32:46     132  531681******9778    0"
      ]
     },
     "execution_count": 15,
     "metadata": {},
     "output_type": "execute_result"
    }
   ],
   "source": [
    "'''\n",
    "Aplicando a função de padronização na coluna \"CBK\". Uma nova coluna será criada e já padronizada, chamada \"s_champion\"\n",
    "'''\n",
    "s_train[\"CBK\"] = s_train[\"CBK\"].map(padronizar_chargeback)\n",
    "s_train.head()"
   ]
  },
  {
   "cell_type": "markdown",
   "metadata": {},
   "source": [
    "<h3>Verificando os tipos das features:</h3>\n",
    "<p>As features não podem ser do tipo String (Object). Portanto, como visto abaixo, algumas colunas precisam ter os seus tipos alterados no dataset de treino.</p>"
   ]
  },
  {
   "cell_type": "code",
   "execution_count": 16,
   "metadata": {},
   "outputs": [
    {
     "data": {
      "text/plain": [
       "Dia       datetime64[ns]\n",
       "Hora              object\n",
       "Valor            float64\n",
       "Cartao            object\n",
       "CBK              float64\n",
       "dtype: object"
      ]
     },
     "execution_count": 16,
     "metadata": {},
     "output_type": "execute_result"
    }
   ],
   "source": [
    "s_test.dtypes"
   ]
  },
  {
   "cell_type": "code",
   "execution_count": 17,
   "metadata": {},
   "outputs": [
    {
     "data": {
      "text/plain": [
       "Dia       datetime64[ns]\n",
       "Hora              object\n",
       "Valor             object\n",
       "Cartao            object\n",
       "CBK                int64\n",
       "dtype: object"
      ]
     },
     "execution_count": 17,
     "metadata": {},
     "output_type": "execute_result"
    }
   ],
   "source": [
    "s_train.dtypes"
   ]
  },
  {
   "cell_type": "markdown",
   "metadata": {},
   "source": [
    "<h3>Mudando os tipos das features:</h3>\n",
    "<p>Aqui os tipos das colunas cujos valores sejam do tipo Object estão sendo alterados para os tipos adequados. Isso está sendo feito tanto no dataframe de treino quanto no dataframe de teste.</p>"
   ]
  },
  {
   "cell_type": "code",
   "execution_count": 18,
   "metadata": {},
   "outputs": [],
   "source": [
    "import datetime as dt\n",
    "s_train['Hora'] = pd.to_datetime(s_train['Hora'], format='%H:%M:%S' ).apply(pd.Timestamp)\n",
    "s_train['Valor'] = s_train['Valor'].astype(float)"
   ]
  },
  {
   "cell_type": "code",
   "execution_count": 19,
   "metadata": {},
   "outputs": [],
   "source": [
    "s_test['Hora'] = pd.to_datetime(s_train['Hora'], format='%H:%M:%S' ).apply(pd.Timestamp)\n",
    "s_test['Valor'] = s_test['Valor'].astype(float)"
   ]
  },
  {
   "cell_type": "code",
   "execution_count": 20,
   "metadata": {},
   "outputs": [
    {
     "data": {
      "text/plain": [
       "<class 'pandas._libs.tslibs.timestamps.Timestamp'>    11004\n",
       "Name: Hora, dtype: int64"
      ]
     },
     "execution_count": 20,
     "metadata": {},
     "output_type": "execute_result"
    }
   ],
   "source": [
    "s_train.Hora.apply(type).value_counts()"
   ]
  },
  {
   "cell_type": "markdown",
   "metadata": {},
   "source": [
    "<h1>Feature Engineering:</h1>\n"
   ]
  },
  {
   "cell_type": "markdown",
   "metadata": {},
   "source": [
    "<h3>Agrupamento por período do dia:</h3>\n",
    "<p>Abaixo foram extraídos as horas do dia e criados funções para dividir as 24 horas de um dia em 4 períodos: Madrugada, Manha, Tarde e Noite. O motivo disso é que para realizar uma análise mais generalista, queremos abranger os períodos do dia em que as compras são feitas ao invés de mensurar a quantidade de compras feitas por hora. O período em que uma pessoa realiza uma compra é mais importante do que a hora em si. Isso porque podemos ver notáveis diferenças de comportamento em relação aos chargebacks, como será visto mais adiante.</p>\n",
    "<p>Esse processo será feito tanto para o dataframe de treino como o de teste.</p>"
   ]
  },
  {
   "cell_type": "code",
   "execution_count": 21,
   "metadata": {},
   "outputs": [],
   "source": [
    "'''\n",
    "Essa linha extrai somente as horas da coluna \"Hora\" e atribui os valores a uma nova coluna\n",
    "chamada \"hora_do_dia\". \n",
    "'''\n",
    "\n",
    "s_train['hora_do_dia'] = s_train['Hora'].apply(lambda x: x.hour)\n"
   ]
  },
  {
   "cell_type": "code",
   "execution_count": 22,
   "metadata": {},
   "outputs": [],
   "source": [
    "'''\n",
    "Extraídas as horas do dia, podemos agora executar uma função em Python que divide as horas do dia\n",
    "em 4 períodos distintos.\n",
    "'''\n",
    "\n",
    "faixa_horario = []\n",
    "\n",
    "for i in s_train['hora_do_dia']:\n",
    "    if i >= 0 and i <= 6:\n",
    "        faixa_horario.append('Madrugada')\n",
    "    elif i >= 7 and i <= 12:\n",
    "        faixa_horario.append('Manha')\n",
    "    elif i >= 13 and i <= 18:\n",
    "        faixa_horario.append('Tarde')\n",
    "    else:\n",
    "        faixa_horario.append('Noite')\n",
    "        \n",
    "s_train['faixa_horario'] = faixa_horario"
   ]
  },
  {
   "cell_type": "code",
   "execution_count": 23,
   "metadata": {},
   "outputs": [
    {
     "data": {
      "text/html": [
       "<div>\n",
       "<style scoped>\n",
       "    .dataframe tbody tr th:only-of-type {\n",
       "        vertical-align: middle;\n",
       "    }\n",
       "\n",
       "    .dataframe tbody tr th {\n",
       "        vertical-align: top;\n",
       "    }\n",
       "\n",
       "    .dataframe thead th {\n",
       "        text-align: right;\n",
       "    }\n",
       "</style>\n",
       "<table border=\"1\" class=\"dataframe\">\n",
       "  <thead>\n",
       "    <tr style=\"text-align: right;\">\n",
       "      <th></th>\n",
       "      <th>Dia</th>\n",
       "      <th>Hora</th>\n",
       "      <th>Valor</th>\n",
       "      <th>Cartao</th>\n",
       "      <th>CBK</th>\n",
       "      <th>hora_do_dia</th>\n",
       "      <th>faixa_horario</th>\n",
       "    </tr>\n",
       "  </thead>\n",
       "  <tbody>\n",
       "    <tr>\n",
       "      <th>0</th>\n",
       "      <td>2015-05-01</td>\n",
       "      <td>1900-01-01 00:01:54</td>\n",
       "      <td>36.54</td>\n",
       "      <td>536518******2108</td>\n",
       "      <td>0</td>\n",
       "      <td>0</td>\n",
       "      <td>Madrugada</td>\n",
       "    </tr>\n",
       "    <tr>\n",
       "      <th>1</th>\n",
       "      <td>2015-05-01</td>\n",
       "      <td>1900-01-01 00:03:46</td>\n",
       "      <td>36.54</td>\n",
       "      <td>536518******2108</td>\n",
       "      <td>0</td>\n",
       "      <td>0</td>\n",
       "      <td>Madrugada</td>\n",
       "    </tr>\n",
       "    <tr>\n",
       "      <th>2</th>\n",
       "      <td>2015-05-01</td>\n",
       "      <td>1900-01-01 00:08:50</td>\n",
       "      <td>69.00</td>\n",
       "      <td>453211******1239</td>\n",
       "      <td>0</td>\n",
       "      <td>0</td>\n",
       "      <td>Madrugada</td>\n",
       "    </tr>\n",
       "    <tr>\n",
       "      <th>3</th>\n",
       "      <td>2015-05-01</td>\n",
       "      <td>1900-01-01 00:27:00</td>\n",
       "      <td>193.43</td>\n",
       "      <td>548827******1705</td>\n",
       "      <td>0</td>\n",
       "      <td>0</td>\n",
       "      <td>Madrugada</td>\n",
       "    </tr>\n",
       "    <tr>\n",
       "      <th>4</th>\n",
       "      <td>2015-05-01</td>\n",
       "      <td>1900-01-01 01:32:46</td>\n",
       "      <td>132.00</td>\n",
       "      <td>531681******9778</td>\n",
       "      <td>0</td>\n",
       "      <td>1</td>\n",
       "      <td>Madrugada</td>\n",
       "    </tr>\n",
       "  </tbody>\n",
       "</table>\n",
       "</div>"
      ],
      "text/plain": [
       "         Dia                Hora   Valor            Cartao  CBK  hora_do_dia  \\\n",
       "0 2015-05-01 1900-01-01 00:01:54   36.54  536518******2108    0            0   \n",
       "1 2015-05-01 1900-01-01 00:03:46   36.54  536518******2108    0            0   \n",
       "2 2015-05-01 1900-01-01 00:08:50   69.00  453211******1239    0            0   \n",
       "3 2015-05-01 1900-01-01 00:27:00  193.43  548827******1705    0            0   \n",
       "4 2015-05-01 1900-01-01 01:32:46  132.00  531681******9778    0            1   \n",
       "\n",
       "  faixa_horario  \n",
       "0     Madrugada  \n",
       "1     Madrugada  \n",
       "2     Madrugada  \n",
       "3     Madrugada  \n",
       "4     Madrugada  "
      ]
     },
     "execution_count": 23,
     "metadata": {},
     "output_type": "execute_result"
    }
   ],
   "source": [
    "s_train.head()"
   ]
  },
  {
   "cell_type": "markdown",
   "metadata": {},
   "source": [
    "<h5>Agrupando o dataframe de teste:</h5>"
   ]
  },
  {
   "cell_type": "code",
   "execution_count": 24,
   "metadata": {},
   "outputs": [],
   "source": [
    "s_test['hora_do_dia'] = s_test['Hora'].apply(lambda x: x.hour)\n"
   ]
  },
  {
   "cell_type": "code",
   "execution_count": 25,
   "metadata": {},
   "outputs": [],
   "source": [
    "faixa_horario = []\n",
    "\n",
    "for i in s_test['hora_do_dia']:\n",
    "    if i >= 0 and i <= 6:\n",
    "        faixa_horario.append('Madrugada')\n",
    "    elif i >= 7 and i <= 12:\n",
    "        faixa_horario.append('Manha')\n",
    "    elif i >= 13 and i <= 18:\n",
    "        faixa_horario.append('Tarde')\n",
    "    else:\n",
    "        faixa_horario.append('Noite')\n",
    "        \n",
    "s_test['faixa_horario'] = faixa_horario"
   ]
  },
  {
   "cell_type": "code",
   "execution_count": 26,
   "metadata": {},
   "outputs": [
    {
     "data": {
      "text/html": [
       "<div>\n",
       "<style scoped>\n",
       "    .dataframe tbody tr th:only-of-type {\n",
       "        vertical-align: middle;\n",
       "    }\n",
       "\n",
       "    .dataframe tbody tr th {\n",
       "        vertical-align: top;\n",
       "    }\n",
       "\n",
       "    .dataframe thead th {\n",
       "        text-align: right;\n",
       "    }\n",
       "</style>\n",
       "<table border=\"1\" class=\"dataframe\">\n",
       "  <thead>\n",
       "    <tr style=\"text-align: right;\">\n",
       "      <th></th>\n",
       "      <th>Dia</th>\n",
       "      <th>Hora</th>\n",
       "      <th>Valor</th>\n",
       "      <th>Cartao</th>\n",
       "      <th>CBK</th>\n",
       "      <th>hora_do_dia</th>\n",
       "      <th>faixa_horario</th>\n",
       "    </tr>\n",
       "  </thead>\n",
       "  <tbody>\n",
       "    <tr>\n",
       "      <th>0</th>\n",
       "      <td>2015-06-01</td>\n",
       "      <td>1900-01-01 00:01:54</td>\n",
       "      <td>112.00</td>\n",
       "      <td>541555******5965</td>\n",
       "      <td>NaN</td>\n",
       "      <td>0.0</td>\n",
       "      <td>Madrugada</td>\n",
       "    </tr>\n",
       "    <tr>\n",
       "      <th>1</th>\n",
       "      <td>2015-06-01</td>\n",
       "      <td>1900-01-01 00:03:46</td>\n",
       "      <td>112.00</td>\n",
       "      <td>406669******7350</td>\n",
       "      <td>NaN</td>\n",
       "      <td>0.0</td>\n",
       "      <td>Madrugada</td>\n",
       "    </tr>\n",
       "    <tr>\n",
       "      <th>2</th>\n",
       "      <td>2015-06-01</td>\n",
       "      <td>1900-01-01 00:08:50</td>\n",
       "      <td>18.34</td>\n",
       "      <td>541187******4535</td>\n",
       "      <td>NaN</td>\n",
       "      <td>0.0</td>\n",
       "      <td>Madrugada</td>\n",
       "    </tr>\n",
       "    <tr>\n",
       "      <th>3</th>\n",
       "      <td>2015-06-01</td>\n",
       "      <td>1900-01-01 00:27:00</td>\n",
       "      <td>55.00</td>\n",
       "      <td>554927******5629</td>\n",
       "      <td>NaN</td>\n",
       "      <td>0.0</td>\n",
       "      <td>Madrugada</td>\n",
       "    </tr>\n",
       "    <tr>\n",
       "      <th>4</th>\n",
       "      <td>2015-06-01</td>\n",
       "      <td>1900-01-01 01:32:46</td>\n",
       "      <td>50.00</td>\n",
       "      <td>498407******2077</td>\n",
       "      <td>NaN</td>\n",
       "      <td>1.0</td>\n",
       "      <td>Madrugada</td>\n",
       "    </tr>\n",
       "  </tbody>\n",
       "</table>\n",
       "</div>"
      ],
      "text/plain": [
       "         Dia                Hora   Valor            Cartao  CBK  hora_do_dia  \\\n",
       "0 2015-06-01 1900-01-01 00:01:54  112.00  541555******5965  NaN          0.0   \n",
       "1 2015-06-01 1900-01-01 00:03:46  112.00  406669******7350  NaN          0.0   \n",
       "2 2015-06-01 1900-01-01 00:08:50   18.34  541187******4535  NaN          0.0   \n",
       "3 2015-06-01 1900-01-01 00:27:00   55.00  554927******5629  NaN          0.0   \n",
       "4 2015-06-01 1900-01-01 01:32:46   50.00  498407******2077  NaN          1.0   \n",
       "\n",
       "  faixa_horario  \n",
       "0     Madrugada  \n",
       "1     Madrugada  \n",
       "2     Madrugada  \n",
       "3     Madrugada  \n",
       "4     Madrugada  "
      ]
     },
     "execution_count": 26,
     "metadata": {},
     "output_type": "execute_result"
    }
   ],
   "source": [
    "s_test.head()"
   ]
  },
  {
   "cell_type": "markdown",
   "metadata": {},
   "source": [
    "<h3>Agrupando por cartões:</h3>\n",
    "<p>Abaixo será feito o agrupando por cartões. Na coluna \"Cartao\", temos a informação dos cartões semi-criptogradas. Mas queremos apenas as informações dos 4 últimos dígitos dos cartões. Porque geralmente os cartões possuem um padrão de 4 últimos digítos que são padrões dependendo da operadora. O objetivo é observar qual cartão teve a maior incidência de chargerback e classificá-lo a partir disso.</p>\n",
    "<p>Isso será feito tanto no dataframe de treino quanto no de teste.</p>"
   ]
  },
  {
   "cell_type": "code",
   "execution_count": 27,
   "metadata": {},
   "outputs": [],
   "source": [
    "'''\n",
    "Pegando os 4 últimos digítos do cartão na linha abaixo.\n",
    "'''\n",
    "\n",
    "s_train['Cartao'] = s_train['Cartao'].str[-4:]\n"
   ]
  },
  {
   "cell_type": "code",
   "execution_count": 28,
   "metadata": {},
   "outputs": [],
   "source": [
    "'''\n",
    "Mudando a feature Cartao para o tipo inteiro.\n",
    "'''\n",
    "s_train['Cartao'] = s_train['Cartao'].astype(int)\n"
   ]
  },
  {
   "cell_type": "code",
   "execution_count": 29,
   "metadata": {},
   "outputs": [
    {
     "data": {
      "text/plain": [
       "Dia              datetime64[ns]\n",
       "Hora             datetime64[ns]\n",
       "Valor                   float64\n",
       "Cartao                    int32\n",
       "CBK                       int64\n",
       "hora_do_dia               int64\n",
       "faixa_horario            object\n",
       "dtype: object"
      ]
     },
     "execution_count": 29,
     "metadata": {},
     "output_type": "execute_result"
    }
   ],
   "source": [
    "s_train.dtypes"
   ]
  },
  {
   "cell_type": "code",
   "execution_count": 30,
   "metadata": {},
   "outputs": [
    {
     "data": {
      "text/html": [
       "<div>\n",
       "<style scoped>\n",
       "    .dataframe tbody tr th:only-of-type {\n",
       "        vertical-align: middle;\n",
       "    }\n",
       "\n",
       "    .dataframe tbody tr th {\n",
       "        vertical-align: top;\n",
       "    }\n",
       "\n",
       "    .dataframe thead th {\n",
       "        text-align: right;\n",
       "    }\n",
       "</style>\n",
       "<table border=\"1\" class=\"dataframe\">\n",
       "  <thead>\n",
       "    <tr style=\"text-align: right;\">\n",
       "      <th></th>\n",
       "      <th>Dia</th>\n",
       "      <th>Hora</th>\n",
       "      <th>Valor</th>\n",
       "      <th>Cartao</th>\n",
       "      <th>CBK</th>\n",
       "      <th>hora_do_dia</th>\n",
       "      <th>faixa_horario</th>\n",
       "    </tr>\n",
       "  </thead>\n",
       "  <tbody>\n",
       "    <tr>\n",
       "      <th>0</th>\n",
       "      <td>2015-05-01</td>\n",
       "      <td>1900-01-01 00:01:54</td>\n",
       "      <td>36.54</td>\n",
       "      <td>2108</td>\n",
       "      <td>0</td>\n",
       "      <td>0</td>\n",
       "      <td>Madrugada</td>\n",
       "    </tr>\n",
       "    <tr>\n",
       "      <th>1</th>\n",
       "      <td>2015-05-01</td>\n",
       "      <td>1900-01-01 00:03:46</td>\n",
       "      <td>36.54</td>\n",
       "      <td>2108</td>\n",
       "      <td>0</td>\n",
       "      <td>0</td>\n",
       "      <td>Madrugada</td>\n",
       "    </tr>\n",
       "    <tr>\n",
       "      <th>2</th>\n",
       "      <td>2015-05-01</td>\n",
       "      <td>1900-01-01 00:08:50</td>\n",
       "      <td>69.00</td>\n",
       "      <td>1239</td>\n",
       "      <td>0</td>\n",
       "      <td>0</td>\n",
       "      <td>Madrugada</td>\n",
       "    </tr>\n",
       "    <tr>\n",
       "      <th>3</th>\n",
       "      <td>2015-05-01</td>\n",
       "      <td>1900-01-01 00:27:00</td>\n",
       "      <td>193.43</td>\n",
       "      <td>1705</td>\n",
       "      <td>0</td>\n",
       "      <td>0</td>\n",
       "      <td>Madrugada</td>\n",
       "    </tr>\n",
       "    <tr>\n",
       "      <th>4</th>\n",
       "      <td>2015-05-01</td>\n",
       "      <td>1900-01-01 01:32:46</td>\n",
       "      <td>132.00</td>\n",
       "      <td>9778</td>\n",
       "      <td>0</td>\n",
       "      <td>1</td>\n",
       "      <td>Madrugada</td>\n",
       "    </tr>\n",
       "  </tbody>\n",
       "</table>\n",
       "</div>"
      ],
      "text/plain": [
       "         Dia                Hora   Valor  Cartao  CBK  hora_do_dia  \\\n",
       "0 2015-05-01 1900-01-01 00:01:54   36.54    2108    0            0   \n",
       "1 2015-05-01 1900-01-01 00:03:46   36.54    2108    0            0   \n",
       "2 2015-05-01 1900-01-01 00:08:50   69.00    1239    0            0   \n",
       "3 2015-05-01 1900-01-01 00:27:00  193.43    1705    0            0   \n",
       "4 2015-05-01 1900-01-01 01:32:46  132.00    9778    0            1   \n",
       "\n",
       "  faixa_horario  \n",
       "0     Madrugada  \n",
       "1     Madrugada  \n",
       "2     Madrugada  \n",
       "3     Madrugada  \n",
       "4     Madrugada  "
      ]
     },
     "execution_count": 30,
     "metadata": {},
     "output_type": "execute_result"
    }
   ],
   "source": [
    "s_train.head()"
   ]
  },
  {
   "cell_type": "markdown",
   "metadata": {},
   "source": [
    "<h5>Agrupando o dataframe de teste:</h5>"
   ]
  },
  {
   "cell_type": "code",
   "execution_count": 31,
   "metadata": {},
   "outputs": [],
   "source": [
    "s_test['Cartao'] = s_test['Cartao'].str[-4:]\n"
   ]
  },
  {
   "cell_type": "code",
   "execution_count": 32,
   "metadata": {},
   "outputs": [],
   "source": [
    "s_test['Cartao'] = s_test['Cartao'].astype(int)"
   ]
  },
  {
   "cell_type": "code",
   "execution_count": 33,
   "metadata": {},
   "outputs": [
    {
     "data": {
      "text/plain": [
       "Dia              datetime64[ns]\n",
       "Hora             datetime64[ns]\n",
       "Valor                   float64\n",
       "Cartao                    int32\n",
       "CBK                     float64\n",
       "hora_do_dia             float64\n",
       "faixa_horario            object\n",
       "dtype: object"
      ]
     },
     "execution_count": 33,
     "metadata": {},
     "output_type": "execute_result"
    }
   ],
   "source": [
    "s_test.dtypes"
   ]
  },
  {
   "cell_type": "code",
   "execution_count": 34,
   "metadata": {},
   "outputs": [
    {
     "data": {
      "text/html": [
       "<div>\n",
       "<style scoped>\n",
       "    .dataframe tbody tr th:only-of-type {\n",
       "        vertical-align: middle;\n",
       "    }\n",
       "\n",
       "    .dataframe tbody tr th {\n",
       "        vertical-align: top;\n",
       "    }\n",
       "\n",
       "    .dataframe thead th {\n",
       "        text-align: right;\n",
       "    }\n",
       "</style>\n",
       "<table border=\"1\" class=\"dataframe\">\n",
       "  <thead>\n",
       "    <tr style=\"text-align: right;\">\n",
       "      <th></th>\n",
       "      <th>Dia</th>\n",
       "      <th>Hora</th>\n",
       "      <th>Valor</th>\n",
       "      <th>Cartao</th>\n",
       "      <th>CBK</th>\n",
       "      <th>hora_do_dia</th>\n",
       "      <th>faixa_horario</th>\n",
       "    </tr>\n",
       "  </thead>\n",
       "  <tbody>\n",
       "    <tr>\n",
       "      <th>0</th>\n",
       "      <td>2015-06-01</td>\n",
       "      <td>1900-01-01 00:01:54</td>\n",
       "      <td>112.00</td>\n",
       "      <td>5965</td>\n",
       "      <td>NaN</td>\n",
       "      <td>0.0</td>\n",
       "      <td>Madrugada</td>\n",
       "    </tr>\n",
       "    <tr>\n",
       "      <th>1</th>\n",
       "      <td>2015-06-01</td>\n",
       "      <td>1900-01-01 00:03:46</td>\n",
       "      <td>112.00</td>\n",
       "      <td>7350</td>\n",
       "      <td>NaN</td>\n",
       "      <td>0.0</td>\n",
       "      <td>Madrugada</td>\n",
       "    </tr>\n",
       "    <tr>\n",
       "      <th>2</th>\n",
       "      <td>2015-06-01</td>\n",
       "      <td>1900-01-01 00:08:50</td>\n",
       "      <td>18.34</td>\n",
       "      <td>4535</td>\n",
       "      <td>NaN</td>\n",
       "      <td>0.0</td>\n",
       "      <td>Madrugada</td>\n",
       "    </tr>\n",
       "    <tr>\n",
       "      <th>3</th>\n",
       "      <td>2015-06-01</td>\n",
       "      <td>1900-01-01 00:27:00</td>\n",
       "      <td>55.00</td>\n",
       "      <td>5629</td>\n",
       "      <td>NaN</td>\n",
       "      <td>0.0</td>\n",
       "      <td>Madrugada</td>\n",
       "    </tr>\n",
       "    <tr>\n",
       "      <th>4</th>\n",
       "      <td>2015-06-01</td>\n",
       "      <td>1900-01-01 01:32:46</td>\n",
       "      <td>50.00</td>\n",
       "      <td>2077</td>\n",
       "      <td>NaN</td>\n",
       "      <td>1.0</td>\n",
       "      <td>Madrugada</td>\n",
       "    </tr>\n",
       "  </tbody>\n",
       "</table>\n",
       "</div>"
      ],
      "text/plain": [
       "         Dia                Hora   Valor  Cartao  CBK  hora_do_dia  \\\n",
       "0 2015-06-01 1900-01-01 00:01:54  112.00    5965  NaN          0.0   \n",
       "1 2015-06-01 1900-01-01 00:03:46  112.00    7350  NaN          0.0   \n",
       "2 2015-06-01 1900-01-01 00:08:50   18.34    4535  NaN          0.0   \n",
       "3 2015-06-01 1900-01-01 00:27:00   55.00    5629  NaN          0.0   \n",
       "4 2015-06-01 1900-01-01 01:32:46   50.00    2077  NaN          1.0   \n",
       "\n",
       "  faixa_horario  \n",
       "0     Madrugada  \n",
       "1     Madrugada  \n",
       "2     Madrugada  \n",
       "3     Madrugada  \n",
       "4     Madrugada  "
      ]
     },
     "execution_count": 34,
     "metadata": {},
     "output_type": "execute_result"
    }
   ],
   "source": [
    "s_test.head()"
   ]
  },
  {
   "cell_type": "code",
   "execution_count": null,
   "metadata": {},
   "outputs": [],
   "source": []
  },
  {
   "cell_type": "markdown",
   "metadata": {},
   "source": [
    "<h1>Visualizando os resultados:</h1>\n",
    "<p>Aqui serão feitos várias observações dos dados que temos até agora. Algumas mudanças também serão feitas. O objetivo é extrair informações relevantes dos dados e visualizá-los.</p>"
   ]
  },
  {
   "cell_type": "code",
   "execution_count": 35,
   "metadata": {},
   "outputs": [
    {
     "data": {
      "text/plain": [
       "2015-05-11    841\n",
       "2015-05-29    732\n",
       "2015-05-15    659\n",
       "2015-05-28    611\n",
       "2015-05-12    581\n",
       "2015-05-06    552\n",
       "2015-05-14    527\n",
       "2015-05-08    512\n",
       "2015-05-07    505\n",
       "2015-05-13    489\n",
       "2015-05-22    367\n",
       "2015-05-25    352\n",
       "2015-05-21    347\n",
       "2015-05-20    345\n",
       "2015-05-19    326\n",
       "2015-05-05    318\n",
       "2015-05-09    311\n",
       "2015-05-16    282\n",
       "2015-05-04    263\n",
       "2015-05-30    261\n",
       "2015-05-26    253\n",
       "2015-05-27    242\n",
       "2015-05-23    229\n",
       "2015-05-18    221\n",
       "2015-05-24    178\n",
       "2015-05-10    174\n",
       "2015-05-01    170\n",
       "2015-05-03    127\n",
       "2015-05-17    123\n",
       "2015-05-02    106\n",
       "Name: Dia, dtype: int64"
      ]
     },
     "execution_count": 35,
     "metadata": {},
     "output_type": "execute_result"
    }
   ],
   "source": [
    "'''\n",
    "Aqui está sendo contado quantas operações com cartão ocorreu por dia. Não existe algum padrão\n",
    "visível. Portanto, nenhuma informação relevante pode ser extraído disso.\n",
    "'''\n",
    "s_train.Dia.value_counts()"
   ]
  },
  {
   "cell_type": "markdown",
   "metadata": {},
   "source": [
    "<p>Abaixo já temos alguma informação relevante. Como era de se esperar, a maioria das transações com cartões de crédito foram feitas a tarde. E tivemos muito poucas transações na madrugada. Cerca de 4.6% do total de transações. Portanto, se temos um maior número de transações a tarde, é provável que o maior número de chargebacks também sejam de tarde. Mas isso ainda será investigado.</p>"
   ]
  },
  {
   "cell_type": "code",
   "execution_count": 36,
   "metadata": {},
   "outputs": [
    {
     "data": {
      "text/plain": [
       "Tarde        4531\n",
       "Noite        3428\n",
       "Manha        2533\n",
       "Madrugada     512\n",
       "Name: faixa_horario, dtype: int64"
      ]
     },
     "execution_count": 36,
     "metadata": {},
     "output_type": "execute_result"
    }
   ],
   "source": [
    "'''\n",
    "Aqui estou contando quantas operações com o cartão houve por período do dia. \n",
    "'''\n",
    "s_train.faixa_horario.value_counts()"
   ]
  },
  {
   "cell_type": "code",
   "execution_count": 37,
   "metadata": {},
   "outputs": [
    {
     "name": "stdout",
     "output_type": "stream",
     "text": [
      "          Dia       CBK\n",
      "0  2015-05-01  0.082353\n",
      "1  2015-05-02  0.113208\n",
      "2  2015-05-03  0.007874\n",
      "3  2015-05-04  0.026616\n",
      "4  2015-05-05  0.040881\n",
      "5  2015-05-06  0.030797\n",
      "6  2015-05-07  0.037624\n",
      "7  2015-05-08  0.046875\n",
      "8  2015-05-09  0.051447\n",
      "9  2015-05-10  0.000000\n",
      "10 2015-05-11  0.048751\n",
      "11 2015-05-12  0.027539\n",
      "12 2015-05-13  0.014315\n",
      "13 2015-05-14  0.039848\n",
      "14 2015-05-15  0.040971\n",
      "15 2015-05-16  0.053191\n",
      "16 2015-05-17  0.211382\n",
      "17 2015-05-18  0.009050\n",
      "18 2015-05-19  0.055215\n",
      "19 2015-05-20  0.078261\n",
      "20 2015-05-21  0.043228\n",
      "21 2015-05-22  0.070845\n",
      "22 2015-05-23  0.148472\n",
      "23 2015-05-24  0.000000\n",
      "24 2015-05-25  0.068182\n",
      "25 2015-05-26  0.086957\n",
      "26 2015-05-27  0.082645\n",
      "27 2015-05-28  0.072013\n",
      "28 2015-05-29  0.053279\n",
      "29 2015-05-30  0.080460\n"
     ]
    }
   ],
   "source": [
    "'''\n",
    "Média de chargebacks que tivemos por dia. Novamente, não temos um padrão muito relevante para \n",
    "que possamos extrair alguma informação.\n",
    "'''\n",
    "print(s_train[[\"Dia\",\"CBK\"]].groupby([\"Dia\"], as_index = False).mean())"
   ]
  },
  {
   "cell_type": "code",
   "execution_count": 38,
   "metadata": {},
   "outputs": [
    {
     "data": {
      "text/plain": [
       "<matplotlib.axes._subplots.AxesSubplot at 0xafe4585ba8>"
      ]
     },
     "execution_count": 38,
     "metadata": {},
     "output_type": "execute_result"
    },
    {
     "data": {
      "image/png": "[encoded data removed]",
      "text/plain": [
       "<Figure size 432x288 with 1 Axes>"
      ]
     },
     "metadata": {
      "needs_background": "light"
     },
     "output_type": "display_data"
    }
   ],
   "source": [
    "'''\n",
    "Visualização gráfica da média de chargebacks por dia.\n",
    "'''\n",
    "\n",
    "s_train[[\"Dia\",\"CBK\"]].groupby([\"Dia\"], as_index = False).mean().plot(x ='Dia', y='CBK', kind = 'bar')"
   ]
  },
  {
   "cell_type": "markdown",
   "metadata": {},
   "source": [
    "<h3>Verificando a média de chargeback nos 4 períodos do dia:</h3>\n",
    "<p>Uma notável incidência muito maior de chargebacks ocorrem nas madrugadas. Isso é uma surpresa, haja vista que a maioria dos consumidores estão dormindo nesse horário e, portanto, não estão realizando compras no cartão de crédito. Conforme foi visto anteriormente, o número de transações com cartões de crédito na madrugada não chegam nem a 5% do total. Entretanto, como não é possível confirmar com os clientes a legitimidade da compra no momento em que ela é feita de madrugada ( já que os clientes estão dormindo), a saída mais segura seria simplesmente cancelar a compra. Isso explica do porquê temos tanto chargebacks na madrugada.</p>"
   ]
  },
  {
   "cell_type": "code",
   "execution_count": 39,
   "metadata": {},
   "outputs": [
    {
     "name": "stdout",
     "output_type": "stream",
     "text": [
      "  faixa_horario       CBK\n",
      "0     Madrugada  0.101562\n",
      "1         Manha  0.032767\n",
      "2         Noite  0.042007\n",
      "3         Tarde  0.063783\n"
     ]
    }
   ],
   "source": [
    "print(s_train[[\"faixa_horario\",\"CBK\"]].groupby([\"faixa_horario\"], as_index = False).mean())"
   ]
  },
  {
   "cell_type": "markdown",
   "metadata": {},
   "source": [
    "<h3>Visualização gráfica da quantidade de cashback durante os 4 períodos do dia:</h3>"
   ]
  },
  {
   "cell_type": "code",
   "execution_count": 40,
   "metadata": {},
   "outputs": [
    {
     "data": {
      "text/plain": [
       "<matplotlib.axes._subplots.AxesSubplot at 0xafe433c128>"
      ]
     },
     "execution_count": 40,
     "metadata": {},
     "output_type": "execute_result"
    },
    {
     "data": {
      "image/png": "[encoded data removed]",
      "text/plain": [
       "<Figure size 432x288 with 1 Axes>"
      ]
     },
     "metadata": {
      "needs_background": "light"
     },
     "output_type": "display_data"
    }
   ],
   "source": [
    "s_train[[\"faixa_horario\",\"CBK\"]].groupby([\"faixa_horario\"], as_index = False).mean().plot(x ='faixa_horario', y='CBK', kind = 'bar')"
   ]
  },
  {
   "cell_type": "markdown",
   "metadata": {},
   "source": [
    "<h3>Verificando a quantia em dinheiro de chargebacks nos 4 períodos do dia:</h3>\n",
    "<p>Como era de se esperar, a maior quantia de chargebacks em dinheiro acontece durante a tarde, durante o horário comercial. Como foi visto no gráfico anterior, apesar da incidência de ocorrências de chargeback ser menor que no período da madrugada, na tarde, os valores em que chargebacks acontecem são bem maiores. </p>\n",
    "    <p>Algumas inferências podem ser feitas a partir dessa informação. Subentende-se que as pessoas estejam acordadas e/ou disponíveis caso algum problema ocorra em sua compra. E as empresas administradoras do cartão podem entrar em contato com os clientes e esclarecer quaisquer problemas. Evitando assim a incidência de tantos chargebacks. Entretanto, como a maior quantidade de compras relevantes são feitas durante o horário comercial, os chargebacks com os maiores valores em dinheiro acontecem durante esse período.</p>\n",
    "    \n"
   ]
  },
  {
   "cell_type": "markdown",
   "metadata": {},
   "source": [
    "<p>Temos ao todo, um total de:</p>\n",
    "<ul>\n",
    "    <li><b>Período da tarde: </b> Por volta de 6,4% de chargebacks em suas transações no período.</li>\n",
    "    <li><b>Período da Noite: </b> Por volta de 4,2% de chargebacks em suas transações no período.</li>\n",
    "    <li><b>Período da Manhã: </b> Por volta de 3,3% de chargebacks em suas transações no período.</li>\n",
    "    <li><b>Período da Madrugada:</b> Por volta de 10,15% de chargebacks em suas transações no período.</li>\n",
    "</ul>\n",
    "<p><b>No total temos um chargeback a uma taxa de aproximadamente 5,16% do valor total das transações</b></p>"
   ]
  },
  {
   "cell_type": "code",
   "execution_count": 41,
   "metadata": {},
   "outputs": [
    {
     "name": "stdout",
     "output_type": "stream",
     "text": [
      "  faixa_horario  CBK\n",
      "0     Madrugada   52\n",
      "1         Manha   83\n",
      "2         Noite  144\n",
      "3         Tarde  289\n"
     ]
    }
   ],
   "source": [
    "'''\n",
    "Quantidade de chargebacks por período do dia.\n",
    "'''\n",
    "\n",
    "print(s_train[[\"faixa_horario\",\"CBK\"]].groupby([\"faixa_horario\"], as_index = False).sum())"
   ]
  },
  {
   "cell_type": "code",
   "execution_count": 42,
   "metadata": {},
   "outputs": [
    {
     "data": {
      "text/plain": [
       "<matplotlib.axes._subplots.AxesSubplot at 0xafe42b3390>"
      ]
     },
     "execution_count": 42,
     "metadata": {},
     "output_type": "execute_result"
    },
    {
     "data": {
      "image/png": "[encoded data removed]",
      "text/plain": [
       "<Figure size 432x288 with 1 Axes>"
      ]
     },
     "metadata": {
      "needs_background": "light"
     },
     "output_type": "display_data"
    }
   ],
   "source": [
    "'''\n",
    "Representação visual da quantidade de chargebacks por período do dia.\n",
    "'''\n",
    "\n",
    "s_train[[\"faixa_horario\",\"CBK\"]].groupby([\"faixa_horario\"], as_index = False).sum().plot(x ='faixa_horario', y='CBK', kind = 'bar')"
   ]
  },
  {
   "cell_type": "markdown",
   "metadata": {},
   "source": [
    "<h3>Calculando o número de cashbacks por cartão:</h3>\n",
    "<p>Aqui queremos averiguar quais são os cartões, representados apenas pelos seus 4 dígitos finais que são comuns a muitos cartões, que possuem a maior taxa de chargeback.</p>\n"
   ]
  },
  {
   "cell_type": "code",
   "execution_count": 43,
   "metadata": {},
   "outputs": [
    {
     "data": {
      "text/plain": [
       "184"
      ]
     },
     "execution_count": 43,
     "metadata": {},
     "output_type": "execute_result"
    }
   ],
   "source": [
    "'''\n",
    "Aqui está sendo calculado o número de cashbacks por cartões\n",
    "'''\n",
    "cashback_por_cartao = s_train.Cartao.loc[s_train.CBK== 1].value_counts()\n",
    "len(cashback_por_cartao)"
   ]
  },
  {
   "cell_type": "code",
   "execution_count": 44,
   "metadata": {},
   "outputs": [],
   "source": [
    "'''\n",
    "Um dicionário está sendo criado aqui com o objetivo de mapear as incidências de cashbacks por \n",
    "cartões para todo o dataset, através da função \"map\"\n",
    "'''\n",
    "cashback_por_cartao = cashback_por_cartao.to_dict()"
   ]
  },
  {
   "cell_type": "code",
   "execution_count": 45,
   "metadata": {},
   "outputs": [
    {
     "data": {
      "text/plain": [
       "{7788: 20,\n",
       " 2711: 20,\n",
       " 8377: 15,\n",
       " 2077: 12,\n",
       " 7228: 12,\n",
       " 601: 10,\n",
       " 5160: 10,\n",
       " 294: 9,\n",
       " 4021: 9,\n",
       " 9268: 8,\n",
       " 1250: 8,\n",
       " 1353: 8,\n",
       " 6512: 8,\n",
       " 6424: 8,\n",
       " 7796: 7,\n",
       " 3859: 7,\n",
       " 2516: 6,\n",
       " 4984: 6,\n",
       " 527: 6,\n",
       " 5947: 6,\n",
       " 5172: 6,\n",
       " 5465: 6,\n",
       " 622: 5,\n",
       " 8940: 5,\n",
       " 7897: 5,\n",
       " 7303: 5,\n",
       " 1725: 5,\n",
       " 2413: 5,\n",
       " 2617: 5,\n",
       " 8760: 5,\n",
       " 8766: 5,\n",
       " 9598: 5,\n",
       " 3615: 5,\n",
       " 8901: 5,\n",
       " 3107: 5,\n",
       " 5734: 4,\n",
       " 526: 4,\n",
       " 4363: 4,\n",
       " 1720: 4,\n",
       " 7595: 4,\n",
       " 9881: 4,\n",
       " 9632: 4,\n",
       " 9508: 4,\n",
       " 4750: 4,\n",
       " 5768: 4,\n",
       " 1301: 4,\n",
       " 1516: 4,\n",
       " 4360: 4,\n",
       " 7137: 4,\n",
       " 5187: 4,\n",
       " 4291: 4,\n",
       " 7415: 4,\n",
       " 7069: 4,\n",
       " 8246: 4,\n",
       " 6928: 4,\n",
       " 1034: 4,\n",
       " 2033: 4,\n",
       " 4071: 3,\n",
       " 9170: 3,\n",
       " 4008: 3,\n",
       " 2487: 3,\n",
       " 5179: 3,\n",
       " 3646: 3,\n",
       " 358: 3,\n",
       " 7524: 3,\n",
       " 3660: 3,\n",
       " 3424: 3,\n",
       " 1623: 3,\n",
       " 2126: 3,\n",
       " 116: 3,\n",
       " 3276: 3,\n",
       " 6770: 3,\n",
       " 4302: 3,\n",
       " 212: 3,\n",
       " 308: 3,\n",
       " 3380: 3,\n",
       " 9014: 3,\n",
       " 3921: 3,\n",
       " 8804: 3,\n",
       " 2659: 3,\n",
       " 7471: 3,\n",
       " 936: 2,\n",
       " 1254: 2,\n",
       " 6553: 2,\n",
       " 7601: 2,\n",
       " 3550: 2,\n",
       " 299: 2,\n",
       " 3103: 2,\n",
       " 7737: 2,\n",
       " 384: 2,\n",
       " 5156: 2,\n",
       " 6263: 2,\n",
       " 3511: 2,\n",
       " 1087: 2,\n",
       " 6461: 2,\n",
       " 9407: 2,\n",
       " 6267: 2,\n",
       " 7159: 2,\n",
       " 9734: 2,\n",
       " 7176: 2,\n",
       " 9152: 2,\n",
       " 759: 2,\n",
       " 1723: 2,\n",
       " 2742: 2,\n",
       " 8826: 2,\n",
       " 5729: 2,\n",
       " 9822: 2,\n",
       " 5026: 2,\n",
       " 8124: 2,\n",
       " 3668: 2,\n",
       " 2847: 2,\n",
       " 9206: 2,\n",
       " 517: 2,\n",
       " 2534: 2,\n",
       " 1168: 1,\n",
       " 1885: 1,\n",
       " 5970: 1,\n",
       " 8212: 1,\n",
       " 6286: 1,\n",
       " 5132: 1,\n",
       " 9398: 1,\n",
       " 2225: 1,\n",
       " 1896: 1,\n",
       " 5949: 1,\n",
       " 2235: 1,\n",
       " 9020: 1,\n",
       " 8176: 1,\n",
       " 3872: 1,\n",
       " 5988: 1,\n",
       " 6038: 1,\n",
       " 115: 1,\n",
       " 3102: 1,\n",
       " 9312: 1,\n",
       " 1112: 1,\n",
       " 9184: 1,\n",
       " 5732: 1,\n",
       " 8394: 1,\n",
       " 1921: 1,\n",
       " 2118: 1,\n",
       " 9095: 1,\n",
       " 9096: 1,\n",
       " 8075: 1,\n",
       " 1934: 1,\n",
       " 7062: 1,\n",
       " 8099: 1,\n",
       " 7195: 1,\n",
       " 3558: 1,\n",
       " 2837: 1,\n",
       " 2633: 1,\n",
       " 5480: 1,\n",
       " 6723: 1,\n",
       " 7497: 1,\n",
       " 3442: 1,\n",
       " 8742: 1,\n",
       " 3608: 1,\n",
       " 2456: 1,\n",
       " 9749: 1,\n",
       " 9745: 1,\n",
       " 6376: 1,\n",
       " 2493: 1,\n",
       " 450: 1,\n",
       " 7619: 1,\n",
       " 1520: 1,\n",
       " 5789: 1,\n",
       " 2629: 1,\n",
       " 590: 1,\n",
       " 1810: 1,\n",
       " 9819: 1,\n",
       " 8977: 1,\n",
       " 3821: 1,\n",
       " 4583: 1,\n",
       " 2280: 1,\n",
       " 719: 1,\n",
       " 7420: 1,\n",
       " 9933: 1,\n",
       " 9914: 1,\n",
       " 692: 1,\n",
       " 4766: 1,\n",
       " 1693: 1,\n",
       " 3738: 1,\n",
       " 643: 1,\n",
       " 9442: 1,\n",
       " 6469: 1,\n",
       " 6881: 1}"
      ]
     },
     "execution_count": 45,
     "metadata": {},
     "output_type": "execute_result"
    }
   ],
   "source": [
    "cashback_por_cartao"
   ]
  },
  {
   "cell_type": "code",
   "execution_count": 46,
   "metadata": {},
   "outputs": [],
   "source": [
    "'''\n",
    "Aqui estou mapeando todas as incidências de cashback por cartão.\n",
    "'''\n",
    "s_train['incidencia_por_cartao'] = s_train['Cartao'].map(cashback_por_cartao)\n",
    "s_test['incidencia_por_cartao'] = s_test['Cartao'].map(cashback_por_cartao)\n",
    "\n"
   ]
  },
  {
   "cell_type": "code",
   "execution_count": 47,
   "metadata": {},
   "outputs": [
    {
     "data": {
      "text/html": [
       "<div>\n",
       "<style scoped>\n",
       "    .dataframe tbody tr th:only-of-type {\n",
       "        vertical-align: middle;\n",
       "    }\n",
       "\n",
       "    .dataframe tbody tr th {\n",
       "        vertical-align: top;\n",
       "    }\n",
       "\n",
       "    .dataframe thead th {\n",
       "        text-align: right;\n",
       "    }\n",
       "</style>\n",
       "<table border=\"1\" class=\"dataframe\">\n",
       "  <thead>\n",
       "    <tr style=\"text-align: right;\">\n",
       "      <th></th>\n",
       "      <th>Dia</th>\n",
       "      <th>Hora</th>\n",
       "      <th>Valor</th>\n",
       "      <th>Cartao</th>\n",
       "      <th>CBK</th>\n",
       "      <th>hora_do_dia</th>\n",
       "      <th>faixa_horario</th>\n",
       "      <th>incidencia_por_cartao</th>\n",
       "    </tr>\n",
       "  </thead>\n",
       "  <tbody>\n",
       "    <tr>\n",
       "      <th>0</th>\n",
       "      <td>2015-05-01</td>\n",
       "      <td>1900-01-01 00:01:54</td>\n",
       "      <td>36.54</td>\n",
       "      <td>2108</td>\n",
       "      <td>0</td>\n",
       "      <td>0</td>\n",
       "      <td>Madrugada</td>\n",
       "      <td>NaN</td>\n",
       "    </tr>\n",
       "    <tr>\n",
       "      <th>1</th>\n",
       "      <td>2015-05-01</td>\n",
       "      <td>1900-01-01 00:03:46</td>\n",
       "      <td>36.54</td>\n",
       "      <td>2108</td>\n",
       "      <td>0</td>\n",
       "      <td>0</td>\n",
       "      <td>Madrugada</td>\n",
       "      <td>NaN</td>\n",
       "    </tr>\n",
       "    <tr>\n",
       "      <th>2</th>\n",
       "      <td>2015-05-01</td>\n",
       "      <td>1900-01-01 00:08:50</td>\n",
       "      <td>69.00</td>\n",
       "      <td>1239</td>\n",
       "      <td>0</td>\n",
       "      <td>0</td>\n",
       "      <td>Madrugada</td>\n",
       "      <td>NaN</td>\n",
       "    </tr>\n",
       "    <tr>\n",
       "      <th>3</th>\n",
       "      <td>2015-05-01</td>\n",
       "      <td>1900-01-01 00:27:00</td>\n",
       "      <td>193.43</td>\n",
       "      <td>1705</td>\n",
       "      <td>0</td>\n",
       "      <td>0</td>\n",
       "      <td>Madrugada</td>\n",
       "      <td>NaN</td>\n",
       "    </tr>\n",
       "    <tr>\n",
       "      <th>4</th>\n",
       "      <td>2015-05-01</td>\n",
       "      <td>1900-01-01 01:32:46</td>\n",
       "      <td>132.00</td>\n",
       "      <td>9778</td>\n",
       "      <td>0</td>\n",
       "      <td>1</td>\n",
       "      <td>Madrugada</td>\n",
       "      <td>NaN</td>\n",
       "    </tr>\n",
       "  </tbody>\n",
       "</table>\n",
       "</div>"
      ],
      "text/plain": [
       "         Dia                Hora   Valor  Cartao  CBK  hora_do_dia  \\\n",
       "0 2015-05-01 1900-01-01 00:01:54   36.54    2108    0            0   \n",
       "1 2015-05-01 1900-01-01 00:03:46   36.54    2108    0            0   \n",
       "2 2015-05-01 1900-01-01 00:08:50   69.00    1239    0            0   \n",
       "3 2015-05-01 1900-01-01 00:27:00  193.43    1705    0            0   \n",
       "4 2015-05-01 1900-01-01 01:32:46  132.00    9778    0            1   \n",
       "\n",
       "  faixa_horario  incidencia_por_cartao  \n",
       "0     Madrugada                    NaN  \n",
       "1     Madrugada                    NaN  \n",
       "2     Madrugada                    NaN  \n",
       "3     Madrugada                    NaN  \n",
       "4     Madrugada                    NaN  "
      ]
     },
     "execution_count": 47,
     "metadata": {},
     "output_type": "execute_result"
    }
   ],
   "source": [
    "s_train.head()"
   ]
  },
  {
   "cell_type": "code",
   "execution_count": 48,
   "metadata": {},
   "outputs": [
    {
     "data": {
      "text/html": [
       "<div>\n",
       "<style scoped>\n",
       "    .dataframe tbody tr th:only-of-type {\n",
       "        vertical-align: middle;\n",
       "    }\n",
       "\n",
       "    .dataframe tbody tr th {\n",
       "        vertical-align: top;\n",
       "    }\n",
       "\n",
       "    .dataframe thead th {\n",
       "        text-align: right;\n",
       "    }\n",
       "</style>\n",
       "<table border=\"1\" class=\"dataframe\">\n",
       "  <thead>\n",
       "    <tr style=\"text-align: right;\">\n",
       "      <th></th>\n",
       "      <th>Dia</th>\n",
       "      <th>Hora</th>\n",
       "      <th>Valor</th>\n",
       "      <th>Cartao</th>\n",
       "      <th>CBK</th>\n",
       "      <th>hora_do_dia</th>\n",
       "      <th>faixa_horario</th>\n",
       "      <th>incidencia_por_cartao</th>\n",
       "    </tr>\n",
       "  </thead>\n",
       "  <tbody>\n",
       "    <tr>\n",
       "      <th>0</th>\n",
       "      <td>2015-06-01</td>\n",
       "      <td>1900-01-01 00:01:54</td>\n",
       "      <td>112.00</td>\n",
       "      <td>5965</td>\n",
       "      <td>NaN</td>\n",
       "      <td>0.0</td>\n",
       "      <td>Madrugada</td>\n",
       "      <td>NaN</td>\n",
       "    </tr>\n",
       "    <tr>\n",
       "      <th>1</th>\n",
       "      <td>2015-06-01</td>\n",
       "      <td>1900-01-01 00:03:46</td>\n",
       "      <td>112.00</td>\n",
       "      <td>7350</td>\n",
       "      <td>NaN</td>\n",
       "      <td>0.0</td>\n",
       "      <td>Madrugada</td>\n",
       "      <td>NaN</td>\n",
       "    </tr>\n",
       "    <tr>\n",
       "      <th>2</th>\n",
       "      <td>2015-06-01</td>\n",
       "      <td>1900-01-01 00:08:50</td>\n",
       "      <td>18.34</td>\n",
       "      <td>4535</td>\n",
       "      <td>NaN</td>\n",
       "      <td>0.0</td>\n",
       "      <td>Madrugada</td>\n",
       "      <td>NaN</td>\n",
       "    </tr>\n",
       "    <tr>\n",
       "      <th>3</th>\n",
       "      <td>2015-06-01</td>\n",
       "      <td>1900-01-01 00:27:00</td>\n",
       "      <td>55.00</td>\n",
       "      <td>5629</td>\n",
       "      <td>NaN</td>\n",
       "      <td>0.0</td>\n",
       "      <td>Madrugada</td>\n",
       "      <td>NaN</td>\n",
       "    </tr>\n",
       "    <tr>\n",
       "      <th>4</th>\n",
       "      <td>2015-06-01</td>\n",
       "      <td>1900-01-01 01:32:46</td>\n",
       "      <td>50.00</td>\n",
       "      <td>2077</td>\n",
       "      <td>NaN</td>\n",
       "      <td>1.0</td>\n",
       "      <td>Madrugada</td>\n",
       "      <td>12.0</td>\n",
       "    </tr>\n",
       "  </tbody>\n",
       "</table>\n",
       "</div>"
      ],
      "text/plain": [
       "         Dia                Hora   Valor  Cartao  CBK  hora_do_dia  \\\n",
       "0 2015-06-01 1900-01-01 00:01:54  112.00    5965  NaN          0.0   \n",
       "1 2015-06-01 1900-01-01 00:03:46  112.00    7350  NaN          0.0   \n",
       "2 2015-06-01 1900-01-01 00:08:50   18.34    4535  NaN          0.0   \n",
       "3 2015-06-01 1900-01-01 00:27:00   55.00    5629  NaN          0.0   \n",
       "4 2015-06-01 1900-01-01 01:32:46   50.00    2077  NaN          1.0   \n",
       "\n",
       "  faixa_horario  incidencia_por_cartao  \n",
       "0     Madrugada                    NaN  \n",
       "1     Madrugada                    NaN  \n",
       "2     Madrugada                    NaN  \n",
       "3     Madrugada                    NaN  \n",
       "4     Madrugada                   12.0  "
      ]
     },
     "execution_count": 48,
     "metadata": {},
     "output_type": "execute_result"
    }
   ],
   "source": [
    "s_test.head()"
   ]
  },
  {
   "cell_type": "code",
   "execution_count": 49,
   "metadata": {},
   "outputs": [],
   "source": [
    "'''\n",
    "Como muitos cartões não possuem cashback, esses valores ficarão com valores nulos. O método\n",
    "abaixo substitui todos os valores nulos da coluna nova para 0.\n",
    "'''\n",
    "s_train['incidencia_por_cartao'].fillna(0, inplace=True)\n",
    "s_test['incidencia_por_cartao'].fillna(0, inplace=True)"
   ]
  },
  {
   "cell_type": "code",
   "execution_count": 50,
   "metadata": {},
   "outputs": [],
   "source": [
    "s_train['incidencia_por_cartao'] = s_train['incidencia_por_cartao'].astype(int)\n",
    "s_test['incidencia_por_cartao'] = s_test['incidencia_por_cartao'].astype(int)"
   ]
  },
  {
   "cell_type": "code",
   "execution_count": 51,
   "metadata": {},
   "outputs": [
    {
     "data": {
      "text/plain": [
       "Dia                      datetime64[ns]\n",
       "Hora                     datetime64[ns]\n",
       "Valor                           float64\n",
       "Cartao                            int32\n",
       "CBK                               int64\n",
       "hora_do_dia                       int64\n",
       "faixa_horario                    object\n",
       "incidencia_por_cartao             int32\n",
       "dtype: object"
      ]
     },
     "execution_count": 51,
     "metadata": {},
     "output_type": "execute_result"
    }
   ],
   "source": [
    "s_train.dtypes"
   ]
  },
  {
   "cell_type": "markdown",
   "metadata": {},
   "source": [
    "<h1>Padronizando a coluna \"incidencia_por_cartao\":</h1>\n",
    "<p>Abaixo está sendo criada uma função que tem como objetivo qualificar um determinado cartão como tendo muito risco de ocorrer um chargeback ou pouco risco. Essa função então irá ser aplicada a todas as linhas do dataset, qualificando os cartões em uma nova coluna chamada \"qualificacao_cartoes\". É uma tática parecida do que foi feita ao dividir as horas do dia por períodos.</p>\n",
    "<p>Esse processo será feito tanto no dataframe de treino quanto no de teste. </p>"
   ]
  },
  {
   "cell_type": "markdown",
   "metadata": {},
   "source": [
    "<h4>Padronizando dataset de treino.</h4>"
   ]
  },
  {
   "cell_type": "code",
   "execution_count": 52,
   "metadata": {},
   "outputs": [],
   "source": [
    "'''\n",
    "Aqui é a função criada para qualificar os cartões em relação a incidência de chargebacks\n",
    "'''\n",
    "\n",
    "incidencia_cartoes = []\n",
    "\n",
    "for i in s_train['incidencia_por_cartao']:\n",
    "    if i == 0:\n",
    "        incidencia_cartoes.append('sem_incidencias')\n",
    "    if i > 0 and i <= 5:\n",
    "        incidencia_cartoes.append('incidencia_baixa')\n",
    "    elif i >= 6 and i <= 10:\n",
    "        incidencia_cartoes.append('incidencia_moderada')\n",
    "    elif i >= 11 and i <=15:\n",
    "        incidencia_cartoes.append('incidencia_alta')\n",
    "    elif i >= 16 and i <=20:\n",
    "        incidencia_cartoes.append('incidencia_muito_alta')\n",
    "        \n",
    "s_train['qualificacao_cartoes'] = incidencia_cartoes\n"
   ]
  },
  {
   "cell_type": "markdown",
   "metadata": {},
   "source": [
    "<h4>Padronizando dataset de teste.</h4>"
   ]
  },
  {
   "cell_type": "code",
   "execution_count": 53,
   "metadata": {},
   "outputs": [],
   "source": [
    "incidencia_cartoes = []\n",
    "\n",
    "for i in s_test['incidencia_por_cartao']:\n",
    "    if i == 0:\n",
    "        incidencia_cartoes.append('sem_incidencias')\n",
    "    if i > 0 and i <= 5:\n",
    "        incidencia_cartoes.append('incidencia_baixa')\n",
    "    elif i >= 6 and i <= 10:\n",
    "        incidencia_cartoes.append('incidencia_moderada')\n",
    "    elif i >= 11 and i <=15:\n",
    "        incidencia_cartoes.append('incidencia_alta')\n",
    "    elif i >= 16 and i <=20:\n",
    "        incidencia_cartoes.append('incidencia_muito_alta')\n",
    "        \n",
    "s_test['qualificacao_cartoes'] = incidencia_cartoes\n"
   ]
  },
  {
   "cell_type": "markdown",
   "metadata": {},
   "source": [
    "<h3>Incidência de chargebacks por cartões:</h3>\n",
    "<p>Como dito anteriormente, temos algo em torno de 5,16% de chargebacks do total de transações com cartões. Isso significa que temos muito mais cartões sem nenhuma incidência de chargebacks. Abaixo, temos a representação visual disso.</p>"
   ]
  },
  {
   "cell_type": "code",
   "execution_count": 54,
   "metadata": {},
   "outputs": [
    {
     "data": {
      "text/plain": [
       "sem_incidencias          10208\n",
       "incidencia_baixa           567\n",
       "incidencia_moderada        146\n",
       "incidencia_muito_alta       43\n",
       "incidencia_alta             40\n",
       "Name: qualificacao_cartoes, dtype: int64"
      ]
     },
     "execution_count": 54,
     "metadata": {},
     "output_type": "execute_result"
    }
   ],
   "source": [
    "s_train['qualificacao_cartoes'].value_counts()"
   ]
  },
  {
   "cell_type": "code",
   "execution_count": 55,
   "metadata": {},
   "outputs": [
    {
     "data": {
      "text/plain": [
       "<matplotlib.axes._subplots.AxesSubplot at 0xafe44744e0>"
      ]
     },
     "execution_count": 55,
     "metadata": {},
     "output_type": "execute_result"
    },
    {
     "data": {
      "image/png": "[encoded data removed]",
      "text/plain": [
       "<Figure size 432x288 with 1 Axes>"
      ]
     },
     "metadata": {
      "needs_background": "light"
     },
     "output_type": "display_data"
    }
   ],
   "source": [
    "s_train[[\"qualificacao_cartoes\",\"CBK\"]].groupby([\"qualificacao_cartoes\"], as_index = False).sum().plot(x ='qualificacao_cartoes', y='CBK', kind = 'bar')"
   ]
  },
  {
   "cell_type": "code",
   "execution_count": 56,
   "metadata": {},
   "outputs": [
    {
     "data": {
      "image/png": "[encoded data removed]",
      "text/plain": [
       "<Figure size 432x288 with 1 Axes>"
      ]
     },
     "metadata": {
      "needs_background": "light"
     },
     "output_type": "display_data"
    },
    {
     "name": "stdout",
     "output_type": "stream",
     "text": [
      "Proporção de chargeback entre todos os cartões:\n",
      "0    94.838241\n",
      "1     5.161759\n",
      "Name: CBK, dtype: float64\n"
     ]
    }
   ],
   "source": [
    "\n",
    "# Proporção de cashback entre todos os cartões\n",
    "fig, ax = plt.subplots()\n",
    "sns.countplot('CBK', data=s_train, ax=ax)\n",
    "ax.set_title(\"chargeback\")\n",
    "ax.set_xlabel(\"Valor\")\n",
    "ax.set_ylabel(\"Contagem\")\n",
    "plt.show()\n",
    "\n",
    "print(\"Proporção de chargeback entre todos os cartões:\")\n",
    "print((s_train['CBK'].value_counts() / s_train.shape[0] )*100)"
   ]
  },
  {
   "cell_type": "markdown",
   "metadata": {},
   "source": [
    "<h3>Deletando colunas desnecessárias:</h3>\n",
    "<p>Algumas colunas que foram criadas ao longo do projeto, não são mais necessárias. As mesmas serão deletadas tanto do dataframe de treino quanto no de teste.</p>"
   ]
  },
  {
   "cell_type": "code",
   "execution_count": 57,
   "metadata": {},
   "outputs": [],
   "source": [
    "'''\n",
    "Deletando o resto das colunas desnecessárias de teste\n",
    "'''\n",
    "s_test.drop(['hora_do_dia', 'incidencia_por_cartao'], axis = 1, inplace = True)\n"
   ]
  },
  {
   "cell_type": "code",
   "execution_count": 58,
   "metadata": {},
   "outputs": [],
   "source": [
    "'''\n",
    "Deletando o resto das colunas desnecessárias de treino\n",
    "'''\n",
    "s_train.drop(['hora_do_dia', 'incidencia_por_cartao'], axis = 1, inplace = True)\n",
    "\n"
   ]
  },
  {
   "cell_type": "code",
   "execution_count": 59,
   "metadata": {},
   "outputs": [
    {
     "data": {
      "text/html": [
       "<div>\n",
       "<style scoped>\n",
       "    .dataframe tbody tr th:only-of-type {\n",
       "        vertical-align: middle;\n",
       "    }\n",
       "\n",
       "    .dataframe tbody tr th {\n",
       "        vertical-align: top;\n",
       "    }\n",
       "\n",
       "    .dataframe thead th {\n",
       "        text-align: right;\n",
       "    }\n",
       "</style>\n",
       "<table border=\"1\" class=\"dataframe\">\n",
       "  <thead>\n",
       "    <tr style=\"text-align: right;\">\n",
       "      <th></th>\n",
       "      <th>Dia</th>\n",
       "      <th>Hora</th>\n",
       "      <th>Valor</th>\n",
       "      <th>Cartao</th>\n",
       "      <th>CBK</th>\n",
       "      <th>faixa_horario</th>\n",
       "      <th>qualificacao_cartoes</th>\n",
       "    </tr>\n",
       "  </thead>\n",
       "  <tbody>\n",
       "    <tr>\n",
       "      <th>0</th>\n",
       "      <td>2015-05-01</td>\n",
       "      <td>1900-01-01 00:01:54</td>\n",
       "      <td>36.54</td>\n",
       "      <td>2108</td>\n",
       "      <td>0</td>\n",
       "      <td>Madrugada</td>\n",
       "      <td>sem_incidencias</td>\n",
       "    </tr>\n",
       "    <tr>\n",
       "      <th>1</th>\n",
       "      <td>2015-05-01</td>\n",
       "      <td>1900-01-01 00:03:46</td>\n",
       "      <td>36.54</td>\n",
       "      <td>2108</td>\n",
       "      <td>0</td>\n",
       "      <td>Madrugada</td>\n",
       "      <td>sem_incidencias</td>\n",
       "    </tr>\n",
       "    <tr>\n",
       "      <th>2</th>\n",
       "      <td>2015-05-01</td>\n",
       "      <td>1900-01-01 00:08:50</td>\n",
       "      <td>69.00</td>\n",
       "      <td>1239</td>\n",
       "      <td>0</td>\n",
       "      <td>Madrugada</td>\n",
       "      <td>sem_incidencias</td>\n",
       "    </tr>\n",
       "    <tr>\n",
       "      <th>3</th>\n",
       "      <td>2015-05-01</td>\n",
       "      <td>1900-01-01 00:27:00</td>\n",
       "      <td>193.43</td>\n",
       "      <td>1705</td>\n",
       "      <td>0</td>\n",
       "      <td>Madrugada</td>\n",
       "      <td>sem_incidencias</td>\n",
       "    </tr>\n",
       "    <tr>\n",
       "      <th>4</th>\n",
       "      <td>2015-05-01</td>\n",
       "      <td>1900-01-01 01:32:46</td>\n",
       "      <td>132.00</td>\n",
       "      <td>9778</td>\n",
       "      <td>0</td>\n",
       "      <td>Madrugada</td>\n",
       "      <td>sem_incidencias</td>\n",
       "    </tr>\n",
       "  </tbody>\n",
       "</table>\n",
       "</div>"
      ],
      "text/plain": [
       "         Dia                Hora   Valor  Cartao  CBK faixa_horario  \\\n",
       "0 2015-05-01 1900-01-01 00:01:54   36.54    2108    0     Madrugada   \n",
       "1 2015-05-01 1900-01-01 00:03:46   36.54    2108    0     Madrugada   \n",
       "2 2015-05-01 1900-01-01 00:08:50   69.00    1239    0     Madrugada   \n",
       "3 2015-05-01 1900-01-01 00:27:00  193.43    1705    0     Madrugada   \n",
       "4 2015-05-01 1900-01-01 01:32:46  132.00    9778    0     Madrugada   \n",
       "\n",
       "  qualificacao_cartoes  \n",
       "0      sem_incidencias  \n",
       "1      sem_incidencias  \n",
       "2      sem_incidencias  \n",
       "3      sem_incidencias  \n",
       "4      sem_incidencias  "
      ]
     },
     "execution_count": 59,
     "metadata": {},
     "output_type": "execute_result"
    }
   ],
   "source": [
    "s_train.head()"
   ]
  },
  {
   "cell_type": "code",
   "execution_count": 60,
   "metadata": {},
   "outputs": [
    {
     "data": {
      "text/html": [
       "<div>\n",
       "<style scoped>\n",
       "    .dataframe tbody tr th:only-of-type {\n",
       "        vertical-align: middle;\n",
       "    }\n",
       "\n",
       "    .dataframe tbody tr th {\n",
       "        vertical-align: top;\n",
       "    }\n",
       "\n",
       "    .dataframe thead th {\n",
       "        text-align: right;\n",
       "    }\n",
       "</style>\n",
       "<table border=\"1\" class=\"dataframe\">\n",
       "  <thead>\n",
       "    <tr style=\"text-align: right;\">\n",
       "      <th></th>\n",
       "      <th>Dia</th>\n",
       "      <th>Hora</th>\n",
       "      <th>Valor</th>\n",
       "      <th>Cartao</th>\n",
       "      <th>CBK</th>\n",
       "      <th>faixa_horario</th>\n",
       "      <th>qualificacao_cartoes</th>\n",
       "    </tr>\n",
       "  </thead>\n",
       "  <tbody>\n",
       "    <tr>\n",
       "      <th>0</th>\n",
       "      <td>2015-06-01</td>\n",
       "      <td>1900-01-01 00:01:54</td>\n",
       "      <td>112.00</td>\n",
       "      <td>5965</td>\n",
       "      <td>NaN</td>\n",
       "      <td>Madrugada</td>\n",
       "      <td>sem_incidencias</td>\n",
       "    </tr>\n",
       "    <tr>\n",
       "      <th>1</th>\n",
       "      <td>2015-06-01</td>\n",
       "      <td>1900-01-01 00:03:46</td>\n",
       "      <td>112.00</td>\n",
       "      <td>7350</td>\n",
       "      <td>NaN</td>\n",
       "      <td>Madrugada</td>\n",
       "      <td>sem_incidencias</td>\n",
       "    </tr>\n",
       "    <tr>\n",
       "      <th>2</th>\n",
       "      <td>2015-06-01</td>\n",
       "      <td>1900-01-01 00:08:50</td>\n",
       "      <td>18.34</td>\n",
       "      <td>4535</td>\n",
       "      <td>NaN</td>\n",
       "      <td>Madrugada</td>\n",
       "      <td>sem_incidencias</td>\n",
       "    </tr>\n",
       "    <tr>\n",
       "      <th>3</th>\n",
       "      <td>2015-06-01</td>\n",
       "      <td>1900-01-01 00:27:00</td>\n",
       "      <td>55.00</td>\n",
       "      <td>5629</td>\n",
       "      <td>NaN</td>\n",
       "      <td>Madrugada</td>\n",
       "      <td>sem_incidencias</td>\n",
       "    </tr>\n",
       "    <tr>\n",
       "      <th>4</th>\n",
       "      <td>2015-06-01</td>\n",
       "      <td>1900-01-01 01:32:46</td>\n",
       "      <td>50.00</td>\n",
       "      <td>2077</td>\n",
       "      <td>NaN</td>\n",
       "      <td>Madrugada</td>\n",
       "      <td>incidencia_alta</td>\n",
       "    </tr>\n",
       "  </tbody>\n",
       "</table>\n",
       "</div>"
      ],
      "text/plain": [
       "         Dia                Hora   Valor  Cartao  CBK faixa_horario  \\\n",
       "0 2015-06-01 1900-01-01 00:01:54  112.00    5965  NaN     Madrugada   \n",
       "1 2015-06-01 1900-01-01 00:03:46  112.00    7350  NaN     Madrugada   \n",
       "2 2015-06-01 1900-01-01 00:08:50   18.34    4535  NaN     Madrugada   \n",
       "3 2015-06-01 1900-01-01 00:27:00   55.00    5629  NaN     Madrugada   \n",
       "4 2015-06-01 1900-01-01 01:32:46   50.00    2077  NaN     Madrugada   \n",
       "\n",
       "  qualificacao_cartoes  \n",
       "0      sem_incidencias  \n",
       "1      sem_incidencias  \n",
       "2      sem_incidencias  \n",
       "3      sem_incidencias  \n",
       "4      incidencia_alta  "
      ]
     },
     "execution_count": 60,
     "metadata": {},
     "output_type": "execute_result"
    }
   ],
   "source": [
    "s_test.head()"
   ]
  },
  {
   "cell_type": "code",
   "execution_count": 61,
   "metadata": {},
   "outputs": [],
   "source": [
    "treino = s_train.copy()\n",
    "teste = s_test.copy()"
   ]
  },
  {
   "cell_type": "markdown",
   "metadata": {},
   "source": [
    "<h3>Reorganizando as colunas</h3>\n",
    "<p>Abaixo, as colunas estão tendo suas posições reordenadas. Isso será importante mais a frente</p>"
   ]
  },
  {
   "cell_type": "code",
   "execution_count": 62,
   "metadata": {},
   "outputs": [],
   "source": [
    "'''\n",
    "Mudando a ordem das colunas para deixar a variável alvo na frente.\n",
    "'''\n",
    "treino = treino.reindex(columns=['CBK', 'Dia', 'Hora', 'Valor', 'Cartao', 'faixa_horario', 'qualificacao_cartoes'])\n"
   ]
  },
  {
   "cell_type": "code",
   "execution_count": 63,
   "metadata": {},
   "outputs": [],
   "source": [
    "'''\n",
    "Mudando a ordem das colunas.\n",
    "'''\n",
    "teste = teste.reindex(columns=['CBK', 'Dia', 'Hora', 'Valor', 'Cartao', 'faixa_horario', 'qualificacao_cartoes'])\n"
   ]
  },
  {
   "cell_type": "code",
   "execution_count": 64,
   "metadata": {},
   "outputs": [
    {
     "data": {
      "text/html": [
       "<div>\n",
       "<style scoped>\n",
       "    .dataframe tbody tr th:only-of-type {\n",
       "        vertical-align: middle;\n",
       "    }\n",
       "\n",
       "    .dataframe tbody tr th {\n",
       "        vertical-align: top;\n",
       "    }\n",
       "\n",
       "    .dataframe thead th {\n",
       "        text-align: right;\n",
       "    }\n",
       "</style>\n",
       "<table border=\"1\" class=\"dataframe\">\n",
       "  <thead>\n",
       "    <tr style=\"text-align: right;\">\n",
       "      <th></th>\n",
       "      <th>CBK</th>\n",
       "      <th>Dia</th>\n",
       "      <th>Hora</th>\n",
       "      <th>Valor</th>\n",
       "      <th>Cartao</th>\n",
       "      <th>faixa_horario</th>\n",
       "      <th>qualificacao_cartoes</th>\n",
       "    </tr>\n",
       "  </thead>\n",
       "  <tbody>\n",
       "    <tr>\n",
       "      <th>0</th>\n",
       "      <td>0</td>\n",
       "      <td>2015-05-01</td>\n",
       "      <td>1900-01-01 00:01:54</td>\n",
       "      <td>36.54</td>\n",
       "      <td>2108</td>\n",
       "      <td>Madrugada</td>\n",
       "      <td>sem_incidencias</td>\n",
       "    </tr>\n",
       "    <tr>\n",
       "      <th>1</th>\n",
       "      <td>0</td>\n",
       "      <td>2015-05-01</td>\n",
       "      <td>1900-01-01 00:03:46</td>\n",
       "      <td>36.54</td>\n",
       "      <td>2108</td>\n",
       "      <td>Madrugada</td>\n",
       "      <td>sem_incidencias</td>\n",
       "    </tr>\n",
       "    <tr>\n",
       "      <th>2</th>\n",
       "      <td>0</td>\n",
       "      <td>2015-05-01</td>\n",
       "      <td>1900-01-01 00:08:50</td>\n",
       "      <td>69.00</td>\n",
       "      <td>1239</td>\n",
       "      <td>Madrugada</td>\n",
       "      <td>sem_incidencias</td>\n",
       "    </tr>\n",
       "    <tr>\n",
       "      <th>3</th>\n",
       "      <td>0</td>\n",
       "      <td>2015-05-01</td>\n",
       "      <td>1900-01-01 00:27:00</td>\n",
       "      <td>193.43</td>\n",
       "      <td>1705</td>\n",
       "      <td>Madrugada</td>\n",
       "      <td>sem_incidencias</td>\n",
       "    </tr>\n",
       "    <tr>\n",
       "      <th>4</th>\n",
       "      <td>0</td>\n",
       "      <td>2015-05-01</td>\n",
       "      <td>1900-01-01 01:32:46</td>\n",
       "      <td>132.00</td>\n",
       "      <td>9778</td>\n",
       "      <td>Madrugada</td>\n",
       "      <td>sem_incidencias</td>\n",
       "    </tr>\n",
       "  </tbody>\n",
       "</table>\n",
       "</div>"
      ],
      "text/plain": [
       "   CBK        Dia                Hora   Valor  Cartao faixa_horario  \\\n",
       "0    0 2015-05-01 1900-01-01 00:01:54   36.54    2108     Madrugada   \n",
       "1    0 2015-05-01 1900-01-01 00:03:46   36.54    2108     Madrugada   \n",
       "2    0 2015-05-01 1900-01-01 00:08:50   69.00    1239     Madrugada   \n",
       "3    0 2015-05-01 1900-01-01 00:27:00  193.43    1705     Madrugada   \n",
       "4    0 2015-05-01 1900-01-01 01:32:46  132.00    9778     Madrugada   \n",
       "\n",
       "  qualificacao_cartoes  \n",
       "0      sem_incidencias  \n",
       "1      sem_incidencias  \n",
       "2      sem_incidencias  \n",
       "3      sem_incidencias  \n",
       "4      sem_incidencias  "
      ]
     },
     "execution_count": 64,
     "metadata": {},
     "output_type": "execute_result"
    }
   ],
   "source": [
    "treino.head()"
   ]
  },
  {
   "cell_type": "code",
   "execution_count": 65,
   "metadata": {},
   "outputs": [
    {
     "data": {
      "text/html": [
       "<div>\n",
       "<style scoped>\n",
       "    .dataframe tbody tr th:only-of-type {\n",
       "        vertical-align: middle;\n",
       "    }\n",
       "\n",
       "    .dataframe tbody tr th {\n",
       "        vertical-align: top;\n",
       "    }\n",
       "\n",
       "    .dataframe thead th {\n",
       "        text-align: right;\n",
       "    }\n",
       "</style>\n",
       "<table border=\"1\" class=\"dataframe\">\n",
       "  <thead>\n",
       "    <tr style=\"text-align: right;\">\n",
       "      <th></th>\n",
       "      <th>CBK</th>\n",
       "      <th>Dia</th>\n",
       "      <th>Hora</th>\n",
       "      <th>Valor</th>\n",
       "      <th>Cartao</th>\n",
       "      <th>faixa_horario</th>\n",
       "      <th>qualificacao_cartoes</th>\n",
       "    </tr>\n",
       "  </thead>\n",
       "  <tbody>\n",
       "    <tr>\n",
       "      <th>0</th>\n",
       "      <td>NaN</td>\n",
       "      <td>2015-06-01</td>\n",
       "      <td>1900-01-01 00:01:54</td>\n",
       "      <td>112.00</td>\n",
       "      <td>5965</td>\n",
       "      <td>Madrugada</td>\n",
       "      <td>sem_incidencias</td>\n",
       "    </tr>\n",
       "    <tr>\n",
       "      <th>1</th>\n",
       "      <td>NaN</td>\n",
       "      <td>2015-06-01</td>\n",
       "      <td>1900-01-01 00:03:46</td>\n",
       "      <td>112.00</td>\n",
       "      <td>7350</td>\n",
       "      <td>Madrugada</td>\n",
       "      <td>sem_incidencias</td>\n",
       "    </tr>\n",
       "    <tr>\n",
       "      <th>2</th>\n",
       "      <td>NaN</td>\n",
       "      <td>2015-06-01</td>\n",
       "      <td>1900-01-01 00:08:50</td>\n",
       "      <td>18.34</td>\n",
       "      <td>4535</td>\n",
       "      <td>Madrugada</td>\n",
       "      <td>sem_incidencias</td>\n",
       "    </tr>\n",
       "    <tr>\n",
       "      <th>3</th>\n",
       "      <td>NaN</td>\n",
       "      <td>2015-06-01</td>\n",
       "      <td>1900-01-01 00:27:00</td>\n",
       "      <td>55.00</td>\n",
       "      <td>5629</td>\n",
       "      <td>Madrugada</td>\n",
       "      <td>sem_incidencias</td>\n",
       "    </tr>\n",
       "    <tr>\n",
       "      <th>4</th>\n",
       "      <td>NaN</td>\n",
       "      <td>2015-06-01</td>\n",
       "      <td>1900-01-01 01:32:46</td>\n",
       "      <td>50.00</td>\n",
       "      <td>2077</td>\n",
       "      <td>Madrugada</td>\n",
       "      <td>incidencia_alta</td>\n",
       "    </tr>\n",
       "  </tbody>\n",
       "</table>\n",
       "</div>"
      ],
      "text/plain": [
       "   CBK        Dia                Hora   Valor  Cartao faixa_horario  \\\n",
       "0  NaN 2015-06-01 1900-01-01 00:01:54  112.00    5965     Madrugada   \n",
       "1  NaN 2015-06-01 1900-01-01 00:03:46  112.00    7350     Madrugada   \n",
       "2  NaN 2015-06-01 1900-01-01 00:08:50   18.34    4535     Madrugada   \n",
       "3  NaN 2015-06-01 1900-01-01 00:27:00   55.00    5629     Madrugada   \n",
       "4  NaN 2015-06-01 1900-01-01 01:32:46   50.00    2077     Madrugada   \n",
       "\n",
       "  qualificacao_cartoes  \n",
       "0      sem_incidencias  \n",
       "1      sem_incidencias  \n",
       "2      sem_incidencias  \n",
       "3      sem_incidencias  \n",
       "4      incidencia_alta  "
      ]
     },
     "execution_count": 65,
     "metadata": {},
     "output_type": "execute_result"
    }
   ],
   "source": [
    "teste.head()"
   ]
  },
  {
   "cell_type": "markdown",
   "metadata": {},
   "source": [
    "<h1>Verificando a correlação entre as variáveis antes de testá-las:</h1>\n",
    "    <p>Abaixo as features serão correlacionadas entre si, inclusive com a variável alvo. O objetivo é encontrar quais variáveis exercem maior influência na vitória:</p>"
   ]
  },
  {
   "cell_type": "markdown",
   "metadata": {},
   "source": [
    "<h4>Para verificar a correlação entre as features, primeiro é necessário transformar todas as variáveis em valores numéricos. Como isso será feito somente para verificar a correlação, irei criar uma variável chamada \"train_corr\" somente com esse propósito.</h4>"
   ]
  },
  {
   "cell_type": "code",
   "execution_count": 66,
   "metadata": {},
   "outputs": [],
   "source": [
    "train_corr = treino.copy()"
   ]
  },
  {
   "cell_type": "code",
   "execution_count": 67,
   "metadata": {},
   "outputs": [],
   "source": [
    "'''\n",
    "Criando uma função de padronização que transforma as faixas de horário em valores numéricos.\n",
    "'''\n",
    "def padronizar_faixa_horario(faixa_horario):\n",
    "    if faixa_horario == \"Madrugada\":\n",
    "        return 1\n",
    "    elif faixa_horario == \"Manha\":\n",
    "        return 2\n",
    "    elif faixa_horario == \"Tarde\":\n",
    "        return 3\n",
    "    elif faixa_horario == \"Noite\":\n",
    "        return 4\n",
    "    \n",
    "train_corr[\"faixa_horario\"] = train_corr[\"faixa_horario\"].map(padronizar_faixa_horario)\n"
   ]
  },
  {
   "cell_type": "code",
   "execution_count": 68,
   "metadata": {},
   "outputs": [
    {
     "data": {
      "text/html": [
       "<div>\n",
       "<style scoped>\n",
       "    .dataframe tbody tr th:only-of-type {\n",
       "        vertical-align: middle;\n",
       "    }\n",
       "\n",
       "    .dataframe tbody tr th {\n",
       "        vertical-align: top;\n",
       "    }\n",
       "\n",
       "    .dataframe thead th {\n",
       "        text-align: right;\n",
       "    }\n",
       "</style>\n",
       "<table border=\"1\" class=\"dataframe\">\n",
       "  <thead>\n",
       "    <tr style=\"text-align: right;\">\n",
       "      <th></th>\n",
       "      <th>CBK</th>\n",
       "      <th>Dia</th>\n",
       "      <th>Hora</th>\n",
       "      <th>Valor</th>\n",
       "      <th>Cartao</th>\n",
       "      <th>faixa_horario</th>\n",
       "      <th>qualificacao_cartoes</th>\n",
       "    </tr>\n",
       "  </thead>\n",
       "  <tbody>\n",
       "    <tr>\n",
       "      <th>0</th>\n",
       "      <td>0</td>\n",
       "      <td>2015-05-01</td>\n",
       "      <td>1900-01-01 00:01:54</td>\n",
       "      <td>36.54</td>\n",
       "      <td>2108</td>\n",
       "      <td>1</td>\n",
       "      <td>sem_incidencias</td>\n",
       "    </tr>\n",
       "    <tr>\n",
       "      <th>1</th>\n",
       "      <td>0</td>\n",
       "      <td>2015-05-01</td>\n",
       "      <td>1900-01-01 00:03:46</td>\n",
       "      <td>36.54</td>\n",
       "      <td>2108</td>\n",
       "      <td>1</td>\n",
       "      <td>sem_incidencias</td>\n",
       "    </tr>\n",
       "    <tr>\n",
       "      <th>2</th>\n",
       "      <td>0</td>\n",
       "      <td>2015-05-01</td>\n",
       "      <td>1900-01-01 00:08:50</td>\n",
       "      <td>69.00</td>\n",
       "      <td>1239</td>\n",
       "      <td>1</td>\n",
       "      <td>sem_incidencias</td>\n",
       "    </tr>\n",
       "    <tr>\n",
       "      <th>3</th>\n",
       "      <td>0</td>\n",
       "      <td>2015-05-01</td>\n",
       "      <td>1900-01-01 00:27:00</td>\n",
       "      <td>193.43</td>\n",
       "      <td>1705</td>\n",
       "      <td>1</td>\n",
       "      <td>sem_incidencias</td>\n",
       "    </tr>\n",
       "    <tr>\n",
       "      <th>4</th>\n",
       "      <td>0</td>\n",
       "      <td>2015-05-01</td>\n",
       "      <td>1900-01-01 01:32:46</td>\n",
       "      <td>132.00</td>\n",
       "      <td>9778</td>\n",
       "      <td>1</td>\n",
       "      <td>sem_incidencias</td>\n",
       "    </tr>\n",
       "  </tbody>\n",
       "</table>\n",
       "</div>"
      ],
      "text/plain": [
       "   CBK        Dia                Hora   Valor  Cartao  faixa_horario  \\\n",
       "0    0 2015-05-01 1900-01-01 00:01:54   36.54    2108              1   \n",
       "1    0 2015-05-01 1900-01-01 00:03:46   36.54    2108              1   \n",
       "2    0 2015-05-01 1900-01-01 00:08:50   69.00    1239              1   \n",
       "3    0 2015-05-01 1900-01-01 00:27:00  193.43    1705              1   \n",
       "4    0 2015-05-01 1900-01-01 01:32:46  132.00    9778              1   \n",
       "\n",
       "  qualificacao_cartoes  \n",
       "0      sem_incidencias  \n",
       "1      sem_incidencias  \n",
       "2      sem_incidencias  \n",
       "3      sem_incidencias  \n",
       "4      sem_incidencias  "
      ]
     },
     "execution_count": 68,
     "metadata": {},
     "output_type": "execute_result"
    }
   ],
   "source": [
    "train_corr.head()"
   ]
  },
  {
   "cell_type": "code",
   "execution_count": 69,
   "metadata": {},
   "outputs": [],
   "source": [
    "'''\n",
    "Criando uma função de padronização que transforma as taxas de incidência de ocorrências de chargeback\n",
    "valores numéricos.\n",
    "'''\n",
    "\n",
    "def padronizar_incidencia(incidencia):\n",
    "    if incidencia == \"sem_incidencias\":\n",
    "        return 1\n",
    "    elif incidencia == \"incidencia_baixa\":\n",
    "        return 2\n",
    "    elif incidencia == \"incidencia_moderada\":\n",
    "        return 3\n",
    "    elif incidencia == \"incidencia_alta\":\n",
    "        return 4\n",
    "    elif incidencia == 'incidencia_muito_alta':\n",
    "        return 5\n",
    "    \n",
    "train_corr[\"qualificacao_cartoes\"] = train_corr[\"qualificacao_cartoes\"].map(padronizar_incidencia)"
   ]
  },
  {
   "cell_type": "code",
   "execution_count": 70,
   "metadata": {},
   "outputs": [
    {
     "data": {
      "text/html": [
       "<div>\n",
       "<style scoped>\n",
       "    .dataframe tbody tr th:only-of-type {\n",
       "        vertical-align: middle;\n",
       "    }\n",
       "\n",
       "    .dataframe tbody tr th {\n",
       "        vertical-align: top;\n",
       "    }\n",
       "\n",
       "    .dataframe thead th {\n",
       "        text-align: right;\n",
       "    }\n",
       "</style>\n",
       "<table border=\"1\" class=\"dataframe\">\n",
       "  <thead>\n",
       "    <tr style=\"text-align: right;\">\n",
       "      <th></th>\n",
       "      <th>CBK</th>\n",
       "      <th>Dia</th>\n",
       "      <th>Hora</th>\n",
       "      <th>Valor</th>\n",
       "      <th>Cartao</th>\n",
       "      <th>faixa_horario</th>\n",
       "      <th>qualificacao_cartoes</th>\n",
       "    </tr>\n",
       "  </thead>\n",
       "  <tbody>\n",
       "    <tr>\n",
       "      <th>0</th>\n",
       "      <td>0</td>\n",
       "      <td>2015-05-01</td>\n",
       "      <td>1900-01-01 00:01:54</td>\n",
       "      <td>36.54</td>\n",
       "      <td>2108</td>\n",
       "      <td>1</td>\n",
       "      <td>1</td>\n",
       "    </tr>\n",
       "    <tr>\n",
       "      <th>1</th>\n",
       "      <td>0</td>\n",
       "      <td>2015-05-01</td>\n",
       "      <td>1900-01-01 00:03:46</td>\n",
       "      <td>36.54</td>\n",
       "      <td>2108</td>\n",
       "      <td>1</td>\n",
       "      <td>1</td>\n",
       "    </tr>\n",
       "    <tr>\n",
       "      <th>2</th>\n",
       "      <td>0</td>\n",
       "      <td>2015-05-01</td>\n",
       "      <td>1900-01-01 00:08:50</td>\n",
       "      <td>69.00</td>\n",
       "      <td>1239</td>\n",
       "      <td>1</td>\n",
       "      <td>1</td>\n",
       "    </tr>\n",
       "    <tr>\n",
       "      <th>3</th>\n",
       "      <td>0</td>\n",
       "      <td>2015-05-01</td>\n",
       "      <td>1900-01-01 00:27:00</td>\n",
       "      <td>193.43</td>\n",
       "      <td>1705</td>\n",
       "      <td>1</td>\n",
       "      <td>1</td>\n",
       "    </tr>\n",
       "    <tr>\n",
       "      <th>4</th>\n",
       "      <td>0</td>\n",
       "      <td>2015-05-01</td>\n",
       "      <td>1900-01-01 01:32:46</td>\n",
       "      <td>132.00</td>\n",
       "      <td>9778</td>\n",
       "      <td>1</td>\n",
       "      <td>1</td>\n",
       "    </tr>\n",
       "  </tbody>\n",
       "</table>\n",
       "</div>"
      ],
      "text/plain": [
       "   CBK        Dia                Hora   Valor  Cartao  faixa_horario  \\\n",
       "0    0 2015-05-01 1900-01-01 00:01:54   36.54    2108              1   \n",
       "1    0 2015-05-01 1900-01-01 00:03:46   36.54    2108              1   \n",
       "2    0 2015-05-01 1900-01-01 00:08:50   69.00    1239              1   \n",
       "3    0 2015-05-01 1900-01-01 00:27:00  193.43    1705              1   \n",
       "4    0 2015-05-01 1900-01-01 01:32:46  132.00    9778              1   \n",
       "\n",
       "   qualificacao_cartoes  \n",
       "0                     1  \n",
       "1                     1  \n",
       "2                     1  \n",
       "3                     1  \n",
       "4                     1  "
      ]
     },
     "execution_count": 70,
     "metadata": {},
     "output_type": "execute_result"
    }
   ],
   "source": [
    "train_corr.head()"
   ]
  },
  {
   "cell_type": "code",
   "execution_count": 71,
   "metadata": {},
   "outputs": [],
   "source": [
    "'''\n",
    "Somente os itens que serão usados no treinamento serão correlacionados.\n",
    "'''\n",
    "fields_to_correlate = 'CBK Dia Hora Valor Cartao faixa_horario qualificacao_cartoes'.split()"
   ]
  },
  {
   "cell_type": "code",
   "execution_count": 72,
   "metadata": {},
   "outputs": [
    {
     "name": "stdout",
     "output_type": "stream",
     "text": [
      "                       CBK  Valor  Cartao  faixa_horario  qualificacao_cartoes\n",
      "CBK                   1.00   0.09   -0.01          -0.02                  0.79\n",
      "Valor                 0.09   1.00    0.02          -0.01                  0.06\n",
      "Cartao               -0.01   0.02    1.00           0.01                 -0.00\n",
      "faixa_horario        -0.02  -0.01    0.01           1.00                 -0.01\n",
      "qualificacao_cartoes  0.79   0.06   -0.00          -0.01                  1.00\n"
     ]
    }
   ],
   "source": [
    "'''\n",
    "Criando a função de correlação entre as features.\n",
    "'''\n",
    "def correlation_in_league():\n",
    "    train_corr.replace(' ', np.nan, inplace=True)\n",
    "    corr = train_corr[fields_to_correlate].corr()\n",
    "    print(corr.round(2))\n",
    "\n",
    "correlation_in_league()"
   ]
  },
  {
   "cell_type": "markdown",
   "metadata": {},
   "source": [
    "<h3>Criação do mapa de calor:</h3>\n",
    "<p>O mapa de calor abaixo é responsável por identificar correlações entre as variáveis</p>"
   ]
  },
  {
   "cell_type": "code",
   "execution_count": 73,
   "metadata": {},
   "outputs": [
    {
     "data": {
      "image/png": "[encoded data removed]",
      "text/plain": [
       "<Figure size 864x720 with 2 Axes>"
      ]
     },
     "metadata": {
      "needs_background": "light"
     },
     "output_type": "display_data"
    }
   ],
   "source": [
    "'''\n",
    "O mapa de calor abaixo mostra a correlação entre a variável alvo (CBK) e as outras features.\n",
    "'''\n",
    "\n",
    "plt.figure(figsize=(12,10))\n",
    "corr = train_corr[fields_to_correlate].corr()\n",
    "sns.heatmap(corr, annot=True, cmap=plt.cm.Reds)\n",
    "plt.show()"
   ]
  },
  {
   "cell_type": "markdown",
   "metadata": {},
   "source": [
    "<h1>Conclusões sobre correlacionamentos:</h1>\n",
    "<p>Como era de se esperar a variável referente a qualificação dos cartões tem altíssima correlação com a quantidade de chargebacks. Isso porque essa variável calcula a quantidade de chargebacks que cada cartão obteve e atribui uma nota a esse cálculo. Quanto mais alto a nota, mais chargebacks um determinado cartão obteve. E essa variável representa justamente isso.</p>"
   ]
  },
  {
   "cell_type": "markdown",
   "metadata": {},
   "source": [
    "<h1>Hora de Parametrizar os valores categóricos.</h1>\n",
    "<p>Para rodar o dataframe nos algoritmos de modelos preditivos, é necessário que todas as features sejam numéricas. Portanto, irei usar um método chamado \"OneHotEncoder\", que converterá as colunas categóricas em um conjunto de colunas numéricas.</p>"
   ]
  },
  {
   "cell_type": "code",
   "execution_count": 74,
   "metadata": {},
   "outputs": [
    {
     "data": {
      "text/plain": [
       "CBK                              int64\n",
       "Dia                     datetime64[ns]\n",
       "Hora                    datetime64[ns]\n",
       "Valor                          float64\n",
       "Cartao                           int32\n",
       "faixa_horario                   object\n",
       "qualificacao_cartoes            object\n",
       "dtype: object"
      ]
     },
     "execution_count": 74,
     "metadata": {},
     "output_type": "execute_result"
    }
   ],
   "source": [
    "treino.dtypes"
   ]
  },
  {
   "cell_type": "markdown",
   "metadata": {},
   "source": [
    "<h4>Padronizando dataframe de treino</h4>"
   ]
  },
  {
   "cell_type": "code",
   "execution_count": 75,
   "metadata": {},
   "outputs": [],
   "source": [
    "'''\n",
    "Aqui o método OneHotEncoder está sendo usado. Um novo dataframe está sendo criado somente com \n",
    "features numéricas. Esse novo dataframe chama-se train_ML\n",
    "'''\n",
    "import category_encoders as ce\n",
    "\n",
    "ce_ohe = ce.OneHotEncoder(handle_unknown='ignore', use_cat_names=True)\n",
    "train_ML = ce_ohe.fit_transform(treino)"
   ]
  },
  {
   "cell_type": "code",
   "execution_count": 76,
   "metadata": {},
   "outputs": [
    {
     "data": {
      "text/html": [
       "<div>\n",
       "<style scoped>\n",
       "    .dataframe tbody tr th:only-of-type {\n",
       "        vertical-align: middle;\n",
       "    }\n",
       "\n",
       "    .dataframe tbody tr th {\n",
       "        vertical-align: top;\n",
       "    }\n",
       "\n",
       "    .dataframe thead th {\n",
       "        text-align: right;\n",
       "    }\n",
       "</style>\n",
       "<table border=\"1\" class=\"dataframe\">\n",
       "  <thead>\n",
       "    <tr style=\"text-align: right;\">\n",
       "      <th></th>\n",
       "      <th>CBK</th>\n",
       "      <th>Dia</th>\n",
       "      <th>Hora</th>\n",
       "      <th>Valor</th>\n",
       "      <th>Cartao</th>\n",
       "      <th>faixa_horario_Madrugada</th>\n",
       "      <th>faixa_horario_Manha</th>\n",
       "      <th>faixa_horario_Tarde</th>\n",
       "      <th>faixa_horario_Noite</th>\n",
       "      <th>qualificacao_cartoes_sem_incidencias</th>\n",
       "      <th>qualificacao_cartoes_incidencia_baixa</th>\n",
       "      <th>qualificacao_cartoes_incidencia_moderada</th>\n",
       "      <th>qualificacao_cartoes_incidencia_alta</th>\n",
       "      <th>qualificacao_cartoes_incidencia_muito_alta</th>\n",
       "    </tr>\n",
       "  </thead>\n",
       "  <tbody>\n",
       "    <tr>\n",
       "      <th>0</th>\n",
       "      <td>0</td>\n",
       "      <td>2015-05-01</td>\n",
       "      <td>1900-01-01 00:01:54</td>\n",
       "      <td>36.54</td>\n",
       "      <td>2108</td>\n",
       "      <td>1</td>\n",
       "      <td>0</td>\n",
       "      <td>0</td>\n",
       "      <td>0</td>\n",
       "      <td>1</td>\n",
       "      <td>0</td>\n",
       "      <td>0</td>\n",
       "      <td>0</td>\n",
       "      <td>0</td>\n",
       "    </tr>\n",
       "    <tr>\n",
       "      <th>1</th>\n",
       "      <td>0</td>\n",
       "      <td>2015-05-01</td>\n",
       "      <td>1900-01-01 00:03:46</td>\n",
       "      <td>36.54</td>\n",
       "      <td>2108</td>\n",
       "      <td>1</td>\n",
       "      <td>0</td>\n",
       "      <td>0</td>\n",
       "      <td>0</td>\n",
       "      <td>1</td>\n",
       "      <td>0</td>\n",
       "      <td>0</td>\n",
       "      <td>0</td>\n",
       "      <td>0</td>\n",
       "    </tr>\n",
       "    <tr>\n",
       "      <th>2</th>\n",
       "      <td>0</td>\n",
       "      <td>2015-05-01</td>\n",
       "      <td>1900-01-01 00:08:50</td>\n",
       "      <td>69.00</td>\n",
       "      <td>1239</td>\n",
       "      <td>1</td>\n",
       "      <td>0</td>\n",
       "      <td>0</td>\n",
       "      <td>0</td>\n",
       "      <td>1</td>\n",
       "      <td>0</td>\n",
       "      <td>0</td>\n",
       "      <td>0</td>\n",
       "      <td>0</td>\n",
       "    </tr>\n",
       "    <tr>\n",
       "      <th>3</th>\n",
       "      <td>0</td>\n",
       "      <td>2015-05-01</td>\n",
       "      <td>1900-01-01 00:27:00</td>\n",
       "      <td>193.43</td>\n",
       "      <td>1705</td>\n",
       "      <td>1</td>\n",
       "      <td>0</td>\n",
       "      <td>0</td>\n",
       "      <td>0</td>\n",
       "      <td>1</td>\n",
       "      <td>0</td>\n",
       "      <td>0</td>\n",
       "      <td>0</td>\n",
       "      <td>0</td>\n",
       "    </tr>\n",
       "    <tr>\n",
       "      <th>4</th>\n",
       "      <td>0</td>\n",
       "      <td>2015-05-01</td>\n",
       "      <td>1900-01-01 01:32:46</td>\n",
       "      <td>132.00</td>\n",
       "      <td>9778</td>\n",
       "      <td>1</td>\n",
       "      <td>0</td>\n",
       "      <td>0</td>\n",
       "      <td>0</td>\n",
       "      <td>1</td>\n",
       "      <td>0</td>\n",
       "      <td>0</td>\n",
       "      <td>0</td>\n",
       "      <td>0</td>\n",
       "    </tr>\n",
       "  </tbody>\n",
       "</table>\n",
       "</div>"
      ],
      "text/plain": [
       "   CBK        Dia                Hora   Valor  Cartao  \\\n",
       "0    0 2015-05-01 1900-01-01 00:01:54   36.54    2108   \n",
       "1    0 2015-05-01 1900-01-01 00:03:46   36.54    2108   \n",
       "2    0 2015-05-01 1900-01-01 00:08:50   69.00    1239   \n",
       "3    0 2015-05-01 1900-01-01 00:27:00  193.43    1705   \n",
       "4    0 2015-05-01 1900-01-01 01:32:46  132.00    9778   \n",
       "\n",
       "   faixa_horario_Madrugada  faixa_horario_Manha  faixa_horario_Tarde  \\\n",
       "0                        1                    0                    0   \n",
       "1                        1                    0                    0   \n",
       "2                        1                    0                    0   \n",
       "3                        1                    0                    0   \n",
       "4                        1                    0                    0   \n",
       "\n",
       "   faixa_horario_Noite  qualificacao_cartoes_sem_incidencias  \\\n",
       "0                    0                                     1   \n",
       "1                    0                                     1   \n",
       "2                    0                                     1   \n",
       "3                    0                                     1   \n",
       "4                    0                                     1   \n",
       "\n",
       "   qualificacao_cartoes_incidencia_baixa  \\\n",
       "0                                      0   \n",
       "1                                      0   \n",
       "2                                      0   \n",
       "3                                      0   \n",
       "4                                      0   \n",
       "\n",
       "   qualificacao_cartoes_incidencia_moderada  \\\n",
       "0                                         0   \n",
       "1                                         0   \n",
       "2                                         0   \n",
       "3                                         0   \n",
       "4                                         0   \n",
       "\n",
       "   qualificacao_cartoes_incidencia_alta  \\\n",
       "0                                     0   \n",
       "1                                     0   \n",
       "2                                     0   \n",
       "3                                     0   \n",
       "4                                     0   \n",
       "\n",
       "   qualificacao_cartoes_incidencia_muito_alta  \n",
       "0                                           0  \n",
       "1                                           0  \n",
       "2                                           0  \n",
       "3                                           0  \n",
       "4                                           0  "
      ]
     },
     "execution_count": 76,
     "metadata": {},
     "output_type": "execute_result"
    }
   ],
   "source": [
    "train_ML.head()"
   ]
  },
  {
   "cell_type": "code",
   "execution_count": 77,
   "metadata": {},
   "outputs": [
    {
     "data": {
      "text/plain": [
       "(11004, 14)"
      ]
     },
     "execution_count": 77,
     "metadata": {},
     "output_type": "execute_result"
    }
   ],
   "source": [
    "train_ML.shape"
   ]
  },
  {
   "cell_type": "markdown",
   "metadata": {},
   "source": [
    "<h4>Padronizando dataframe de teste</h4>"
   ]
  },
  {
   "cell_type": "code",
   "execution_count": 78,
   "metadata": {},
   "outputs": [],
   "source": [
    "'''\n",
    "Para padronizar as colunas do dataframe de teste, primeiro é necessário eliminar as colunas nulas:\n",
    "'''\n",
    "del teste['CBK']"
   ]
  },
  {
   "cell_type": "code",
   "execution_count": 79,
   "metadata": {},
   "outputs": [
    {
     "data": {
      "text/html": [
       "<div>\n",
       "<style scoped>\n",
       "    .dataframe tbody tr th:only-of-type {\n",
       "        vertical-align: middle;\n",
       "    }\n",
       "\n",
       "    .dataframe tbody tr th {\n",
       "        vertical-align: top;\n",
       "    }\n",
       "\n",
       "    .dataframe thead th {\n",
       "        text-align: right;\n",
       "    }\n",
       "</style>\n",
       "<table border=\"1\" class=\"dataframe\">\n",
       "  <thead>\n",
       "    <tr style=\"text-align: right;\">\n",
       "      <th></th>\n",
       "      <th>Dia</th>\n",
       "      <th>Hora</th>\n",
       "      <th>Valor</th>\n",
       "      <th>Cartao</th>\n",
       "      <th>faixa_horario</th>\n",
       "      <th>qualificacao_cartoes</th>\n",
       "    </tr>\n",
       "  </thead>\n",
       "  <tbody>\n",
       "    <tr>\n",
       "      <th>0</th>\n",
       "      <td>2015-06-01</td>\n",
       "      <td>1900-01-01 00:01:54</td>\n",
       "      <td>112.00</td>\n",
       "      <td>5965</td>\n",
       "      <td>Madrugada</td>\n",
       "      <td>sem_incidencias</td>\n",
       "    </tr>\n",
       "    <tr>\n",
       "      <th>1</th>\n",
       "      <td>2015-06-01</td>\n",
       "      <td>1900-01-01 00:03:46</td>\n",
       "      <td>112.00</td>\n",
       "      <td>7350</td>\n",
       "      <td>Madrugada</td>\n",
       "      <td>sem_incidencias</td>\n",
       "    </tr>\n",
       "    <tr>\n",
       "      <th>2</th>\n",
       "      <td>2015-06-01</td>\n",
       "      <td>1900-01-01 00:08:50</td>\n",
       "      <td>18.34</td>\n",
       "      <td>4535</td>\n",
       "      <td>Madrugada</td>\n",
       "      <td>sem_incidencias</td>\n",
       "    </tr>\n",
       "    <tr>\n",
       "      <th>3</th>\n",
       "      <td>2015-06-01</td>\n",
       "      <td>1900-01-01 00:27:00</td>\n",
       "      <td>55.00</td>\n",
       "      <td>5629</td>\n",
       "      <td>Madrugada</td>\n",
       "      <td>sem_incidencias</td>\n",
       "    </tr>\n",
       "    <tr>\n",
       "      <th>4</th>\n",
       "      <td>2015-06-01</td>\n",
       "      <td>1900-01-01 01:32:46</td>\n",
       "      <td>50.00</td>\n",
       "      <td>2077</td>\n",
       "      <td>Madrugada</td>\n",
       "      <td>incidencia_alta</td>\n",
       "    </tr>\n",
       "  </tbody>\n",
       "</table>\n",
       "</div>"
      ],
      "text/plain": [
       "         Dia                Hora   Valor  Cartao faixa_horario  \\\n",
       "0 2015-06-01 1900-01-01 00:01:54  112.00    5965     Madrugada   \n",
       "1 2015-06-01 1900-01-01 00:03:46  112.00    7350     Madrugada   \n",
       "2 2015-06-01 1900-01-01 00:08:50   18.34    4535     Madrugada   \n",
       "3 2015-06-01 1900-01-01 00:27:00   55.00    5629     Madrugada   \n",
       "4 2015-06-01 1900-01-01 01:32:46   50.00    2077     Madrugada   \n",
       "\n",
       "  qualificacao_cartoes  \n",
       "0      sem_incidencias  \n",
       "1      sem_incidencias  \n",
       "2      sem_incidencias  \n",
       "3      sem_incidencias  \n",
       "4      incidencia_alta  "
      ]
     },
     "execution_count": 79,
     "metadata": {},
     "output_type": "execute_result"
    }
   ],
   "source": [
    "teste.head()"
   ]
  },
  {
   "cell_type": "code",
   "execution_count": 80,
   "metadata": {},
   "outputs": [],
   "source": [
    "'''\n",
    "Aqui o método OneHotEncoder está sendo usado. Um novo dataframe está sendo criado somente com \n",
    "features numéricas. Esse novo dataframe chama-se test_ML\n",
    "'''\n",
    "import category_encoders as ce\n",
    "\n",
    "tce_ohe = ce.OneHotEncoder(handle_unknown='ignore', use_cat_names=True)\n",
    "test_ML = tce_ohe.fit_transform(teste)"
   ]
  },
  {
   "cell_type": "code",
   "execution_count": 81,
   "metadata": {},
   "outputs": [
    {
     "data": {
      "text/html": [
       "<div>\n",
       "<style scoped>\n",
       "    .dataframe tbody tr th:only-of-type {\n",
       "        vertical-align: middle;\n",
       "    }\n",
       "\n",
       "    .dataframe tbody tr th {\n",
       "        vertical-align: top;\n",
       "    }\n",
       "\n",
       "    .dataframe thead th {\n",
       "        text-align: right;\n",
       "    }\n",
       "</style>\n",
       "<table border=\"1\" class=\"dataframe\">\n",
       "  <thead>\n",
       "    <tr style=\"text-align: right;\">\n",
       "      <th></th>\n",
       "      <th>Dia</th>\n",
       "      <th>Hora</th>\n",
       "      <th>Valor</th>\n",
       "      <th>Cartao</th>\n",
       "      <th>faixa_horario_Madrugada</th>\n",
       "      <th>faixa_horario_Manha</th>\n",
       "      <th>faixa_horario_Tarde</th>\n",
       "      <th>faixa_horario_Noite</th>\n",
       "      <th>qualificacao_cartoes_sem_incidencias</th>\n",
       "      <th>qualificacao_cartoes_incidencia_alta</th>\n",
       "      <th>qualificacao_cartoes_incidencia_baixa</th>\n",
       "      <th>qualificacao_cartoes_incidencia_muito_alta</th>\n",
       "      <th>qualificacao_cartoes_incidencia_moderada</th>\n",
       "    </tr>\n",
       "  </thead>\n",
       "  <tbody>\n",
       "    <tr>\n",
       "      <th>0</th>\n",
       "      <td>2015-06-01</td>\n",
       "      <td>1900-01-01 00:01:54</td>\n",
       "      <td>112.00</td>\n",
       "      <td>5965</td>\n",
       "      <td>1</td>\n",
       "      <td>0</td>\n",
       "      <td>0</td>\n",
       "      <td>0</td>\n",
       "      <td>1</td>\n",
       "      <td>0</td>\n",
       "      <td>0</td>\n",
       "      <td>0</td>\n",
       "      <td>0</td>\n",
       "    </tr>\n",
       "    <tr>\n",
       "      <th>1</th>\n",
       "      <td>2015-06-01</td>\n",
       "      <td>1900-01-01 00:03:46</td>\n",
       "      <td>112.00</td>\n",
       "      <td>7350</td>\n",
       "      <td>1</td>\n",
       "      <td>0</td>\n",
       "      <td>0</td>\n",
       "      <td>0</td>\n",
       "      <td>1</td>\n",
       "      <td>0</td>\n",
       "      <td>0</td>\n",
       "      <td>0</td>\n",
       "      <td>0</td>\n",
       "    </tr>\n",
       "    <tr>\n",
       "      <th>2</th>\n",
       "      <td>2015-06-01</td>\n",
       "      <td>1900-01-01 00:08:50</td>\n",
       "      <td>18.34</td>\n",
       "      <td>4535</td>\n",
       "      <td>1</td>\n",
       "      <td>0</td>\n",
       "      <td>0</td>\n",
       "      <td>0</td>\n",
       "      <td>1</td>\n",
       "      <td>0</td>\n",
       "      <td>0</td>\n",
       "      <td>0</td>\n",
       "      <td>0</td>\n",
       "    </tr>\n",
       "    <tr>\n",
       "      <th>3</th>\n",
       "      <td>2015-06-01</td>\n",
       "      <td>1900-01-01 00:27:00</td>\n",
       "      <td>55.00</td>\n",
       "      <td>5629</td>\n",
       "      <td>1</td>\n",
       "      <td>0</td>\n",
       "      <td>0</td>\n",
       "      <td>0</td>\n",
       "      <td>1</td>\n",
       "      <td>0</td>\n",
       "      <td>0</td>\n",
       "      <td>0</td>\n",
       "      <td>0</td>\n",
       "    </tr>\n",
       "    <tr>\n",
       "      <th>4</th>\n",
       "      <td>2015-06-01</td>\n",
       "      <td>1900-01-01 01:32:46</td>\n",
       "      <td>50.00</td>\n",
       "      <td>2077</td>\n",
       "      <td>1</td>\n",
       "      <td>0</td>\n",
       "      <td>0</td>\n",
       "      <td>0</td>\n",
       "      <td>0</td>\n",
       "      <td>1</td>\n",
       "      <td>0</td>\n",
       "      <td>0</td>\n",
       "      <td>0</td>\n",
       "    </tr>\n",
       "  </tbody>\n",
       "</table>\n",
       "</div>"
      ],
      "text/plain": [
       "         Dia                Hora   Valor  Cartao  faixa_horario_Madrugada  \\\n",
       "0 2015-06-01 1900-01-01 00:01:54  112.00    5965                        1   \n",
       "1 2015-06-01 1900-01-01 00:03:46  112.00    7350                        1   \n",
       "2 2015-06-01 1900-01-01 00:08:50   18.34    4535                        1   \n",
       "3 2015-06-01 1900-01-01 00:27:00   55.00    5629                        1   \n",
       "4 2015-06-01 1900-01-01 01:32:46   50.00    2077                        1   \n",
       "\n",
       "   faixa_horario_Manha  faixa_horario_Tarde  faixa_horario_Noite  \\\n",
       "0                    0                    0                    0   \n",
       "1                    0                    0                    0   \n",
       "2                    0                    0                    0   \n",
       "3                    0                    0                    0   \n",
       "4                    0                    0                    0   \n",
       "\n",
       "   qualificacao_cartoes_sem_incidencias  qualificacao_cartoes_incidencia_alta  \\\n",
       "0                                     1                                     0   \n",
       "1                                     1                                     0   \n",
       "2                                     1                                     0   \n",
       "3                                     1                                     0   \n",
       "4                                     0                                     1   \n",
       "\n",
       "   qualificacao_cartoes_incidencia_baixa  \\\n",
       "0                                      0   \n",
       "1                                      0   \n",
       "2                                      0   \n",
       "3                                      0   \n",
       "4                                      0   \n",
       "\n",
       "   qualificacao_cartoes_incidencia_muito_alta  \\\n",
       "0                                           0   \n",
       "1                                           0   \n",
       "2                                           0   \n",
       "3                                           0   \n",
       "4                                           0   \n",
       "\n",
       "   qualificacao_cartoes_incidencia_moderada  \n",
       "0                                         0  \n",
       "1                                         0  \n",
       "2                                         0  \n",
       "3                                         0  \n",
       "4                                         0  "
      ]
     },
     "execution_count": 81,
     "metadata": {},
     "output_type": "execute_result"
    }
   ],
   "source": [
    "test_ML.head()"
   ]
  },
  {
   "cell_type": "markdown",
   "metadata": {},
   "source": [
    "<h1>Hora de testar alguns algoritmos:</h1>\n",
    "<p>Depois de limpar os dados e transformá-los em valores numéricos, é hora de testar alguns algoritmos preditivos com o objetivo de encontrar o algoritmo que seja capaz de prever chargebacks com maior acurácia.</p>"
   ]
  },
  {
   "cell_type": "code",
   "execution_count": 82,
   "metadata": {},
   "outputs": [],
   "source": [
    "'''\n",
    "Essas serão as variáveis que serão passadas aos modelos preditivos para testes. Em y, temos apenas\n",
    "a variável alvo (CBK), e em X temos todas as outras colunas.\n",
    "'''\n",
    "X = np.array(train_ML.iloc[:,3:])\n",
    "y = np.array(train_ML['CBK'])\n"
   ]
  },
  {
   "cell_type": "markdown",
   "metadata": {},
   "source": [
    "<h3>Método de testes do algoritmo \"K-fold\":</h3>\n",
    "<p>Os testes abaixo são apenas estimativas. O treinamento será feito depois. Os testes serão feitos com uma técnica chamada \"K-fold\" que divide o dataframe em k pedaços, sendo 1 pedaço de teste e os outros de treino. Esse teste é realizado k vezes, calculando a média de sua acurácia no final. O K-fold está sendo utilizado com 4 algoritmos diferentes para ser avalidado. </p>"
   ]
  },
  {
   "cell_type": "markdown",
   "metadata": {},
   "source": [
    "<h3>Motivo da escolha dos algoritmos</h3>\n",
    "<p>Como pode ser notado logo abaixo, 4 algoritmos foram escolhidos: Random Forest, KNN, Decision Tree e Naive Bayes. Mas suas escolhas não são aleatórias. Foram escolhidos os algoritmos mais usados da classe de algortimos conhecida como algoritmos de classificação. Os algoritmos da classe de Regressão foram evitados porque o objetivo desse caso de estudo é prever se uma determinada compra sofrerá um cashback ou não. Ou seja, é uma variável booleana e discreta. Os algoritmos de Regressão trabalham melhores com outputs contínuos. Como a previsão do preço de uma casa por exemplo.</p>"
   ]
  },
  {
   "cell_type": "code",
   "execution_count": null,
   "metadata": {},
   "outputs": [],
   "source": [
    "\n",
    "from sklearn import model_selection\n",
    "from sklearn.model_selection import cross_val_score\n",
    "\n",
    "\n",
    "'''\n",
    "Aqui os modelos preditivos estão sendo testados em função de sua performance EM TODAS AS VARIÁVES\n",
    "DE INTERESSE. No final, somente 1 algoritmo preditivo será escolhido para ser usado. O método utilizado\n",
    "é dividir o dataset em 10 pedaços e calcular a acurácia de cada pedaço. No final calcularemos média \n",
    "da acurácia desses 10 pedaços. Quanto maior a média final, melhor o modelo preditivo. Importante \n",
    "salientar que o treinamento não está sendo feito aqui. Apenas estimativas de quais modelos funcionam\n",
    "melhor. \n",
    "\n",
    "'''\n",
    "\n",
    "models = []\n",
    "models.append(('RANDOM_FOREST_CLASSIFIER', RandomForestClassifier(random_state = 42)))\n",
    "models.append(('KNEIGHBORS_CLASSIFIER', KNeighborsClassifier()))\n",
    "models.append(('DECISION_TREE_CLASSIFIER', DecisionTreeClassifier(random_state = 42)))\n",
    "models.append(('NAIVE_BAYES', GaussianNB()))\n",
    "\n",
    "# evaluate each model in turn\n",
    "results = []\n",
    "names = []\n",
    "n_folds = 10\n",
    "\n",
    "\n",
    "for name, model in models:\n",
    "    kf = KFold(n_folds, shuffle=True, random_state = 42)\n",
    "    hit_rate = 0\n",
    "    for training_lines, testing_lines in kf.split(X,y):\n",
    "       \n",
    "        kf = model_selection.KFold(10, shuffle=True, random_state = 42)\n",
    "        X_train, X_test = X[training_lines], X[testing_lines]\n",
    "        y_train, y_test = y[training_lines], y[testing_lines]\n",
    "\n",
    "        cv_results = cross_val_score(model, X_train, y_train, cv=kf, scoring='accuracy')\n",
    "        results.append(cv_results)\n",
    "        names.append(name)\n",
    "\n",
    "        print('%s => Accuracy: %f, Standard Deviation: (%f)' % (name, cv_results.mean(), cv_results.std()))\n",
    "\n",
    "        hit_rate += cv_results.mean()\n",
    "        \n",
    "    final_accuracy = hit_rate/10   \n",
    "    print(\"Média das 10 acurácias: \",final_accuracy)\n",
    "    print()"
   ]
  },
  {
   "cell_type": "markdown",
   "metadata": {},
   "source": [
    "<h1>Tunando os algoritmos:</h1>\n",
    "<p>Os resultados das acurácias acima são muito bons. Mas são apenas estimativas. Os modelos sequer foram treinados ainda. Mas antes de escolher um algoritmo, é importante tuná-los. Ou seja, usar os algoritmos acima com seus melhores parâmetros. E a maneira mais eficiente de se encontrar os melhores parâmetros para cada algoritmo, é atravéz de um método conhecido como \"GridSearch\", que faz exatamente isso.</p>\n",
    "<p>Aqui os algoritmos estão sendo otimizados. O objetivo é procurar seus melhores parâmetros para averiguar se podemos ter alguma melhora na acurácia ou não.</p>\n",
    "<p><b>Primeiramente serão treinados os modelos sem nenhuma otimização. Depois os modelos serão otimizados e suas acurácias serão apuradas.</b></p>"
   ]
  },
  {
   "cell_type": "code",
   "execution_count": null,
   "metadata": {},
   "outputs": [],
   "source": [
    "train_ML.head()"
   ]
  },
  {
   "cell_type": "code",
   "execution_count": null,
   "metadata": {},
   "outputs": [],
   "source": [
    "'''\n",
    "Essas duas features não precisam mais serem consideradas no dataframe. Isso porque as informações\n",
    "relevantes que podiam ser extraídas dessas features ( período do dia) já foi calculada. Verificamos\n",
    "também que a feature \"Dia\" não exerce grandes influências sobre o cálculo dos chargebacks. Portanto, \n",
    "ele também será deletado.\n",
    "'''\n",
    "\n",
    "del train_ML['Dia']\n",
    "del train_ML['Hora']"
   ]
  },
  {
   "cell_type": "code",
   "execution_count": null,
   "metadata": {},
   "outputs": [],
   "source": [
    "test.head()"
   ]
  },
  {
   "cell_type": "code",
   "execution_count": null,
   "metadata": {},
   "outputs": [],
   "source": [
    "train_ML.dtypes"
   ]
  },
  {
   "cell_type": "code",
   "execution_count": null,
   "metadata": {},
   "outputs": [],
   "source": []
  },
  {
   "cell_type": "code",
   "execution_count": null,
   "metadata": {},
   "outputs": [],
   "source": [
    "'''\n",
    "Essas serão as variáveis que serão passadas aos algoritmos preditivos para tunagens. Na variável \n",
    "\"target\", temos apenas a variável alvo (CBK), e em \"features\" temos todas as outras colunas.\n",
    "'''\n",
    "\n",
    "features = np.array(train_ML.iloc[:,1:])\n",
    "target = np.array(train_ML['CBK'])"
   ]
  },
  {
   "cell_type": "code",
   "execution_count": null,
   "metadata": {},
   "outputs": [],
   "source": [
    "from sklearn.model_selection import train_test_split\n",
    "\n",
    "x_train, x_test, y_train, y_test = train_test_split(train_ML, target, test_size=0.3, random_state=42)"
   ]
  },
  {
   "cell_type": "markdown",
   "metadata": {},
   "source": [
    "<h3>Tunando Random Forest.</h3>\n",
    "<p>É um algoritmo de aprendizado de classificação. Operam construindo uma infinidade de árvores de decisão no momento do treinamento e gerando a classe que é o modo das classes ou a previsão média das árvores individuais.</p>"
   ]
  },
  {
   "cell_type": "code",
   "execution_count": null,
   "metadata": {},
   "outputs": [],
   "source": [
    "param_grid = {\n",
    "            \"criterion\": ['entropy', 'gini'],\n",
    "            \"n_estimators\": [25, 50, 75],\n",
    "            \"bootstrap\": [False, True],\n",
    "            \"max_depth\": [3, 5, 10],\n",
    "            \"max_features\": ['auto', 0.1, 0.2, 0.3]\n",
    "}"
   ]
  },
  {
   "cell_type": "code",
   "execution_count": null,
   "metadata": {},
   "outputs": [],
   "source": [
    "from sklearn.model_selection import GridSearchCV\n",
    "\n",
    "rfc=RandomForestClassifier(random_state=42)\n",
    "CV_rfc = GridSearchCV(estimator=rfc, param_grid=param_grid, cv= 5, verbose = 1, n_jobs = -1)\n",
    "CV_rfc.fit(x_train, y_train)\n"
   ]
  },
  {
   "cell_type": "code",
   "execution_count": null,
   "metadata": {},
   "outputs": [],
   "source": [
    "CV_rfc.best_params_"
   ]
  },
  {
   "cell_type": "markdown",
   "metadata": {},
   "source": [
    "<h3>Tunando Decision Tree Classifier</h3>\n",
    "<p>Uma árvore de decisão é uma representação de uma tabela de decisão sob a forma de uma árvore, porém pode haver outras aplicações. Tem a mesma utilidade da tabela de decisão.</p>"
   ]
  },
  {
   "cell_type": "code",
   "execution_count": null,
   "metadata": {},
   "outputs": [],
   "source": [
    "param_grid = { \n",
    "    'max_depth': [2, 5, 10, 50, 80, 90, 100, 110],\n",
    "    'criterion' :['gini', 'entropy'],\n",
    "    'splitter': ['best', 'random'],\n",
    "    'min_samples_leaf': [3, 4, 5],\n",
    "    'min_samples_split': [8, 10, 12],\n",
    "    'min_weight_fraction_leaf': [0.1, 0.3, 0.5],\n",
    "    'min_impurity_decrease' : [0.1, 0.3, 0.5],\n",
    "    'max_features': ['auto', 'sqrt', 'log2']\n",
    "}"
   ]
  },
  {
   "cell_type": "code",
   "execution_count": null,
   "metadata": {},
   "outputs": [],
   "source": [
    "from sklearn.model_selection import GridSearchCV\n",
    "\n",
    "dtc=DecisionTreeClassifier(random_state=42)\n",
    "CV_dtc = GridSearchCV(estimator=dtc, param_grid=param_grid, cv= 5, verbose = 1, n_jobs = -1)\n",
    "CV_dtc.fit(x_train, y_train)"
   ]
  },
  {
   "cell_type": "code",
   "execution_count": null,
   "metadata": {},
   "outputs": [],
   "source": [
    "CV_dtc.best_params_"
   ]
  },
  {
   "cell_type": "markdown",
   "metadata": {},
   "source": [
    "<h3>Tunando k-nearest neighbor</h3>\n",
    "<p>É um dos muitos algoritmos ( de aprendizagem supervisionada ) usado no campo de data mining e machine learning, ele é um classificador onde o aprendizado é baseado “no quão similar” é um dado (um vetor) do outro. O treinamento é formado por vetores de n dimensões.</p>"
   ]
  },
  {
   "cell_type": "code",
   "execution_count": null,
   "metadata": {},
   "outputs": [],
   "source": [
    "param_grid = { \n",
    "    'n_neighbors' : [2, 5, 10, 20, 30],\n",
    "    'weights' : ['uniform', 'distance'],\n",
    "    'algorithm': ['auto', 'ball_tree', 'kd_tree', 'brute'],\n",
    "    'leaf_size': [10, 20, 50],\n",
    "    'p': [1, 2, 5],\n",
    "    'metric': ['minkowski', 'euclidean']\n",
    "}"
   ]
  },
  {
   "cell_type": "code",
   "execution_count": null,
   "metadata": {},
   "outputs": [],
   "source": [
    "from sklearn.model_selection import GridSearchCV\n",
    "\n",
    "knn = KNeighborsClassifier()\n",
    "CV_knn = GridSearchCV(estimator=knn, param_grid=param_grid, cv= 5, verbose = 1, n_jobs = -1)\n",
    "CV_knn.fit(x_train, y_train)"
   ]
  },
  {
   "cell_type": "code",
   "execution_count": null,
   "metadata": {},
   "outputs": [],
   "source": [
    "CV_knn.best_params_"
   ]
  },
  {
   "cell_type": "code",
   "execution_count": null,
   "metadata": {},
   "outputs": [],
   "source": [
    "test.head()"
   ]
  },
  {
   "cell_type": "code",
   "execution_count": null,
   "metadata": {},
   "outputs": [],
   "source": [
    "train_ML.head()"
   ]
  },
  {
   "cell_type": "markdown",
   "metadata": {},
   "source": [
    "<h1>Testando as acurácias da previsão</h1>\n",
    "<p>Todos os testes otimizados ou não, foram feitos considerando uma divisão do dataset feita pelo método K-fold em 10 pedaços</p>"
   ]
  },
  {
   "cell_type": "code",
   "execution_count": null,
   "metadata": {},
   "outputs": [],
   "source": [
    "features = np.array(train_ML.iloc[:,1:])\n",
    "target = np.array(train_ML['CBK'])\n",
    "\n"
   ]
  },
  {
   "cell_type": "code",
   "execution_count": null,
   "metadata": {},
   "outputs": [],
   "source": [
    "from sklearn.model_selection import KFold\n",
    "from sklearn.metrics import accuracy_score\n",
    "\n",
    "'''\n",
    "Aqui, de fato o dataset está sendo treinado de acordo com a divisão feita anteriormente feita \n",
    "anteriormente entre \"features\" e variáveis \"target\" (CBK). Existem vários modelos abaixo, mas somente\n",
    "o modelo que se saiu melhor durante os testes do cross_validation_score ( melhor acurácia), será \n",
    "usado. \n",
    "''' \n",
    "resultados = []\n",
    "n_folds = 10\n",
    "k_folds = KFold(n_folds, shuffle=True, random_state = 1)\n",
    "scores_teste = 0\n",
    "scores_treino = 0\n",
    "\n",
    "\n",
    "\n",
    "for linhas_treino, linhas_teste in k_folds.split(features):\n",
    "    XTreino, XTeste = features[linhas_treino], features[linhas_teste]\n",
    "    yTreino, yTeste = target[linhas_treino], target[linhas_teste]\n",
    "    \n",
    "    # Aqui o melhor modelo será escolhido para treinar as variáveis.    \n",
    "    modelr = RandomForestClassifier(\n",
    "                                    random_state = 42,\n",
    "                                    n_jobs = -1, \n",
    "                                    bootstrap = False, \n",
    "                                    criterion = 'entropy',\n",
    "                                    max_depth = 10, \n",
    "                                    max_features = 0.1,\n",
    "                                    #min_samples_leaf = 3, \n",
    "                                    #min_samples_split = 5, \n",
    "                                    n_estimators = 25\n",
    "                                   )\n",
    "    #modelk = KNeighborsClassifier(\n",
    "                                    #algorithm = 'auto', \n",
    "                                    #leaf_size = 10, \n",
    "                                    #metric = 'minkowski',\n",
    "                                    #n_neighbors = 30, \n",
    "                                    #p = 1, \n",
    "                                    #weights = 'distance')\n",
    "    #modeld = DecisionTreeClassifier(random_state = 42,\n",
    "                                    #criterion = 'gini', \n",
    "                                    #max_depth = 2, \n",
    "                                    #max_features = 'auto', \n",
    "                                    #min_impurity_decrease = 0.1, \n",
    "                                    #min_samples_leaf = 3,\n",
    "                                    #min_samples_split = 8, \n",
    "                                    #min_weight_fraction_leaf = 0.1,\n",
    "                                    #splitter = 'best', \n",
    "                                   #)\n",
    "    #modelg = GaussianNB()\n",
    "        \n",
    "    \n",
    "    modelr.fit(XTreino, yTreino)\n",
    "    previsoes = modelr.predict(XTeste)\n",
    "    resultados.append(accuracy_score(yTeste, previsoes))\n",
    "    scores_treino += modelr.score(XTreino, yTreino)\n",
    "    scores_teste += modelr.score(XTeste, yTeste)\n",
    "    \n",
    "\n",
    "    \n",
    "#Calcula a acurácia    \n",
    "    \n",
    "print(\"Acurácias de cada pedaço dividido pelo dataset =>\")\n",
    "print(resultados)\n",
    "print(\"\\nMédia de todas as acurácias: \", np.mean(resultados))\n",
    "print()\n",
    "print(\"Média da pontuação de validação do modelo de treino: \", scores_treino/n_folds)\n",
    "print(\"Média da pontuação de validação do modelo de teste: \", scores_teste/n_folds)\n",
    "\n"
   ]
  },
  {
   "cell_type": "markdown",
   "metadata": {},
   "source": [
    "<h3>Sem tunagem</h3>"
   ]
  },
  {
   "cell_type": "code",
   "execution_count": null,
   "metadata": {},
   "outputs": [],
   "source": [
    "'''\n",
    "RESULTADO RANDOM FOREST\n",
    "'''\n",
    "Média de todas as acurácias:  0.9843693693693694\n"
   ]
  },
  {
   "cell_type": "code",
   "execution_count": null,
   "metadata": {},
   "outputs": [],
   "source": [
    "'''\n",
    "RESULTADO DECISION TREE\n",
    "'''\n",
    "Média de todas as acurácias:  0.9855503685503685\n"
   ]
  },
  {
   "cell_type": "code",
   "execution_count": null,
   "metadata": {},
   "outputs": [],
   "source": [
    "'''\n",
    "RESULTADO KNN\n",
    "'''\n",
    "Média de todas as acurácias:  0.9506527436527438\n"
   ]
  },
  {
   "cell_type": "code",
   "execution_count": null,
   "metadata": {},
   "outputs": [],
   "source": [
    "'''\n",
    "RESULTADO NAIVE BAYES\n",
    "'''\n",
    "Média de todas as acurácias:  0.979186732186732\n"
   ]
  },
  {
   "cell_type": "markdown",
   "metadata": {},
   "source": [
    "<h3>Com tunagem</h3>"
   ]
  },
  {
   "cell_type": "code",
   "execution_count": null,
   "metadata": {},
   "outputs": [],
   "source": [
    "'''\n",
    "RESULTADO RANDOM FOREST\n",
    "'''\n",
    "Média de todas as acurácias:  0.9844595821980018\n"
   ]
  },
  {
   "cell_type": "code",
   "execution_count": null,
   "metadata": {},
   "outputs": [],
   "source": [
    "'''\n",
    "RESULTADO DECISION TREE\n",
    "'''\n",
    "Média de todas as acurácias:  0.9483832053505077\n"
   ]
  },
  {
   "cell_type": "code",
   "execution_count": null,
   "metadata": {},
   "outputs": [],
   "source": [
    "'''\n",
    "RESULTADO KNN\n",
    "'''\n",
    "Média de todas as acurácias:  0.9808250350920652\n"
   ]
  },
  {
   "cell_type": "markdown",
   "metadata": {},
   "source": [
    "<h3>Não existe tunagem para o algoritmo Naive Bayes pois ele não possui parâmetros para tunar.</h3>"
   ]
  },
  {
   "cell_type": "markdown",
   "metadata": {},
   "source": [
    "<h1>Resultados:</h1>\n",
    "<p>Após ser realizado os testes com os 4 algoritmos e depois de otimizá-los, algumas observações podem ser feitas:</p>\n",
    "<p>1. As otimizações foram ineficientes. Isso ocorreu provavelmente porque o modelos criados pelos algoritmos sem tunar já estavam próximos de sua eficiência máxima. Ao tunar os algoritmos, quase todos tiveram desempenho inferior. Isso é um caso clássico de overfitting;</p>\n",
    "<p>2. Overfitting ocorre quando os algoritmos decoram todas as respostas, mas sem aprender nada. Os algoritmos acabam apresentando um bom resultado nos datasets de treino, mas não conseguem generalizar esses resultados para novos dados;</p>\n",
    "<p>3. O único algoritmo que obteu alguma melhora com a tunagem foi o Random Forest e mesmo assim, foi mínima;</p>\n",
    "<p>4. O algoritmo que apresentou o melhor resultado foi o Decision Tree sem tunagem. Seguido logo depois do Random Forest com tunagem;</p>\n",
    "<p>5. Apesar do Decision Tree ter apresentado um resultado melhor, o algoritmo escolhido será o Random Forest. Primeiro porque ele apresenta uma performance melhor quando tunado, segundo porque o Random Forest nada mais é do que um conjunto de Decisions Trees.</p>"
   ]
  },
  {
   "cell_type": "markdown",
   "metadata": {},
   "source": [
    "<h1>Aplicando o Random Forest tunado:</h1>"
   ]
  },
  {
   "cell_type": "code",
   "execution_count": 83,
   "metadata": {},
   "outputs": [],
   "source": [
    "del train_ML['Dia']\n",
    "del train_ML['Hora']\n",
    "\n",
    "del test_ML['Dia']\n",
    "del test_ML['Hora']"
   ]
  },
  {
   "cell_type": "code",
   "execution_count": 84,
   "metadata": {},
   "outputs": [],
   "source": [
    "features = np.array(train_ML.iloc[:,1:])\n",
    "target = np.array(train_ML['CBK'])\n"
   ]
  },
  {
   "cell_type": "code",
   "execution_count": 85,
   "metadata": {},
   "outputs": [],
   "source": [
    "'''\n",
    "Aplicando o modelo Random Forest\n",
    "'''\n",
    "forest = RandomForestClassifier(\n",
    "                                    random_state = 42,\n",
    "                                    n_jobs = -1, \n",
    "                                    bootstrap = False, \n",
    "                                    criterion = 'entropy',\n",
    "                                    max_depth = 10, \n",
    "                                    max_features = 0.1,\n",
    "                                    n_estimators = 25\n",
    "                                )\n"
   ]
  },
  {
   "cell_type": "code",
   "execution_count": 86,
   "metadata": {},
   "outputs": [
    {
     "data": {
      "text/plain": [
       "RandomForestClassifier(bootstrap=False, class_weight=None,\n",
       "            criterion='entropy', max_depth=10, max_features=0.1,\n",
       "            max_leaf_nodes=None, min_impurity_decrease=0.0,\n",
       "            min_impurity_split=None, min_samples_leaf=1,\n",
       "            min_samples_split=2, min_weight_fraction_leaf=0.0,\n",
       "            n_estimators=25, n_jobs=-1, oob_score=False, random_state=42,\n",
       "            verbose=0, warm_start=False)"
      ]
     },
     "execution_count": 86,
     "metadata": {},
     "output_type": "execute_result"
    }
   ],
   "source": [
    "forest.fit(features, target)"
   ]
  },
  {
   "cell_type": "code",
   "execution_count": 87,
   "metadata": {},
   "outputs": [
    {
     "data": {
      "text/html": [
       "<div>\n",
       "<style scoped>\n",
       "    .dataframe tbody tr th:only-of-type {\n",
       "        vertical-align: middle;\n",
       "    }\n",
       "\n",
       "    .dataframe tbody tr th {\n",
       "        vertical-align: top;\n",
       "    }\n",
       "\n",
       "    .dataframe thead th {\n",
       "        text-align: right;\n",
       "    }\n",
       "</style>\n",
       "<table border=\"1\" class=\"dataframe\">\n",
       "  <thead>\n",
       "    <tr style=\"text-align: right;\">\n",
       "      <th></th>\n",
       "      <th>CBK</th>\n",
       "      <th>Valor</th>\n",
       "      <th>Cartao</th>\n",
       "      <th>faixa_horario_Madrugada</th>\n",
       "      <th>faixa_horario_Manha</th>\n",
       "      <th>faixa_horario_Tarde</th>\n",
       "      <th>faixa_horario_Noite</th>\n",
       "      <th>qualificacao_cartoes_sem_incidencias</th>\n",
       "      <th>qualificacao_cartoes_incidencia_baixa</th>\n",
       "      <th>qualificacao_cartoes_incidencia_moderada</th>\n",
       "      <th>qualificacao_cartoes_incidencia_alta</th>\n",
       "      <th>qualificacao_cartoes_incidencia_muito_alta</th>\n",
       "    </tr>\n",
       "  </thead>\n",
       "  <tbody>\n",
       "    <tr>\n",
       "      <th>0</th>\n",
       "      <td>0</td>\n",
       "      <td>36.54</td>\n",
       "      <td>2108</td>\n",
       "      <td>1</td>\n",
       "      <td>0</td>\n",
       "      <td>0</td>\n",
       "      <td>0</td>\n",
       "      <td>1</td>\n",
       "      <td>0</td>\n",
       "      <td>0</td>\n",
       "      <td>0</td>\n",
       "      <td>0</td>\n",
       "    </tr>\n",
       "    <tr>\n",
       "      <th>1</th>\n",
       "      <td>0</td>\n",
       "      <td>36.54</td>\n",
       "      <td>2108</td>\n",
       "      <td>1</td>\n",
       "      <td>0</td>\n",
       "      <td>0</td>\n",
       "      <td>0</td>\n",
       "      <td>1</td>\n",
       "      <td>0</td>\n",
       "      <td>0</td>\n",
       "      <td>0</td>\n",
       "      <td>0</td>\n",
       "    </tr>\n",
       "    <tr>\n",
       "      <th>2</th>\n",
       "      <td>0</td>\n",
       "      <td>69.00</td>\n",
       "      <td>1239</td>\n",
       "      <td>1</td>\n",
       "      <td>0</td>\n",
       "      <td>0</td>\n",
       "      <td>0</td>\n",
       "      <td>1</td>\n",
       "      <td>0</td>\n",
       "      <td>0</td>\n",
       "      <td>0</td>\n",
       "      <td>0</td>\n",
       "    </tr>\n",
       "    <tr>\n",
       "      <th>3</th>\n",
       "      <td>0</td>\n",
       "      <td>193.43</td>\n",
       "      <td>1705</td>\n",
       "      <td>1</td>\n",
       "      <td>0</td>\n",
       "      <td>0</td>\n",
       "      <td>0</td>\n",
       "      <td>1</td>\n",
       "      <td>0</td>\n",
       "      <td>0</td>\n",
       "      <td>0</td>\n",
       "      <td>0</td>\n",
       "    </tr>\n",
       "    <tr>\n",
       "      <th>4</th>\n",
       "      <td>0</td>\n",
       "      <td>132.00</td>\n",
       "      <td>9778</td>\n",
       "      <td>1</td>\n",
       "      <td>0</td>\n",
       "      <td>0</td>\n",
       "      <td>0</td>\n",
       "      <td>1</td>\n",
       "      <td>0</td>\n",
       "      <td>0</td>\n",
       "      <td>0</td>\n",
       "      <td>0</td>\n",
       "    </tr>\n",
       "  </tbody>\n",
       "</table>\n",
       "</div>"
      ],
      "text/plain": [
       "   CBK   Valor  Cartao  faixa_horario_Madrugada  faixa_horario_Manha  \\\n",
       "0    0   36.54    2108                        1                    0   \n",
       "1    0   36.54    2108                        1                    0   \n",
       "2    0   69.00    1239                        1                    0   \n",
       "3    0  193.43    1705                        1                    0   \n",
       "4    0  132.00    9778                        1                    0   \n",
       "\n",
       "   faixa_horario_Tarde  faixa_horario_Noite  \\\n",
       "0                    0                    0   \n",
       "1                    0                    0   \n",
       "2                    0                    0   \n",
       "3                    0                    0   \n",
       "4                    0                    0   \n",
       "\n",
       "   qualificacao_cartoes_sem_incidencias  \\\n",
       "0                                     1   \n",
       "1                                     1   \n",
       "2                                     1   \n",
       "3                                     1   \n",
       "4                                     1   \n",
       "\n",
       "   qualificacao_cartoes_incidencia_baixa  \\\n",
       "0                                      0   \n",
       "1                                      0   \n",
       "2                                      0   \n",
       "3                                      0   \n",
       "4                                      0   \n",
       "\n",
       "   qualificacao_cartoes_incidencia_moderada  \\\n",
       "0                                         0   \n",
       "1                                         0   \n",
       "2                                         0   \n",
       "3                                         0   \n",
       "4                                         0   \n",
       "\n",
       "   qualificacao_cartoes_incidencia_alta  \\\n",
       "0                                     0   \n",
       "1                                     0   \n",
       "2                                     0   \n",
       "3                                     0   \n",
       "4                                     0   \n",
       "\n",
       "   qualificacao_cartoes_incidencia_muito_alta  \n",
       "0                                           0  \n",
       "1                                           0  \n",
       "2                                           0  \n",
       "3                                           0  \n",
       "4                                           0  "
      ]
     },
     "execution_count": 87,
     "metadata": {},
     "output_type": "execute_result"
    }
   ],
   "source": [
    "train_ML.head()"
   ]
  },
  {
   "cell_type": "code",
   "execution_count": 88,
   "metadata": {},
   "outputs": [
    {
     "data": {
      "text/html": [
       "<div>\n",
       "<style scoped>\n",
       "    .dataframe tbody tr th:only-of-type {\n",
       "        vertical-align: middle;\n",
       "    }\n",
       "\n",
       "    .dataframe tbody tr th {\n",
       "        vertical-align: top;\n",
       "    }\n",
       "\n",
       "    .dataframe thead th {\n",
       "        text-align: right;\n",
       "    }\n",
       "</style>\n",
       "<table border=\"1\" class=\"dataframe\">\n",
       "  <thead>\n",
       "    <tr style=\"text-align: right;\">\n",
       "      <th></th>\n",
       "      <th>Valor</th>\n",
       "      <th>Cartao</th>\n",
       "      <th>faixa_horario_Madrugada</th>\n",
       "      <th>faixa_horario_Manha</th>\n",
       "      <th>faixa_horario_Tarde</th>\n",
       "      <th>faixa_horario_Noite</th>\n",
       "      <th>qualificacao_cartoes_sem_incidencias</th>\n",
       "      <th>qualificacao_cartoes_incidencia_alta</th>\n",
       "      <th>qualificacao_cartoes_incidencia_baixa</th>\n",
       "      <th>qualificacao_cartoes_incidencia_muito_alta</th>\n",
       "      <th>qualificacao_cartoes_incidencia_moderada</th>\n",
       "    </tr>\n",
       "  </thead>\n",
       "  <tbody>\n",
       "    <tr>\n",
       "      <th>0</th>\n",
       "      <td>112.00</td>\n",
       "      <td>5965</td>\n",
       "      <td>1</td>\n",
       "      <td>0</td>\n",
       "      <td>0</td>\n",
       "      <td>0</td>\n",
       "      <td>1</td>\n",
       "      <td>0</td>\n",
       "      <td>0</td>\n",
       "      <td>0</td>\n",
       "      <td>0</td>\n",
       "    </tr>\n",
       "    <tr>\n",
       "      <th>1</th>\n",
       "      <td>112.00</td>\n",
       "      <td>7350</td>\n",
       "      <td>1</td>\n",
       "      <td>0</td>\n",
       "      <td>0</td>\n",
       "      <td>0</td>\n",
       "      <td>1</td>\n",
       "      <td>0</td>\n",
       "      <td>0</td>\n",
       "      <td>0</td>\n",
       "      <td>0</td>\n",
       "    </tr>\n",
       "    <tr>\n",
       "      <th>2</th>\n",
       "      <td>18.34</td>\n",
       "      <td>4535</td>\n",
       "      <td>1</td>\n",
       "      <td>0</td>\n",
       "      <td>0</td>\n",
       "      <td>0</td>\n",
       "      <td>1</td>\n",
       "      <td>0</td>\n",
       "      <td>0</td>\n",
       "      <td>0</td>\n",
       "      <td>0</td>\n",
       "    </tr>\n",
       "    <tr>\n",
       "      <th>3</th>\n",
       "      <td>55.00</td>\n",
       "      <td>5629</td>\n",
       "      <td>1</td>\n",
       "      <td>0</td>\n",
       "      <td>0</td>\n",
       "      <td>0</td>\n",
       "      <td>1</td>\n",
       "      <td>0</td>\n",
       "      <td>0</td>\n",
       "      <td>0</td>\n",
       "      <td>0</td>\n",
       "    </tr>\n",
       "    <tr>\n",
       "      <th>4</th>\n",
       "      <td>50.00</td>\n",
       "      <td>2077</td>\n",
       "      <td>1</td>\n",
       "      <td>0</td>\n",
       "      <td>0</td>\n",
       "      <td>0</td>\n",
       "      <td>0</td>\n",
       "      <td>1</td>\n",
       "      <td>0</td>\n",
       "      <td>0</td>\n",
       "      <td>0</td>\n",
       "    </tr>\n",
       "  </tbody>\n",
       "</table>\n",
       "</div>"
      ],
      "text/plain": [
       "    Valor  Cartao  faixa_horario_Madrugada  faixa_horario_Manha  \\\n",
       "0  112.00    5965                        1                    0   \n",
       "1  112.00    7350                        1                    0   \n",
       "2   18.34    4535                        1                    0   \n",
       "3   55.00    5629                        1                    0   \n",
       "4   50.00    2077                        1                    0   \n",
       "\n",
       "   faixa_horario_Tarde  faixa_horario_Noite  \\\n",
       "0                    0                    0   \n",
       "1                    0                    0   \n",
       "2                    0                    0   \n",
       "3                    0                    0   \n",
       "4                    0                    0   \n",
       "\n",
       "   qualificacao_cartoes_sem_incidencias  qualificacao_cartoes_incidencia_alta  \\\n",
       "0                                     1                                     0   \n",
       "1                                     1                                     0   \n",
       "2                                     1                                     0   \n",
       "3                                     1                                     0   \n",
       "4                                     0                                     1   \n",
       "\n",
       "   qualificacao_cartoes_incidencia_baixa  \\\n",
       "0                                      0   \n",
       "1                                      0   \n",
       "2                                      0   \n",
       "3                                      0   \n",
       "4                                      0   \n",
       "\n",
       "   qualificacao_cartoes_incidencia_muito_alta  \\\n",
       "0                                           0   \n",
       "1                                           0   \n",
       "2                                           0   \n",
       "3                                           0   \n",
       "4                                           0   \n",
       "\n",
       "   qualificacao_cartoes_incidencia_moderada  \n",
       "0                                         0  \n",
       "1                                         0  \n",
       "2                                         0  \n",
       "3                                         0  \n",
       "4                                         0  "
      ]
     },
     "execution_count": 88,
     "metadata": {},
     "output_type": "execute_result"
    }
   ],
   "source": [
    "test_ML.head()"
   ]
  },
  {
   "cell_type": "code",
   "execution_count": 89,
   "metadata": {},
   "outputs": [
    {
     "data": {
      "text/plain": [
       "(11004, 12)"
      ]
     },
     "execution_count": 89,
     "metadata": {},
     "output_type": "execute_result"
    }
   ],
   "source": [
    "train_ML.shape"
   ]
  },
  {
   "cell_type": "code",
   "execution_count": 90,
   "metadata": {},
   "outputs": [
    {
     "data": {
      "text/plain": [
       "(11820, 11)"
      ]
     },
     "execution_count": 90,
     "metadata": {},
     "output_type": "execute_result"
    }
   ],
   "source": [
    "test_ML.shape"
   ]
  },
  {
   "cell_type": "code",
   "execution_count": 91,
   "metadata": {},
   "outputs": [
    {
     "data": {
      "text/plain": [
       "Int64Index([    0,     1,     2,     3,     4,     5,     6,     7,     8,\n",
       "                9,\n",
       "            ...\n",
       "            10994, 10995, 10996, 10997, 10998, 10999, 11000, 11001, 11002,\n",
       "            11003],\n",
       "           dtype='int64', length=11004)"
      ]
     },
     "execution_count": 91,
     "metadata": {},
     "output_type": "execute_result"
    }
   ],
   "source": [
    "train_ML.index"
   ]
  },
  {
   "cell_type": "code",
   "execution_count": 92,
   "metadata": {},
   "outputs": [
    {
     "data": {
      "text/plain": [
       "RangeIndex(start=0, stop=11820, step=1)"
      ]
     },
     "execution_count": 92,
     "metadata": {},
     "output_type": "execute_result"
    }
   ],
   "source": [
    "test_ML.index"
   ]
  },
  {
   "cell_type": "markdown",
   "metadata": {},
   "source": [
    "<h3>Fazendo previsões no dataframe de teste:</h3>\n",
    "<p>Abaixo está sendo criado a coluna de CBK no dataframe de teste, que contém a previsão relacionado às possibilidades de chargeback ou não dado cada transação com cartão de crédito.</p>"
   ]
  },
  {
   "cell_type": "code",
   "execution_count": 93,
   "metadata": {},
   "outputs": [],
   "source": [
    "'''\n",
    "Preparando o dataset de teste para receber as previsões de chargeback\n",
    "'''\n",
    "\n",
    "test_ML['CBK'] = forest.predict(test_ML)\n"
   ]
  },
  {
   "cell_type": "code",
   "execution_count": 94,
   "metadata": {},
   "outputs": [
    {
     "data": {
      "text/plain": [
       "0    11680\n",
       "1      140\n",
       "Name: CBK, dtype: int64"
      ]
     },
     "execution_count": 94,
     "metadata": {},
     "output_type": "execute_result"
    }
   ],
   "source": [
    "test_ML['CBK'].value_counts()"
   ]
  },
  {
   "cell_type": "code",
   "execution_count": 94,
   "metadata": {},
   "outputs": [
    {
     "data": {
      "text/plain": [
       "(11820, 12)"
      ]
     },
     "execution_count": 94,
     "metadata": {},
     "output_type": "execute_result"
    }
   ],
   "source": [
    "test_ML.shape"
   ]
  },
  {
   "cell_type": "code",
   "execution_count": 95,
   "metadata": {},
   "outputs": [
    {
     "data": {
      "text/plain": [
       "(11820, 5)"
      ]
     },
     "execution_count": 95,
     "metadata": {},
     "output_type": "execute_result"
    }
   ],
   "source": [
    "test.shape"
   ]
  },
  {
   "cell_type": "markdown",
   "metadata": {},
   "source": [
    "<h1>Conclusão:</h1>\n",
    "<p>O modelo preditivo foi criado com sucesso. E já consegue ser aplicado a dados futuros. Como aqueles presentes no dataframe de teste. Mas para fins de apresentação e posterior consulta em um banco de dados, as previsões obtidas precisam ser apresentadas no dataframe de teste original, que segundo a imagem acima, contém as colunas de chargerbacks nulas. Queremos que as previsões do modelo feitas no dataframe de teste modificado(test_ML) preencham a coluna CBK do dataset de teste original.  Para realizar essa tarefa, a seguinte função está sendo feita abaixo</p>"
   ]
  },
  {
   "cell_type": "code",
   "execution_count": 95,
   "metadata": {},
   "outputs": [],
   "source": [
    "\n",
    "test.CBK = np.where(test.CBK.isnull(), test_ML.CBK, test.CBK)\n"
   ]
  },
  {
   "cell_type": "code",
   "execution_count": 96,
   "metadata": {},
   "outputs": [
    {
     "data": {
      "text/html": [
       "<div>\n",
       "<style scoped>\n",
       "    .dataframe tbody tr th:only-of-type {\n",
       "        vertical-align: middle;\n",
       "    }\n",
       "\n",
       "    .dataframe tbody tr th {\n",
       "        vertical-align: top;\n",
       "    }\n",
       "\n",
       "    .dataframe thead th {\n",
       "        text-align: right;\n",
       "    }\n",
       "</style>\n",
       "<table border=\"1\" class=\"dataframe\">\n",
       "  <thead>\n",
       "    <tr style=\"text-align: right;\">\n",
       "      <th></th>\n",
       "      <th>Dia</th>\n",
       "      <th>Hora</th>\n",
       "      <th>Valor</th>\n",
       "      <th>Cartao</th>\n",
       "      <th>CBK</th>\n",
       "    </tr>\n",
       "  </thead>\n",
       "  <tbody>\n",
       "    <tr>\n",
       "      <th>0</th>\n",
       "      <td>2015-06-01</td>\n",
       "      <td>00:02:25</td>\n",
       "      <td>112.00</td>\n",
       "      <td>541555******5965</td>\n",
       "      <td>0.0</td>\n",
       "    </tr>\n",
       "    <tr>\n",
       "      <th>1</th>\n",
       "      <td>2015-06-01</td>\n",
       "      <td>00:30:45</td>\n",
       "      <td>112.00</td>\n",
       "      <td>406669******7350</td>\n",
       "      <td>0.0</td>\n",
       "    </tr>\n",
       "    <tr>\n",
       "      <th>2</th>\n",
       "      <td>2015-06-01</td>\n",
       "      <td>00:43:20</td>\n",
       "      <td>18.34</td>\n",
       "      <td>541187******4535</td>\n",
       "      <td>0.0</td>\n",
       "    </tr>\n",
       "    <tr>\n",
       "      <th>3</th>\n",
       "      <td>2015-06-01</td>\n",
       "      <td>00:46:46</td>\n",
       "      <td>55.00</td>\n",
       "      <td>554927******5629</td>\n",
       "      <td>0.0</td>\n",
       "    </tr>\n",
       "    <tr>\n",
       "      <th>4</th>\n",
       "      <td>2015-06-01</td>\n",
       "      <td>00:47:50</td>\n",
       "      <td>50.00</td>\n",
       "      <td>498407******2077</td>\n",
       "      <td>0.0</td>\n",
       "    </tr>\n",
       "  </tbody>\n",
       "</table>\n",
       "</div>"
      ],
      "text/plain": [
       "         Dia      Hora   Valor            Cartao  CBK\n",
       "0 2015-06-01  00:02:25  112.00  541555******5965  0.0\n",
       "1 2015-06-01  00:30:45  112.00  406669******7350  0.0\n",
       "2 2015-06-01  00:43:20   18.34  541187******4535  0.0\n",
       "3 2015-06-01  00:46:46   55.00  554927******5629  0.0\n",
       "4 2015-06-01  00:47:50   50.00  498407******2077  0.0"
      ]
     },
     "execution_count": 96,
     "metadata": {},
     "output_type": "execute_result"
    }
   ],
   "source": [
    "test.head()"
   ]
  },
  {
   "cell_type": "code",
   "execution_count": 97,
   "metadata": {},
   "outputs": [
    {
     "data": {
      "text/plain": [
       "0.0    11680\n",
       "1.0      140\n",
       "Name: CBK, dtype: int64"
      ]
     },
     "execution_count": 97,
     "metadata": {},
     "output_type": "execute_result"
    }
   ],
   "source": [
    "test['CBK'].value_counts()"
   ]
  },
  {
   "cell_type": "code",
   "execution_count": 98,
   "metadata": {},
   "outputs": [
    {
     "data": {
      "text/html": [
       "<div>\n",
       "<style scoped>\n",
       "    .dataframe tbody tr th:only-of-type {\n",
       "        vertical-align: middle;\n",
       "    }\n",
       "\n",
       "    .dataframe tbody tr th {\n",
       "        vertical-align: top;\n",
       "    }\n",
       "\n",
       "    .dataframe thead th {\n",
       "        text-align: right;\n",
       "    }\n",
       "</style>\n",
       "<table border=\"1\" class=\"dataframe\">\n",
       "  <thead>\n",
       "    <tr style=\"text-align: right;\">\n",
       "      <th></th>\n",
       "      <th>Valor</th>\n",
       "      <th>Cartao</th>\n",
       "      <th>faixa_horario_Madrugada</th>\n",
       "      <th>faixa_horario_Manha</th>\n",
       "      <th>faixa_horario_Tarde</th>\n",
       "      <th>faixa_horario_Noite</th>\n",
       "      <th>qualificacao_cartoes_sem_incidencias</th>\n",
       "      <th>qualificacao_cartoes_incidencia_alta</th>\n",
       "      <th>qualificacao_cartoes_incidencia_baixa</th>\n",
       "      <th>qualificacao_cartoes_incidencia_muito_alta</th>\n",
       "      <th>qualificacao_cartoes_incidencia_moderada</th>\n",
       "      <th>CBK</th>\n",
       "    </tr>\n",
       "  </thead>\n",
       "  <tbody>\n",
       "    <tr>\n",
       "      <th>0</th>\n",
       "      <td>112.00</td>\n",
       "      <td>5965</td>\n",
       "      <td>1</td>\n",
       "      <td>0</td>\n",
       "      <td>0</td>\n",
       "      <td>0</td>\n",
       "      <td>1</td>\n",
       "      <td>0</td>\n",
       "      <td>0</td>\n",
       "      <td>0</td>\n",
       "      <td>0</td>\n",
       "      <td>0</td>\n",
       "    </tr>\n",
       "    <tr>\n",
       "      <th>1</th>\n",
       "      <td>112.00</td>\n",
       "      <td>7350</td>\n",
       "      <td>1</td>\n",
       "      <td>0</td>\n",
       "      <td>0</td>\n",
       "      <td>0</td>\n",
       "      <td>1</td>\n",
       "      <td>0</td>\n",
       "      <td>0</td>\n",
       "      <td>0</td>\n",
       "      <td>0</td>\n",
       "      <td>0</td>\n",
       "    </tr>\n",
       "    <tr>\n",
       "      <th>2</th>\n",
       "      <td>18.34</td>\n",
       "      <td>4535</td>\n",
       "      <td>1</td>\n",
       "      <td>0</td>\n",
       "      <td>0</td>\n",
       "      <td>0</td>\n",
       "      <td>1</td>\n",
       "      <td>0</td>\n",
       "      <td>0</td>\n",
       "      <td>0</td>\n",
       "      <td>0</td>\n",
       "      <td>0</td>\n",
       "    </tr>\n",
       "    <tr>\n",
       "      <th>3</th>\n",
       "      <td>55.00</td>\n",
       "      <td>5629</td>\n",
       "      <td>1</td>\n",
       "      <td>0</td>\n",
       "      <td>0</td>\n",
       "      <td>0</td>\n",
       "      <td>1</td>\n",
       "      <td>0</td>\n",
       "      <td>0</td>\n",
       "      <td>0</td>\n",
       "      <td>0</td>\n",
       "      <td>0</td>\n",
       "    </tr>\n",
       "    <tr>\n",
       "      <th>4</th>\n",
       "      <td>50.00</td>\n",
       "      <td>2077</td>\n",
       "      <td>1</td>\n",
       "      <td>0</td>\n",
       "      <td>0</td>\n",
       "      <td>0</td>\n",
       "      <td>0</td>\n",
       "      <td>1</td>\n",
       "      <td>0</td>\n",
       "      <td>0</td>\n",
       "      <td>0</td>\n",
       "      <td>0</td>\n",
       "    </tr>\n",
       "  </tbody>\n",
       "</table>\n",
       "</div>"
      ],
      "text/plain": [
       "    Valor  Cartao  faixa_horario_Madrugada  faixa_horario_Manha  \\\n",
       "0  112.00    5965                        1                    0   \n",
       "1  112.00    7350                        1                    0   \n",
       "2   18.34    4535                        1                    0   \n",
       "3   55.00    5629                        1                    0   \n",
       "4   50.00    2077                        1                    0   \n",
       "\n",
       "   faixa_horario_Tarde  faixa_horario_Noite  \\\n",
       "0                    0                    0   \n",
       "1                    0                    0   \n",
       "2                    0                    0   \n",
       "3                    0                    0   \n",
       "4                    0                    0   \n",
       "\n",
       "   qualificacao_cartoes_sem_incidencias  qualificacao_cartoes_incidencia_alta  \\\n",
       "0                                     1                                     0   \n",
       "1                                     1                                     0   \n",
       "2                                     1                                     0   \n",
       "3                                     1                                     0   \n",
       "4                                     0                                     1   \n",
       "\n",
       "   qualificacao_cartoes_incidencia_baixa  \\\n",
       "0                                      0   \n",
       "1                                      0   \n",
       "2                                      0   \n",
       "3                                      0   \n",
       "4                                      0   \n",
       "\n",
       "   qualificacao_cartoes_incidencia_muito_alta  \\\n",
       "0                                           0   \n",
       "1                                           0   \n",
       "2                                           0   \n",
       "3                                           0   \n",
       "4                                           0   \n",
       "\n",
       "   qualificacao_cartoes_incidencia_moderada  CBK  \n",
       "0                                         0    0  \n",
       "1                                         0    0  \n",
       "2                                         0    0  \n",
       "3                                         0    0  \n",
       "4                                         0    0  "
      ]
     },
     "execution_count": 98,
     "metadata": {},
     "output_type": "execute_result"
    }
   ],
   "source": [
    "test_ML.head()"
   ]
  },
  {
   "cell_type": "code",
   "execution_count": 98,
   "metadata": {},
   "outputs": [],
   "source": [
    "test['TransactionID'] = test.index"
   ]
  },
  {
   "cell_type": "code",
   "execution_count": 99,
   "metadata": {},
   "outputs": [
    {
     "data": {
      "text/html": [
       "<div>\n",
       "<style scoped>\n",
       "    .dataframe tbody tr th:only-of-type {\n",
       "        vertical-align: middle;\n",
       "    }\n",
       "\n",
       "    .dataframe tbody tr th {\n",
       "        vertical-align: top;\n",
       "    }\n",
       "\n",
       "    .dataframe thead th {\n",
       "        text-align: right;\n",
       "    }\n",
       "</style>\n",
       "<table border=\"1\" class=\"dataframe\">\n",
       "  <thead>\n",
       "    <tr style=\"text-align: right;\">\n",
       "      <th></th>\n",
       "      <th>Dia</th>\n",
       "      <th>Hora</th>\n",
       "      <th>Valor</th>\n",
       "      <th>Cartao</th>\n",
       "      <th>CBK</th>\n",
       "      <th>TransactionID</th>\n",
       "    </tr>\n",
       "  </thead>\n",
       "  <tbody>\n",
       "    <tr>\n",
       "      <th>0</th>\n",
       "      <td>2015-06-01</td>\n",
       "      <td>00:02:25</td>\n",
       "      <td>112.00</td>\n",
       "      <td>541555******5965</td>\n",
       "      <td>0.0</td>\n",
       "      <td>0</td>\n",
       "    </tr>\n",
       "    <tr>\n",
       "      <th>1</th>\n",
       "      <td>2015-06-01</td>\n",
       "      <td>00:30:45</td>\n",
       "      <td>112.00</td>\n",
       "      <td>406669******7350</td>\n",
       "      <td>0.0</td>\n",
       "      <td>1</td>\n",
       "    </tr>\n",
       "    <tr>\n",
       "      <th>2</th>\n",
       "      <td>2015-06-01</td>\n",
       "      <td>00:43:20</td>\n",
       "      <td>18.34</td>\n",
       "      <td>541187******4535</td>\n",
       "      <td>0.0</td>\n",
       "      <td>2</td>\n",
       "    </tr>\n",
       "    <tr>\n",
       "      <th>3</th>\n",
       "      <td>2015-06-01</td>\n",
       "      <td>00:46:46</td>\n",
       "      <td>55.00</td>\n",
       "      <td>554927******5629</td>\n",
       "      <td>0.0</td>\n",
       "      <td>3</td>\n",
       "    </tr>\n",
       "    <tr>\n",
       "      <th>4</th>\n",
       "      <td>2015-06-01</td>\n",
       "      <td>00:47:50</td>\n",
       "      <td>50.00</td>\n",
       "      <td>498407******2077</td>\n",
       "      <td>0.0</td>\n",
       "      <td>4</td>\n",
       "    </tr>\n",
       "  </tbody>\n",
       "</table>\n",
       "</div>"
      ],
      "text/plain": [
       "         Dia      Hora   Valor            Cartao  CBK  TransactionID\n",
       "0 2015-06-01  00:02:25  112.00  541555******5965  0.0              0\n",
       "1 2015-06-01  00:30:45  112.00  406669******7350  0.0              1\n",
       "2 2015-06-01  00:43:20   18.34  541187******4535  0.0              2\n",
       "3 2015-06-01  00:46:46   55.00  554927******5629  0.0              3\n",
       "4 2015-06-01  00:47:50   50.00  498407******2077  0.0              4"
      ]
     },
     "execution_count": 99,
     "metadata": {},
     "output_type": "execute_result"
    }
   ],
   "source": [
    "test.head()"
   ]
  },
  {
   "cell_type": "markdown",
   "metadata": {},
   "source": [
    "<h3>Criação de uma planilha com os resultados:</h3>\n",
    "<p>Abaixo está sendo criada uma nova planilha chamada \"previsoes_stone.csv\". Essa planilha contém os mesmos dados do dataframe de teste original (aba 2), mas com sua coluna  \"CBK\",  que contém previsões de chargebacks de acordo com cada transação com cartão de crédito.</p>"
   ]
  },
  {
   "cell_type": "code",
   "execution_count": 101,
   "metadata": {},
   "outputs": [],
   "source": [
    "test.to_csv('previsoes_stone.csv', index = False)"
   ]
  },
  {
   "cell_type": "code",
   "execution_count": 100,
   "metadata": {},
   "outputs": [],
   "source": [
    "test.to_excel('previsoes_stone.xlsx', index = False)"
   ]
  },
  {
   "cell_type": "code",
   "execution_count": 100,
   "metadata": {},
   "outputs": [],
   "source": [
    "previsoes = pd.read_excel('previsoes_stone.xlsx')\n",
    "\n",
    "#Função necessária para mostrar todas as linhas e colunas do dataset sem truncá-las\n",
    "pd.set_option('display.max_columns', None)\n",
    "pd.set_option('display.max_rows', None)"
   ]
  },
  {
   "cell_type": "code",
   "execution_count": 101,
   "metadata": {},
   "outputs": [
    {
     "data": {
      "text/html": [
       "<div>\n",
       "<style scoped>\n",
       "    .dataframe tbody tr th:only-of-type {\n",
       "        vertical-align: middle;\n",
       "    }\n",
       "\n",
       "    .dataframe tbody tr th {\n",
       "        vertical-align: top;\n",
       "    }\n",
       "\n",
       "    .dataframe thead th {\n",
       "        text-align: right;\n",
       "    }\n",
       "</style>\n",
       "<table border=\"1\" class=\"dataframe\">\n",
       "  <thead>\n",
       "    <tr style=\"text-align: right;\">\n",
       "      <th></th>\n",
       "      <th>Dia</th>\n",
       "      <th>Hora</th>\n",
       "      <th>Valor</th>\n",
       "      <th>Cartao</th>\n",
       "      <th>CBK</th>\n",
       "    </tr>\n",
       "  </thead>\n",
       "  <tbody>\n",
       "    <tr>\n",
       "      <th>0</th>\n",
       "      <td>2015-06-01</td>\n",
       "      <td>00:02:25</td>\n",
       "      <td>112.00</td>\n",
       "      <td>541555******5965</td>\n",
       "      <td>0</td>\n",
       "    </tr>\n",
       "    <tr>\n",
       "      <th>1</th>\n",
       "      <td>2015-06-01</td>\n",
       "      <td>00:30:45</td>\n",
       "      <td>112.00</td>\n",
       "      <td>406669******7350</td>\n",
       "      <td>0</td>\n",
       "    </tr>\n",
       "    <tr>\n",
       "      <th>2</th>\n",
       "      <td>2015-06-01</td>\n",
       "      <td>00:43:20</td>\n",
       "      <td>18.34</td>\n",
       "      <td>541187******4535</td>\n",
       "      <td>0</td>\n",
       "    </tr>\n",
       "    <tr>\n",
       "      <th>3</th>\n",
       "      <td>2015-06-01</td>\n",
       "      <td>00:46:46</td>\n",
       "      <td>55.00</td>\n",
       "      <td>554927******5629</td>\n",
       "      <td>0</td>\n",
       "    </tr>\n",
       "    <tr>\n",
       "      <th>4</th>\n",
       "      <td>2015-06-01</td>\n",
       "      <td>00:47:50</td>\n",
       "      <td>50.00</td>\n",
       "      <td>498407******2077</td>\n",
       "      <td>0</td>\n",
       "    </tr>\n",
       "  </tbody>\n",
       "</table>\n",
       "</div>"
      ],
      "text/plain": [
       "         Dia      Hora   Valor            Cartao  CBK\n",
       "0 2015-06-01  00:02:25  112.00  541555******5965    0\n",
       "1 2015-06-01  00:30:45  112.00  406669******7350    0\n",
       "2 2015-06-01  00:43:20   18.34  541187******4535    0\n",
       "3 2015-06-01  00:46:46   55.00  554927******5629    0\n",
       "4 2015-06-01  00:47:50   50.00  498407******2077    0"
      ]
     },
     "execution_count": 101,
     "metadata": {},
     "output_type": "execute_result"
    }
   ],
   "source": [
    "previsoes.head()"
   ]
  },
  {
   "cell_type": "markdown",
   "metadata": {},
   "source": [
    "<h1>SQL QUERIES:</h1>\n",
    "<p>Abaixo encontram-se as queries solicitadas na parte 2 do problema.</p>"
   ]
  },
  {
   "cell_type": "markdown",
   "metadata": {},
   "source": [
    "<h3>Tarefa 1:</h3>\n",
    "<p>Realizar uma consulta utilizando as duas tabelas disponibilizadas, cujo objetivo é gerar saída que seja igual a planilha apresentada na primeira tarefa com os seus chargebacks.</p>\n",
    "<p><b>Problemas:</b></p>\n",
    "<p>Não é possível recriar uma consulta que retorne exatamente os mesmos resultados existentes  na planilha da tarefa anterior. A razão para isso é porque não existe a coluna \"Hora\" (existente na primeira planilha) em nenhuma das duas tabelas disponibilizadas para essa tarefa.</p>"
   ]
  },
  {
   "cell_type": "code",
   "execution_count": null,
   "metadata": {},
   "outputs": [],
   "source": [
    "'''\n",
    "A lógica por trás dessa tarefa é juntar as duas tabelas através dos seus IDs. Se a coluna TransactionId\n",
    "da  tabela Chargeback for igual a coluna ID da tabela Transactions, significa que nessa linha, temos\n",
    "um chargeback. Do contrário, não. Com a técnica \"case\" é criado uma nova coluna e adicionado os valores\n",
    "0 e 1 encontrados.\n",
    "'''\n",
    "\n",
    "SELECT T.TransactionDate as Dia, T.Amount as Valor, T.CardNumber as Cartao,\n",
    "    CASE \n",
    "        WHEN C.TransactionId == T.Id THEN 1\n",
    "        WHEN C.TransactionId != T.Id THEN 0\n",
    "    END as CBK\n",
    "FROM Transactions AS T \n",
    "JOIN Chargeback AS C ON C.TransactionId = T.Id\n"
   ]
  },
  {
   "cell_type": "markdown",
   "metadata": {},
   "source": [
    "<h3>Tarefa 2:</h3>\n",
    "<p>Faça uma query que retorna a quantidade e a soma das transações que retornaram chargeback</p>\n"
   ]
  },
  {
   "cell_type": "code",
   "execution_count": null,
   "metadata": {},
   "outputs": [],
   "source": [
    "'''\n",
    "A solução abaixo consiste em usar as funções \"Count\" que retorna o número de ocorrências (linhas) da\n",
    "coluna desejada e a Sum que retorna a soma dos valores da coluna numérica desejada.\n",
    "'''\n",
    "\n",
    "SELECT COUNT(T.Amount) as QTD_CHARGEBACKS, SUM(T.Amount) as SOMA_CHARGEBACKS \n",
    "CASE \n",
    "        WHEN C.TransactionId == T.Id THEN 1\n",
    "        WHEN C.TransactionId != T.Id THEN 0\n",
    "    END as CBK\n",
    "FROM Transactions AS T \n",
    "JOIN Chargeback AS C ON C.TransactionId = T.Id\n",
    "WHERE CBK == 1"
   ]
  },
  {
   "cell_type": "markdown",
   "metadata": {},
   "source": [
    "<h3>Tarefa 3:</h3>\n",
    "<p>Faça uma query que retorna o índice de chargeback em quantidade e em valor. (Índice = Chargeback/Vendas)</p>"
   ]
  },
  {
   "cell_type": "code",
   "execution_count": null,
   "metadata": {},
   "outputs": [],
   "source": [
    "'''\n",
    "A solução abaixo consiste em usar as funções SUM e COUNT, realizando operações matemáticas diretamente\n",
    "no Select. A operação matemática realizada está na própria questão. \n",
    "'''\n",
    "\n",
    "SELECT COUNT(T.CBK)/COUNT(T.Amount) as idx_chargeback_qtd, \n",
    "       COUNT(T.CBK)/SUM(T.Amount) as idx_chargeback_sum\n",
    "CASE \n",
    "        WHEN C.TransactionId == T.Id THEN 1\n",
    "        WHEN C.TransactionId != T.Id THEN 0\n",
    "    END as CBK\n",
    "FROM Transactions AS T \n",
    "JOIN Chargeback AS C ON C.TransactionId = T.Id\n",
    "WHERE CBK == 1"
   ]
  },
  {
   "cell_type": "code",
   "execution_count": null,
   "metadata": {},
   "outputs": [],
   "source": []
  },
  {
   "cell_type": "code",
   "execution_count": null,
   "metadata": {},
   "outputs": [],
   "source": []
  }
 ],
 "metadata": {
  "kernelspec": {
   "display_name": "Python 3 (ipykernel)",
   "language": "python",
   "name": "python3"
  },
  "language_info": {
   "codemirror_mode": {
    "name": "ipython",
    "version": 3
   },
   "file_extension": ".py",
   "mimetype": "text/x-python",
   "name": "python",
   "nbconvert_exporter": "python",
   "pygments_lexer": "ipython3",
   "version": "3.9.6"
  }
 },
 "nbformat": 4,
 "nbformat_minor": 2
}
